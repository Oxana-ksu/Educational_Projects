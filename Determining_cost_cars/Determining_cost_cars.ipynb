{
  "cells": [
    {
      "cell_type": "markdown",
      "metadata": {
        "id": "zg2I01GiH46T"
      },
      "source": [
        "# Определение стоимости автомобилей"
      ]
    },
    {
      "cell_type": "markdown",
      "metadata": {
        "id": "7dJ_gofzH46V"
      },
      "source": [
        "Сервис по продаже автомобилей с пробегом «Не бит, не крашен» разрабатывает приложение для привлечения новых клиентов. В нём можно быстро узнать рыночную стоимость своего автомобиля. В вашем распоряжении исторические данные: технические характеристики, комплектации и цены автомобилей. Вам нужно построить модель для определения стоимости.\n",
        "\n",
        "Заказчику важны:\n",
        "\n",
        "- качество предсказания;\n",
        "- скорость предсказания;\n",
        "- время обучения."
      ]
    },
    {
      "cell_type": "markdown",
      "metadata": {
        "id": "3WbVix0HH46W"
      },
      "source": [
        "## Подготовка данных"
      ]
    },
    {
      "cell_type": "markdown",
      "metadata": {
        "id": "v74qlBcRH46X"
      },
      "source": [
        "### Общая информация"
      ]
    },
    {
      "cell_type": "code",
      "execution_count": 1,
      "metadata": {
        "scrolled": true,
        "colab": {
          "base_uri": "https://localhost:8080/"
        },
        "id": "3SBEDuUsH46Y",
        "outputId": "44878cd1-c99c-43a5-f3a7-f46345ef2425"
      },
      "outputs": [
        {
          "output_type": "stream",
          "name": "stdout",
          "text": [
            "Requirement already satisfied: tabulate in /usr/local/lib/python3.10/dist-packages (0.9.0)\n"
          ]
        }
      ],
      "source": [
        "pip install tabulate"
      ]
    },
    {
      "cell_type": "code",
      "execution_count": 2,
      "metadata": {
        "id": "-VZQPXZNH46f"
      },
      "outputs": [],
      "source": [
        "import pandas as pd\n",
        "import numpy as np\n",
        "import seaborn as sns\n",
        "import matplotlib.pyplot as plt\n",
        "import time\n",
        "\n",
        "from lightgbm import LGBMRegressor\n",
        "from sklearn.model_selection import (train_test_split, GridSearchCV)\n",
        "from sklearn.compose import ColumnTransformer\n",
        "from sklearn.preprocessing import (StandardScaler, OneHotEncoder)\n",
        "\n",
        "from sklearn.tree import DecisionTreeRegressor\n",
        "from sklearn.ensemble import RandomForestRegressor\n",
        "from sklearn.metrics import mean_squared_error\n",
        "from tabulate import tabulate\n",
        "\n",
        "import warnings\n",
        "warnings.filterwarnings('ignore')"
      ]
    },
    {
      "cell_type": "code",
      "execution_count": 4,
      "metadata": {
        "id": "enNE_bRFH46h"
      },
      "outputs": [],
      "source": [
        "#открываю датафрейм\n",
        "df = pd.read_csv('https://code.s3.yandex.net/datasets/autos.csv')"
      ]
    },
    {
      "cell_type": "code",
      "execution_count": 5,
      "metadata": {
        "colab": {
          "base_uri": "https://localhost:8080/"
        },
        "id": "QsqRmtcuH46j",
        "outputId": "ab48a7eb-22c1-43c1-dc97-25fb25794edb"
      },
      "outputs": [
        {
          "output_type": "stream",
          "name": "stdout",
          "text": [
            "<class 'pandas.core.frame.DataFrame'>\n",
            "RangeIndex: 354369 entries, 0 to 354368\n",
            "Data columns (total 16 columns):\n",
            " #   Column             Non-Null Count   Dtype \n",
            "---  ------             --------------   ----- \n",
            " 0   DateCrawled        354369 non-null  object\n",
            " 1   Price              354369 non-null  int64 \n",
            " 2   VehicleType        316879 non-null  object\n",
            " 3   RegistrationYear   354369 non-null  int64 \n",
            " 4   Gearbox            334536 non-null  object\n",
            " 5   Power              354369 non-null  int64 \n",
            " 6   Model              334664 non-null  object\n",
            " 7   Kilometer          354369 non-null  int64 \n",
            " 8   RegistrationMonth  354369 non-null  int64 \n",
            " 9   FuelType           321474 non-null  object\n",
            " 10  Brand              354369 non-null  object\n",
            " 11  Repaired           283215 non-null  object\n",
            " 12  DateCreated        354369 non-null  object\n",
            " 13  NumberOfPictures   354369 non-null  int64 \n",
            " 14  PostalCode         354369 non-null  int64 \n",
            " 15  LastSeen           354369 non-null  object\n",
            "dtypes: int64(7), object(9)\n",
            "memory usage: 43.3+ MB\n"
          ]
        }
      ],
      "source": [
        "#общая информация\n",
        "df.info()"
      ]
    },
    {
      "cell_type": "code",
      "execution_count": 6,
      "metadata": {
        "colab": {
          "base_uri": "https://localhost:8080/",
          "height": 400
        },
        "id": "HoatriBfH46l",
        "outputId": "bc200f65-27c5-4e5b-d825-f185729a505c"
      },
      "outputs": [
        {
          "output_type": "execute_result",
          "data": {
            "text/plain": [
              "           DateCrawled  Price VehicleType  RegistrationYear Gearbox  Power  \\\n",
              "0  2016-03-24 11:52:17    480         NaN              1993  manual      0   \n",
              "1  2016-03-24 10:58:45  18300       coupe              2011  manual    190   \n",
              "2  2016-03-14 12:52:21   9800         suv              2004    auto    163   \n",
              "3  2016-03-17 16:54:04   1500       small              2001  manual     75   \n",
              "4  2016-03-31 17:25:20   3600       small              2008  manual     69   \n",
              "\n",
              "   Model  Kilometer  RegistrationMonth  FuelType       Brand Repaired  \\\n",
              "0   golf     150000                  0    petrol  volkswagen      NaN   \n",
              "1    NaN     125000                  5  gasoline        audi      yes   \n",
              "2  grand     125000                  8  gasoline        jeep      NaN   \n",
              "3   golf     150000                  6    petrol  volkswagen       no   \n",
              "4  fabia      90000                  7  gasoline       skoda       no   \n",
              "\n",
              "           DateCreated  NumberOfPictures  PostalCode             LastSeen  \n",
              "0  2016-03-24 00:00:00                 0       70435  2016-04-07 03:16:57  \n",
              "1  2016-03-24 00:00:00                 0       66954  2016-04-07 01:46:50  \n",
              "2  2016-03-14 00:00:00                 0       90480  2016-04-05 12:47:46  \n",
              "3  2016-03-17 00:00:00                 0       91074  2016-03-17 17:40:17  \n",
              "4  2016-03-31 00:00:00                 0       60437  2016-04-06 10:17:21  "
            ],
            "text/html": [
              "\n",
              "  <div id=\"df-1ef5df34-36c6-4abe-b294-51566d5eedef\" class=\"colab-df-container\">\n",
              "    <div>\n",
              "<style scoped>\n",
              "    .dataframe tbody tr th:only-of-type {\n",
              "        vertical-align: middle;\n",
              "    }\n",
              "\n",
              "    .dataframe tbody tr th {\n",
              "        vertical-align: top;\n",
              "    }\n",
              "\n",
              "    .dataframe thead th {\n",
              "        text-align: right;\n",
              "    }\n",
              "</style>\n",
              "<table border=\"1\" class=\"dataframe\">\n",
              "  <thead>\n",
              "    <tr style=\"text-align: right;\">\n",
              "      <th></th>\n",
              "      <th>DateCrawled</th>\n",
              "      <th>Price</th>\n",
              "      <th>VehicleType</th>\n",
              "      <th>RegistrationYear</th>\n",
              "      <th>Gearbox</th>\n",
              "      <th>Power</th>\n",
              "      <th>Model</th>\n",
              "      <th>Kilometer</th>\n",
              "      <th>RegistrationMonth</th>\n",
              "      <th>FuelType</th>\n",
              "      <th>Brand</th>\n",
              "      <th>Repaired</th>\n",
              "      <th>DateCreated</th>\n",
              "      <th>NumberOfPictures</th>\n",
              "      <th>PostalCode</th>\n",
              "      <th>LastSeen</th>\n",
              "    </tr>\n",
              "  </thead>\n",
              "  <tbody>\n",
              "    <tr>\n",
              "      <th>0</th>\n",
              "      <td>2016-03-24 11:52:17</td>\n",
              "      <td>480</td>\n",
              "      <td>NaN</td>\n",
              "      <td>1993</td>\n",
              "      <td>manual</td>\n",
              "      <td>0</td>\n",
              "      <td>golf</td>\n",
              "      <td>150000</td>\n",
              "      <td>0</td>\n",
              "      <td>petrol</td>\n",
              "      <td>volkswagen</td>\n",
              "      <td>NaN</td>\n",
              "      <td>2016-03-24 00:00:00</td>\n",
              "      <td>0</td>\n",
              "      <td>70435</td>\n",
              "      <td>2016-04-07 03:16:57</td>\n",
              "    </tr>\n",
              "    <tr>\n",
              "      <th>1</th>\n",
              "      <td>2016-03-24 10:58:45</td>\n",
              "      <td>18300</td>\n",
              "      <td>coupe</td>\n",
              "      <td>2011</td>\n",
              "      <td>manual</td>\n",
              "      <td>190</td>\n",
              "      <td>NaN</td>\n",
              "      <td>125000</td>\n",
              "      <td>5</td>\n",
              "      <td>gasoline</td>\n",
              "      <td>audi</td>\n",
              "      <td>yes</td>\n",
              "      <td>2016-03-24 00:00:00</td>\n",
              "      <td>0</td>\n",
              "      <td>66954</td>\n",
              "      <td>2016-04-07 01:46:50</td>\n",
              "    </tr>\n",
              "    <tr>\n",
              "      <th>2</th>\n",
              "      <td>2016-03-14 12:52:21</td>\n",
              "      <td>9800</td>\n",
              "      <td>suv</td>\n",
              "      <td>2004</td>\n",
              "      <td>auto</td>\n",
              "      <td>163</td>\n",
              "      <td>grand</td>\n",
              "      <td>125000</td>\n",
              "      <td>8</td>\n",
              "      <td>gasoline</td>\n",
              "      <td>jeep</td>\n",
              "      <td>NaN</td>\n",
              "      <td>2016-03-14 00:00:00</td>\n",
              "      <td>0</td>\n",
              "      <td>90480</td>\n",
              "      <td>2016-04-05 12:47:46</td>\n",
              "    </tr>\n",
              "    <tr>\n",
              "      <th>3</th>\n",
              "      <td>2016-03-17 16:54:04</td>\n",
              "      <td>1500</td>\n",
              "      <td>small</td>\n",
              "      <td>2001</td>\n",
              "      <td>manual</td>\n",
              "      <td>75</td>\n",
              "      <td>golf</td>\n",
              "      <td>150000</td>\n",
              "      <td>6</td>\n",
              "      <td>petrol</td>\n",
              "      <td>volkswagen</td>\n",
              "      <td>no</td>\n",
              "      <td>2016-03-17 00:00:00</td>\n",
              "      <td>0</td>\n",
              "      <td>91074</td>\n",
              "      <td>2016-03-17 17:40:17</td>\n",
              "    </tr>\n",
              "    <tr>\n",
              "      <th>4</th>\n",
              "      <td>2016-03-31 17:25:20</td>\n",
              "      <td>3600</td>\n",
              "      <td>small</td>\n",
              "      <td>2008</td>\n",
              "      <td>manual</td>\n",
              "      <td>69</td>\n",
              "      <td>fabia</td>\n",
              "      <td>90000</td>\n",
              "      <td>7</td>\n",
              "      <td>gasoline</td>\n",
              "      <td>skoda</td>\n",
              "      <td>no</td>\n",
              "      <td>2016-03-31 00:00:00</td>\n",
              "      <td>0</td>\n",
              "      <td>60437</td>\n",
              "      <td>2016-04-06 10:17:21</td>\n",
              "    </tr>\n",
              "  </tbody>\n",
              "</table>\n",
              "</div>\n",
              "    <div class=\"colab-df-buttons\">\n",
              "\n",
              "  <div class=\"colab-df-container\">\n",
              "    <button class=\"colab-df-convert\" onclick=\"convertToInteractive('df-1ef5df34-36c6-4abe-b294-51566d5eedef')\"\n",
              "            title=\"Convert this dataframe to an interactive table.\"\n",
              "            style=\"display:none;\">\n",
              "\n",
              "  <svg xmlns=\"http://www.w3.org/2000/svg\" height=\"24px\" viewBox=\"0 -960 960 960\">\n",
              "    <path d=\"M120-120v-720h720v720H120Zm60-500h600v-160H180v160Zm220 220h160v-160H400v160Zm0 220h160v-160H400v160ZM180-400h160v-160H180v160Zm440 0h160v-160H620v160ZM180-180h160v-160H180v160Zm440 0h160v-160H620v160Z\"/>\n",
              "  </svg>\n",
              "    </button>\n",
              "\n",
              "  <style>\n",
              "    .colab-df-container {\n",
              "      display:flex;\n",
              "      gap: 12px;\n",
              "    }\n",
              "\n",
              "    .colab-df-convert {\n",
              "      background-color: #E8F0FE;\n",
              "      border: none;\n",
              "      border-radius: 50%;\n",
              "      cursor: pointer;\n",
              "      display: none;\n",
              "      fill: #1967D2;\n",
              "      height: 32px;\n",
              "      padding: 0 0 0 0;\n",
              "      width: 32px;\n",
              "    }\n",
              "\n",
              "    .colab-df-convert:hover {\n",
              "      background-color: #E2EBFA;\n",
              "      box-shadow: 0px 1px 2px rgba(60, 64, 67, 0.3), 0px 1px 3px 1px rgba(60, 64, 67, 0.15);\n",
              "      fill: #174EA6;\n",
              "    }\n",
              "\n",
              "    .colab-df-buttons div {\n",
              "      margin-bottom: 4px;\n",
              "    }\n",
              "\n",
              "    [theme=dark] .colab-df-convert {\n",
              "      background-color: #3B4455;\n",
              "      fill: #D2E3FC;\n",
              "    }\n",
              "\n",
              "    [theme=dark] .colab-df-convert:hover {\n",
              "      background-color: #434B5C;\n",
              "      box-shadow: 0px 1px 3px 1px rgba(0, 0, 0, 0.15);\n",
              "      filter: drop-shadow(0px 1px 2px rgba(0, 0, 0, 0.3));\n",
              "      fill: #FFFFFF;\n",
              "    }\n",
              "  </style>\n",
              "\n",
              "    <script>\n",
              "      const buttonEl =\n",
              "        document.querySelector('#df-1ef5df34-36c6-4abe-b294-51566d5eedef button.colab-df-convert');\n",
              "      buttonEl.style.display =\n",
              "        google.colab.kernel.accessAllowed ? 'block' : 'none';\n",
              "\n",
              "      async function convertToInteractive(key) {\n",
              "        const element = document.querySelector('#df-1ef5df34-36c6-4abe-b294-51566d5eedef');\n",
              "        const dataTable =\n",
              "          await google.colab.kernel.invokeFunction('convertToInteractive',\n",
              "                                                    [key], {});\n",
              "        if (!dataTable) return;\n",
              "\n",
              "        const docLinkHtml = 'Like what you see? Visit the ' +\n",
              "          '<a target=\"_blank\" href=https://colab.research.google.com/notebooks/data_table.ipynb>data table notebook</a>'\n",
              "          + ' to learn more about interactive tables.';\n",
              "        element.innerHTML = '';\n",
              "        dataTable['output_type'] = 'display_data';\n",
              "        await google.colab.output.renderOutput(dataTable, element);\n",
              "        const docLink = document.createElement('div');\n",
              "        docLink.innerHTML = docLinkHtml;\n",
              "        element.appendChild(docLink);\n",
              "      }\n",
              "    </script>\n",
              "  </div>\n",
              "\n",
              "\n",
              "<div id=\"df-d0cb0422-ec82-4a61-98f1-247036febbd3\">\n",
              "  <button class=\"colab-df-quickchart\" onclick=\"quickchart('df-d0cb0422-ec82-4a61-98f1-247036febbd3')\"\n",
              "            title=\"Suggest charts.\"\n",
              "            style=\"display:none;\">\n",
              "\n",
              "<svg xmlns=\"http://www.w3.org/2000/svg\" height=\"24px\"viewBox=\"0 0 24 24\"\n",
              "     width=\"24px\">\n",
              "    <g>\n",
              "        <path d=\"M19 3H5c-1.1 0-2 .9-2 2v14c0 1.1.9 2 2 2h14c1.1 0 2-.9 2-2V5c0-1.1-.9-2-2-2zM9 17H7v-7h2v7zm4 0h-2V7h2v10zm4 0h-2v-4h2v4z\"/>\n",
              "    </g>\n",
              "</svg>\n",
              "  </button>\n",
              "\n",
              "<style>\n",
              "  .colab-df-quickchart {\n",
              "      --bg-color: #E8F0FE;\n",
              "      --fill-color: #1967D2;\n",
              "      --hover-bg-color: #E2EBFA;\n",
              "      --hover-fill-color: #174EA6;\n",
              "      --disabled-fill-color: #AAA;\n",
              "      --disabled-bg-color: #DDD;\n",
              "  }\n",
              "\n",
              "  [theme=dark] .colab-df-quickchart {\n",
              "      --bg-color: #3B4455;\n",
              "      --fill-color: #D2E3FC;\n",
              "      --hover-bg-color: #434B5C;\n",
              "      --hover-fill-color: #FFFFFF;\n",
              "      --disabled-bg-color: #3B4455;\n",
              "      --disabled-fill-color: #666;\n",
              "  }\n",
              "\n",
              "  .colab-df-quickchart {\n",
              "    background-color: var(--bg-color);\n",
              "    border: none;\n",
              "    border-radius: 50%;\n",
              "    cursor: pointer;\n",
              "    display: none;\n",
              "    fill: var(--fill-color);\n",
              "    height: 32px;\n",
              "    padding: 0;\n",
              "    width: 32px;\n",
              "  }\n",
              "\n",
              "  .colab-df-quickchart:hover {\n",
              "    background-color: var(--hover-bg-color);\n",
              "    box-shadow: 0 1px 2px rgba(60, 64, 67, 0.3), 0 1px 3px 1px rgba(60, 64, 67, 0.15);\n",
              "    fill: var(--button-hover-fill-color);\n",
              "  }\n",
              "\n",
              "  .colab-df-quickchart-complete:disabled,\n",
              "  .colab-df-quickchart-complete:disabled:hover {\n",
              "    background-color: var(--disabled-bg-color);\n",
              "    fill: var(--disabled-fill-color);\n",
              "    box-shadow: none;\n",
              "  }\n",
              "\n",
              "  .colab-df-spinner {\n",
              "    border: 2px solid var(--fill-color);\n",
              "    border-color: transparent;\n",
              "    border-bottom-color: var(--fill-color);\n",
              "    animation:\n",
              "      spin 1s steps(1) infinite;\n",
              "  }\n",
              "\n",
              "  @keyframes spin {\n",
              "    0% {\n",
              "      border-color: transparent;\n",
              "      border-bottom-color: var(--fill-color);\n",
              "      border-left-color: var(--fill-color);\n",
              "    }\n",
              "    20% {\n",
              "      border-color: transparent;\n",
              "      border-left-color: var(--fill-color);\n",
              "      border-top-color: var(--fill-color);\n",
              "    }\n",
              "    30% {\n",
              "      border-color: transparent;\n",
              "      border-left-color: var(--fill-color);\n",
              "      border-top-color: var(--fill-color);\n",
              "      border-right-color: var(--fill-color);\n",
              "    }\n",
              "    40% {\n",
              "      border-color: transparent;\n",
              "      border-right-color: var(--fill-color);\n",
              "      border-top-color: var(--fill-color);\n",
              "    }\n",
              "    60% {\n",
              "      border-color: transparent;\n",
              "      border-right-color: var(--fill-color);\n",
              "    }\n",
              "    80% {\n",
              "      border-color: transparent;\n",
              "      border-right-color: var(--fill-color);\n",
              "      border-bottom-color: var(--fill-color);\n",
              "    }\n",
              "    90% {\n",
              "      border-color: transparent;\n",
              "      border-bottom-color: var(--fill-color);\n",
              "    }\n",
              "  }\n",
              "</style>\n",
              "\n",
              "  <script>\n",
              "    async function quickchart(key) {\n",
              "      const quickchartButtonEl =\n",
              "        document.querySelector('#' + key + ' button');\n",
              "      quickchartButtonEl.disabled = true;  // To prevent multiple clicks.\n",
              "      quickchartButtonEl.classList.add('colab-df-spinner');\n",
              "      try {\n",
              "        const charts = await google.colab.kernel.invokeFunction(\n",
              "            'suggestCharts', [key], {});\n",
              "      } catch (error) {\n",
              "        console.error('Error during call to suggestCharts:', error);\n",
              "      }\n",
              "      quickchartButtonEl.classList.remove('colab-df-spinner');\n",
              "      quickchartButtonEl.classList.add('colab-df-quickchart-complete');\n",
              "    }\n",
              "    (() => {\n",
              "      let quickchartButtonEl =\n",
              "        document.querySelector('#df-d0cb0422-ec82-4a61-98f1-247036febbd3 button');\n",
              "      quickchartButtonEl.style.display =\n",
              "        google.colab.kernel.accessAllowed ? 'block' : 'none';\n",
              "    })();\n",
              "  </script>\n",
              "</div>\n",
              "    </div>\n",
              "  </div>\n"
            ]
          },
          "metadata": {},
          "execution_count": 6
        }
      ],
      "source": [
        "#смотрю первые строки\n",
        "df.head()"
      ]
    },
    {
      "cell_type": "code",
      "execution_count": 7,
      "metadata": {
        "colab": {
          "base_uri": "https://localhost:8080/"
        },
        "id": "lCmIAsTVH46m",
        "outputId": "a53f6bdd-a8e5-4499-adb1-833740604f1d"
      },
      "outputs": [
        {
          "output_type": "execute_result",
          "data": {
            "text/plain": [
              "DateCrawled              0\n",
              "Price                    0\n",
              "VehicleType          37490\n",
              "RegistrationYear         0\n",
              "Gearbox              19833\n",
              "Power                    0\n",
              "Model                19705\n",
              "Kilometer                0\n",
              "RegistrationMonth        0\n",
              "FuelType             32895\n",
              "Brand                    0\n",
              "Repaired             71154\n",
              "DateCreated              0\n",
              "NumberOfPictures         0\n",
              "PostalCode               0\n",
              "LastSeen                 0\n",
              "dtype: int64"
            ]
          },
          "metadata": {},
          "execution_count": 7
        }
      ],
      "source": [
        "#количество пропусков\n",
        "df.isna().sum()"
      ]
    },
    {
      "cell_type": "code",
      "execution_count": 8,
      "metadata": {
        "colab": {
          "base_uri": "https://localhost:8080/"
        },
        "id": "v5IOJ-4DH46n",
        "outputId": "ec5a15eb-bfa1-443a-8700-a1bc3e849573"
      },
      "outputs": [
        {
          "output_type": "execute_result",
          "data": {
            "text/plain": [
              "4"
            ]
          },
          "metadata": {},
          "execution_count": 8
        }
      ],
      "source": [
        "#явные дубликаты\n",
        "df.duplicated().sum()"
      ]
    },
    {
      "cell_type": "markdown",
      "metadata": {
        "id": "pqaEbS2oH46o"
      },
      "source": [
        "### Предобработка данных"
      ]
    },
    {
      "cell_type": "code",
      "execution_count": 9,
      "metadata": {
        "colab": {
          "base_uri": "https://localhost:8080/"
        },
        "id": "Ali2LcLpH46q",
        "outputId": "5378d948-e218-4cb1-aa1b-fe95890af218"
      },
      "outputs": [
        {
          "output_type": "execute_result",
          "data": {
            "text/plain": [
              "0"
            ]
          },
          "metadata": {},
          "execution_count": 9
        }
      ],
      "source": [
        "#удаление дубликатов\n",
        "df = df.drop_duplicates()\n",
        "df.duplicated().sum()"
      ]
    },
    {
      "cell_type": "markdown",
      "metadata": {
        "id": "534Ffn9eH46s"
      },
      "source": [
        "#### NumberOfPictures"
      ]
    },
    {
      "cell_type": "markdown",
      "metadata": {
        "id": "PFWGOs7QH46u"
      },
      "source": [
        "В таблице бросается в глаза столбец с нулевыми значениями, я его проверю первым"
      ]
    },
    {
      "cell_type": "code",
      "execution_count": 10,
      "metadata": {
        "colab": {
          "base_uri": "https://localhost:8080/"
        },
        "id": "vapyO2zWH46v",
        "outputId": "ddd4598f-e71c-4f27-92d4-aa412b56f1bd"
      },
      "outputs": [
        {
          "output_type": "execute_result",
          "data": {
            "text/plain": [
              "0"
            ]
          },
          "metadata": {},
          "execution_count": 10
        }
      ],
      "source": [
        "df['NumberOfPictures'].isna().sum()"
      ]
    },
    {
      "cell_type": "code",
      "execution_count": 11,
      "metadata": {
        "scrolled": true,
        "colab": {
          "base_uri": "https://localhost:8080/"
        },
        "id": "sCXo_KOKH46w",
        "outputId": "ddfcc69c-b81a-480b-d651-639183d3a15f"
      },
      "outputs": [
        {
          "output_type": "execute_result",
          "data": {
            "text/plain": [
              "0    354365\n",
              "Name: NumberOfPictures, dtype: int64"
            ]
          },
          "metadata": {},
          "execution_count": 11
        }
      ],
      "source": [
        "df['NumberOfPictures'].value_counts()"
      ]
    },
    {
      "cell_type": "code",
      "execution_count": 12,
      "metadata": {
        "colab": {
          "base_uri": "https://localhost:8080/"
        },
        "id": "T45P_NZHH46z",
        "outputId": "5fb18701-a2c0-42aa-c792-aa62c3324f6b"
      },
      "outputs": [
        {
          "output_type": "stream",
          "name": "stdout",
          "text": [
            "<class 'pandas.core.frame.DataFrame'>\n",
            "Int64Index: 354365 entries, 0 to 354368\n",
            "Data columns (total 15 columns):\n",
            " #   Column             Non-Null Count   Dtype \n",
            "---  ------             --------------   ----- \n",
            " 0   DateCrawled        354365 non-null  object\n",
            " 1   Price              354365 non-null  int64 \n",
            " 2   VehicleType        316875 non-null  object\n",
            " 3   RegistrationYear   354365 non-null  int64 \n",
            " 4   Gearbox            334532 non-null  object\n",
            " 5   Power              354365 non-null  int64 \n",
            " 6   Model              334660 non-null  object\n",
            " 7   Kilometer          354365 non-null  int64 \n",
            " 8   RegistrationMonth  354365 non-null  int64 \n",
            " 9   FuelType           321470 non-null  object\n",
            " 10  Brand              354365 non-null  object\n",
            " 11  Repaired           283211 non-null  object\n",
            " 12  DateCreated        354365 non-null  object\n",
            " 13  PostalCode         354365 non-null  int64 \n",
            " 14  LastSeen           354365 non-null  object\n",
            "dtypes: int64(6), object(9)\n",
            "memory usage: 43.3+ MB\n"
          ]
        }
      ],
      "source": [
        "#Удаляю столбец\n",
        "df = df.drop('NumberOfPictures', axis=1)\n",
        "df.info()"
      ]
    },
    {
      "cell_type": "markdown",
      "metadata": {
        "id": "Sszlc3pJH461"
      },
      "source": [
        "#### Price"
      ]
    },
    {
      "cell_type": "markdown",
      "metadata": {
        "id": "W24iDNyVH462"
      },
      "source": [
        "Проверяю важный столбец с целевым признаком"
      ]
    },
    {
      "cell_type": "code",
      "execution_count": 13,
      "metadata": {
        "colab": {
          "base_uri": "https://localhost:8080/"
        },
        "id": "jeJ4ruexH462",
        "outputId": "e95973b1-95b6-4474-8859-b5735b217e4e"
      },
      "outputs": [
        {
          "output_type": "execute_result",
          "data": {
            "text/plain": [
              "0        10772\n",
              "500       5670\n",
              "1500      5394\n",
              "1000      4648\n",
              "1200      4594\n",
              "         ...  \n",
              "1368         1\n",
              "233          1\n",
              "11080        1\n",
              "16340        1\n",
              "10985        1\n",
              "Name: Price, Length: 3731, dtype: int64"
            ]
          },
          "metadata": {},
          "execution_count": 13
        }
      ],
      "source": [
        "df['Price'].value_counts()"
      ]
    },
    {
      "cell_type": "code",
      "execution_count": 14,
      "metadata": {
        "colab": {
          "base_uri": "https://localhost:8080/"
        },
        "id": "Es3-RhB3H463",
        "outputId": "20800323-1086-4fb4-d70f-b725d500dc22"
      },
      "outputs": [
        {
          "output_type": "execute_result",
          "data": {
            "text/plain": [
              "count    354365.000000\n",
              "mean       4416.679830\n",
              "std        4514.176349\n",
              "min           0.000000\n",
              "25%        1050.000000\n",
              "50%        2700.000000\n",
              "75%        6400.000000\n",
              "max       20000.000000\n",
              "Name: Price, dtype: float64"
            ]
          },
          "metadata": {},
          "execution_count": 14
        }
      ],
      "source": [
        "df['Price'].describe()"
      ]
    },
    {
      "cell_type": "code",
      "execution_count": null,
      "metadata": {
        "id": "NEDnD7_xH464",
        "outputId": "101cecaa-567b-483b-d1d6-b5221bca20de"
      },
      "outputs": [
        {
          "data": {
            "image/png": "[encoded data removed]",
            "text/plain": [
              "<Figure size 864x504 with 1 Axes>"
            ]
          },
          "metadata": {
            "needs_background": "light"
          },
          "output_type": "display_data"
        }
      ],
      "source": [
        "#посмотрю значения на графике\n",
        "df['Price'].hist(bins=100,figsize=(12,7))\n",
        "plt.title('Распределение стоимости автомобилей')\n",
        "plt.xlabel('Цена')\n",
        "plt.ylabel('Количество')\n",
        "plt.show()"
      ]
    },
    {
      "cell_type": "code",
      "execution_count": null,
      "metadata": {
        "scrolled": true,
        "id": "aAQVbW70H466",
        "outputId": "7d1d3175-1e39-417e-a090-a20344293afb"
      },
      "outputs": [
        {
          "data": {
            "image/png": "[encoded data removed]",
            "text/plain": [
              "<Figure size 864x504 with 1 Axes>"
            ]
          },
          "metadata": {
            "needs_background": "light"
          },
          "output_type": "display_data"
        }
      ],
      "source": [
        "#построю ящик с усами\n",
        "plt.figure(figsize=(12,7))\n",
        "sns.boxplot(data=df['Price'])\n",
        "plt.title('Ящик с усами для стоимости автомобилей')\n",
        "plt.ylabel('Стоимость')\n",
        "plt.show()"
      ]
    },
    {
      "cell_type": "markdown",
      "metadata": {
        "id": "l4KET5pjH467"
      },
      "source": [
        "<div class=\"alert alert-success\">\n",
        "<b>Комментарий ревьюера ✔️:</b>Да, верно графики выбрала, их можно совместить, чтобы было удобнее:)</div>"
      ]
    },
    {
      "cell_type": "markdown",
      "metadata": {
        "id": "4WcbesMcH468"
      },
      "source": [
        "При просмотре статистик по данному столбцу, видно смещение данных. Судя по графикам, аномальные значения находятся в районе 0 и в районе 15 000. Что бы понять какие именно значения удалять, надо посмотреть квантилии"
      ]
    },
    {
      "cell_type": "code",
      "execution_count": null,
      "metadata": {
        "id": "XifBWzvPH468",
        "outputId": "ac2f052a-594a-4780-ec73-51a9c91a6e25"
      },
      "outputs": [
        {
          "data": {
            "text/plain": [
              "0.05      200.0\n",
              "0.95    14600.0\n",
              "Name: Price, dtype: float64"
            ]
          },
          "execution_count": 16,
          "metadata": {},
          "output_type": "execute_result"
        }
      ],
      "source": [
        "df['Price'].quantile([.05, 0.95])"
      ]
    },
    {
      "cell_type": "code",
      "execution_count": null,
      "metadata": {
        "id": "ZiiZEAWXH47A"
      },
      "outputs": [],
      "source": [
        "df = df.query('0 != Price <= 14600')"
      ]
    },
    {
      "cell_type": "code",
      "execution_count": null,
      "metadata": {
        "id": "48ELt57yH47B",
        "outputId": "4122fe60-4941-42f5-cca7-d68c8d540d01"
      },
      "outputs": [
        {
          "name": "stdout",
          "output_type": "stream",
          "text": [
            "<class 'pandas.core.frame.DataFrame'>\n",
            "Int64Index: 325941 entries, 0 to 354368\n",
            "Data columns (total 15 columns):\n",
            " #   Column             Non-Null Count   Dtype \n",
            "---  ------             --------------   ----- \n",
            " 0   DateCrawled        325941 non-null  object\n",
            " 1   Price              325941 non-null  int64 \n",
            " 2   VehicleType        292742 non-null  object\n",
            " 3   RegistrationYear   325941 non-null  int64 \n",
            " 4   Gearbox            308849 non-null  object\n",
            " 5   Power              325941 non-null  int64 \n",
            " 6   Model              308983 non-null  object\n",
            " 7   Kilometer          325941 non-null  int64 \n",
            " 8   RegistrationMonth  325941 non-null  int64 \n",
            " 9   FuelType           297007 non-null  object\n",
            " 10  Brand              325941 non-null  object\n",
            " 11  Repaired           261303 non-null  object\n",
            " 12  DateCreated        325941 non-null  object\n",
            " 13  PostalCode         325941 non-null  int64 \n",
            " 14  LastSeen           325941 non-null  object\n",
            "dtypes: int64(6), object(9)\n",
            "memory usage: 39.8+ MB\n"
          ]
        }
      ],
      "source": [
        "df.info()"
      ]
    },
    {
      "cell_type": "markdown",
      "metadata": {
        "id": "vN1NZoFdH47F"
      },
      "source": [
        "#### RegistrationYear"
      ]
    },
    {
      "cell_type": "markdown",
      "metadata": {
        "id": "y6JO-_pwH47G"
      },
      "source": [
        "Смотрю столбец с датой регистрации автомобиля."
      ]
    },
    {
      "cell_type": "code",
      "execution_count": null,
      "metadata": {
        "id": "3fkncQw5H47H",
        "outputId": "709ee909-719a-4869-f4c5-34657328bbb0"
      },
      "outputs": [
        {
          "data": {
            "text/plain": [
              "2000    23020\n",
              "1999    21946\n",
              "2005    21142\n",
              "2001    19551\n",
              "2003    19334\n",
              "        ...  \n",
              "1949        1\n",
              "2222        1\n",
              "5300        1\n",
              "8888        1\n",
              "2290        1\n",
              "Name: RegistrationYear, Length: 137, dtype: int64"
            ]
          },
          "execution_count": 19,
          "metadata": {},
          "output_type": "execute_result"
        }
      ],
      "source": [
        "df['RegistrationYear'].value_counts()"
      ]
    },
    {
      "cell_type": "markdown",
      "metadata": {
        "id": "bK0tIwIHH47I"
      },
      "source": [
        "Вижу много явно аномальных значений. Для того что бы понять какие именно года считать аномалии, построю ящик с усами и посмотрю квантилии"
      ]
    },
    {
      "cell_type": "code",
      "execution_count": null,
      "metadata": {
        "id": "5cx7564cH47K",
        "outputId": "27557c55-7cc1-4999-aa26-187bb52d519c"
      },
      "outputs": [
        {
          "data": {
            "image/png": "[encoded data removed]",
            "text/plain": [
              "<Figure size 864x504 with 1 Axes>"
            ]
          },
          "metadata": {
            "needs_background": "light"
          },
          "output_type": "display_data"
        }
      ],
      "source": [
        "#построю ящик с усами\n",
        "plt.figure(figsize=(12,7))\n",
        "sns.boxplot(data=df['RegistrationYear'])\n",
        "plt.title('Ящик с усами для года регистрации')\n",
        "plt.ylabel('Год')\n",
        "plt.show()"
      ]
    },
    {
      "cell_type": "code",
      "execution_count": null,
      "metadata": {
        "id": "vZHBILVBH47L",
        "outputId": "318c5b72-5bb3-44f2-c0db-ffae9e22a914"
      },
      "outputs": [
        {
          "data": {
            "text/plain": [
              "0.05    1993.0\n",
              "0.95    2016.0\n",
              "Name: RegistrationYear, dtype: float64"
            ]
          },
          "execution_count": 21,
          "metadata": {},
          "output_type": "execute_result"
        }
      ],
      "source": [
        "df['RegistrationYear'].quantile([.05, 0.95])"
      ]
    },
    {
      "cell_type": "markdown",
      "metadata": {
        "id": "3fnoGgfJH47S"
      },
      "source": [
        "- В столбце RegistrationYear помимо аномально высоких значений, имеются аномально низкие. Я не знаю как точно определить дату, раньше которой начинаются эти аномалии, Но учитывая, что сервис новый и он не о продаже ретро автомобилей, и нам не хочется удалять много данных, то предлагаю оставить авто младше 1970 года, а все что меньше удалить\n",
        "- так же оставляю только те авто , дата регистрации которых не позднее даты последней активности пользователя"
      ]
    },
    {
      "cell_type": "code",
      "execution_count": null,
      "metadata": {
        "id": "cnWa3xWwH47T",
        "outputId": "2c8aa157-dd97-44fc-e2ae-09cdf4213d89"
      },
      "outputs": [
        {
          "data": {
            "text/plain": [
              "'2016-04-07 14:58:51'"
            ]
          },
          "execution_count": 22,
          "metadata": {},
          "output_type": "execute_result"
        }
      ],
      "source": [
        "df['LastSeen'].max()"
      ]
    },
    {
      "cell_type": "code",
      "execution_count": null,
      "metadata": {
        "id": "z8wsh_pYH47U"
      },
      "outputs": [],
      "source": [
        "df = df.query('1970 < RegistrationYear < 2017')"
      ]
    },
    {
      "cell_type": "code",
      "execution_count": null,
      "metadata": {
        "scrolled": true,
        "id": "CzQ7qgbZH47Y",
        "outputId": "9268d84b-1990-4102-f0e0-c1eef61c6e98"
      },
      "outputs": [
        {
          "name": "stdout",
          "output_type": "stream",
          "text": [
            "<class 'pandas.core.frame.DataFrame'>\n",
            "Int64Index: 311234 entries, 0 to 354368\n",
            "Data columns (total 15 columns):\n",
            " #   Column             Non-Null Count   Dtype \n",
            "---  ------             --------------   ----- \n",
            " 0   DateCrawled        311234 non-null  object\n",
            " 1   Price              311234 non-null  int64 \n",
            " 2   VehicleType        291798 non-null  object\n",
            " 3   RegistrationYear   311234 non-null  int64 \n",
            " 4   Gearbox            296224 non-null  object\n",
            " 5   Power              311234 non-null  int64 \n",
            " 6   Model              296480 non-null  object\n",
            " 7   Kilometer          311234 non-null  int64 \n",
            " 8   RegistrationMonth  311234 non-null  int64 \n",
            " 9   FuelType           287815 non-null  object\n",
            " 10  Brand              311234 non-null  object\n",
            " 11  Repaired           252949 non-null  object\n",
            " 12  DateCreated        311234 non-null  object\n",
            " 13  PostalCode         311234 non-null  int64 \n",
            " 14  LastSeen           311234 non-null  object\n",
            "dtypes: int64(6), object(9)\n",
            "memory usage: 38.0+ MB\n"
          ]
        }
      ],
      "source": [
        "df.info()"
      ]
    },
    {
      "cell_type": "markdown",
      "metadata": {
        "id": "1ZXgzZ90H47b"
      },
      "source": [
        "Проверяю столбец RegistrationMonth"
      ]
    },
    {
      "cell_type": "code",
      "execution_count": null,
      "metadata": {
        "scrolled": true,
        "id": "B2wz0Xn8H47c",
        "outputId": "73290f03-b7f1-489d-dd3c-36ae7e435e7e"
      },
      "outputs": [
        {
          "data": {
            "text/plain": [
              "count    311234.000000\n",
              "mean          5.802242\n",
              "std           3.690431\n",
              "min           0.000000\n",
              "25%           3.000000\n",
              "50%           6.000000\n",
              "75%           9.000000\n",
              "max          12.000000\n",
              "Name: RegistrationMonth, dtype: float64"
            ]
          },
          "execution_count": 28,
          "metadata": {},
          "output_type": "execute_result"
        }
      ],
      "source": [
        "df['RegistrationMonth'].describe()"
      ]
    },
    {
      "cell_type": "markdown",
      "metadata": {
        "id": "vuyYm0ZgH47e"
      },
      "source": [
        "Вижу минимальное значение ноль. Этого не может быть что бы месяц был нулевым. Что бы не терять много данных заменю нули медианой"
      ]
    },
    {
      "cell_type": "code",
      "execution_count": null,
      "metadata": {
        "id": "q8Wb59w8H47e",
        "outputId": "9044f5c4-0656-4c64-997e-03dacf9e4088"
      },
      "outputs": [
        {
          "data": {
            "text/plain": [
              "array([ 6,  8,  7, 10, 12, 11,  2,  1,  4,  5,  9,  3])"
            ]
          },
          "execution_count": 29,
          "metadata": {},
          "output_type": "execute_result"
        }
      ],
      "source": [
        "df['RegistrationMonth'] = np.where((df.RegistrationMonth == 0), 6, df.RegistrationMonth)\n",
        "df['RegistrationMonth'].unique()"
      ]
    },
    {
      "cell_type": "markdown",
      "metadata": {
        "id": "ykbglVDBH47j"
      },
      "source": [
        "#### Power"
      ]
    },
    {
      "cell_type": "code",
      "execution_count": null,
      "metadata": {
        "id": "Vm5vRgi0H47k",
        "outputId": "34c55797-c8dc-437c-fd95-7e8519074439"
      },
      "outputs": [
        {
          "data": {
            "text/plain": [
              "0        31884\n",
              "75       22088\n",
              "60       14738\n",
              "150      13163\n",
              "101      12390\n",
              "         ...  \n",
              "1199         1\n",
              "1200         1\n",
              "1968         1\n",
              "16311        1\n",
              "341          1\n",
              "Name: Power, Length: 648, dtype: int64"
            ]
          },
          "execution_count": 31,
          "metadata": {},
          "output_type": "execute_result"
        }
      ],
      "source": [
        "df['Power'].value_counts()"
      ]
    },
    {
      "cell_type": "code",
      "execution_count": null,
      "metadata": {
        "id": "6XEFA201H47l",
        "outputId": "7b321673-5c1b-4a85-f4bc-4e1bef831d64"
      },
      "outputs": [
        {
          "data": {
            "text/plain": [
              "count    311234.000000\n",
              "mean        108.296937\n",
              "std         184.025769\n",
              "min           0.000000\n",
              "25%          69.000000\n",
              "50%         102.000000\n",
              "75%         140.000000\n",
              "max       20000.000000\n",
              "Name: Power, dtype: float64"
            ]
          },
          "execution_count": 32,
          "metadata": {},
          "output_type": "execute_result"
        }
      ],
      "source": [
        "df['Power'].describe()"
      ]
    },
    {
      "cell_type": "code",
      "execution_count": null,
      "metadata": {
        "id": "NoEc3MVEH47m",
        "outputId": "15909d68-7d3e-46a7-a3c1-117458d17e7a"
      },
      "outputs": [
        {
          "data": {
            "image/png": "[encoded data removed]",
            "text/plain": [
              "<Figure size 864x504 with 1 Axes>"
            ]
          },
          "metadata": {
            "needs_background": "light"
          },
          "output_type": "display_data"
        }
      ],
      "source": [
        "#построю ящик с усами\n",
        "df.boxplot('Power', figsize=(12,7))\n",
        "plt.title('Ящик с усами для мощности')\n",
        "plt.ylabel('Количество л.с.')\n",
        "plt.show()\n"
      ]
    },
    {
      "cell_type": "markdown",
      "metadata": {
        "id": "1h21bHxdH47o"
      },
      "source": [
        "Уточнила в Яндексе, что мощность авто может быть и 5000 л.с., и пусть это какие-то эксклюзивные машины и их мало, но они имеют право быть. Удаляю аномалии равные нулю и больше 5000"
      ]
    },
    {
      "cell_type": "code",
      "execution_count": null,
      "metadata": {
        "id": "crLjeRt8H47o"
      },
      "outputs": [],
      "source": [
        "#удаляю аномальные значения\n",
        "df = df.query('0 != Power < 5000')"
      ]
    },
    {
      "cell_type": "code",
      "execution_count": null,
      "metadata": {
        "id": "-LiNWklIH47r",
        "outputId": "53800595-0d92-49fc-d444-67cd0b80d189"
      },
      "outputs": [
        {
          "name": "stdout",
          "output_type": "stream",
          "text": [
            "<class 'pandas.core.frame.DataFrame'>\n",
            "Int64Index: 279282 entries, 2 to 354368\n",
            "Data columns (total 15 columns):\n",
            " #   Column             Non-Null Count   Dtype \n",
            "---  ------             --------------   ----- \n",
            " 0   DateCrawled        279282 non-null  object\n",
            " 1   Price              279282 non-null  int64 \n",
            " 2   VehicleType        268433 non-null  object\n",
            " 3   RegistrationYear   279282 non-null  int64 \n",
            " 4   Gearbox            274017 non-null  object\n",
            " 5   Power              279282 non-null  int64 \n",
            " 6   Model              268689 non-null  object\n",
            " 7   Kilometer          279282 non-null  int64 \n",
            " 8   RegistrationMonth  279282 non-null  int64 \n",
            " 9   FuelType           264015 non-null  object\n",
            " 10  Brand              279282 non-null  object\n",
            " 11  Repaired           237346 non-null  object\n",
            " 12  DateCreated        279282 non-null  object\n",
            " 13  PostalCode         279282 non-null  int64 \n",
            " 14  LastSeen           279282 non-null  object\n",
            "dtypes: int64(6), object(9)\n",
            "memory usage: 34.1+ MB\n"
          ]
        }
      ],
      "source": [
        "df.info()"
      ]
    },
    {
      "cell_type": "markdown",
      "metadata": {
        "id": "eekDQqTRH47t"
      },
      "source": [
        "#### Gearbox"
      ]
    },
    {
      "cell_type": "markdown",
      "metadata": {
        "id": "UOoPkRScH47u"
      },
      "source": [
        "Смотрю пропуски в столбце с типом коробки передач. Данные значения я удалю, так как на цену существенно влияет этот признак, а восстановить данные или поставить заглушку будет некорректно"
      ]
    },
    {
      "cell_type": "code",
      "execution_count": null,
      "metadata": {
        "id": "qMBHpE97H47v",
        "outputId": "a6490042-86b8-444b-e033-b286ba4d83b5"
      },
      "outputs": [
        {
          "data": {
            "text/plain": [
              "manual    222759\n",
              "auto       51258\n",
              "Name: Gearbox, dtype: int64"
            ]
          },
          "execution_count": 36,
          "metadata": {},
          "output_type": "execute_result"
        }
      ],
      "source": [
        "df['Gearbox'].value_counts()"
      ]
    },
    {
      "cell_type": "code",
      "execution_count": null,
      "metadata": {
        "id": "FYuj3TaeH47x",
        "outputId": "a2128bf9-4600-404d-e255-8396d598cf89"
      },
      "outputs": [
        {
          "data": {
            "text/plain": [
              "5265"
            ]
          },
          "execution_count": 37,
          "metadata": {},
          "output_type": "execute_result"
        }
      ],
      "source": [
        "df['Gearbox'].isna().sum()"
      ]
    },
    {
      "cell_type": "code",
      "execution_count": null,
      "metadata": {
        "id": "suueV3PjH47z",
        "outputId": "5791723e-0b16-4040-f559-7bf83e0bff9b"
      },
      "outputs": [
        {
          "name": "stdout",
          "output_type": "stream",
          "text": [
            "<class 'pandas.core.frame.DataFrame'>\n",
            "Int64Index: 274017 entries, 2 to 354368\n",
            "Data columns (total 15 columns):\n",
            " #   Column             Non-Null Count   Dtype \n",
            "---  ------             --------------   ----- \n",
            " 0   DateCrawled        274017 non-null  object\n",
            " 1   Price              274017 non-null  int64 \n",
            " 2   VehicleType        264404 non-null  object\n",
            " 3   RegistrationYear   274017 non-null  int64 \n",
            " 4   Gearbox            274017 non-null  object\n",
            " 5   Power              274017 non-null  int64 \n",
            " 6   Model              264083 non-null  object\n",
            " 7   Kilometer          274017 non-null  int64 \n",
            " 8   RegistrationMonth  274017 non-null  int64 \n",
            " 9   FuelType           259983 non-null  object\n",
            " 10  Brand              274017 non-null  object\n",
            " 11  Repaired           234475 non-null  object\n",
            " 12  DateCreated        274017 non-null  object\n",
            " 13  PostalCode         274017 non-null  int64 \n",
            " 14  LastSeen           274017 non-null  object\n",
            "dtypes: int64(6), object(9)\n",
            "memory usage: 33.4+ MB\n"
          ]
        }
      ],
      "source": [
        "#удаляю пропущенные значения\n",
        "df = df.dropna(subset=['Gearbox'])\n",
        "df.info()"
      ]
    },
    {
      "cell_type": "markdown",
      "metadata": {
        "id": "U7U9uQ5SH470"
      },
      "source": [
        "#### Model"
      ]
    },
    {
      "cell_type": "markdown",
      "metadata": {
        "id": "kM32HwfqH473"
      },
      "source": [
        "В столбце с моделью автомобиля видны пропущенные значения. Проверю уникальные значения этого столбца и удалю пропуски.Так как цена явно зависит от модели автомобиля, то для получения реальных результатов заменить пропуски на другие значения будет не корректно"
      ]
    },
    {
      "cell_type": "code",
      "execution_count": null,
      "metadata": {
        "id": "-yjDYpl4H474",
        "outputId": "910a842b-946a-4921-80eb-e937950e9ef3"
      },
      "outputs": [
        {
          "data": {
            "text/plain": [
              "array(['grand', 'golf', 'fabia', '3er', '2_reihe', 'c_max', '3_reihe',\n",
              "       'passat', 'twingo', 'a_klasse', 'scirocco', '5er', 'arosa',\n",
              "       'other', 'civic', 'transporter', 'punto', 'e_klasse', 'clio',\n",
              "       'kadett', 'one', 'fortwo', '1er', 'b_klasse', nan, 'a8', 'jetta',\n",
              "       'fiesta', 'c_klasse', 'micra', 'vito', 'sprinter', 'astra', '156',\n",
              "       'escort', 'forester', 'xc_reihe', 'scenic', 'a1', 'focus', 'a4',\n",
              "       'tt', 'a6', 'jazz', 'omega', 'polo', 'slk', '7er', 'combo',\n",
              "       'corsa', '80', '147', 'z_reihe', 'sorento', 'ibiza', 'eos',\n",
              "       'touran', 'getz', 'insignia', 'ka', 'almera', 'megane', 'a3',\n",
              "       'lupo', 'r19', 'caddy', 'mondeo', 'cordoba', 'colt', 'impreza',\n",
              "       'vectra', 'berlingo', 'tiguan', '6_reihe', 'c4', 'panda', 'up',\n",
              "       'i_reihe', 'ceed', 'kangoo', 'yeti', 'octavia', 'zafira', 'mii',\n",
              "       'rx_reihe', 'modus', 'fox', 'matiz', 'beetle', 'rio', 'logan',\n",
              "       'spider', 'cuore', 's_max', 'a2', 'c3', '1_reihe', 'sharan',\n",
              "       'avensis', 'viano', 'roomster', 'sl', 'kaefer', 'santa', 'leon',\n",
              "       'cooper', '4_reihe', 'sportage', 'laguna', 'ptcruiser', 'clk',\n",
              "       'primera', 'espace', 'galaxy', 's_klasse', '159', 'transit',\n",
              "       'juke', 'x_reihe', 'v40', 'carisma', 'accord', 'corolla', 'lanos',\n",
              "       'phaeton', 'verso', 'swift', 'rav', 'picanto', 'boxster', 'stilo',\n",
              "       'alhambra', 'touareg', 'mx_reihe', 'roadster', 'ypsilon', 'galant',\n",
              "       'justy', '90', 'sirion', 'signum', 'crossfire', 'agila', 'duster',\n",
              "       'v50', '500', 'meriva', 'c_reihe', 'v_klasse', 'm_klasse', 'yaris',\n",
              "       'c5', 'aygo', 'seicento', 'cc', 'carnival', 'bora', 'forfour',\n",
              "       'a5', 'cl', 'tigra', '300c', '100', 'cr_reihe', 'spark', '5_reihe',\n",
              "       'ducato', 's_type', 'x_trail', 'toledo', 'altea', 'qashqai',\n",
              "       'voyager', 'x_type', 'calibra', 'v70', 'bravo', 'c1', 'citigo',\n",
              "       'jimny', 'wrangler', 'lybra', 'lancer', 'captiva', 'fusion',\n",
              "       'discovery', 'freelander', 'sandero', 'note', 'kuga', 'navara',\n",
              "       'antara', '900', 'cherokee', 'defender', 'legacy', 'pajero',\n",
              "       'auris', 'cayenne', 'c2', 'niva', 's60', 'clubman', 'm_reihe',\n",
              "       'nubira', 'vivaro', 'tucson', 'g_klasse', 'lodgy', '601', '850',\n",
              "       'superb', 'serie_2', 'exeo', 'charade', 'croma', 'q7', 'outlander',\n",
              "       'doblo', 'musa', '6er', '9000', 'kalos', 'v60', '200', '145',\n",
              "       'b_max', 'cx_reihe', 'mustang', 'range_rover_sport', 'aveo',\n",
              "       'range_rover', 'move', 'rangerover', 'q5', 'range_rover_evoque',\n",
              "       'materia', 'delta', 'terios', 'glk', 'kalina', 'elefantino', 'i3',\n",
              "       '911', 'samara', 'kappa', 'amarok', 'serie_3', 'gl', 'q3'],\n",
              "      dtype=object)"
            ]
          },
          "execution_count": 39,
          "metadata": {},
          "output_type": "execute_result"
        }
      ],
      "source": [
        "df['Model'].unique()"
      ]
    },
    {
      "cell_type": "code",
      "execution_count": null,
      "metadata": {
        "id": "L375r5wmH476"
      },
      "outputs": [],
      "source": [
        "df['Model'] = df['Model'].fillna('unknown')"
      ]
    },
    {
      "cell_type": "code",
      "execution_count": null,
      "metadata": {
        "id": "Ib1a2lPdH477",
        "outputId": "be0195da-8a82-46c4-c4f1-ecb178b8f973"
      },
      "outputs": [
        {
          "name": "stdout",
          "output_type": "stream",
          "text": [
            "<class 'pandas.core.frame.DataFrame'>\n",
            "Int64Index: 274017 entries, 2 to 354368\n",
            "Data columns (total 15 columns):\n",
            " #   Column             Non-Null Count   Dtype \n",
            "---  ------             --------------   ----- \n",
            " 0   DateCrawled        274017 non-null  object\n",
            " 1   Price              274017 non-null  int64 \n",
            " 2   VehicleType        264404 non-null  object\n",
            " 3   RegistrationYear   274017 non-null  int64 \n",
            " 4   Gearbox            274017 non-null  object\n",
            " 5   Power              274017 non-null  int64 \n",
            " 6   Model              274017 non-null  object\n",
            " 7   Kilometer          274017 non-null  int64 \n",
            " 8   RegistrationMonth  274017 non-null  int64 \n",
            " 9   FuelType           259983 non-null  object\n",
            " 10  Brand              274017 non-null  object\n",
            " 11  Repaired           234475 non-null  object\n",
            " 12  DateCreated        274017 non-null  object\n",
            " 13  PostalCode         274017 non-null  int64 \n",
            " 14  LastSeen           274017 non-null  object\n",
            "dtypes: int64(6), object(9)\n",
            "memory usage: 33.4+ MB\n"
          ]
        }
      ],
      "source": [
        "df.info()"
      ]
    },
    {
      "cell_type": "markdown",
      "metadata": {
        "id": "VVJ6kWXmH47_"
      },
      "source": [
        "#### VehicleType"
      ]
    },
    {
      "cell_type": "markdown",
      "metadata": {
        "id": "Ug_Ksk-gH48C"
      },
      "source": [
        "Видны пропуски в колонке с кузовом авто. Это важные данные для определения цены автомобиля, но так как из таблицы уже было удалено большое количество данных, пропуски в этом столбце я заполню заглушкой 'unknow'"
      ]
    },
    {
      "cell_type": "code",
      "execution_count": null,
      "metadata": {
        "id": "wd73IEntH48J",
        "outputId": "2ee631ca-65dd-4969-bac3-0b3cf99c4225"
      },
      "outputs": [
        {
          "data": {
            "text/plain": [
              "9613"
            ]
          },
          "execution_count": 42,
          "metadata": {},
          "output_type": "execute_result"
        }
      ],
      "source": [
        "df['VehicleType'].isna().sum()"
      ]
    },
    {
      "cell_type": "code",
      "execution_count": null,
      "metadata": {
        "id": "KnYxe4uFH48N",
        "outputId": "96a43de0-73cb-4b8e-fd11-4bf484255600"
      },
      "outputs": [
        {
          "name": "stdout",
          "output_type": "stream",
          "text": [
            "<class 'pandas.core.frame.DataFrame'>\n",
            "Int64Index: 274017 entries, 2 to 354368\n",
            "Data columns (total 15 columns):\n",
            " #   Column             Non-Null Count   Dtype \n",
            "---  ------             --------------   ----- \n",
            " 0   DateCrawled        274017 non-null  object\n",
            " 1   Price              274017 non-null  int64 \n",
            " 2   VehicleType        274017 non-null  object\n",
            " 3   RegistrationYear   274017 non-null  int64 \n",
            " 4   Gearbox            274017 non-null  object\n",
            " 5   Power              274017 non-null  int64 \n",
            " 6   Model              274017 non-null  object\n",
            " 7   Kilometer          274017 non-null  int64 \n",
            " 8   RegistrationMonth  274017 non-null  int64 \n",
            " 9   FuelType           259983 non-null  object\n",
            " 10  Brand              274017 non-null  object\n",
            " 11  Repaired           234475 non-null  object\n",
            " 12  DateCreated        274017 non-null  object\n",
            " 13  PostalCode         274017 non-null  int64 \n",
            " 14  LastSeen           274017 non-null  object\n",
            "dtypes: int64(6), object(9)\n",
            "memory usage: 33.4+ MB\n"
          ]
        }
      ],
      "source": [
        "df['VehicleType']=df['VehicleType'].fillna('unknow')\n",
        "df.info()"
      ]
    },
    {
      "cell_type": "markdown",
      "metadata": {
        "id": "qLPlClnCH48O"
      },
      "source": [
        "#### FuelType"
      ]
    },
    {
      "cell_type": "markdown",
      "metadata": {
        "id": "-k41U6auH48P"
      },
      "source": [
        "От типа топлива тоже может зависеть цена на авто, но удалять лишние данные я не буду, а заполню значением 'other'"
      ]
    },
    {
      "cell_type": "code",
      "execution_count": null,
      "metadata": {
        "scrolled": true,
        "id": "LGCbaCYlH48S",
        "outputId": "1ddc5bb7-0754-4ac7-a774-63034058569a"
      },
      "outputs": [
        {
          "data": {
            "text/plain": [
              "petrol      176694\n",
              "gasoline     77988\n",
              "lpg           4524\n",
              "cng            476\n",
              "hybrid         154\n",
              "other           83\n",
              "electric        64\n",
              "Name: FuelType, dtype: int64"
            ]
          },
          "execution_count": 44,
          "metadata": {},
          "output_type": "execute_result"
        }
      ],
      "source": [
        "df['FuelType'].value_counts()"
      ]
    },
    {
      "cell_type": "code",
      "execution_count": null,
      "metadata": {
        "id": "v00rgQ9JH48T",
        "outputId": "3b59f46c-0c54-42a1-bb16-d93bcec6cfbf"
      },
      "outputs": [
        {
          "name": "stdout",
          "output_type": "stream",
          "text": [
            "<class 'pandas.core.frame.DataFrame'>\n",
            "Int64Index: 274017 entries, 2 to 354368\n",
            "Data columns (total 15 columns):\n",
            " #   Column             Non-Null Count   Dtype \n",
            "---  ------             --------------   ----- \n",
            " 0   DateCrawled        274017 non-null  object\n",
            " 1   Price              274017 non-null  int64 \n",
            " 2   VehicleType        274017 non-null  object\n",
            " 3   RegistrationYear   274017 non-null  int64 \n",
            " 4   Gearbox            274017 non-null  object\n",
            " 5   Power              274017 non-null  int64 \n",
            " 6   Model              274017 non-null  object\n",
            " 7   Kilometer          274017 non-null  int64 \n",
            " 8   RegistrationMonth  274017 non-null  int64 \n",
            " 9   FuelType           274017 non-null  object\n",
            " 10  Brand              274017 non-null  object\n",
            " 11  Repaired           234475 non-null  object\n",
            " 12  DateCreated        274017 non-null  object\n",
            " 13  PostalCode         274017 non-null  int64 \n",
            " 14  LastSeen           274017 non-null  object\n",
            "dtypes: int64(6), object(9)\n",
            "memory usage: 33.4+ MB\n"
          ]
        }
      ],
      "source": [
        "df['FuelType']=df['FuelType'].fillna('other')\n",
        "df.info()"
      ]
    },
    {
      "cell_type": "markdown",
      "metadata": {
        "id": "jHHW2FM3H48V"
      },
      "source": [
        "#### Repaired"
      ]
    },
    {
      "cell_type": "markdown",
      "metadata": {
        "id": "4XFvrnWLH48W"
      },
      "source": [
        "Проверю столбец с указанием ремонта автомобиля. И вместо пропусков поставлю заглушку"
      ]
    },
    {
      "cell_type": "code",
      "execution_count": null,
      "metadata": {
        "id": "9KbnlmvXH48X",
        "outputId": "b6f7c094-0da9-4b61-ca64-af8f3af90467"
      },
      "outputs": [
        {
          "data": {
            "text/plain": [
              "array([nan, 'no', 'yes'], dtype=object)"
            ]
          },
          "execution_count": 46,
          "metadata": {},
          "output_type": "execute_result"
        }
      ],
      "source": [
        "df['Repaired'].unique()"
      ]
    },
    {
      "cell_type": "code",
      "execution_count": null,
      "metadata": {
        "scrolled": true,
        "id": "8kbPZa3MH48Y",
        "outputId": "26f41087-a47d-4dc1-c7ff-a0ef42ea7b12"
      },
      "outputs": [
        {
          "data": {
            "text/plain": [
              "39542"
            ]
          },
          "execution_count": 47,
          "metadata": {},
          "output_type": "execute_result"
        }
      ],
      "source": [
        "df['Repaired'].isna().sum()"
      ]
    },
    {
      "cell_type": "code",
      "execution_count": null,
      "metadata": {
        "scrolled": true,
        "id": "LYrfokH6H48a",
        "outputId": "3073e791-245d-45b1-a279-6366dc2be150"
      },
      "outputs": [
        {
          "name": "stdout",
          "output_type": "stream",
          "text": [
            "<class 'pandas.core.frame.DataFrame'>\n",
            "Int64Index: 274017 entries, 2 to 354368\n",
            "Data columns (total 15 columns):\n",
            " #   Column             Non-Null Count   Dtype \n",
            "---  ------             --------------   ----- \n",
            " 0   DateCrawled        274017 non-null  object\n",
            " 1   Price              274017 non-null  int64 \n",
            " 2   VehicleType        274017 non-null  object\n",
            " 3   RegistrationYear   274017 non-null  int64 \n",
            " 4   Gearbox            274017 non-null  object\n",
            " 5   Power              274017 non-null  int64 \n",
            " 6   Model              274017 non-null  object\n",
            " 7   Kilometer          274017 non-null  int64 \n",
            " 8   RegistrationMonth  274017 non-null  int64 \n",
            " 9   FuelType           274017 non-null  object\n",
            " 10  Brand              274017 non-null  object\n",
            " 11  Repaired           274017 non-null  object\n",
            " 12  DateCreated        274017 non-null  object\n",
            " 13  PostalCode         274017 non-null  int64 \n",
            " 14  LastSeen           274017 non-null  object\n",
            "dtypes: int64(6), object(9)\n",
            "memory usage: 33.4+ MB\n"
          ]
        }
      ],
      "source": [
        "df['Repaired']=df['Repaired'].fillna('unknow')\n",
        "df.info()"
      ]
    },
    {
      "cell_type": "markdown",
      "metadata": {
        "id": "k1VEuOIgH48b"
      },
      "source": [
        "#### Графики"
      ]
    },
    {
      "cell_type": "code",
      "execution_count": null,
      "metadata": {
        "id": "vli0FwCKH48c",
        "outputId": "9befedee-8d31-43e7-f795-91babb5676ef"
      },
      "outputs": [
        {
          "data": {
            "text/html": [
              "<div>\n",
              "<style scoped>\n",
              "    .dataframe tbody tr th:only-of-type {\n",
              "        vertical-align: middle;\n",
              "    }\n",
              "\n",
              "    .dataframe tbody tr th {\n",
              "        vertical-align: top;\n",
              "    }\n",
              "\n",
              "    .dataframe thead th {\n",
              "        text-align: right;\n",
              "    }\n",
              "</style>\n",
              "<table border=\"1\" class=\"dataframe\">\n",
              "  <thead>\n",
              "    <tr style=\"text-align: right;\">\n",
              "      <th></th>\n",
              "      <th>DateCrawled</th>\n",
              "      <th>Price</th>\n",
              "      <th>VehicleType</th>\n",
              "      <th>RegistrationYear</th>\n",
              "      <th>Gearbox</th>\n",
              "      <th>Power</th>\n",
              "      <th>Model</th>\n",
              "      <th>Kilometer</th>\n",
              "      <th>RegistrationMonth</th>\n",
              "      <th>FuelType</th>\n",
              "      <th>Brand</th>\n",
              "      <th>Repaired</th>\n",
              "      <th>DateCreated</th>\n",
              "      <th>PostalCode</th>\n",
              "      <th>LastSeen</th>\n",
              "    </tr>\n",
              "  </thead>\n",
              "  <tbody>\n",
              "    <tr>\n",
              "      <th>2</th>\n",
              "      <td>2016-03-14 12:52:21</td>\n",
              "      <td>9800</td>\n",
              "      <td>suv</td>\n",
              "      <td>2004</td>\n",
              "      <td>auto</td>\n",
              "      <td>163</td>\n",
              "      <td>grand</td>\n",
              "      <td>125000</td>\n",
              "      <td>8</td>\n",
              "      <td>gasoline</td>\n",
              "      <td>jeep</td>\n",
              "      <td>unknow</td>\n",
              "      <td>2016-03-14 00:00:00</td>\n",
              "      <td>90480</td>\n",
              "      <td>2016-04-05 12:47:46</td>\n",
              "    </tr>\n",
              "    <tr>\n",
              "      <th>3</th>\n",
              "      <td>2016-03-17 16:54:04</td>\n",
              "      <td>1500</td>\n",
              "      <td>small</td>\n",
              "      <td>2001</td>\n",
              "      <td>manual</td>\n",
              "      <td>75</td>\n",
              "      <td>golf</td>\n",
              "      <td>150000</td>\n",
              "      <td>6</td>\n",
              "      <td>petrol</td>\n",
              "      <td>volkswagen</td>\n",
              "      <td>no</td>\n",
              "      <td>2016-03-17 00:00:00</td>\n",
              "      <td>91074</td>\n",
              "      <td>2016-03-17 17:40:17</td>\n",
              "    </tr>\n",
              "    <tr>\n",
              "      <th>4</th>\n",
              "      <td>2016-03-31 17:25:20</td>\n",
              "      <td>3600</td>\n",
              "      <td>small</td>\n",
              "      <td>2008</td>\n",
              "      <td>manual</td>\n",
              "      <td>69</td>\n",
              "      <td>fabia</td>\n",
              "      <td>90000</td>\n",
              "      <td>7</td>\n",
              "      <td>gasoline</td>\n",
              "      <td>skoda</td>\n",
              "      <td>no</td>\n",
              "      <td>2016-03-31 00:00:00</td>\n",
              "      <td>60437</td>\n",
              "      <td>2016-04-06 10:17:21</td>\n",
              "    </tr>\n",
              "    <tr>\n",
              "      <th>5</th>\n",
              "      <td>2016-04-04 17:36:23</td>\n",
              "      <td>650</td>\n",
              "      <td>sedan</td>\n",
              "      <td>1995</td>\n",
              "      <td>manual</td>\n",
              "      <td>102</td>\n",
              "      <td>3er</td>\n",
              "      <td>150000</td>\n",
              "      <td>10</td>\n",
              "      <td>petrol</td>\n",
              "      <td>bmw</td>\n",
              "      <td>yes</td>\n",
              "      <td>2016-04-04 00:00:00</td>\n",
              "      <td>33775</td>\n",
              "      <td>2016-04-06 19:17:07</td>\n",
              "    </tr>\n",
              "    <tr>\n",
              "      <th>6</th>\n",
              "      <td>2016-04-01 20:48:51</td>\n",
              "      <td>2200</td>\n",
              "      <td>convertible</td>\n",
              "      <td>2004</td>\n",
              "      <td>manual</td>\n",
              "      <td>109</td>\n",
              "      <td>2_reihe</td>\n",
              "      <td>150000</td>\n",
              "      <td>8</td>\n",
              "      <td>petrol</td>\n",
              "      <td>peugeot</td>\n",
              "      <td>no</td>\n",
              "      <td>2016-04-01 00:00:00</td>\n",
              "      <td>67112</td>\n",
              "      <td>2016-04-05 18:18:39</td>\n",
              "    </tr>\n",
              "    <tr>\n",
              "      <th>8</th>\n",
              "      <td>2016-04-04 23:42:13</td>\n",
              "      <td>14500</td>\n",
              "      <td>bus</td>\n",
              "      <td>2014</td>\n",
              "      <td>manual</td>\n",
              "      <td>125</td>\n",
              "      <td>c_max</td>\n",
              "      <td>30000</td>\n",
              "      <td>8</td>\n",
              "      <td>petrol</td>\n",
              "      <td>ford</td>\n",
              "      <td>unknow</td>\n",
              "      <td>2016-04-04 00:00:00</td>\n",
              "      <td>94505</td>\n",
              "      <td>2016-04-04 23:42:13</td>\n",
              "    </tr>\n",
              "    <tr>\n",
              "      <th>9</th>\n",
              "      <td>2016-03-17 10:53:50</td>\n",
              "      <td>999</td>\n",
              "      <td>small</td>\n",
              "      <td>1998</td>\n",
              "      <td>manual</td>\n",
              "      <td>101</td>\n",
              "      <td>golf</td>\n",
              "      <td>150000</td>\n",
              "      <td>6</td>\n",
              "      <td>other</td>\n",
              "      <td>volkswagen</td>\n",
              "      <td>unknow</td>\n",
              "      <td>2016-03-17 00:00:00</td>\n",
              "      <td>27472</td>\n",
              "      <td>2016-03-31 17:17:06</td>\n",
              "    </tr>\n",
              "    <tr>\n",
              "      <th>10</th>\n",
              "      <td>2016-03-26 19:54:18</td>\n",
              "      <td>2000</td>\n",
              "      <td>sedan</td>\n",
              "      <td>2004</td>\n",
              "      <td>manual</td>\n",
              "      <td>105</td>\n",
              "      <td>3_reihe</td>\n",
              "      <td>150000</td>\n",
              "      <td>12</td>\n",
              "      <td>petrol</td>\n",
              "      <td>mazda</td>\n",
              "      <td>no</td>\n",
              "      <td>2016-03-26 00:00:00</td>\n",
              "      <td>96224</td>\n",
              "      <td>2016-04-06 10:45:34</td>\n",
              "    </tr>\n",
              "    <tr>\n",
              "      <th>11</th>\n",
              "      <td>2016-04-07 10:06:22</td>\n",
              "      <td>2799</td>\n",
              "      <td>wagon</td>\n",
              "      <td>2005</td>\n",
              "      <td>manual</td>\n",
              "      <td>140</td>\n",
              "      <td>passat</td>\n",
              "      <td>150000</td>\n",
              "      <td>12</td>\n",
              "      <td>gasoline</td>\n",
              "      <td>volkswagen</td>\n",
              "      <td>yes</td>\n",
              "      <td>2016-04-07 00:00:00</td>\n",
              "      <td>57290</td>\n",
              "      <td>2016-04-07 10:25:17</td>\n",
              "    </tr>\n",
              "    <tr>\n",
              "      <th>12</th>\n",
              "      <td>2016-03-15 22:49:09</td>\n",
              "      <td>999</td>\n",
              "      <td>wagon</td>\n",
              "      <td>1995</td>\n",
              "      <td>manual</td>\n",
              "      <td>115</td>\n",
              "      <td>passat</td>\n",
              "      <td>150000</td>\n",
              "      <td>11</td>\n",
              "      <td>petrol</td>\n",
              "      <td>volkswagen</td>\n",
              "      <td>unknow</td>\n",
              "      <td>2016-03-15 00:00:00</td>\n",
              "      <td>37269</td>\n",
              "      <td>2016-04-01 13:16:16</td>\n",
              "    </tr>\n",
              "  </tbody>\n",
              "</table>\n",
              "</div>"
            ],
            "text/plain": [
              "            DateCrawled  Price  VehicleType  RegistrationYear Gearbox  Power  \\\n",
              "2   2016-03-14 12:52:21   9800          suv              2004    auto    163   \n",
              "3   2016-03-17 16:54:04   1500        small              2001  manual     75   \n",
              "4   2016-03-31 17:25:20   3600        small              2008  manual     69   \n",
              "5   2016-04-04 17:36:23    650        sedan              1995  manual    102   \n",
              "6   2016-04-01 20:48:51   2200  convertible              2004  manual    109   \n",
              "8   2016-04-04 23:42:13  14500          bus              2014  manual    125   \n",
              "9   2016-03-17 10:53:50    999        small              1998  manual    101   \n",
              "10  2016-03-26 19:54:18   2000        sedan              2004  manual    105   \n",
              "11  2016-04-07 10:06:22   2799        wagon              2005  manual    140   \n",
              "12  2016-03-15 22:49:09    999        wagon              1995  manual    115   \n",
              "\n",
              "      Model  Kilometer  RegistrationMonth  FuelType       Brand Repaired  \\\n",
              "2     grand     125000                  8  gasoline        jeep   unknow   \n",
              "3      golf     150000                  6    petrol  volkswagen       no   \n",
              "4     fabia      90000                  7  gasoline       skoda       no   \n",
              "5       3er     150000                 10    petrol         bmw      yes   \n",
              "6   2_reihe     150000                  8    petrol     peugeot       no   \n",
              "8     c_max      30000                  8    petrol        ford   unknow   \n",
              "9      golf     150000                  6     other  volkswagen   unknow   \n",
              "10  3_reihe     150000                 12    petrol       mazda       no   \n",
              "11   passat     150000                 12  gasoline  volkswagen      yes   \n",
              "12   passat     150000                 11    petrol  volkswagen   unknow   \n",
              "\n",
              "            DateCreated  PostalCode             LastSeen  \n",
              "2   2016-03-14 00:00:00       90480  2016-04-05 12:47:46  \n",
              "3   2016-03-17 00:00:00       91074  2016-03-17 17:40:17  \n",
              "4   2016-03-31 00:00:00       60437  2016-04-06 10:17:21  \n",
              "5   2016-04-04 00:00:00       33775  2016-04-06 19:17:07  \n",
              "6   2016-04-01 00:00:00       67112  2016-04-05 18:18:39  \n",
              "8   2016-04-04 00:00:00       94505  2016-04-04 23:42:13  \n",
              "9   2016-03-17 00:00:00       27472  2016-03-31 17:17:06  \n",
              "10  2016-03-26 00:00:00       96224  2016-04-06 10:45:34  \n",
              "11  2016-04-07 00:00:00       57290  2016-04-07 10:25:17  \n",
              "12  2016-03-15 00:00:00       37269  2016-04-01 13:16:16  "
            ]
          },
          "execution_count": 49,
          "metadata": {},
          "output_type": "execute_result"
        }
      ],
      "source": [
        "df.head(10)"
      ]
    },
    {
      "cell_type": "code",
      "execution_count": null,
      "metadata": {
        "scrolled": false,
        "id": "kbbEZVteH48e",
        "outputId": "02fdf2a9-7460-4a99-a8e6-f31b93d2ff97"
      },
      "outputs": [
        {
          "name": "stdout",
          "output_type": "stream",
          "text": [
            "<class 'pandas.core.frame.DataFrame'>\n",
            "Int64Index: 274017 entries, 2 to 354368\n",
            "Data columns (total 11 columns):\n",
            " #   Column            Non-Null Count   Dtype \n",
            "---  ------            --------------   ----- \n",
            " 0   Price             274017 non-null  int64 \n",
            " 1   VehicleType       274017 non-null  object\n",
            " 2   RegistrationYear  274017 non-null  int64 \n",
            " 3   Gearbox           274017 non-null  object\n",
            " 4   Power             274017 non-null  int64 \n",
            " 5   Model             274017 non-null  object\n",
            " 6   Kilometer         274017 non-null  int64 \n",
            " 7   FuelType          274017 non-null  object\n",
            " 8   Brand             274017 non-null  object\n",
            " 9   Repaired          274017 non-null  object\n",
            " 10  PostalCode        274017 non-null  int64 \n",
            "dtypes: int64(5), object(6)\n",
            "memory usage: 25.1+ MB\n"
          ]
        }
      ],
      "source": [
        "#удаление признаков не влияющих на дальнейшую работу\n",
        "df = df.drop(columns=['DateCrawled', 'RegistrationMonth', 'DateCreated', 'LastSeen'], axis=1)\n",
        "df.info()"
      ]
    },
    {
      "cell_type": "code",
      "execution_count": null,
      "metadata": {
        "id": "2PaVeLjnH48g",
        "outputId": "081f8d31-51a2-4cbe-a9ad-5e3ef5b94568"
      },
      "outputs": [
        {
          "data": {
            "text/plain": [
              "<Figure size 800x640 with 0 Axes>"
            ]
          },
          "metadata": {},
          "output_type": "display_data"
        },
        {
          "data": {
            "image/png": "[encoded data removed]",
            "text/plain": [
              "<Figure size 787.625x720 with 20 Axes>"
            ]
          },
          "metadata": {
            "needs_background": "light"
          },
          "output_type": "display_data"
        }
      ],
      "source": [
        "#строю график зависимости\n",
        "plt.figure(figsize=(10,8), dpi= 80)\n",
        "sns.pairplot(df, kind=\"scatter\", hue=\"Price\", palette = \"husl\")\n",
        "plt.suptitle(\"Графики зависимости целевого признака от количественных признаков\", y=1.05, fontsize=15)\n",
        "plt.show()"
      ]
    },
    {
      "cell_type": "markdown",
      "metadata": {
        "id": "QqvwRCkoH48l"
      },
      "source": [
        "По графику видно, что зависимость есть"
      ]
    },
    {
      "cell_type": "code",
      "execution_count": null,
      "metadata": {
        "id": "p7tQqVbnH48q",
        "outputId": "19c1678d-2e4b-4a13-a059-641c3ab30d28"
      },
      "outputs": [
        {
          "data": {
            "text/plain": [
              "[Text(0.5, 1.0, 'Распределение признака Power'),\n",
              " Text(0.5, 0, 'Значение признака'),\n",
              " Text(0, 0.5, 'Power')]"
            ]
          },
          "execution_count": 52,
          "metadata": {},
          "output_type": "execute_result"
        },
        {
          "data": {
            "image/png": "[encoded data removed]",
            "text/plain": [
              "<Figure size 1584x576 with 2 Axes>"
            ]
          },
          "metadata": {
            "needs_background": "light"
          },
          "output_type": "display_data"
        }
      ],
      "source": [
        "df.reset_index(inplace=True)\n",
        "\n",
        "fig, axs = plt.subplots(ncols=2,figsize=(22, 8))\n",
        "sns.set(font_scale=1.15)\n",
        "\n",
        "gr1 = sns.distplot(df[\"Power\"], kde=True, ax=axs[0])\n",
        "gr2 = sns.boxplot(df[\"Power\"], orient='h', ax=axs[1])\n",
        "\n",
        "gr1.set(title=f'Распределение признака {\"Power\"}', xlabel=f'{\"Power\"}', ylabel='Количество объектов')\n",
        "gr2.set(title=f'Распределение признака {\"Power\"}', xlabel='Значение признака', ylabel=f'{\"Power\"}')"
      ]
    },
    {
      "cell_type": "markdown",
      "metadata": {
        "id": "qob0mb57H48u"
      },
      "source": [
        "### Выводы"
      ]
    },
    {
      "cell_type": "markdown",
      "metadata": {
        "id": "N5VRY8XmH48v"
      },
      "source": [
        "В данном разделе были изучены данные и произведена их подготовка:\n",
        "- обнаружены и удалены дубликаты\n",
        "- удалены нулевые значения из целевого признака\n",
        "- изучены и удалены аномальные значения в столбцах\n",
        "- в категориальных признаках поставлена заглушка вместо пропусков, для сохранения данных\n",
        "- удалены стобцы, не влияющие на дальнейшее исследование\n"
      ]
    },
    {
      "cell_type": "markdown",
      "metadata": {
        "id": "9r5aETd1H481"
      },
      "source": [
        "## Обучение моделей"
      ]
    },
    {
      "cell_type": "markdown",
      "metadata": {
        "id": "HW06FIOJH483"
      },
      "source": [
        "### Разделение на выборки и кодирование"
      ]
    },
    {
      "cell_type": "code",
      "execution_count": null,
      "metadata": {
        "id": "JzYf3DUPH489"
      },
      "outputs": [],
      "source": [
        "features = df.drop(['Price'], axis=1)\n",
        "target = df['Price']\n",
        "\n",
        "features.reset_index(drop=True, inplace=True)\n",
        "target.reset_index(drop=True, inplace=True)\n",
        "\n",
        "X_train, X_test, y_train, y_test = train_test_split(\n",
        "    features, target, test_size=0.25, random_state=12345)\n"
      ]
    },
    {
      "cell_type": "code",
      "execution_count": null,
      "metadata": {
        "id": "eJDVW13EH48-"
      },
      "outputs": [],
      "source": [
        "numeric = ['RegistrationYear', 'Power','Kilometer','PostalCode']\n",
        "categorical = ['VehicleType', 'Gearbox','Model','FuelType', 'Brand', 'Repaired']\n",
        "\n",
        "col_transformer = ColumnTransformer(\n",
        "                            transformers=[\n",
        "                                ('scaler', StandardScaler(), numeric),\n",
        "                                ('ohe', OneHotEncoder(sparse=False, handle_unknown='ignore'), categorical)],)\n",
        "\n",
        "X_train = col_transformer.fit_transform(X_train)\n",
        "X_test = col_transformer.transform(X_test)"
      ]
    },
    {
      "cell_type": "markdown",
      "metadata": {
        "id": "QNp38qnOH49F"
      },
      "source": [
        "### DecisionTreeRegressor"
      ]
    },
    {
      "cell_type": "code",
      "execution_count": null,
      "metadata": {
        "id": "hGWGq7FgH49L"
      },
      "outputs": [],
      "source": [
        "def metrics(model):\n",
        "    results = model.cv_results_\n",
        "    best_index = model.best_index_\n",
        "\n",
        "    fit_time = results['mean_fit_time'][best_index]\n",
        "    score_time = results['mean_score_time'][best_index]\n",
        "    RMSE = abs(model.best_score_)\n",
        "\n",
        "    print(f\"Fit time: {fit_time:.5f}, Predict time: {score_time:.5f}, Best RMSE: {RMSE:.5f}\")"
      ]
    },
    {
      "cell_type": "code",
      "execution_count": null,
      "metadata": {
        "id": "3lJm0dfvH49M",
        "outputId": "40722c2c-b4e4-489f-f841-7b4613d23223"
      },
      "outputs": [
        {
          "name": "stdout",
          "output_type": "stream",
          "text": [
            "Лучшие параметры: {'max_depth': 15, 'min_samples_leaf': 2, 'min_samples_split': 2}\n",
            "Fit time: 5.08981, Predict time: 0.06828, Best RMSE: 1557.28781\n"
          ]
        }
      ],
      "source": [
        "model_tree = DecisionTreeRegressor(random_state=42)\n",
        "parameters = {'max_depth':range(12, 20),\n",
        "              'min_samples_split': range(2, 4),\n",
        "              'min_samples_leaf': range(1, 3)}\n",
        "\n",
        "gs_tree = GridSearchCV(model_tree, parameters, cv=3, scoring='neg_root_mean_squared_error', n_jobs = -1)\n",
        "gs_tree.fit(X_train, y_train)\n",
        "\n",
        "best_tree_params = gs_tree.best_params_\n",
        "\n",
        "print('Лучшие параметры:',best_tree_params)\n",
        "metrics(gs_tree)"
      ]
    },
    {
      "cell_type": "markdown",
      "metadata": {
        "id": "LAaWPEmWH49W"
      },
      "source": [
        "### RandomForestRegressor"
      ]
    },
    {
      "cell_type": "code",
      "execution_count": null,
      "metadata": {
        "id": "CGTKC5r8H49Y",
        "outputId": "9ba29cd4-7b17-489b-9b8d-6959b84f320c"
      },
      "outputs": [
        {
          "name": "stdout",
          "output_type": "stream",
          "text": [
            "Лучшие параметры: {'max_depth': 40, 'n_estimators': 8}\n",
            "Fit time: 28.85402, Predict time: 0.37197, Best RMSE: 1394.99563\n"
          ]
        }
      ],
      "source": [
        "model_forest = RandomForestRegressor(random_state=42)\n",
        "parameter = {'max_depth':range(10, 100, 30),\n",
        "              'n_estimators': range(2,10,2)}\n",
        "\n",
        "gs_forest = GridSearchCV(model_forest, parameter, cv=3, scoring='neg_root_mean_squared_error', n_jobs = -1)\n",
        "gs_forest.fit(X_train, y_train)\n",
        "\n",
        "best_forest_params = gs_forest.best_params_\n",
        "\n",
        "print('Лучшие параметры:',best_forest_params)\n",
        "metrics(gs_forest)"
      ]
    },
    {
      "cell_type": "markdown",
      "metadata": {
        "id": "DiRCSkyNH49f"
      },
      "source": [
        "### LightGBM"
      ]
    },
    {
      "cell_type": "code",
      "execution_count": null,
      "metadata": {
        "id": "1u5geqqaH49g",
        "outputId": "3245f2a9-c9a8-4183-ee5e-d10133f537af"
      },
      "outputs": [
        {
          "name": "stdout",
          "output_type": "stream",
          "text": [
            "Лучшие параметры: {'learning_rate': 0.1, 'num_leaves': 1000}\n",
            "Fit time: 74.45752, Predict time: 3.01468, Best RMSE: 1290.54325\n"
          ]
        }
      ],
      "source": [
        "model_lgbm = LGBMRegressor(random_state=42)\n",
        "param = {'num_leaves':[30, 50, 100, 1000], 'learning_rate':[.1, .3, .5]}\n",
        "\n",
        "gs = GridSearchCV(model_lgbm, param, cv=3, scoring='neg_root_mean_squared_error', n_jobs = -1)\n",
        "gs.fit(X_train, y_train)\n",
        "\n",
        "best_lgbm_params = gs.best_params_\n",
        "\n",
        "print('Лучшие параметры:',best_lgbm_params)\n",
        "metrics(gs)"
      ]
    },
    {
      "cell_type": "markdown",
      "metadata": {
        "id": "XMh5tFqtH495"
      },
      "source": [
        "### Выводы"
      ]
    },
    {
      "cell_type": "markdown",
      "metadata": {
        "id": "4HaRNXVfH496"
      },
      "source": [
        "- Данные были разделены и закодированы.\n",
        "Были рассмотрены модели:\n",
        "- DecisionTreeRegressor(Качество модели: 1557.28781, Время обучения: 5.36905, Время предсказания: 0.05326)\n",
        "- RandomForestRegressor(Качество модели: 1394.99563, Время обучения: 29.09109, Время предсказания: 0.34697)\n",
        "- LGBMRegressor(Качество модели: 1290.54325, Время обучения: 74.45752, Время предсказания: 3.01468)"
      ]
    },
    {
      "cell_type": "markdown",
      "metadata": {
        "id": "R87NP2ULH49-"
      },
      "source": [
        "## Анализ моделей"
      ]
    },
    {
      "cell_type": "markdown",
      "metadata": {
        "id": "SamchJZIH49_"
      },
      "source": [
        "Для наглядности я создам таблицу, в которой будет отображено качество модели, время обучения и время предсказания для каждой модели"
      ]
    },
    {
      "cell_type": "code",
      "execution_count": null,
      "metadata": {
        "id": "rk7zzIn2H4-A",
        "outputId": "d4b20fb0-0f15-408f-d8e3-9b6a87f39345"
      },
      "outputs": [
        {
          "name": "stdout",
          "output_type": "stream",
          "text": [
            "╒═══════════════════════╤═══════════════════╤══════════════════╤══════════════════════╕\n",
            "│ Модель                │   Качество модели │   Время обучения │   Время предсказания │\n",
            "╞═══════════════════════╪═══════════════════╪══════════════════╪══════════════════════╡\n",
            "│ DecisionTreeRegressor │           1557.29 │          5.36905 │              0.05326 │\n",
            "├───────────────────────┼───────────────────┼──────────────────┼──────────────────────┤\n",
            "│ RandomForestRegressor │           1395    │         29.0911  │              0.34697 │\n",
            "├───────────────────────┼───────────────────┼──────────────────┼──────────────────────┤\n",
            "│ LGBMRegressor         │           1290.54 │         74.4575  │              3.01468 │\n",
            "╘═══════════════════════╧═══════════════════╧══════════════════╧══════════════════════╛\n"
          ]
        }
      ],
      "source": [
        "data = [[\"DecisionTreeRegressor\", 1557.28781, 5.36905, 0.05326],\n",
        "        [\"RandomForestRegressor\", 1394.99563, 29.09109, 0.34697],\n",
        "        [\"LGBMRegressor\", 1290.54325, 74.45752, 3.01468]]\n",
        "\n",
        "col_names = [\"Модель\", \"Качество модели\", \"Время обучения\", \"Время предсказания\"]\n",
        "\n",
        "print(tabulate(data, headers=col_names, tablefmt=\"fancy_grid\"))"
      ]
    },
    {
      "cell_type": "markdown",
      "metadata": {
        "id": "MLSHB8uWH4-C"
      },
      "source": [
        "Так как в данном проекте, важно не только качество модели, но и время на обучение и предсказание, то я буду отталкиваться от максимально допустимого качества >2500. Все модели подходят по параметру качества, но быстрее всего это делает DecisionTreeRegressor. Но у самой быстрой модели качество похуже, чем у RandomForestRegressor. Я думаю что раз разница во времени не такая большая, а качество лучше, то для теста я выбираю модель случайного леса."
      ]
    },
    {
      "cell_type": "code",
      "execution_count": null,
      "metadata": {
        "id": "wUtOyzeQH4-D",
        "outputId": "96d9cc70-945f-4a83-928c-be65c1ec0e83"
      },
      "outputs": [
        {
          "name": "stdout",
          "output_type": "stream",
          "text": [
            "RMSE:1356.98507\n"
          ]
        }
      ],
      "source": [
        "model_f = RandomForestRegressor(max_depth = 40, n_estimators = 8, random_state=42)\n",
        "\n",
        "model_f.fit(X_train, y_train)\n",
        "\n",
        "model_pr = model_f.predict(X_test)\n",
        "\n",
        "rsme_f = mean_squared_error(y_test, model_pr) ** .5\n",
        "\n",
        "print(f\"RMSE:{rsme_f:.5f}\")"
      ]
    },
    {
      "cell_type": "markdown",
      "metadata": {
        "id": "z_Q5UnkOH4-H"
      },
      "source": [
        "### Выводы\n",
        "\n",
        "Исходя из условий задания, была выбрана лучшая модель не только по качеству, но и по времени на обучение и предсказания. Лучшая модель была проверена на тестовых данных и дала хороший результат"
      ]
    },
    {
      "cell_type": "markdown",
      "metadata": {
        "id": "F4z204d7H4-I"
      },
      "source": [
        "## Выводы"
      ]
    },
    {
      "cell_type": "markdown",
      "metadata": {
        "id": "gVjZhUeWH4-K"
      },
      "source": [
        "- Задача была построить модель для определения стоимости автомобиля, с лушими показателями качества , скорости предсказания и врмени обучения\n",
        "\n",
        "- В ходе работы были обнаружены и удалены дубликаты, удалены нулевые значения из целевого признака, изучены и удалены аномальные значения в столбцах,в категориальных признаках поставлена заглушка вместо пропусков, для сохранения данных, удалены стобцы, не влияющие на дальнейшее исследование\n",
        "\n",
        "- Были рассмотрены модели: DecisionTreeRegressor, RandomForestRegressor и LGBMRegressor.\n",
        "\n",
        "- Проанализировав показатели выбранных моделей, я пришла к выводу, что моделью с допустимым качеством и самой быстрой скоростью лбучения и предсказания, является модель DecisionTreeRegressor, но rsme RandomForestRegressor было в 2 раза ниже, это значительная разница и поэтому в качестве лучшей модели я выбрала случайный лес.  Проверка на тестовых данных дала хороший результат"
      ]
    }
  ],
  "metadata": {
    "ExecuteTimeLog": [
      {
        "duration": 401,
        "start_time": "2023-02-26T19:06:13.678Z"
      },
      {
        "duration": 3335,
        "start_time": "2023-02-26T19:07:35.139Z"
      },
      {
        "duration": 183,
        "start_time": "2023-02-26T19:07:54.721Z"
      },
      {
        "duration": 30,
        "start_time": "2023-02-26T19:08:41.551Z"
      },
      {
        "duration": 221,
        "start_time": "2023-02-26T19:09:32.051Z"
      },
      {
        "duration": 252,
        "start_time": "2023-02-26T19:11:07.975Z"
      },
      {
        "duration": 236,
        "start_time": "2023-02-26T19:11:15.093Z"
      },
      {
        "duration": 422,
        "start_time": "2023-02-28T11:27:56.883Z"
      },
      {
        "duration": 2872,
        "start_time": "2023-02-28T11:27:57.805Z"
      },
      {
        "duration": 135,
        "start_time": "2023-02-28T11:28:00.680Z"
      },
      {
        "duration": 35,
        "start_time": "2023-02-28T11:28:00.818Z"
      },
      {
        "duration": 122,
        "start_time": "2023-02-28T11:28:00.855Z"
      },
      {
        "duration": 488,
        "start_time": "2023-02-28T11:28:53.453Z"
      },
      {
        "duration": 855,
        "start_time": "2023-02-28T14:08:02.006Z"
      },
      {
        "duration": 1194,
        "start_time": "2023-02-28T14:08:02.863Z"
      },
      {
        "duration": 118,
        "start_time": "2023-02-28T14:08:04.059Z"
      },
      {
        "duration": 19,
        "start_time": "2023-02-28T14:08:04.255Z"
      },
      {
        "duration": 104,
        "start_time": "2023-02-28T14:08:05.043Z"
      },
      {
        "duration": 491,
        "start_time": "2023-02-28T14:08:05.722Z"
      },
      {
        "duration": 981,
        "start_time": "2023-02-28T14:12:01.764Z"
      },
      {
        "duration": 1025,
        "start_time": "2023-02-28T14:44:06.805Z"
      },
      {
        "duration": 597,
        "start_time": "2023-03-05T21:12:31.170Z"
      },
      {
        "duration": 1819,
        "start_time": "2023-03-05T21:12:32.449Z"
      },
      {
        "duration": 198,
        "start_time": "2023-03-05T21:12:34.270Z"
      },
      {
        "duration": 21,
        "start_time": "2023-03-05T21:12:34.947Z"
      },
      {
        "duration": 185,
        "start_time": "2023-03-05T21:12:36.548Z"
      },
      {
        "duration": 568,
        "start_time": "2023-03-05T21:12:37.810Z"
      },
      {
        "duration": 1123,
        "start_time": "2023-03-05T21:12:42.221Z"
      },
      {
        "duration": 7,
        "start_time": "2023-03-05T21:18:17.157Z"
      },
      {
        "duration": 169,
        "start_time": "2023-03-05T21:19:47.677Z"
      },
      {
        "duration": 188,
        "start_time": "2023-03-05T21:20:37.110Z"
      },
      {
        "duration": 1843,
        "start_time": "2023-03-05T21:22:08.820Z"
      },
      {
        "duration": 0,
        "start_time": "2023-03-05T21:22:10.664Z"
      },
      {
        "duration": 551,
        "start_time": "2023-03-05T21:22:24.009Z"
      },
      {
        "duration": 1106,
        "start_time": "2023-03-05T21:22:25.422Z"
      },
      {
        "duration": 1629,
        "start_time": "2023-03-05T21:22:27.336Z"
      },
      {
        "duration": 10,
        "start_time": "2023-03-05T21:22:30.870Z"
      },
      {
        "duration": 418,
        "start_time": "2023-03-05T21:22:58.996Z"
      },
      {
        "duration": 1217,
        "start_time": "2023-03-05T21:22:59.419Z"
      },
      {
        "duration": 144,
        "start_time": "2023-03-05T21:23:00.638Z"
      },
      {
        "duration": 23,
        "start_time": "2023-03-05T21:23:00.784Z"
      },
      {
        "duration": 229,
        "start_time": "2023-03-05T21:23:00.809Z"
      },
      {
        "duration": 492,
        "start_time": "2023-03-05T21:23:01.039Z"
      },
      {
        "duration": 998,
        "start_time": "2023-03-05T21:23:01.532Z"
      },
      {
        "duration": 6,
        "start_time": "2023-03-05T21:23:02.532Z"
      },
      {
        "duration": 217,
        "start_time": "2023-03-05T21:23:02.539Z"
      },
      {
        "duration": 6,
        "start_time": "2023-03-05T21:26:03.267Z"
      },
      {
        "duration": 70,
        "start_time": "2023-03-05T21:27:48.656Z"
      },
      {
        "duration": 10,
        "start_time": "2023-03-05T21:28:37.462Z"
      },
      {
        "duration": 14,
        "start_time": "2023-03-05T21:28:45.313Z"
      },
      {
        "duration": 4,
        "start_time": "2023-03-05T21:30:10.654Z"
      },
      {
        "duration": 23,
        "start_time": "2023-03-05T21:30:33.603Z"
      },
      {
        "duration": 14,
        "start_time": "2023-03-05T21:31:57.321Z"
      },
      {
        "duration": 1705,
        "start_time": "2023-03-05T21:32:18.937Z"
      },
      {
        "duration": 396,
        "start_time": "2023-03-05T21:32:36.023Z"
      },
      {
        "duration": 921,
        "start_time": "2023-03-05T21:32:36.421Z"
      },
      {
        "duration": 148,
        "start_time": "2023-03-05T21:32:37.344Z"
      },
      {
        "duration": 28,
        "start_time": "2023-03-05T21:32:37.505Z"
      },
      {
        "duration": 145,
        "start_time": "2023-03-05T21:32:37.535Z"
      },
      {
        "duration": 481,
        "start_time": "2023-03-05T21:32:37.681Z"
      },
      {
        "duration": 987,
        "start_time": "2023-03-05T21:32:38.164Z"
      },
      {
        "duration": 5,
        "start_time": "2023-03-05T21:32:39.153Z"
      },
      {
        "duration": 15,
        "start_time": "2023-03-05T21:32:39.159Z"
      },
      {
        "duration": 200,
        "start_time": "2023-03-05T21:32:39.176Z"
      },
      {
        "duration": 20,
        "start_time": "2023-03-05T21:32:39.377Z"
      },
      {
        "duration": 20,
        "start_time": "2023-03-05T21:35:13.289Z"
      },
      {
        "duration": 60,
        "start_time": "2023-03-05T21:38:44.323Z"
      },
      {
        "duration": 919,
        "start_time": "2023-03-05T21:39:12.417Z"
      },
      {
        "duration": 509952,
        "start_time": "2023-03-05T21:39:21.362Z"
      },
      {
        "duration": 4,
        "start_time": "2023-03-05T21:47:51.317Z"
      },
      {
        "duration": 1050,
        "start_time": "2023-03-06T06:24:59.359Z"
      },
      {
        "duration": 812,
        "start_time": "2023-03-06T06:25:00.411Z"
      },
      {
        "duration": 121,
        "start_time": "2023-03-06T06:25:01.224Z"
      },
      {
        "duration": 16,
        "start_time": "2023-03-06T06:25:01.347Z"
      },
      {
        "duration": 140,
        "start_time": "2023-03-06T06:25:01.364Z"
      },
      {
        "duration": 455,
        "start_time": "2023-03-06T06:25:01.505Z"
      },
      {
        "duration": 1075,
        "start_time": "2023-03-06T06:26:52.604Z"
      },
      {
        "duration": 758,
        "start_time": "2023-03-06T06:26:53.681Z"
      },
      {
        "duration": 127,
        "start_time": "2023-03-06T06:26:54.441Z"
      },
      {
        "duration": 23,
        "start_time": "2023-03-06T06:26:54.570Z"
      },
      {
        "duration": 122,
        "start_time": "2023-03-06T06:26:54.594Z"
      },
      {
        "duration": 436,
        "start_time": "2023-03-06T06:26:54.718Z"
      },
      {
        "duration": 916,
        "start_time": "2023-03-06T06:26:55.155Z"
      },
      {
        "duration": 7,
        "start_time": "2023-03-06T06:26:56.072Z"
      },
      {
        "duration": 185,
        "start_time": "2023-03-06T06:26:56.080Z"
      },
      {
        "duration": 9,
        "start_time": "2023-03-06T06:26:56.267Z"
      },
      {
        "duration": 92,
        "start_time": "2023-03-06T06:34:03.198Z"
      },
      {
        "duration": 271,
        "start_time": "2023-03-06T06:34:30.770Z"
      },
      {
        "duration": 274,
        "start_time": "2023-03-06T06:34:50.254Z"
      },
      {
        "duration": 326,
        "start_time": "2023-03-06T06:36:02.096Z"
      },
      {
        "duration": 12,
        "start_time": "2023-03-06T06:38:10.415Z"
      },
      {
        "duration": 415,
        "start_time": "2023-03-06T06:38:33.657Z"
      },
      {
        "duration": 149,
        "start_time": "2023-03-06T06:42:06.079Z"
      },
      {
        "duration": 126,
        "start_time": "2023-03-06T06:42:52.969Z"
      },
      {
        "duration": 157,
        "start_time": "2023-03-06T06:44:05.398Z"
      },
      {
        "duration": 248,
        "start_time": "2023-03-06T06:45:38.308Z"
      },
      {
        "duration": 17,
        "start_time": "2023-03-06T06:47:01.998Z"
      },
      {
        "duration": 9,
        "start_time": "2023-03-06T06:48:39.810Z"
      },
      {
        "duration": 1044,
        "start_time": "2023-03-06T06:49:08.642Z"
      },
      {
        "duration": 748,
        "start_time": "2023-03-06T06:49:09.688Z"
      },
      {
        "duration": 129,
        "start_time": "2023-03-06T06:49:10.437Z"
      },
      {
        "duration": 24,
        "start_time": "2023-03-06T06:49:10.568Z"
      },
      {
        "duration": 123,
        "start_time": "2023-03-06T06:49:10.593Z"
      },
      {
        "duration": 426,
        "start_time": "2023-03-06T06:49:10.717Z"
      },
      {
        "duration": 858,
        "start_time": "2023-03-06T06:49:11.145Z"
      },
      {
        "duration": 8,
        "start_time": "2023-03-06T06:49:12.005Z"
      },
      {
        "duration": 177,
        "start_time": "2023-03-06T06:49:12.014Z"
      },
      {
        "duration": 8,
        "start_time": "2023-03-06T06:49:12.193Z"
      },
      {
        "duration": 15,
        "start_time": "2023-03-06T06:49:12.203Z"
      },
      {
        "duration": 286,
        "start_time": "2023-03-06T06:49:12.219Z"
      },
      {
        "duration": 171,
        "start_time": "2023-03-06T06:49:12.506Z"
      },
      {
        "duration": 14,
        "start_time": "2023-03-06T07:34:05.287Z"
      },
      {
        "duration": 13,
        "start_time": "2023-03-06T07:38:53.403Z"
      },
      {
        "duration": 58,
        "start_time": "2023-03-06T07:39:54.370Z"
      },
      {
        "duration": 97,
        "start_time": "2023-03-06T07:41:42.987Z"
      },
      {
        "duration": 81,
        "start_time": "2023-03-06T07:43:20.575Z"
      },
      {
        "duration": 80,
        "start_time": "2023-03-06T07:43:39.572Z"
      },
      {
        "duration": 14,
        "start_time": "2023-03-06T07:44:07.714Z"
      },
      {
        "duration": 6,
        "start_time": "2023-03-06T07:44:21.250Z"
      },
      {
        "duration": 10,
        "start_time": "2023-03-06T07:44:35.945Z"
      },
      {
        "duration": 4,
        "start_time": "2023-03-06T07:44:46.153Z"
      },
      {
        "duration": 10,
        "start_time": "2023-03-06T07:45:02.020Z"
      },
      {
        "duration": 4,
        "start_time": "2023-03-06T07:46:29.807Z"
      },
      {
        "duration": 5,
        "start_time": "2023-03-06T07:47:05.391Z"
      },
      {
        "duration": 11,
        "start_time": "2023-03-06T07:47:06.491Z"
      },
      {
        "duration": 1210,
        "start_time": "2023-03-06T07:48:02.106Z"
      },
      {
        "duration": 794,
        "start_time": "2023-03-06T07:48:03.318Z"
      },
      {
        "duration": 138,
        "start_time": "2023-03-06T07:48:04.113Z"
      },
      {
        "duration": 16,
        "start_time": "2023-03-06T07:48:04.253Z"
      },
      {
        "duration": 135,
        "start_time": "2023-03-06T07:48:04.270Z"
      },
      {
        "duration": 485,
        "start_time": "2023-03-06T07:48:04.407Z"
      },
      {
        "duration": 948,
        "start_time": "2023-03-06T07:48:04.894Z"
      },
      {
        "duration": 9,
        "start_time": "2023-03-06T07:48:05.844Z"
      },
      {
        "duration": 186,
        "start_time": "2023-03-06T07:48:05.854Z"
      },
      {
        "duration": 9,
        "start_time": "2023-03-06T07:48:06.043Z"
      },
      {
        "duration": 21,
        "start_time": "2023-03-06T07:48:06.053Z"
      },
      {
        "duration": 347,
        "start_time": "2023-03-06T07:48:06.076Z"
      },
      {
        "duration": 199,
        "start_time": "2023-03-06T07:48:06.426Z"
      },
      {
        "duration": 11,
        "start_time": "2023-03-06T07:48:06.627Z"
      },
      {
        "duration": 24,
        "start_time": "2023-03-06T07:48:06.640Z"
      },
      {
        "duration": 25,
        "start_time": "2023-03-06T07:48:06.666Z"
      },
      {
        "duration": 10,
        "start_time": "2023-03-06T07:48:06.693Z"
      },
      {
        "duration": 5,
        "start_time": "2023-03-06T07:50:00.851Z"
      },
      {
        "duration": 14,
        "start_time": "2023-03-06T07:50:05.935Z"
      },
      {
        "duration": 95,
        "start_time": "2023-03-06T07:50:37.533Z"
      },
      {
        "duration": 7,
        "start_time": "2023-03-06T07:50:48.384Z"
      },
      {
        "duration": 5,
        "start_time": "2023-03-06T07:50:49.615Z"
      },
      {
        "duration": 9,
        "start_time": "2023-03-06T07:50:50.783Z"
      },
      {
        "duration": 104,
        "start_time": "2023-03-06T07:51:03.346Z"
      },
      {
        "duration": 2203,
        "start_time": "2023-03-06T07:51:10.416Z"
      },
      {
        "duration": 1201,
        "start_time": "2023-03-06T07:51:31.469Z"
      },
      {
        "duration": 814,
        "start_time": "2023-03-06T07:51:32.672Z"
      },
      {
        "duration": 135,
        "start_time": "2023-03-06T07:51:33.487Z"
      },
      {
        "duration": 16,
        "start_time": "2023-03-06T07:51:33.624Z"
      },
      {
        "duration": 135,
        "start_time": "2023-03-06T07:51:33.641Z"
      },
      {
        "duration": 451,
        "start_time": "2023-03-06T07:51:33.777Z"
      },
      {
        "duration": 951,
        "start_time": "2023-03-06T07:51:34.229Z"
      },
      {
        "duration": 11,
        "start_time": "2023-03-06T07:51:35.181Z"
      },
      {
        "duration": 197,
        "start_time": "2023-03-06T07:51:35.194Z"
      },
      {
        "duration": 10,
        "start_time": "2023-03-06T07:51:35.395Z"
      },
      {
        "duration": 19,
        "start_time": "2023-03-06T07:51:35.407Z"
      },
      {
        "duration": 343,
        "start_time": "2023-03-06T07:51:35.428Z"
      },
      {
        "duration": 197,
        "start_time": "2023-03-06T07:51:35.772Z"
      },
      {
        "duration": 24,
        "start_time": "2023-03-06T07:51:35.970Z"
      },
      {
        "duration": 55,
        "start_time": "2023-03-06T07:51:35.995Z"
      },
      {
        "duration": 121,
        "start_time": "2023-03-06T07:51:36.052Z"
      },
      {
        "duration": 9,
        "start_time": "2023-03-06T08:07:37.854Z"
      },
      {
        "duration": 284,
        "start_time": "2023-03-06T08:08:26.485Z"
      },
      {
        "duration": 222,
        "start_time": "2023-03-06T08:09:02.648Z"
      },
      {
        "duration": 226,
        "start_time": "2023-03-06T08:15:17.227Z"
      },
      {
        "duration": 201,
        "start_time": "2023-03-06T08:15:50.408Z"
      },
      {
        "duration": 207,
        "start_time": "2023-03-06T08:17:16.615Z"
      },
      {
        "duration": 388,
        "start_time": "2023-03-06T08:33:00.097Z"
      },
      {
        "duration": 12,
        "start_time": "2023-03-06T08:34:04.523Z"
      },
      {
        "duration": 50,
        "start_time": "2023-03-06T08:37:01.728Z"
      },
      {
        "duration": 97,
        "start_time": "2023-03-06T08:37:12.485Z"
      },
      {
        "duration": 82,
        "start_time": "2023-03-06T08:43:56.488Z"
      },
      {
        "duration": 5,
        "start_time": "2023-03-06T08:44:02.357Z"
      },
      {
        "duration": 36,
        "start_time": "2023-03-06T08:45:30.476Z"
      },
      {
        "duration": 19,
        "start_time": "2023-03-06T08:46:00.003Z"
      },
      {
        "duration": 8,
        "start_time": "2023-03-06T09:05:29.463Z"
      },
      {
        "duration": 15,
        "start_time": "2023-03-06T09:06:09.426Z"
      },
      {
        "duration": 279,
        "start_time": "2023-03-06T09:06:51.992Z"
      },
      {
        "duration": 159,
        "start_time": "2023-03-06T09:07:08.997Z"
      },
      {
        "duration": 1955,
        "start_time": "2023-03-06T09:10:12.100Z"
      },
      {
        "duration": 1412,
        "start_time": "2023-03-06T09:11:15.602Z"
      },
      {
        "duration": 1191,
        "start_time": "2023-03-06T09:12:29.401Z"
      },
      {
        "duration": 862,
        "start_time": "2023-03-06T09:12:30.594Z"
      },
      {
        "duration": 144,
        "start_time": "2023-03-06T09:12:31.458Z"
      },
      {
        "duration": 17,
        "start_time": "2023-03-06T09:12:31.604Z"
      },
      {
        "duration": 149,
        "start_time": "2023-03-06T09:12:31.624Z"
      },
      {
        "duration": 497,
        "start_time": "2023-03-06T09:12:31.775Z"
      },
      {
        "duration": 960,
        "start_time": "2023-03-06T09:12:32.274Z"
      },
      {
        "duration": 10,
        "start_time": "2023-03-06T09:12:33.235Z"
      },
      {
        "duration": 191,
        "start_time": "2023-03-06T09:12:33.246Z"
      },
      {
        "duration": 10,
        "start_time": "2023-03-06T09:12:33.439Z"
      },
      {
        "duration": 27,
        "start_time": "2023-03-06T09:12:33.450Z"
      },
      {
        "duration": 316,
        "start_time": "2023-03-06T09:12:33.478Z"
      },
      {
        "duration": 197,
        "start_time": "2023-03-06T09:12:33.796Z"
      },
      {
        "duration": 15,
        "start_time": "2023-03-06T09:12:33.997Z"
      },
      {
        "duration": 78,
        "start_time": "2023-03-06T09:12:34.013Z"
      },
      {
        "duration": 121,
        "start_time": "2023-03-06T09:12:34.093Z"
      },
      {
        "duration": 21,
        "start_time": "2023-03-06T09:12:34.215Z"
      },
      {
        "duration": 164,
        "start_time": "2023-03-06T09:12:34.238Z"
      },
      {
        "duration": 13,
        "start_time": "2023-03-06T09:12:34.403Z"
      },
      {
        "duration": 62,
        "start_time": "2023-03-06T09:12:34.417Z"
      },
      {
        "duration": 113,
        "start_time": "2023-03-06T09:12:34.481Z"
      },
      {
        "duration": 7,
        "start_time": "2023-03-06T09:12:34.595Z"
      },
      {
        "duration": 16,
        "start_time": "2023-03-06T09:12:34.604Z"
      },
      {
        "duration": 1704,
        "start_time": "2023-03-06T09:12:34.621Z"
      },
      {
        "duration": 11,
        "start_time": "2023-03-06T09:15:23.591Z"
      },
      {
        "duration": 10,
        "start_time": "2023-03-06T09:19:00.868Z"
      },
      {
        "duration": 287,
        "start_time": "2023-03-06T09:19:13.007Z"
      },
      {
        "duration": 58,
        "start_time": "2023-03-06T09:20:50.087Z"
      },
      {
        "duration": 28,
        "start_time": "2023-03-06T09:21:16.615Z"
      },
      {
        "duration": 105,
        "start_time": "2023-03-06T09:21:35.787Z"
      },
      {
        "duration": 23,
        "start_time": "2023-03-06T09:28:40.532Z"
      },
      {
        "duration": 19,
        "start_time": "2023-03-06T09:29:26.710Z"
      },
      {
        "duration": 22,
        "start_time": "2023-03-06T09:31:44.421Z"
      },
      {
        "duration": 12,
        "start_time": "2023-03-06T09:31:56.960Z"
      },
      {
        "duration": 154,
        "start_time": "2023-03-06T10:24:58.946Z"
      },
      {
        "duration": 25,
        "start_time": "2023-03-06T10:25:16.406Z"
      },
      {
        "duration": 13,
        "start_time": "2023-03-06T10:25:45.947Z"
      },
      {
        "duration": 9,
        "start_time": "2023-03-06T10:26:20.106Z"
      },
      {
        "duration": 19,
        "start_time": "2023-03-06T10:27:14.445Z"
      },
      {
        "duration": 1213,
        "start_time": "2023-03-06T10:27:42.807Z"
      },
      {
        "duration": 943,
        "start_time": "2023-03-06T10:27:44.022Z"
      },
      {
        "duration": 138,
        "start_time": "2023-03-06T10:27:44.967Z"
      },
      {
        "duration": 37,
        "start_time": "2023-03-06T10:27:45.107Z"
      },
      {
        "duration": 133,
        "start_time": "2023-03-06T10:27:45.150Z"
      },
      {
        "duration": 493,
        "start_time": "2023-03-06T10:27:45.285Z"
      },
      {
        "duration": 1008,
        "start_time": "2023-03-06T10:27:45.779Z"
      },
      {
        "duration": 10,
        "start_time": "2023-03-06T10:27:46.789Z"
      },
      {
        "duration": 251,
        "start_time": "2023-03-06T10:27:46.801Z"
      },
      {
        "duration": 30,
        "start_time": "2023-03-06T10:27:47.054Z"
      },
      {
        "duration": 41,
        "start_time": "2023-03-06T10:27:47.086Z"
      },
      {
        "duration": 338,
        "start_time": "2023-03-06T10:27:47.129Z"
      },
      {
        "duration": 183,
        "start_time": "2023-03-06T10:27:47.469Z"
      },
      {
        "duration": 12,
        "start_time": "2023-03-06T10:27:47.654Z"
      },
      {
        "duration": 102,
        "start_time": "2023-03-06T10:27:47.667Z"
      },
      {
        "duration": 124,
        "start_time": "2023-03-06T10:27:47.771Z"
      },
      {
        "duration": 7,
        "start_time": "2023-03-06T10:27:47.897Z"
      },
      {
        "duration": 155,
        "start_time": "2023-03-06T10:27:47.905Z"
      },
      {
        "duration": 11,
        "start_time": "2023-03-06T10:27:48.061Z"
      },
      {
        "duration": 71,
        "start_time": "2023-03-06T10:27:48.073Z"
      },
      {
        "duration": 112,
        "start_time": "2023-03-06T10:27:48.146Z"
      },
      {
        "duration": 7,
        "start_time": "2023-03-06T10:27:48.259Z"
      },
      {
        "duration": 13,
        "start_time": "2023-03-06T10:27:48.268Z"
      },
      {
        "duration": 328,
        "start_time": "2023-03-06T10:27:48.283Z"
      },
      {
        "duration": 30,
        "start_time": "2023-03-06T10:27:48.614Z"
      },
      {
        "duration": 38,
        "start_time": "2023-03-06T10:27:48.646Z"
      },
      {
        "duration": 105,
        "start_time": "2023-03-06T10:27:48.685Z"
      },
      {
        "duration": 19,
        "start_time": "2023-03-06T10:27:48.792Z"
      },
      {
        "duration": 207,
        "start_time": "2023-03-06T10:27:48.812Z"
      },
      {
        "duration": 92,
        "start_time": "2023-03-06T10:28:59.102Z"
      },
      {
        "duration": 1176,
        "start_time": "2023-03-06T10:29:10.207Z"
      },
      {
        "duration": 840,
        "start_time": "2023-03-06T10:29:11.385Z"
      },
      {
        "duration": 146,
        "start_time": "2023-03-06T10:29:12.226Z"
      },
      {
        "duration": 16,
        "start_time": "2023-03-06T10:29:12.373Z"
      },
      {
        "duration": 156,
        "start_time": "2023-03-06T10:29:12.390Z"
      },
      {
        "duration": 474,
        "start_time": "2023-03-06T10:29:12.548Z"
      },
      {
        "duration": 1025,
        "start_time": "2023-03-06T10:29:13.023Z"
      },
      {
        "duration": 10,
        "start_time": "2023-03-06T10:29:14.050Z"
      },
      {
        "duration": 187,
        "start_time": "2023-03-06T10:29:14.062Z"
      },
      {
        "duration": 10,
        "start_time": "2023-03-06T10:29:14.251Z"
      },
      {
        "duration": 17,
        "start_time": "2023-03-06T10:29:14.262Z"
      },
      {
        "duration": 324,
        "start_time": "2023-03-06T10:29:14.281Z"
      },
      {
        "duration": 200,
        "start_time": "2023-03-06T10:29:14.607Z"
      },
      {
        "duration": 13,
        "start_time": "2023-03-06T10:29:14.809Z"
      },
      {
        "duration": 59,
        "start_time": "2023-03-06T10:29:14.832Z"
      },
      {
        "duration": 129,
        "start_time": "2023-03-06T10:29:14.893Z"
      },
      {
        "duration": 20,
        "start_time": "2023-03-06T10:29:15.024Z"
      },
      {
        "duration": 139,
        "start_time": "2023-03-06T10:29:15.048Z"
      },
      {
        "duration": 11,
        "start_time": "2023-03-06T10:29:15.189Z"
      },
      {
        "duration": 68,
        "start_time": "2023-03-06T10:29:15.202Z"
      },
      {
        "duration": 112,
        "start_time": "2023-03-06T10:29:15.272Z"
      },
      {
        "duration": 7,
        "start_time": "2023-03-06T10:29:15.385Z"
      },
      {
        "duration": 15,
        "start_time": "2023-03-06T10:29:15.393Z"
      },
      {
        "duration": 348,
        "start_time": "2023-03-06T10:29:15.410Z"
      },
      {
        "duration": 11,
        "start_time": "2023-03-06T10:29:15.759Z"
      },
      {
        "duration": 37,
        "start_time": "2023-03-06T10:29:15.771Z"
      },
      {
        "duration": 123,
        "start_time": "2023-03-06T10:29:15.810Z"
      },
      {
        "duration": 17,
        "start_time": "2023-03-06T10:29:15.948Z"
      },
      {
        "duration": 135,
        "start_time": "2023-03-06T10:29:15.967Z"
      },
      {
        "duration": 137,
        "start_time": "2023-03-06T10:32:03.072Z"
      },
      {
        "duration": 12,
        "start_time": "2023-03-06T10:44:10.610Z"
      },
      {
        "duration": 33,
        "start_time": "2023-03-06T10:44:59.522Z"
      },
      {
        "duration": 103,
        "start_time": "2023-03-06T10:47:49.806Z"
      },
      {
        "duration": 104,
        "start_time": "2023-03-06T10:51:07.519Z"
      },
      {
        "duration": 12,
        "start_time": "2023-03-06T10:51:13.054Z"
      },
      {
        "duration": 110,
        "start_time": "2023-03-06T10:51:19.399Z"
      },
      {
        "duration": 1569,
        "start_time": "2023-03-06T10:55:32.553Z"
      },
      {
        "duration": 14,
        "start_time": "2023-03-06T10:55:41.956Z"
      },
      {
        "duration": 23,
        "start_time": "2023-03-06T10:56:40.811Z"
      },
      {
        "duration": 2561,
        "start_time": "2023-03-06T10:57:59.242Z"
      },
      {
        "duration": 1924,
        "start_time": "2023-03-06T10:58:03.306Z"
      },
      {
        "duration": 15,
        "start_time": "2023-03-06T10:58:05.418Z"
      },
      {
        "duration": 13,
        "start_time": "2023-03-06T10:58:25.706Z"
      },
      {
        "duration": 174,
        "start_time": "2023-03-06T11:33:28.589Z"
      },
      {
        "duration": 15,
        "start_time": "2023-03-06T11:42:29.289Z"
      },
      {
        "duration": 23,
        "start_time": "2023-03-06T11:46:50.597Z"
      },
      {
        "duration": 112,
        "start_time": "2023-03-06T11:46:54.191Z"
      },
      {
        "duration": 1164,
        "start_time": "2023-03-06T11:47:12.803Z"
      },
      {
        "duration": 820,
        "start_time": "2023-03-06T11:47:13.968Z"
      },
      {
        "duration": 155,
        "start_time": "2023-03-06T11:47:14.789Z"
      },
      {
        "duration": 18,
        "start_time": "2023-03-06T11:47:14.950Z"
      },
      {
        "duration": 138,
        "start_time": "2023-03-06T11:47:14.971Z"
      },
      {
        "duration": 488,
        "start_time": "2023-03-06T11:47:15.111Z"
      },
      {
        "duration": 985,
        "start_time": "2023-03-06T11:47:15.601Z"
      },
      {
        "duration": 6,
        "start_time": "2023-03-06T11:47:16.588Z"
      },
      {
        "duration": 18,
        "start_time": "2023-03-06T11:47:16.596Z"
      },
      {
        "duration": 239,
        "start_time": "2023-03-06T11:47:16.616Z"
      },
      {
        "duration": 9,
        "start_time": "2023-03-06T11:47:16.858Z"
      },
      {
        "duration": 16,
        "start_time": "2023-03-06T11:47:16.868Z"
      },
      {
        "duration": 314,
        "start_time": "2023-03-06T11:47:16.885Z"
      },
      {
        "duration": 187,
        "start_time": "2023-03-06T11:47:17.202Z"
      },
      {
        "duration": 11,
        "start_time": "2023-03-06T11:47:17.391Z"
      },
      {
        "duration": 68,
        "start_time": "2023-03-06T11:47:17.403Z"
      },
      {
        "duration": 131,
        "start_time": "2023-03-06T11:47:17.472Z"
      },
      {
        "duration": 6,
        "start_time": "2023-03-06T11:47:17.605Z"
      },
      {
        "duration": 163,
        "start_time": "2023-03-06T11:47:17.613Z"
      },
      {
        "duration": 11,
        "start_time": "2023-03-06T11:47:17.777Z"
      },
      {
        "duration": 62,
        "start_time": "2023-03-06T11:47:17.789Z"
      },
      {
        "duration": 110,
        "start_time": "2023-03-06T11:47:17.854Z"
      },
      {
        "duration": 8,
        "start_time": "2023-03-06T11:47:17.966Z"
      },
      {
        "duration": 13,
        "start_time": "2023-03-06T11:47:17.975Z"
      },
      {
        "duration": 348,
        "start_time": "2023-03-06T11:47:17.990Z"
      },
      {
        "duration": 19,
        "start_time": "2023-03-06T11:47:18.339Z"
      },
      {
        "duration": 38,
        "start_time": "2023-03-06T11:47:18.361Z"
      },
      {
        "duration": 101,
        "start_time": "2023-03-06T11:47:18.400Z"
      },
      {
        "duration": 15,
        "start_time": "2023-03-06T11:47:18.503Z"
      },
      {
        "duration": 170,
        "start_time": "2023-03-06T11:47:18.519Z"
      },
      {
        "duration": 11,
        "start_time": "2023-03-06T11:47:18.690Z"
      },
      {
        "duration": 123,
        "start_time": "2023-03-06T11:47:18.703Z"
      },
      {
        "duration": 42,
        "start_time": "2023-03-06T11:47:18.828Z"
      },
      {
        "duration": 113,
        "start_time": "2023-03-06T11:47:18.872Z"
      },
      {
        "duration": 14,
        "start_time": "2023-03-06T11:47:18.986Z"
      },
      {
        "duration": 12,
        "start_time": "2023-03-06T11:47:19.001Z"
      },
      {
        "duration": 131,
        "start_time": "2023-03-06T11:47:19.015Z"
      },
      {
        "duration": 23,
        "start_time": "2023-03-06T11:47:19.147Z"
      },
      {
        "duration": 36,
        "start_time": "2023-03-06T11:52:15.587Z"
      },
      {
        "duration": 132,
        "start_time": "2023-03-06T11:52:16.883Z"
      },
      {
        "duration": 1287,
        "start_time": "2023-03-06T11:52:32.913Z"
      },
      {
        "duration": 863,
        "start_time": "2023-03-06T11:52:34.203Z"
      },
      {
        "duration": 145,
        "start_time": "2023-03-06T11:52:35.067Z"
      },
      {
        "duration": 29,
        "start_time": "2023-03-06T11:52:35.213Z"
      },
      {
        "duration": 204,
        "start_time": "2023-03-06T11:52:35.244Z"
      },
      {
        "duration": 541,
        "start_time": "2023-03-06T11:52:35.449Z"
      },
      {
        "duration": 1167,
        "start_time": "2023-03-06T11:52:35.993Z"
      },
      {
        "duration": 6,
        "start_time": "2023-03-06T11:52:37.163Z"
      },
      {
        "duration": 29,
        "start_time": "2023-03-06T11:52:37.170Z"
      },
      {
        "duration": 214,
        "start_time": "2023-03-06T11:52:37.201Z"
      },
      {
        "duration": 25,
        "start_time": "2023-03-06T11:52:37.418Z"
      },
      {
        "duration": 44,
        "start_time": "2023-03-06T11:52:37.449Z"
      },
      {
        "duration": 358,
        "start_time": "2023-03-06T11:52:37.494Z"
      },
      {
        "duration": 201,
        "start_time": "2023-03-06T11:52:37.862Z"
      },
      {
        "duration": 12,
        "start_time": "2023-03-06T11:52:38.064Z"
      },
      {
        "duration": 93,
        "start_time": "2023-03-06T11:52:38.077Z"
      },
      {
        "duration": 131,
        "start_time": "2023-03-06T11:52:38.171Z"
      },
      {
        "duration": 7,
        "start_time": "2023-03-06T11:52:38.304Z"
      },
      {
        "duration": 148,
        "start_time": "2023-03-06T11:52:38.336Z"
      },
      {
        "duration": 11,
        "start_time": "2023-03-06T11:52:38.486Z"
      },
      {
        "duration": 67,
        "start_time": "2023-03-06T11:52:38.498Z"
      },
      {
        "duration": 122,
        "start_time": "2023-03-06T11:52:38.567Z"
      },
      {
        "duration": 8,
        "start_time": "2023-03-06T11:52:38.691Z"
      },
      {
        "duration": 23,
        "start_time": "2023-03-06T11:52:38.700Z"
      },
      {
        "duration": 347,
        "start_time": "2023-03-06T11:52:38.733Z"
      },
      {
        "duration": 10,
        "start_time": "2023-03-06T11:52:39.081Z"
      },
      {
        "duration": 57,
        "start_time": "2023-03-06T11:52:39.092Z"
      },
      {
        "duration": 104,
        "start_time": "2023-03-06T11:52:39.151Z"
      },
      {
        "duration": 25,
        "start_time": "2023-03-06T11:52:39.257Z"
      },
      {
        "duration": 160,
        "start_time": "2023-03-06T11:52:39.283Z"
      },
      {
        "duration": 21,
        "start_time": "2023-03-06T11:52:39.447Z"
      },
      {
        "duration": 132,
        "start_time": "2023-03-06T11:52:39.470Z"
      },
      {
        "duration": 46,
        "start_time": "2023-03-06T11:52:39.604Z"
      },
      {
        "duration": 141,
        "start_time": "2023-03-06T11:52:39.652Z"
      },
      {
        "duration": 15,
        "start_time": "2023-03-06T11:52:39.794Z"
      },
      {
        "duration": 31,
        "start_time": "2023-03-06T11:52:39.810Z"
      },
      {
        "duration": 126,
        "start_time": "2023-03-06T11:52:39.842Z"
      },
      {
        "duration": 16,
        "start_time": "2023-03-06T11:52:39.970Z"
      },
      {
        "duration": 109,
        "start_time": "2023-03-06T11:56:09.600Z"
      },
      {
        "duration": 1156,
        "start_time": "2023-03-06T11:56:51.799Z"
      },
      {
        "duration": 916,
        "start_time": "2023-03-06T11:56:52.957Z"
      },
      {
        "duration": 161,
        "start_time": "2023-03-06T11:56:53.875Z"
      },
      {
        "duration": 17,
        "start_time": "2023-03-06T11:56:54.046Z"
      },
      {
        "duration": 142,
        "start_time": "2023-03-06T11:56:54.066Z"
      },
      {
        "duration": 532,
        "start_time": "2023-03-06T11:56:54.210Z"
      },
      {
        "duration": 1109,
        "start_time": "2023-03-06T11:56:54.746Z"
      },
      {
        "duration": 10,
        "start_time": "2023-03-06T11:56:55.865Z"
      },
      {
        "duration": 15,
        "start_time": "2023-03-06T11:56:55.877Z"
      },
      {
        "duration": 206,
        "start_time": "2023-03-06T11:56:55.895Z"
      },
      {
        "duration": 9,
        "start_time": "2023-03-06T11:56:56.103Z"
      },
      {
        "duration": 36,
        "start_time": "2023-03-06T11:56:56.113Z"
      },
      {
        "duration": 395,
        "start_time": "2023-03-06T11:56:56.151Z"
      },
      {
        "duration": 221,
        "start_time": "2023-03-06T11:56:56.551Z"
      },
      {
        "duration": 15,
        "start_time": "2023-03-06T11:56:56.773Z"
      },
      {
        "duration": 87,
        "start_time": "2023-03-06T11:56:56.794Z"
      },
      {
        "duration": 135,
        "start_time": "2023-03-06T11:56:56.883Z"
      },
      {
        "duration": 21,
        "start_time": "2023-03-06T11:56:57.019Z"
      },
      {
        "duration": 184,
        "start_time": "2023-03-06T11:56:57.041Z"
      },
      {
        "duration": 32,
        "start_time": "2023-03-06T11:56:57.227Z"
      },
      {
        "duration": 59,
        "start_time": "2023-03-06T11:56:57.262Z"
      },
      {
        "duration": 127,
        "start_time": "2023-03-06T11:56:57.322Z"
      },
      {
        "duration": 25,
        "start_time": "2023-03-06T11:56:57.451Z"
      },
      {
        "duration": 19,
        "start_time": "2023-03-06T11:56:57.477Z"
      },
      {
        "duration": 362,
        "start_time": "2023-03-06T11:56:57.498Z"
      },
      {
        "duration": 115,
        "start_time": "2023-03-06T11:56:57.867Z"
      },
      {
        "duration": 0,
        "start_time": "2023-03-06T11:56:57.984Z"
      },
      {
        "duration": 0,
        "start_time": "2023-03-06T11:56:57.985Z"
      },
      {
        "duration": 0,
        "start_time": "2023-03-06T11:56:57.987Z"
      },
      {
        "duration": 0,
        "start_time": "2023-03-06T11:56:57.988Z"
      },
      {
        "duration": 0,
        "start_time": "2023-03-06T11:56:57.989Z"
      },
      {
        "duration": 0,
        "start_time": "2023-03-06T11:56:57.990Z"
      },
      {
        "duration": 0,
        "start_time": "2023-03-06T11:56:57.991Z"
      },
      {
        "duration": 0,
        "start_time": "2023-03-06T11:56:57.992Z"
      },
      {
        "duration": 0,
        "start_time": "2023-03-06T11:56:57.993Z"
      },
      {
        "duration": 0,
        "start_time": "2023-03-06T11:56:57.994Z"
      },
      {
        "duration": 0,
        "start_time": "2023-03-06T11:56:57.995Z"
      },
      {
        "duration": 20,
        "start_time": "2023-03-06T11:57:21.688Z"
      },
      {
        "duration": 11,
        "start_time": "2023-03-06T11:57:25.158Z"
      },
      {
        "duration": 6,
        "start_time": "2023-03-06T11:57:46.799Z"
      },
      {
        "duration": 10,
        "start_time": "2023-03-06T11:57:48.718Z"
      },
      {
        "duration": 1189,
        "start_time": "2023-03-06T11:57:58.199Z"
      },
      {
        "duration": 882,
        "start_time": "2023-03-06T11:57:59.391Z"
      },
      {
        "duration": 154,
        "start_time": "2023-03-06T11:58:00.275Z"
      },
      {
        "duration": 33,
        "start_time": "2023-03-06T11:58:00.433Z"
      },
      {
        "duration": 156,
        "start_time": "2023-03-06T11:58:00.470Z"
      },
      {
        "duration": 550,
        "start_time": "2023-03-06T11:58:00.627Z"
      },
      {
        "duration": 1088,
        "start_time": "2023-03-06T11:58:01.179Z"
      },
      {
        "duration": 6,
        "start_time": "2023-03-06T11:58:02.269Z"
      },
      {
        "duration": 15,
        "start_time": "2023-03-06T11:58:02.277Z"
      },
      {
        "duration": 200,
        "start_time": "2023-03-06T11:58:02.295Z"
      },
      {
        "duration": 8,
        "start_time": "2023-03-06T11:58:02.496Z"
      },
      {
        "duration": 38,
        "start_time": "2023-03-06T11:58:02.505Z"
      },
      {
        "duration": 316,
        "start_time": "2023-03-06T11:58:02.555Z"
      },
      {
        "duration": 222,
        "start_time": "2023-03-06T11:58:02.873Z"
      },
      {
        "duration": 13,
        "start_time": "2023-03-06T11:58:03.097Z"
      },
      {
        "duration": 83,
        "start_time": "2023-03-06T11:58:03.112Z"
      },
      {
        "duration": 158,
        "start_time": "2023-03-06T11:58:03.196Z"
      },
      {
        "duration": 11,
        "start_time": "2023-03-06T11:58:03.362Z"
      },
      {
        "duration": 156,
        "start_time": "2023-03-06T11:58:03.374Z"
      },
      {
        "duration": 30,
        "start_time": "2023-03-06T11:58:03.532Z"
      },
      {
        "duration": 65,
        "start_time": "2023-03-06T11:58:03.565Z"
      },
      {
        "duration": 143,
        "start_time": "2023-03-06T11:58:03.632Z"
      },
      {
        "duration": 10,
        "start_time": "2023-03-06T11:58:03.777Z"
      },
      {
        "duration": 20,
        "start_time": "2023-03-06T11:58:03.788Z"
      },
      {
        "duration": 375,
        "start_time": "2023-03-06T11:58:03.810Z"
      },
      {
        "duration": 53,
        "start_time": "2023-03-06T11:58:04.187Z"
      },
      {
        "duration": 140,
        "start_time": "2023-03-06T11:58:04.243Z"
      },
      {
        "duration": 28,
        "start_time": "2023-03-06T11:58:04.388Z"
      },
      {
        "duration": 183,
        "start_time": "2023-03-06T11:58:04.418Z"
      },
      {
        "duration": 14,
        "start_time": "2023-03-06T11:58:04.603Z"
      },
      {
        "duration": 160,
        "start_time": "2023-03-06T11:58:04.619Z"
      },
      {
        "duration": 26,
        "start_time": "2023-03-06T11:58:04.781Z"
      },
      {
        "duration": 131,
        "start_time": "2023-03-06T11:58:04.809Z"
      },
      {
        "duration": 27,
        "start_time": "2023-03-06T11:58:04.948Z"
      },
      {
        "duration": 13,
        "start_time": "2023-03-06T11:58:04.977Z"
      },
      {
        "duration": 127,
        "start_time": "2023-03-06T11:58:04.991Z"
      },
      {
        "duration": 36,
        "start_time": "2023-03-06T11:58:05.120Z"
      },
      {
        "duration": 1125,
        "start_time": "2023-03-06T12:03:58.659Z"
      },
      {
        "duration": 881,
        "start_time": "2023-03-06T12:03:59.786Z"
      },
      {
        "duration": 152,
        "start_time": "2023-03-06T12:04:00.668Z"
      },
      {
        "duration": 75,
        "start_time": "2023-03-06T12:04:00.822Z"
      },
      {
        "duration": 165,
        "start_time": "2023-03-06T12:04:00.899Z"
      },
      {
        "duration": 500,
        "start_time": "2023-03-06T12:04:01.067Z"
      },
      {
        "duration": 961,
        "start_time": "2023-03-06T12:04:01.568Z"
      },
      {
        "duration": 5,
        "start_time": "2023-03-06T12:04:02.533Z"
      },
      {
        "duration": 69,
        "start_time": "2023-03-06T12:04:02.540Z"
      },
      {
        "duration": 210,
        "start_time": "2023-03-06T12:04:02.610Z"
      },
      {
        "duration": 34,
        "start_time": "2023-03-06T12:04:02.821Z"
      },
      {
        "duration": 34,
        "start_time": "2023-03-06T12:04:02.857Z"
      },
      {
        "duration": 354,
        "start_time": "2023-03-06T12:04:02.893Z"
      },
      {
        "duration": 206,
        "start_time": "2023-03-06T12:04:03.254Z"
      },
      {
        "duration": 12,
        "start_time": "2023-03-06T12:04:03.462Z"
      },
      {
        "duration": 97,
        "start_time": "2023-03-06T12:04:03.476Z"
      },
      {
        "duration": 179,
        "start_time": "2023-03-06T12:04:03.575Z"
      },
      {
        "duration": 42,
        "start_time": "2023-03-06T12:04:03.758Z"
      },
      {
        "duration": 208,
        "start_time": "2023-03-06T12:04:03.801Z"
      },
      {
        "duration": 11,
        "start_time": "2023-03-06T12:04:04.010Z"
      },
      {
        "duration": 76,
        "start_time": "2023-03-06T12:04:04.036Z"
      },
      {
        "duration": 139,
        "start_time": "2023-03-06T12:04:04.113Z"
      },
      {
        "duration": 27,
        "start_time": "2023-03-06T12:04:04.254Z"
      },
      {
        "duration": 56,
        "start_time": "2023-03-06T12:04:04.283Z"
      },
      {
        "duration": 344,
        "start_time": "2023-03-06T12:04:04.340Z"
      },
      {
        "duration": 55,
        "start_time": "2023-03-06T12:04:04.685Z"
      },
      {
        "duration": 125,
        "start_time": "2023-03-06T12:04:04.745Z"
      },
      {
        "duration": 49,
        "start_time": "2023-03-06T12:04:04.872Z"
      },
      {
        "duration": 220,
        "start_time": "2023-03-06T12:04:04.922Z"
      },
      {
        "duration": 21,
        "start_time": "2023-03-06T12:04:05.143Z"
      },
      {
        "duration": 132,
        "start_time": "2023-03-06T12:04:05.165Z"
      },
      {
        "duration": 24,
        "start_time": "2023-03-06T12:04:05.299Z"
      },
      {
        "duration": 158,
        "start_time": "2023-03-06T12:04:05.336Z"
      },
      {
        "duration": 14,
        "start_time": "2023-03-06T12:04:05.495Z"
      },
      {
        "duration": 25,
        "start_time": "2023-03-06T12:04:05.511Z"
      },
      {
        "duration": 136,
        "start_time": "2023-03-06T12:04:05.538Z"
      },
      {
        "duration": 14,
        "start_time": "2023-03-06T12:04:05.676Z"
      },
      {
        "duration": 27,
        "start_time": "2023-03-06T13:15:53.196Z"
      },
      {
        "duration": 23,
        "start_time": "2023-03-06T13:16:25.096Z"
      },
      {
        "duration": 14,
        "start_time": "2023-03-06T13:16:40.965Z"
      },
      {
        "duration": 42,
        "start_time": "2023-03-06T13:20:04.448Z"
      },
      {
        "duration": 21,
        "start_time": "2023-03-06T13:20:06.019Z"
      },
      {
        "duration": 145,
        "start_time": "2023-03-06T13:21:18.270Z"
      },
      {
        "duration": 104,
        "start_time": "2023-03-06T13:21:46.007Z"
      },
      {
        "duration": 1175,
        "start_time": "2023-03-06T13:26:26.497Z"
      },
      {
        "duration": 808,
        "start_time": "2023-03-06T13:26:27.674Z"
      },
      {
        "duration": 156,
        "start_time": "2023-03-06T13:26:28.484Z"
      },
      {
        "duration": 20,
        "start_time": "2023-03-06T13:26:28.642Z"
      },
      {
        "duration": 132,
        "start_time": "2023-03-06T13:26:28.664Z"
      },
      {
        "duration": 479,
        "start_time": "2023-03-06T13:26:28.798Z"
      },
      {
        "duration": 970,
        "start_time": "2023-03-06T13:26:29.278Z"
      },
      {
        "duration": 4,
        "start_time": "2023-03-06T13:26:30.250Z"
      },
      {
        "duration": 49,
        "start_time": "2023-03-06T13:26:30.256Z"
      },
      {
        "duration": 186,
        "start_time": "2023-03-06T13:26:30.307Z"
      },
      {
        "duration": 8,
        "start_time": "2023-03-06T13:26:30.495Z"
      },
      {
        "duration": 44,
        "start_time": "2023-03-06T13:26:30.505Z"
      },
      {
        "duration": 327,
        "start_time": "2023-03-06T13:26:30.551Z"
      },
      {
        "duration": 178,
        "start_time": "2023-03-06T13:26:30.880Z"
      },
      {
        "duration": 12,
        "start_time": "2023-03-06T13:26:31.061Z"
      },
      {
        "duration": 75,
        "start_time": "2023-03-06T13:26:31.075Z"
      },
      {
        "duration": 122,
        "start_time": "2023-03-06T13:26:31.152Z"
      },
      {
        "duration": 8,
        "start_time": "2023-03-06T13:26:31.276Z"
      },
      {
        "duration": 166,
        "start_time": "2023-03-06T13:26:31.286Z"
      },
      {
        "duration": 12,
        "start_time": "2023-03-06T13:26:31.453Z"
      },
      {
        "duration": 77,
        "start_time": "2023-03-06T13:26:31.467Z"
      },
      {
        "duration": 112,
        "start_time": "2023-03-06T13:26:31.546Z"
      },
      {
        "duration": 8,
        "start_time": "2023-03-06T13:26:31.660Z"
      },
      {
        "duration": 19,
        "start_time": "2023-03-06T13:26:31.669Z"
      },
      {
        "duration": 356,
        "start_time": "2023-03-06T13:26:31.690Z"
      },
      {
        "duration": 48,
        "start_time": "2023-03-06T13:26:32.048Z"
      },
      {
        "duration": 105,
        "start_time": "2023-03-06T13:26:32.098Z"
      },
      {
        "duration": 38,
        "start_time": "2023-03-06T13:26:32.207Z"
      },
      {
        "duration": 24,
        "start_time": "2023-03-06T13:26:32.247Z"
      },
      {
        "duration": 158,
        "start_time": "2023-03-06T13:26:32.273Z"
      },
      {
        "duration": 16,
        "start_time": "2023-03-06T13:26:32.433Z"
      },
      {
        "duration": 216,
        "start_time": "2023-03-06T13:26:32.451Z"
      },
      {
        "duration": 13,
        "start_time": "2023-03-06T13:26:32.669Z"
      },
      {
        "duration": 119,
        "start_time": "2023-03-06T13:26:32.683Z"
      },
      {
        "duration": 35,
        "start_time": "2023-03-06T13:26:32.804Z"
      },
      {
        "duration": 113,
        "start_time": "2023-03-06T13:26:32.841Z"
      },
      {
        "duration": 14,
        "start_time": "2023-03-06T13:26:32.956Z"
      },
      {
        "duration": 15,
        "start_time": "2023-03-06T13:26:32.972Z"
      },
      {
        "duration": 122,
        "start_time": "2023-03-06T13:26:32.989Z"
      },
      {
        "duration": 1241,
        "start_time": "2023-03-06T13:28:33.113Z"
      },
      {
        "duration": 825,
        "start_time": "2023-03-06T13:28:34.356Z"
      },
      {
        "duration": 136,
        "start_time": "2023-03-06T13:28:35.182Z"
      },
      {
        "duration": 31,
        "start_time": "2023-03-06T13:28:35.320Z"
      },
      {
        "duration": 136,
        "start_time": "2023-03-06T13:28:35.354Z"
      },
      {
        "duration": 527,
        "start_time": "2023-03-06T13:28:35.492Z"
      },
      {
        "duration": 1051,
        "start_time": "2023-03-06T13:28:36.020Z"
      },
      {
        "duration": 4,
        "start_time": "2023-03-06T13:28:37.073Z"
      },
      {
        "duration": 27,
        "start_time": "2023-03-06T13:28:37.078Z"
      },
      {
        "duration": 231,
        "start_time": "2023-03-06T13:28:37.107Z"
      },
      {
        "duration": 9,
        "start_time": "2023-03-06T13:28:37.345Z"
      },
      {
        "duration": 15,
        "start_time": "2023-03-06T13:28:37.356Z"
      },
      {
        "duration": 310,
        "start_time": "2023-03-06T13:28:37.372Z"
      },
      {
        "duration": 188,
        "start_time": "2023-03-06T13:28:37.683Z"
      },
      {
        "duration": 11,
        "start_time": "2023-03-06T13:28:37.873Z"
      },
      {
        "duration": 73,
        "start_time": "2023-03-06T13:28:37.886Z"
      },
      {
        "duration": 131,
        "start_time": "2023-03-06T13:28:37.961Z"
      },
      {
        "duration": 7,
        "start_time": "2023-03-06T13:28:38.093Z"
      },
      {
        "duration": 153,
        "start_time": "2023-03-06T13:28:38.102Z"
      },
      {
        "duration": 11,
        "start_time": "2023-03-06T13:28:38.256Z"
      },
      {
        "duration": 65,
        "start_time": "2023-03-06T13:28:38.269Z"
      },
      {
        "duration": 117,
        "start_time": "2023-03-06T13:28:38.340Z"
      },
      {
        "duration": 7,
        "start_time": "2023-03-06T13:28:38.458Z"
      },
      {
        "duration": 14,
        "start_time": "2023-03-06T13:28:38.466Z"
      },
      {
        "duration": 360,
        "start_time": "2023-03-06T13:28:38.482Z"
      },
      {
        "duration": 39,
        "start_time": "2023-03-06T13:28:38.849Z"
      },
      {
        "duration": 100,
        "start_time": "2023-03-06T13:28:38.890Z"
      },
      {
        "duration": 24,
        "start_time": "2023-03-06T13:28:38.994Z"
      },
      {
        "duration": 43,
        "start_time": "2023-03-06T13:28:39.019Z"
      },
      {
        "duration": 146,
        "start_time": "2023-03-06T13:28:39.063Z"
      },
      {
        "duration": 17,
        "start_time": "2023-03-06T13:28:39.211Z"
      },
      {
        "duration": 163,
        "start_time": "2023-03-06T13:28:39.237Z"
      },
      {
        "duration": 12,
        "start_time": "2023-03-06T13:28:39.402Z"
      },
      {
        "duration": 138,
        "start_time": "2023-03-06T13:28:39.415Z"
      },
      {
        "duration": 25,
        "start_time": "2023-03-06T13:28:39.555Z"
      },
      {
        "duration": 119,
        "start_time": "2023-03-06T13:28:39.582Z"
      },
      {
        "duration": 15,
        "start_time": "2023-03-06T13:28:39.703Z"
      },
      {
        "duration": 44,
        "start_time": "2023-03-06T13:28:39.720Z"
      },
      {
        "duration": 109,
        "start_time": "2023-03-06T13:28:39.765Z"
      },
      {
        "duration": 5,
        "start_time": "2023-03-06T13:28:39.876Z"
      },
      {
        "duration": 14,
        "start_time": "2023-03-06T13:29:22.816Z"
      },
      {
        "duration": 172,
        "start_time": "2023-03-06T13:31:32.274Z"
      },
      {
        "duration": 253715,
        "start_time": "2023-03-07T20:30:47.819Z"
      },
      {
        "duration": 436,
        "start_time": "2023-03-07T20:43:14.933Z"
      },
      {
        "duration": 808,
        "start_time": "2023-03-07T20:44:06.652Z"
      },
      {
        "duration": 811,
        "start_time": "2023-03-07T20:45:44.950Z"
      },
      {
        "duration": 389,
        "start_time": "2023-03-07T20:46:46.271Z"
      },
      {
        "duration": 373,
        "start_time": "2023-03-07T20:47:31.110Z"
      },
      {
        "duration": 383,
        "start_time": "2023-03-07T20:48:12.490Z"
      },
      {
        "duration": 1555,
        "start_time": "2023-03-07T20:49:09.096Z"
      },
      {
        "duration": 2145,
        "start_time": "2023-03-07T20:50:42.162Z"
      },
      {
        "duration": 207,
        "start_time": "2023-03-07T20:51:30.037Z"
      },
      {
        "duration": 1927,
        "start_time": "2023-03-07T20:53:48.312Z"
      },
      {
        "duration": 1919,
        "start_time": "2023-03-07T20:54:37.830Z"
      },
      {
        "duration": 48,
        "start_time": "2023-03-07T20:55:17.911Z"
      },
      {
        "duration": 1612,
        "start_time": "2023-03-07T20:56:10.658Z"
      },
      {
        "duration": 1729,
        "start_time": "2023-03-07T20:57:19.805Z"
      },
      {
        "duration": 1658,
        "start_time": "2023-03-07T20:58:13.496Z"
      },
      {
        "duration": 1647,
        "start_time": "2023-03-07T20:58:40.414Z"
      },
      {
        "duration": 1606,
        "start_time": "2023-03-07T21:00:17.390Z"
      },
      {
        "duration": 1683,
        "start_time": "2023-03-07T21:00:41.865Z"
      },
      {
        "duration": 1776,
        "start_time": "2023-03-07T21:01:20.065Z"
      },
      {
        "duration": 1111,
        "start_time": "2023-03-07T21:02:22.653Z"
      },
      {
        "duration": 1226,
        "start_time": "2023-03-07T21:02:45.430Z"
      },
      {
        "duration": 750,
        "start_time": "2023-03-07T21:03:11.925Z"
      },
      {
        "duration": 633,
        "start_time": "2023-03-07T21:03:52.545Z"
      },
      {
        "duration": 612,
        "start_time": "2023-03-07T21:04:03.092Z"
      },
      {
        "duration": 711,
        "start_time": "2023-03-07T21:04:18.205Z"
      },
      {
        "duration": 632,
        "start_time": "2023-03-07T21:05:40.325Z"
      },
      {
        "duration": 3589,
        "start_time": "2023-03-07T21:06:28.254Z"
      },
      {
        "duration": 2954,
        "start_time": "2023-03-07T21:06:50.624Z"
      },
      {
        "duration": 3693,
        "start_time": "2023-03-07T21:07:11.001Z"
      },
      {
        "duration": 802,
        "start_time": "2023-03-07T21:07:52.211Z"
      },
      {
        "duration": 759,
        "start_time": "2023-03-07T21:09:21.477Z"
      },
      {
        "duration": 4396,
        "start_time": "2023-03-07T21:09:50.618Z"
      },
      {
        "duration": 1671,
        "start_time": "2023-03-07T21:10:48.879Z"
      },
      {
        "duration": 1498,
        "start_time": "2023-03-07T21:11:53.147Z"
      },
      {
        "duration": 1744,
        "start_time": "2023-03-07T21:12:31.089Z"
      },
      {
        "duration": 1474,
        "start_time": "2023-03-07T21:12:53.907Z"
      },
      {
        "duration": 2199,
        "start_time": "2023-03-07T21:13:21.750Z"
      },
      {
        "duration": 3093,
        "start_time": "2023-03-07T21:30:59.998Z"
      },
      {
        "duration": 6457,
        "start_time": "2023-03-07T21:31:21.807Z"
      },
      {
        "duration": 5423,
        "start_time": "2023-03-07T21:33:59.724Z"
      },
      {
        "duration": 2007,
        "start_time": "2023-03-07T21:34:38.726Z"
      },
      {
        "duration": 2281,
        "start_time": "2023-03-07T21:35:42.163Z"
      },
      {
        "duration": 1827,
        "start_time": "2023-03-07T21:36:36.492Z"
      },
      {
        "duration": 1907,
        "start_time": "2023-03-07T21:37:03.392Z"
      },
      {
        "duration": 6162,
        "start_time": "2023-03-07T21:38:27.899Z"
      },
      {
        "duration": 696,
        "start_time": "2023-03-07T21:39:08.863Z"
      },
      {
        "duration": 116,
        "start_time": "2023-03-07T21:40:19.031Z"
      },
      {
        "duration": 680,
        "start_time": "2023-03-07T21:40:39.989Z"
      },
      {
        "duration": 1886,
        "start_time": "2023-03-07T21:40:57.714Z"
      },
      {
        "duration": 1639,
        "start_time": "2023-03-07T21:41:24.464Z"
      },
      {
        "duration": 697,
        "start_time": "2023-03-07T21:42:00.603Z"
      },
      {
        "duration": 807,
        "start_time": "2023-03-07T21:42:13.044Z"
      },
      {
        "duration": 685,
        "start_time": "2023-03-07T21:42:48.462Z"
      },
      {
        "duration": 704,
        "start_time": "2023-03-07T21:43:01.862Z"
      },
      {
        "duration": 98,
        "start_time": "2023-03-07T21:47:12.901Z"
      },
      {
        "duration": 76,
        "start_time": "2023-03-07T21:47:27.269Z"
      },
      {
        "duration": 1181,
        "start_time": "2023-03-07T21:48:25.666Z"
      },
      {
        "duration": 1012,
        "start_time": "2023-03-07T21:49:12.933Z"
      },
      {
        "duration": 1050,
        "start_time": "2023-03-07T21:49:40.512Z"
      },
      {
        "duration": 1117,
        "start_time": "2023-03-07T21:50:00.146Z"
      },
      {
        "duration": 1073,
        "start_time": "2023-03-07T21:50:37.351Z"
      },
      {
        "duration": 1037,
        "start_time": "2023-03-07T21:50:52.291Z"
      },
      {
        "duration": 1169,
        "start_time": "2023-03-07T21:51:13.247Z"
      },
      {
        "duration": 1072,
        "start_time": "2023-03-07T21:51:33.449Z"
      },
      {
        "duration": 13,
        "start_time": "2023-03-07T21:52:40.182Z"
      },
      {
        "duration": 1140,
        "start_time": "2023-03-07T21:53:10.126Z"
      },
      {
        "duration": 1004,
        "start_time": "2023-03-07T21:53:11.268Z"
      },
      {
        "duration": 121,
        "start_time": "2023-03-07T21:53:12.274Z"
      },
      {
        "duration": 14,
        "start_time": "2023-03-07T21:53:12.397Z"
      },
      {
        "duration": 135,
        "start_time": "2023-03-07T21:53:12.413Z"
      },
      {
        "duration": 444,
        "start_time": "2023-03-07T21:53:12.549Z"
      },
      {
        "duration": 896,
        "start_time": "2023-03-07T21:53:12.994Z"
      },
      {
        "duration": 6,
        "start_time": "2023-03-07T21:53:13.892Z"
      },
      {
        "duration": 8,
        "start_time": "2023-03-07T21:53:13.899Z"
      },
      {
        "duration": 188,
        "start_time": "2023-03-07T21:53:13.910Z"
      },
      {
        "duration": 17,
        "start_time": "2023-03-07T21:53:14.100Z"
      },
      {
        "duration": 22,
        "start_time": "2023-03-07T21:53:14.119Z"
      },
      {
        "duration": 285,
        "start_time": "2023-03-07T21:53:14.142Z"
      },
      {
        "duration": 188,
        "start_time": "2023-03-07T21:53:14.428Z"
      },
      {
        "duration": 21,
        "start_time": "2023-03-07T21:53:14.618Z"
      },
      {
        "duration": 55,
        "start_time": "2023-03-07T21:53:14.640Z"
      },
      {
        "duration": 129,
        "start_time": "2023-03-07T21:53:14.697Z"
      },
      {
        "duration": 7,
        "start_time": "2023-03-07T21:53:14.834Z"
      },
      {
        "duration": 150,
        "start_time": "2023-03-07T21:53:14.842Z"
      },
      {
        "duration": 11,
        "start_time": "2023-03-07T21:53:14.993Z"
      },
      {
        "duration": 66,
        "start_time": "2023-03-07T21:53:15.005Z"
      },
      {
        "duration": 98,
        "start_time": "2023-03-07T21:53:15.072Z"
      },
      {
        "duration": 7,
        "start_time": "2023-03-07T21:53:15.171Z"
      },
      {
        "duration": 13,
        "start_time": "2023-03-07T21:53:15.180Z"
      },
      {
        "duration": 325,
        "start_time": "2023-03-07T21:53:15.195Z"
      },
      {
        "duration": 40,
        "start_time": "2023-03-07T21:53:15.522Z"
      },
      {
        "duration": 102,
        "start_time": "2023-03-07T21:53:15.564Z"
      },
      {
        "duration": 23,
        "start_time": "2023-03-07T21:53:15.670Z"
      },
      {
        "duration": 14,
        "start_time": "2023-03-07T21:53:15.695Z"
      },
      {
        "duration": 150,
        "start_time": "2023-03-07T21:53:15.710Z"
      },
      {
        "duration": 16,
        "start_time": "2023-03-07T21:53:15.861Z"
      },
      {
        "duration": 145,
        "start_time": "2023-03-07T21:53:15.878Z"
      },
      {
        "duration": 16,
        "start_time": "2023-03-07T21:53:16.025Z"
      },
      {
        "duration": 108,
        "start_time": "2023-03-07T21:53:16.042Z"
      },
      {
        "duration": 23,
        "start_time": "2023-03-07T21:53:16.152Z"
      },
      {
        "duration": 128,
        "start_time": "2023-03-07T21:53:16.176Z"
      },
      {
        "duration": 19,
        "start_time": "2023-03-07T21:53:16.306Z"
      },
      {
        "duration": 18,
        "start_time": "2023-03-07T21:53:16.334Z"
      },
      {
        "duration": 125,
        "start_time": "2023-03-07T21:53:16.356Z"
      },
      {
        "duration": 12,
        "start_time": "2023-03-07T21:53:16.483Z"
      },
      {
        "duration": 82,
        "start_time": "2023-03-07T21:53:16.497Z"
      },
      {
        "duration": 157482,
        "start_time": "2023-03-07T21:53:16.580Z"
      },
      {
        "duration": 1016,
        "start_time": "2023-03-07T21:55:54.063Z"
      },
      {
        "duration": 1397,
        "start_time": "2023-03-07T21:55:55.080Z"
      },
      {
        "duration": 1461,
        "start_time": "2023-03-08T20:55:55.343Z"
      },
      {
        "duration": 1338,
        "start_time": "2023-03-08T20:55:56.806Z"
      },
      {
        "duration": 141,
        "start_time": "2023-03-08T20:55:58.145Z"
      },
      {
        "duration": 33,
        "start_time": "2023-03-08T20:55:58.294Z"
      },
      {
        "duration": 129,
        "start_time": "2023-03-08T20:55:58.329Z"
      },
      {
        "duration": 491,
        "start_time": "2023-03-08T20:55:58.460Z"
      },
      {
        "duration": 920,
        "start_time": "2023-03-08T20:55:58.953Z"
      },
      {
        "duration": 36,
        "start_time": "2023-03-08T20:55:59.874Z"
      },
      {
        "duration": 8,
        "start_time": "2023-03-08T20:55:59.920Z"
      },
      {
        "duration": 191,
        "start_time": "2023-03-08T20:55:59.930Z"
      },
      {
        "duration": 8,
        "start_time": "2023-03-08T20:56:00.123Z"
      },
      {
        "duration": 24,
        "start_time": "2023-03-08T20:56:00.133Z"
      },
      {
        "duration": 296,
        "start_time": "2023-03-08T20:56:00.158Z"
      },
      {
        "duration": 196,
        "start_time": "2023-03-08T20:56:00.456Z"
      },
      {
        "duration": 12,
        "start_time": "2023-03-08T20:56:00.654Z"
      },
      {
        "duration": 96,
        "start_time": "2023-03-08T20:56:00.667Z"
      },
      {
        "duration": 119,
        "start_time": "2023-03-08T20:56:00.765Z"
      },
      {
        "duration": 49,
        "start_time": "2023-03-08T20:56:00.886Z"
      },
      {
        "duration": 194,
        "start_time": "2023-03-08T20:56:00.937Z"
      },
      {
        "duration": 12,
        "start_time": "2023-03-08T20:56:01.133Z"
      },
      {
        "duration": 72,
        "start_time": "2023-03-08T20:56:01.146Z"
      },
      {
        "duration": 108,
        "start_time": "2023-03-08T20:56:01.220Z"
      },
      {
        "duration": 23,
        "start_time": "2023-03-08T20:56:01.329Z"
      },
      {
        "duration": 41,
        "start_time": "2023-03-08T20:56:01.353Z"
      },
      {
        "duration": 411,
        "start_time": "2023-03-08T20:56:01.406Z"
      },
      {
        "duration": 35,
        "start_time": "2023-03-08T20:56:01.825Z"
      },
      {
        "duration": 148,
        "start_time": "2023-03-08T20:56:01.861Z"
      },
      {
        "duration": 35,
        "start_time": "2023-03-08T20:56:02.020Z"
      },
      {
        "duration": 77,
        "start_time": "2023-03-08T20:56:02.057Z"
      },
      {
        "duration": 178,
        "start_time": "2023-03-08T20:56:02.135Z"
      },
      {
        "duration": 22,
        "start_time": "2023-03-08T20:56:02.314Z"
      },
      {
        "duration": 200,
        "start_time": "2023-03-08T20:56:02.338Z"
      },
      {
        "duration": 10,
        "start_time": "2023-03-08T20:56:02.540Z"
      },
      {
        "duration": 167,
        "start_time": "2023-03-08T20:56:02.552Z"
      },
      {
        "duration": 22,
        "start_time": "2023-03-08T20:56:02.721Z"
      },
      {
        "duration": 133,
        "start_time": "2023-03-08T20:56:02.744Z"
      },
      {
        "duration": 26,
        "start_time": "2023-03-08T20:56:02.878Z"
      },
      {
        "duration": 72,
        "start_time": "2023-03-08T20:56:02.905Z"
      },
      {
        "duration": 238,
        "start_time": "2023-03-08T20:56:02.979Z"
      },
      {
        "duration": 15,
        "start_time": "2023-03-08T20:56:03.218Z"
      },
      {
        "duration": 90,
        "start_time": "2023-03-08T20:56:03.235Z"
      },
      {
        "duration": 183717,
        "start_time": "2023-03-08T20:56:03.326Z"
      },
      {
        "duration": 1098,
        "start_time": "2023-03-08T20:59:07.045Z"
      },
      {
        "duration": 1176,
        "start_time": "2023-03-08T21:01:03.318Z"
      },
      {
        "duration": 1268,
        "start_time": "2023-03-08T21:01:28.608Z"
      },
      {
        "duration": 3685,
        "start_time": "2023-03-10T11:15:41.000Z"
      },
      {
        "duration": 5448,
        "start_time": "2023-03-10T11:15:44.687Z"
      },
      {
        "duration": 180,
        "start_time": "2023-03-10T11:15:50.136Z"
      },
      {
        "duration": 29,
        "start_time": "2023-03-10T11:15:50.318Z"
      },
      {
        "duration": 171,
        "start_time": "2023-03-10T11:15:50.352Z"
      },
      {
        "duration": 559,
        "start_time": "2023-03-10T11:15:50.524Z"
      },
      {
        "duration": 1755,
        "start_time": "2023-03-10T11:16:10.061Z"
      },
      {
        "duration": 983,
        "start_time": "2023-03-10T11:16:11.818Z"
      },
      {
        "duration": 225,
        "start_time": "2023-03-10T11:16:12.803Z"
      },
      {
        "duration": 31,
        "start_time": "2023-03-10T11:16:13.030Z"
      },
      {
        "duration": 194,
        "start_time": "2023-03-10T11:16:13.065Z"
      },
      {
        "duration": 571,
        "start_time": "2023-03-10T11:16:13.262Z"
      },
      {
        "duration": 1172,
        "start_time": "2023-03-10T11:16:13.843Z"
      },
      {
        "duration": 5,
        "start_time": "2023-03-10T11:16:15.017Z"
      },
      {
        "duration": 45,
        "start_time": "2023-03-10T11:16:15.024Z"
      },
      {
        "duration": 223,
        "start_time": "2023-03-10T11:16:15.085Z"
      },
      {
        "duration": 9,
        "start_time": "2023-03-10T11:16:15.310Z"
      },
      {
        "duration": 43,
        "start_time": "2023-03-10T11:16:15.321Z"
      },
      {
        "duration": 352,
        "start_time": "2023-03-10T11:16:15.375Z"
      },
      {
        "duration": 204,
        "start_time": "2023-03-10T11:16:15.731Z"
      },
      {
        "duration": 28,
        "start_time": "2023-03-10T11:16:15.945Z"
      },
      {
        "duration": 87,
        "start_time": "2023-03-10T11:16:15.985Z"
      },
      {
        "duration": 123,
        "start_time": "2023-03-10T11:16:16.073Z"
      },
      {
        "duration": 21,
        "start_time": "2023-03-10T11:16:16.197Z"
      },
      {
        "duration": 180,
        "start_time": "2023-03-10T11:16:16.219Z"
      },
      {
        "duration": 16,
        "start_time": "2023-03-10T11:16:16.402Z"
      },
      {
        "duration": 62,
        "start_time": "2023-03-10T11:16:16.420Z"
      },
      {
        "duration": 137,
        "start_time": "2023-03-10T11:16:16.492Z"
      },
      {
        "duration": 8,
        "start_time": "2023-03-10T11:16:16.631Z"
      },
      {
        "duration": 32,
        "start_time": "2023-03-10T11:16:16.642Z"
      },
      {
        "duration": 417,
        "start_time": "2023-03-10T11:16:16.680Z"
      },
      {
        "duration": 38,
        "start_time": "2023-03-10T11:16:17.098Z"
      },
      {
        "duration": 130,
        "start_time": "2023-03-10T11:16:17.138Z"
      },
      {
        "duration": 44,
        "start_time": "2023-03-10T11:16:17.276Z"
      },
      {
        "duration": 27,
        "start_time": "2023-03-10T11:16:17.322Z"
      },
      {
        "duration": 217,
        "start_time": "2023-03-10T11:16:17.360Z"
      },
      {
        "duration": 21,
        "start_time": "2023-03-10T11:16:17.579Z"
      },
      {
        "duration": 149,
        "start_time": "2023-03-10T11:16:17.602Z"
      },
      {
        "duration": 20,
        "start_time": "2023-03-10T11:16:17.753Z"
      },
      {
        "duration": 150,
        "start_time": "2023-03-10T11:16:17.775Z"
      },
      {
        "duration": 24,
        "start_time": "2023-03-10T11:16:17.927Z"
      },
      {
        "duration": 168,
        "start_time": "2023-03-10T11:16:17.952Z"
      },
      {
        "duration": 13,
        "start_time": "2023-03-10T11:16:18.122Z"
      },
      {
        "duration": 47,
        "start_time": "2023-03-10T11:16:18.137Z"
      },
      {
        "duration": 132,
        "start_time": "2023-03-10T11:16:18.191Z"
      },
      {
        "duration": 14,
        "start_time": "2023-03-10T11:16:18.325Z"
      },
      {
        "duration": 151,
        "start_time": "2023-03-10T11:16:18.353Z"
      },
      {
        "duration": 221502,
        "start_time": "2023-03-10T11:16:18.509Z"
      },
      {
        "duration": 1390,
        "start_time": "2023-03-10T11:20:00.014Z"
      },
      {
        "duration": 147,
        "start_time": "2023-03-10T12:37:02.569Z"
      },
      {
        "duration": 23,
        "start_time": "2023-03-10T12:37:28.928Z"
      },
      {
        "duration": 9,
        "start_time": "2023-03-10T12:44:18.273Z"
      },
      {
        "duration": 234,
        "start_time": "2023-03-10T12:45:00.470Z"
      },
      {
        "duration": 67,
        "start_time": "2023-03-10T12:45:07.612Z"
      },
      {
        "duration": 50,
        "start_time": "2023-03-10T12:51:48.773Z"
      },
      {
        "duration": 75,
        "start_time": "2023-03-10T12:53:33.838Z"
      },
      {
        "duration": 22,
        "start_time": "2023-03-10T12:54:51.009Z"
      },
      {
        "duration": 28,
        "start_time": "2023-03-10T12:57:00.740Z"
      },
      {
        "duration": 58,
        "start_time": "2023-03-10T12:57:01.471Z"
      },
      {
        "duration": 32,
        "start_time": "2023-03-10T12:57:02.445Z"
      },
      {
        "duration": 24,
        "start_time": "2023-03-10T13:12:51.316Z"
      },
      {
        "duration": 10,
        "start_time": "2023-03-10T13:13:57.101Z"
      },
      {
        "duration": 29,
        "start_time": "2023-03-10T13:14:04.538Z"
      },
      {
        "duration": 70,
        "start_time": "2023-03-10T13:14:05.739Z"
      },
      {
        "duration": 18,
        "start_time": "2023-03-10T13:14:07.711Z"
      },
      {
        "duration": 20,
        "start_time": "2023-03-10T13:15:10.078Z"
      },
      {
        "duration": 5,
        "start_time": "2023-03-10T13:16:55.235Z"
      },
      {
        "duration": 76,
        "start_time": "2023-03-10T13:19:28.629Z"
      },
      {
        "duration": 21,
        "start_time": "2023-03-10T13:19:29.411Z"
      },
      {
        "duration": 6,
        "start_time": "2023-03-10T13:19:31.013Z"
      },
      {
        "duration": 60,
        "start_time": "2023-03-10T13:20:23.131Z"
      },
      {
        "duration": 48,
        "start_time": "2023-03-10T13:22:32.676Z"
      },
      {
        "duration": 12,
        "start_time": "2023-03-10T13:22:55.811Z"
      },
      {
        "duration": 4,
        "start_time": "2023-03-10T13:23:38.016Z"
      },
      {
        "duration": 28,
        "start_time": "2023-03-10T13:23:47.886Z"
      },
      {
        "duration": 6,
        "start_time": "2023-03-10T13:25:52.685Z"
      },
      {
        "duration": 61,
        "start_time": "2023-03-11T08:53:48.479Z"
      },
      {
        "duration": 20,
        "start_time": "2023-03-11T08:53:50.031Z"
      },
      {
        "duration": 4,
        "start_time": "2023-03-11T08:53:53.024Z"
      },
      {
        "duration": 51,
        "start_time": "2023-03-11T08:54:24.997Z"
      },
      {
        "duration": 16,
        "start_time": "2023-03-11T08:54:32.658Z"
      },
      {
        "duration": 6,
        "start_time": "2023-03-11T09:03:56.820Z"
      },
      {
        "duration": 10,
        "start_time": "2023-03-11T09:04:03.237Z"
      },
      {
        "duration": 18,
        "start_time": "2023-03-11T09:04:16.911Z"
      },
      {
        "duration": 16,
        "start_time": "2023-03-11T09:04:27.198Z"
      },
      {
        "duration": 2,
        "start_time": "2023-03-11T14:05:10.234Z"
      },
      {
        "duration": 10,
        "start_time": "2023-03-11T14:05:11.270Z"
      },
      {
        "duration": 1379,
        "start_time": "2023-03-11T14:05:30.809Z"
      },
      {
        "duration": 2960,
        "start_time": "2023-03-11T14:05:32.190Z"
      },
      {
        "duration": 103,
        "start_time": "2023-03-11T14:05:35.152Z"
      },
      {
        "duration": 18,
        "start_time": "2023-03-11T14:05:35.257Z"
      },
      {
        "duration": 139,
        "start_time": "2023-03-11T14:05:35.276Z"
      },
      {
        "duration": 438,
        "start_time": "2023-03-11T14:05:35.416Z"
      },
      {
        "duration": 901,
        "start_time": "2023-03-11T14:05:35.856Z"
      },
      {
        "duration": 4,
        "start_time": "2023-03-11T14:05:36.758Z"
      },
      {
        "duration": 9,
        "start_time": "2023-03-11T14:05:36.764Z"
      },
      {
        "duration": 172,
        "start_time": "2023-03-11T14:05:36.775Z"
      },
      {
        "duration": 9,
        "start_time": "2023-03-11T14:05:36.948Z"
      },
      {
        "duration": 17,
        "start_time": "2023-03-11T14:05:36.958Z"
      },
      {
        "duration": 318,
        "start_time": "2023-03-11T14:05:36.976Z"
      },
      {
        "duration": 184,
        "start_time": "2023-03-11T14:05:37.296Z"
      },
      {
        "duration": 12,
        "start_time": "2023-03-11T14:05:37.482Z"
      },
      {
        "duration": 65,
        "start_time": "2023-03-11T14:05:37.495Z"
      },
      {
        "duration": 93,
        "start_time": "2023-03-11T14:05:37.562Z"
      },
      {
        "duration": 7,
        "start_time": "2023-03-11T14:05:37.656Z"
      },
      {
        "duration": 155,
        "start_time": "2023-03-11T14:05:37.664Z"
      },
      {
        "duration": 23,
        "start_time": "2023-03-11T14:05:37.820Z"
      },
      {
        "duration": 49,
        "start_time": "2023-03-11T14:05:37.845Z"
      },
      {
        "duration": 97,
        "start_time": "2023-03-11T14:05:37.895Z"
      },
      {
        "duration": 7,
        "start_time": "2023-03-11T14:05:37.993Z"
      },
      {
        "duration": 18,
        "start_time": "2023-03-11T14:05:38.002Z"
      },
      {
        "duration": 299,
        "start_time": "2023-03-11T14:05:38.022Z"
      },
      {
        "duration": 44,
        "start_time": "2023-03-11T14:05:38.323Z"
      },
      {
        "duration": 86,
        "start_time": "2023-03-11T14:05:38.369Z"
      },
      {
        "duration": 24,
        "start_time": "2023-03-11T14:05:38.459Z"
      },
      {
        "duration": 14,
        "start_time": "2023-03-11T14:05:38.485Z"
      },
      {
        "duration": 145,
        "start_time": "2023-03-11T14:05:38.500Z"
      },
      {
        "duration": 16,
        "start_time": "2023-03-11T14:05:38.647Z"
      },
      {
        "duration": 128,
        "start_time": "2023-03-11T14:05:38.665Z"
      },
      {
        "duration": 12,
        "start_time": "2023-03-11T14:05:38.795Z"
      },
      {
        "duration": 98,
        "start_time": "2023-03-11T14:05:38.809Z"
      },
      {
        "duration": 20,
        "start_time": "2023-03-11T14:05:38.909Z"
      },
      {
        "duration": 92,
        "start_time": "2023-03-11T14:05:38.930Z"
      },
      {
        "duration": 23,
        "start_time": "2023-03-11T14:05:39.024Z"
      },
      {
        "duration": 12,
        "start_time": "2023-03-11T14:05:39.049Z"
      },
      {
        "duration": 135,
        "start_time": "2023-03-11T14:05:39.063Z"
      },
      {
        "duration": 14,
        "start_time": "2023-03-11T14:05:39.200Z"
      },
      {
        "duration": 89,
        "start_time": "2023-03-11T14:05:39.216Z"
      },
      {
        "duration": 163803,
        "start_time": "2023-03-11T14:05:39.307Z"
      },
      {
        "duration": 1125,
        "start_time": "2023-03-11T14:08:23.111Z"
      },
      {
        "duration": 3,
        "start_time": "2023-03-11T14:08:24.239Z"
      },
      {
        "duration": 17,
        "start_time": "2023-03-11T14:08:24.244Z"
      },
      {
        "duration": 10,
        "start_time": "2023-03-11T14:08:24.262Z"
      },
      {
        "duration": 26,
        "start_time": "2023-03-11T14:08:24.273Z"
      },
      {
        "duration": 68,
        "start_time": "2023-03-11T14:08:24.300Z"
      },
      {
        "duration": 16,
        "start_time": "2023-03-11T14:08:24.370Z"
      },
      {
        "duration": 6,
        "start_time": "2023-03-11T14:08:24.388Z"
      },
      {
        "duration": 10,
        "start_time": "2023-03-11T14:08:24.396Z"
      },
      {
        "duration": 67,
        "start_time": "2023-03-11T14:08:24.408Z"
      },
      {
        "duration": 115,
        "start_time": "2023-03-11T14:08:24.477Z"
      },
      {
        "duration": 18,
        "start_time": "2023-03-11T14:15:38.425Z"
      },
      {
        "duration": 23,
        "start_time": "2023-03-11T14:16:25.232Z"
      },
      {
        "duration": 22,
        "start_time": "2023-03-11T14:16:26.586Z"
      },
      {
        "duration": 23,
        "start_time": "2023-03-11T14:16:46.762Z"
      },
      {
        "duration": 17,
        "start_time": "2023-03-11T14:16:48.034Z"
      },
      {
        "duration": 22,
        "start_time": "2023-03-11T14:17:32.618Z"
      },
      {
        "duration": 20,
        "start_time": "2023-03-11T14:19:58.574Z"
      },
      {
        "duration": 26,
        "start_time": "2023-03-11T14:19:59.439Z"
      },
      {
        "duration": 86,
        "start_time": "2023-03-11T14:20:00.322Z"
      },
      {
        "duration": 16,
        "start_time": "2023-03-11T14:20:01.190Z"
      },
      {
        "duration": 7,
        "start_time": "2023-03-11T14:20:02.119Z"
      },
      {
        "duration": 3,
        "start_time": "2023-03-11T14:20:03.207Z"
      },
      {
        "duration": 50,
        "start_time": "2023-03-11T14:20:04.468Z"
      },
      {
        "duration": 18,
        "start_time": "2023-03-11T14:20:07.292Z"
      },
      {
        "duration": 17,
        "start_time": "2023-03-11T14:20:08.589Z"
      },
      {
        "duration": 22,
        "start_time": "2023-03-11T14:21:18.836Z"
      },
      {
        "duration": 50,
        "start_time": "2023-03-11T14:36:41.886Z"
      },
      {
        "duration": 2,
        "start_time": "2023-03-11T14:36:43.180Z"
      },
      {
        "duration": 5,
        "start_time": "2023-03-11T14:37:44.452Z"
      },
      {
        "duration": 10,
        "start_time": "2023-03-11T14:38:51.119Z"
      },
      {
        "duration": 3,
        "start_time": "2023-03-11T14:40:41.762Z"
      },
      {
        "duration": 12,
        "start_time": "2023-03-11T14:40:52.339Z"
      },
      {
        "duration": 265,
        "start_time": "2023-03-11T14:53:28.374Z"
      },
      {
        "duration": 264,
        "start_time": "2023-03-11T14:53:55.805Z"
      },
      {
        "duration": 3,
        "start_time": "2023-03-11T14:54:40.885Z"
      },
      {
        "duration": 252,
        "start_time": "2023-03-11T14:54:42.090Z"
      },
      {
        "duration": 3,
        "start_time": "2023-03-11T14:55:29.548Z"
      },
      {
        "duration": 11,
        "start_time": "2023-03-11T14:55:31.005Z"
      },
      {
        "duration": 64,
        "start_time": "2023-03-11T14:55:32.168Z"
      },
      {
        "duration": 15,
        "start_time": "2023-03-11T14:55:33.015Z"
      },
      {
        "duration": 5,
        "start_time": "2023-03-11T14:55:34.884Z"
      },
      {
        "duration": 3,
        "start_time": "2023-03-11T14:55:37.962Z"
      },
      {
        "duration": 267,
        "start_time": "2023-03-11T14:55:39.217Z"
      },
      {
        "duration": 1382,
        "start_time": "2023-03-11T14:55:54.119Z"
      },
      {
        "duration": 868,
        "start_time": "2023-03-11T14:55:55.503Z"
      },
      {
        "duration": 106,
        "start_time": "2023-03-11T14:55:56.373Z"
      },
      {
        "duration": 17,
        "start_time": "2023-03-11T14:55:56.482Z"
      },
      {
        "duration": 134,
        "start_time": "2023-03-11T14:55:56.500Z"
      },
      {
        "duration": 459,
        "start_time": "2023-03-11T14:55:56.639Z"
      },
      {
        "duration": 897,
        "start_time": "2023-03-11T14:55:57.099Z"
      },
      {
        "duration": 4,
        "start_time": "2023-03-11T14:55:57.997Z"
      },
      {
        "duration": 14,
        "start_time": "2023-03-11T14:55:58.002Z"
      },
      {
        "duration": 175,
        "start_time": "2023-03-11T14:55:58.018Z"
      },
      {
        "duration": 8,
        "start_time": "2023-03-11T14:55:58.195Z"
      },
      {
        "duration": 37,
        "start_time": "2023-03-11T14:55:58.204Z"
      },
      {
        "duration": 304,
        "start_time": "2023-03-11T14:55:58.243Z"
      },
      {
        "duration": 189,
        "start_time": "2023-03-11T14:55:58.548Z"
      },
      {
        "duration": 13,
        "start_time": "2023-03-11T14:55:58.740Z"
      },
      {
        "duration": 57,
        "start_time": "2023-03-11T14:55:58.754Z"
      },
      {
        "duration": 109,
        "start_time": "2023-03-11T14:55:58.813Z"
      },
      {
        "duration": 7,
        "start_time": "2023-03-11T14:55:58.924Z"
      },
      {
        "duration": 142,
        "start_time": "2023-03-11T14:55:58.940Z"
      },
      {
        "duration": 10,
        "start_time": "2023-03-11T14:55:59.084Z"
      },
      {
        "duration": 63,
        "start_time": "2023-03-11T14:55:59.096Z"
      },
      {
        "duration": 93,
        "start_time": "2023-03-11T14:55:59.161Z"
      },
      {
        "duration": 12,
        "start_time": "2023-03-11T14:55:59.256Z"
      },
      {
        "duration": 19,
        "start_time": "2023-03-11T14:55:59.270Z"
      },
      {
        "duration": 303,
        "start_time": "2023-03-11T14:55:59.291Z"
      },
      {
        "duration": 51,
        "start_time": "2023-03-11T14:55:59.596Z"
      },
      {
        "duration": 77,
        "start_time": "2023-03-11T14:55:59.648Z"
      },
      {
        "duration": 20,
        "start_time": "2023-03-11T14:55:59.740Z"
      },
      {
        "duration": 11,
        "start_time": "2023-03-11T14:55:59.762Z"
      },
      {
        "duration": 128,
        "start_time": "2023-03-11T14:55:59.774Z"
      },
      {
        "duration": 14,
        "start_time": "2023-03-11T14:55:59.904Z"
      },
      {
        "duration": 129,
        "start_time": "2023-03-11T14:55:59.920Z"
      },
      {
        "duration": 11,
        "start_time": "2023-03-11T14:56:00.051Z"
      },
      {
        "duration": 105,
        "start_time": "2023-03-11T14:56:00.063Z"
      },
      {
        "duration": 21,
        "start_time": "2023-03-11T14:56:00.169Z"
      },
      {
        "duration": 107,
        "start_time": "2023-03-11T14:56:00.191Z"
      },
      {
        "duration": 13,
        "start_time": "2023-03-11T14:56:00.300Z"
      },
      {
        "duration": 24,
        "start_time": "2023-03-11T14:56:00.315Z"
      },
      {
        "duration": 96,
        "start_time": "2023-03-11T14:56:00.340Z"
      },
      {
        "duration": 15,
        "start_time": "2023-03-11T14:56:00.437Z"
      },
      {
        "duration": 98,
        "start_time": "2023-03-11T14:56:00.454Z"
      },
      {
        "duration": 164107,
        "start_time": "2023-03-11T14:56:00.553Z"
      },
      {
        "duration": 1020,
        "start_time": "2023-03-11T14:58:44.662Z"
      },
      {
        "duration": 3,
        "start_time": "2023-03-11T14:58:45.684Z"
      },
      {
        "duration": 5,
        "start_time": "2023-03-11T14:58:45.689Z"
      },
      {
        "duration": 5,
        "start_time": "2023-03-11T14:58:45.696Z"
      },
      {
        "duration": 5,
        "start_time": "2023-03-11T14:58:45.703Z"
      },
      {
        "duration": 44,
        "start_time": "2023-03-11T14:58:45.710Z"
      },
      {
        "duration": 72,
        "start_time": "2023-03-11T14:58:45.756Z"
      },
      {
        "duration": 14,
        "start_time": "2023-03-11T14:58:45.839Z"
      },
      {
        "duration": 5,
        "start_time": "2023-03-11T14:58:45.855Z"
      },
      {
        "duration": 6,
        "start_time": "2023-03-11T14:58:45.862Z"
      },
      {
        "duration": 285,
        "start_time": "2023-03-11T14:58:45.870Z"
      },
      {
        "duration": 255,
        "start_time": "2023-03-11T15:00:15.666Z"
      },
      {
        "duration": 19,
        "start_time": "2023-03-11T15:00:54.115Z"
      },
      {
        "duration": 11,
        "start_time": "2023-03-11T15:00:54.880Z"
      },
      {
        "duration": 72,
        "start_time": "2023-03-11T15:00:55.874Z"
      },
      {
        "duration": 15,
        "start_time": "2023-03-11T15:00:56.930Z"
      },
      {
        "duration": 6,
        "start_time": "2023-03-11T15:00:58.239Z"
      },
      {
        "duration": 2,
        "start_time": "2023-03-11T15:01:00.216Z"
      },
      {
        "duration": 317,
        "start_time": "2023-03-11T15:01:12.262Z"
      },
      {
        "duration": 283,
        "start_time": "2023-03-11T15:02:15.374Z"
      },
      {
        "duration": 260,
        "start_time": "2023-03-11T15:02:26.921Z"
      },
      {
        "duration": 48,
        "start_time": "2023-03-11T15:06:03.722Z"
      },
      {
        "duration": 252,
        "start_time": "2023-03-11T15:06:13.986Z"
      },
      {
        "duration": 271,
        "start_time": "2023-03-11T15:07:45.775Z"
      },
      {
        "duration": 262,
        "start_time": "2023-03-11T15:13:11.673Z"
      },
      {
        "duration": 269,
        "start_time": "2023-03-11T15:32:16.738Z"
      },
      {
        "duration": 14,
        "start_time": "2023-03-11T15:34:02.782Z"
      },
      {
        "duration": 6,
        "start_time": "2023-03-11T15:34:20.282Z"
      },
      {
        "duration": 1294,
        "start_time": "2023-03-11T15:34:59.763Z"
      },
      {
        "duration": 814,
        "start_time": "2023-03-11T15:35:01.059Z"
      },
      {
        "duration": 115,
        "start_time": "2023-03-11T15:35:01.874Z"
      },
      {
        "duration": 15,
        "start_time": "2023-03-11T15:35:01.991Z"
      },
      {
        "duration": 133,
        "start_time": "2023-03-11T15:35:02.008Z"
      },
      {
        "duration": 517,
        "start_time": "2023-03-11T15:35:02.143Z"
      },
      {
        "duration": 954,
        "start_time": "2023-03-11T15:35:02.662Z"
      },
      {
        "duration": 5,
        "start_time": "2023-03-11T15:35:03.618Z"
      },
      {
        "duration": 20,
        "start_time": "2023-03-11T15:35:03.624Z"
      },
      {
        "duration": 156,
        "start_time": "2023-03-11T15:35:03.646Z"
      },
      {
        "duration": 8,
        "start_time": "2023-03-11T15:35:03.804Z"
      },
      {
        "duration": 29,
        "start_time": "2023-03-11T15:35:03.813Z"
      },
      {
        "duration": 310,
        "start_time": "2023-03-11T15:35:03.844Z"
      },
      {
        "duration": 200,
        "start_time": "2023-03-11T15:35:04.156Z"
      },
      {
        "duration": 12,
        "start_time": "2023-03-11T15:35:04.358Z"
      },
      {
        "duration": 68,
        "start_time": "2023-03-11T15:35:04.372Z"
      },
      {
        "duration": 104,
        "start_time": "2023-03-11T15:35:04.442Z"
      },
      {
        "duration": 7,
        "start_time": "2023-03-11T15:35:04.548Z"
      },
      {
        "duration": 150,
        "start_time": "2023-03-11T15:35:04.557Z"
      },
      {
        "duration": 10,
        "start_time": "2023-03-11T15:35:04.709Z"
      },
      {
        "duration": 62,
        "start_time": "2023-03-11T15:35:04.721Z"
      },
      {
        "duration": 82,
        "start_time": "2023-03-11T15:35:04.785Z"
      },
      {
        "duration": 7,
        "start_time": "2023-03-11T15:35:04.869Z"
      },
      {
        "duration": 16,
        "start_time": "2023-03-11T15:35:04.878Z"
      },
      {
        "duration": 301,
        "start_time": "2023-03-11T15:35:04.896Z"
      },
      {
        "duration": 46,
        "start_time": "2023-03-11T15:35:05.199Z"
      },
      {
        "duration": 107,
        "start_time": "2023-03-11T15:35:05.247Z"
      },
      {
        "duration": 6,
        "start_time": "2023-03-11T15:35:05.358Z"
      },
      {
        "duration": 38,
        "start_time": "2023-03-11T15:35:05.366Z"
      },
      {
        "duration": 12,
        "start_time": "2023-03-11T15:35:05.406Z"
      },
      {
        "duration": 124,
        "start_time": "2023-03-11T15:35:05.420Z"
      },
      {
        "duration": 15,
        "start_time": "2023-03-11T15:35:05.546Z"
      },
      {
        "duration": 130,
        "start_time": "2023-03-11T15:35:05.563Z"
      },
      {
        "duration": 10,
        "start_time": "2023-03-11T15:35:05.695Z"
      },
      {
        "duration": 104,
        "start_time": "2023-03-11T15:35:05.707Z"
      },
      {
        "duration": 20,
        "start_time": "2023-03-11T15:35:05.813Z"
      },
      {
        "duration": 93,
        "start_time": "2023-03-11T15:35:05.835Z"
      },
      {
        "duration": 15,
        "start_time": "2023-03-11T15:35:05.929Z"
      },
      {
        "duration": 15,
        "start_time": "2023-03-11T15:35:05.946Z"
      },
      {
        "duration": 93,
        "start_time": "2023-03-11T15:35:05.963Z"
      },
      {
        "duration": 13,
        "start_time": "2023-03-11T15:35:06.057Z"
      },
      {
        "duration": 76,
        "start_time": "2023-03-11T15:35:06.072Z"
      },
      {
        "duration": 161558,
        "start_time": "2023-03-11T15:35:06.151Z"
      },
      {
        "duration": 1082,
        "start_time": "2023-03-11T15:37:47.710Z"
      },
      {
        "duration": 2,
        "start_time": "2023-03-11T15:37:48.793Z"
      },
      {
        "duration": 6,
        "start_time": "2023-03-11T15:37:48.797Z"
      },
      {
        "duration": 7,
        "start_time": "2023-03-11T15:37:48.804Z"
      },
      {
        "duration": 36,
        "start_time": "2023-03-11T15:37:48.813Z"
      },
      {
        "duration": 9,
        "start_time": "2023-03-11T15:37:48.850Z"
      },
      {
        "duration": 62,
        "start_time": "2023-03-11T15:37:48.861Z"
      },
      {
        "duration": 15,
        "start_time": "2023-03-11T15:37:48.940Z"
      },
      {
        "duration": 6,
        "start_time": "2023-03-11T15:37:48.957Z"
      },
      {
        "duration": 5,
        "start_time": "2023-03-11T15:37:48.965Z"
      },
      {
        "duration": 344,
        "start_time": "2023-03-11T15:37:48.971Z"
      },
      {
        "duration": 269,
        "start_time": "2023-03-11T15:47:41.973Z"
      },
      {
        "duration": 4,
        "start_time": "2023-03-11T15:54:28.712Z"
      },
      {
        "duration": 3,
        "start_time": "2023-03-11T15:54:29.936Z"
      },
      {
        "duration": 229,
        "start_time": "2023-03-11T15:54:31.150Z"
      },
      {
        "duration": 331,
        "start_time": "2023-03-11T15:59:29.799Z"
      },
      {
        "duration": 263,
        "start_time": "2023-03-11T15:59:48.878Z"
      },
      {
        "duration": 104,
        "start_time": "2023-03-11T16:01:55.726Z"
      },
      {
        "duration": 18,
        "start_time": "2023-03-11T16:03:11.452Z"
      },
      {
        "duration": 31,
        "start_time": "2023-03-11T16:04:54.698Z"
      },
      {
        "duration": 15,
        "start_time": "2023-03-11T16:22:54.733Z"
      },
      {
        "duration": 253,
        "start_time": "2023-03-11T16:22:55.696Z"
      },
      {
        "duration": 12,
        "start_time": "2023-03-11T16:22:58.672Z"
      },
      {
        "duration": 13,
        "start_time": "2023-03-11T16:25:06.975Z"
      },
      {
        "duration": 2,
        "start_time": "2023-03-11T16:25:07.811Z"
      },
      {
        "duration": 220,
        "start_time": "2023-03-11T16:25:09.368Z"
      },
      {
        "duration": 12,
        "start_time": "2023-03-11T16:25:10.918Z"
      },
      {
        "duration": 10,
        "start_time": "2023-03-11T16:25:28.104Z"
      },
      {
        "duration": 22,
        "start_time": "2023-03-11T16:27:27.763Z"
      },
      {
        "duration": 61,
        "start_time": "2023-03-11T16:27:28.819Z"
      },
      {
        "duration": 17,
        "start_time": "2023-03-11T16:29:32.072Z"
      },
      {
        "duration": 4,
        "start_time": "2023-03-11T16:29:33.304Z"
      },
      {
        "duration": 236,
        "start_time": "2023-03-11T16:29:34.346Z"
      },
      {
        "duration": 67,
        "start_time": "2023-03-11T16:29:37.719Z"
      },
      {
        "duration": 12,
        "start_time": "2023-03-11T16:29:38.845Z"
      },
      {
        "duration": 1240,
        "start_time": "2023-03-11T16:35:09.678Z"
      },
      {
        "duration": 732,
        "start_time": "2023-03-11T16:35:10.920Z"
      },
      {
        "duration": 110,
        "start_time": "2023-03-11T16:35:11.654Z"
      },
      {
        "duration": 14,
        "start_time": "2023-03-11T16:35:11.766Z"
      },
      {
        "duration": 115,
        "start_time": "2023-03-11T16:35:11.781Z"
      },
      {
        "duration": 420,
        "start_time": "2023-03-11T16:35:11.898Z"
      },
      {
        "duration": 940,
        "start_time": "2023-03-11T16:35:12.320Z"
      },
      {
        "duration": 5,
        "start_time": "2023-03-11T16:35:13.262Z"
      },
      {
        "duration": 11,
        "start_time": "2023-03-11T16:35:13.268Z"
      },
      {
        "duration": 170,
        "start_time": "2023-03-11T16:35:13.281Z"
      },
      {
        "duration": 8,
        "start_time": "2023-03-11T16:35:13.453Z"
      },
      {
        "duration": 20,
        "start_time": "2023-03-11T16:35:13.463Z"
      },
      {
        "duration": 316,
        "start_time": "2023-03-11T16:35:13.484Z"
      },
      {
        "duration": 176,
        "start_time": "2023-03-11T16:35:13.802Z"
      },
      {
        "duration": 11,
        "start_time": "2023-03-11T16:35:13.980Z"
      },
      {
        "duration": 68,
        "start_time": "2023-03-11T16:35:13.992Z"
      },
      {
        "duration": 92,
        "start_time": "2023-03-11T16:35:14.062Z"
      },
      {
        "duration": 7,
        "start_time": "2023-03-11T16:35:14.155Z"
      },
      {
        "duration": 143,
        "start_time": "2023-03-11T16:35:14.163Z"
      },
      {
        "duration": 11,
        "start_time": "2023-03-11T16:35:14.307Z"
      },
      {
        "duration": 61,
        "start_time": "2023-03-11T16:35:14.319Z"
      },
      {
        "duration": 82,
        "start_time": "2023-03-11T16:35:14.382Z"
      },
      {
        "duration": 6,
        "start_time": "2023-03-11T16:35:14.465Z"
      },
      {
        "duration": 12,
        "start_time": "2023-03-11T16:35:14.473Z"
      },
      {
        "duration": 290,
        "start_time": "2023-03-11T16:35:14.487Z"
      },
      {
        "duration": 35,
        "start_time": "2023-03-11T16:35:14.779Z"
      },
      {
        "duration": 85,
        "start_time": "2023-03-11T16:35:14.816Z"
      },
      {
        "duration": 5,
        "start_time": "2023-03-11T16:35:14.905Z"
      },
      {
        "duration": 33,
        "start_time": "2023-03-11T16:35:14.911Z"
      },
      {
        "duration": 12,
        "start_time": "2023-03-11T16:35:14.946Z"
      },
      {
        "duration": 142,
        "start_time": "2023-03-11T16:35:14.960Z"
      },
      {
        "duration": 21,
        "start_time": "2023-03-11T16:35:15.104Z"
      },
      {
        "duration": 132,
        "start_time": "2023-03-11T16:35:15.127Z"
      },
      {
        "duration": 10,
        "start_time": "2023-03-11T16:35:15.261Z"
      },
      {
        "duration": 94,
        "start_time": "2023-03-11T16:35:15.272Z"
      },
      {
        "duration": 19,
        "start_time": "2023-03-11T16:35:15.367Z"
      },
      {
        "duration": 93,
        "start_time": "2023-03-11T16:35:15.388Z"
      },
      {
        "duration": 13,
        "start_time": "2023-03-11T16:35:15.483Z"
      },
      {
        "duration": 12,
        "start_time": "2023-03-11T16:35:15.498Z"
      },
      {
        "duration": 106,
        "start_time": "2023-03-11T16:35:15.512Z"
      },
      {
        "duration": 12,
        "start_time": "2023-03-11T16:35:15.620Z"
      },
      {
        "duration": 61,
        "start_time": "2023-03-11T16:35:15.633Z"
      },
      {
        "duration": 165067,
        "start_time": "2023-03-11T16:35:15.696Z"
      },
      {
        "duration": 1089,
        "start_time": "2023-03-11T16:38:00.765Z"
      },
      {
        "duration": 16,
        "start_time": "2023-03-11T16:38:01.856Z"
      },
      {
        "duration": 17,
        "start_time": "2023-03-11T16:38:01.874Z"
      },
      {
        "duration": 109,
        "start_time": "2023-03-11T16:38:01.892Z"
      },
      {
        "duration": 0,
        "start_time": "2023-03-11T16:38:02.003Z"
      },
      {
        "duration": 0,
        "start_time": "2023-03-11T16:38:02.004Z"
      },
      {
        "duration": 0,
        "start_time": "2023-03-11T16:38:02.005Z"
      },
      {
        "duration": 0,
        "start_time": "2023-03-11T16:38:02.007Z"
      },
      {
        "duration": 0,
        "start_time": "2023-03-11T16:38:02.007Z"
      },
      {
        "duration": 0,
        "start_time": "2023-03-11T16:38:02.008Z"
      },
      {
        "duration": 0,
        "start_time": "2023-03-11T16:38:02.009Z"
      },
      {
        "duration": 0,
        "start_time": "2023-03-11T16:38:02.010Z"
      },
      {
        "duration": 0,
        "start_time": "2023-03-11T16:38:02.011Z"
      },
      {
        "duration": 0,
        "start_time": "2023-03-11T16:38:02.012Z"
      },
      {
        "duration": 0,
        "start_time": "2023-03-11T16:38:02.013Z"
      },
      {
        "duration": 0,
        "start_time": "2023-03-11T16:38:02.014Z"
      },
      {
        "duration": 9,
        "start_time": "2023-03-11T16:38:58.205Z"
      },
      {
        "duration": 416,
        "start_time": "2023-03-11T16:39:29.009Z"
      },
      {
        "duration": 41,
        "start_time": "2023-03-11T16:39:32.973Z"
      },
      {
        "duration": 18,
        "start_time": "2023-03-11T16:39:36.155Z"
      },
      {
        "duration": 13,
        "start_time": "2023-03-11T16:41:08.106Z"
      },
      {
        "duration": 2,
        "start_time": "2023-03-11T16:41:08.904Z"
      },
      {
        "duration": 379,
        "start_time": "2023-03-11T16:41:10.117Z"
      },
      {
        "duration": 39,
        "start_time": "2023-03-11T16:41:15.354Z"
      },
      {
        "duration": 17,
        "start_time": "2023-03-11T16:41:18.061Z"
      },
      {
        "duration": 1310,
        "start_time": "2023-03-11T16:43:46.423Z"
      },
      {
        "duration": 783,
        "start_time": "2023-03-11T16:43:47.735Z"
      },
      {
        "duration": 116,
        "start_time": "2023-03-11T16:43:48.520Z"
      },
      {
        "duration": 18,
        "start_time": "2023-03-11T16:43:48.641Z"
      },
      {
        "duration": 123,
        "start_time": "2023-03-11T16:43:48.661Z"
      },
      {
        "duration": 488,
        "start_time": "2023-03-11T16:43:48.785Z"
      },
      {
        "duration": 966,
        "start_time": "2023-03-11T16:43:49.275Z"
      },
      {
        "duration": 4,
        "start_time": "2023-03-11T16:43:50.243Z"
      },
      {
        "duration": 12,
        "start_time": "2023-03-11T16:43:50.249Z"
      },
      {
        "duration": 161,
        "start_time": "2023-03-11T16:43:50.263Z"
      },
      {
        "duration": 16,
        "start_time": "2023-03-11T16:43:50.425Z"
      },
      {
        "duration": 24,
        "start_time": "2023-03-11T16:43:50.442Z"
      },
      {
        "duration": 291,
        "start_time": "2023-03-11T16:43:50.468Z"
      },
      {
        "duration": 173,
        "start_time": "2023-03-11T16:43:50.761Z"
      },
      {
        "duration": 12,
        "start_time": "2023-03-11T16:43:50.939Z"
      },
      {
        "duration": 54,
        "start_time": "2023-03-11T16:43:50.953Z"
      },
      {
        "duration": 101,
        "start_time": "2023-03-11T16:43:51.009Z"
      },
      {
        "duration": 7,
        "start_time": "2023-03-11T16:43:51.111Z"
      },
      {
        "duration": 151,
        "start_time": "2023-03-11T16:43:51.119Z"
      },
      {
        "duration": 11,
        "start_time": "2023-03-11T16:43:51.272Z"
      },
      {
        "duration": 66,
        "start_time": "2023-03-11T16:43:51.284Z"
      },
      {
        "duration": 88,
        "start_time": "2023-03-11T16:43:51.352Z"
      },
      {
        "duration": 7,
        "start_time": "2023-03-11T16:43:51.442Z"
      },
      {
        "duration": 17,
        "start_time": "2023-03-11T16:43:51.450Z"
      },
      {
        "duration": 296,
        "start_time": "2023-03-11T16:43:51.469Z"
      },
      {
        "duration": 40,
        "start_time": "2023-03-11T16:43:51.767Z"
      },
      {
        "duration": 109,
        "start_time": "2023-03-11T16:43:51.809Z"
      },
      {
        "duration": 6,
        "start_time": "2023-03-11T16:43:51.922Z"
      },
      {
        "duration": 24,
        "start_time": "2023-03-11T16:43:51.939Z"
      },
      {
        "duration": 25,
        "start_time": "2023-03-11T16:43:51.965Z"
      },
      {
        "duration": 119,
        "start_time": "2023-03-11T16:43:51.992Z"
      },
      {
        "duration": 14,
        "start_time": "2023-03-11T16:43:52.113Z"
      },
      {
        "duration": 134,
        "start_time": "2023-03-11T16:43:52.128Z"
      },
      {
        "duration": 10,
        "start_time": "2023-03-11T16:43:52.264Z"
      },
      {
        "duration": 95,
        "start_time": "2023-03-11T16:43:52.275Z"
      },
      {
        "duration": 24,
        "start_time": "2023-03-11T16:43:52.372Z"
      },
      {
        "duration": 128,
        "start_time": "2023-03-11T16:43:52.400Z"
      },
      {
        "duration": 23,
        "start_time": "2023-03-11T16:43:52.530Z"
      },
      {
        "duration": 22,
        "start_time": "2023-03-11T16:43:52.555Z"
      },
      {
        "duration": 112,
        "start_time": "2023-03-11T16:43:52.579Z"
      },
      {
        "duration": 14,
        "start_time": "2023-03-11T16:43:52.692Z"
      },
      {
        "duration": 73,
        "start_time": "2023-03-11T16:43:52.708Z"
      },
      {
        "duration": 164944,
        "start_time": "2023-03-11T16:43:52.783Z"
      },
      {
        "duration": 1030,
        "start_time": "2023-03-11T16:46:37.729Z"
      },
      {
        "duration": 16,
        "start_time": "2023-03-11T16:46:38.761Z"
      },
      {
        "duration": 5,
        "start_time": "2023-03-11T16:46:38.779Z"
      },
      {
        "duration": 387,
        "start_time": "2023-03-11T16:46:38.785Z"
      },
      {
        "duration": 40,
        "start_time": "2023-03-11T16:46:39.174Z"
      },
      {
        "duration": 39,
        "start_time": "2023-03-11T16:46:39.216Z"
      },
      {
        "duration": 55,
        "start_time": "2023-03-11T21:41:52.191Z"
      },
      {
        "duration": 122,
        "start_time": "2023-03-11T21:42:18.454Z"
      },
      {
        "duration": 11,
        "start_time": "2023-03-11T21:43:06.607Z"
      },
      {
        "duration": 36,
        "start_time": "2023-03-11T21:56:43.123Z"
      },
      {
        "duration": 15,
        "start_time": "2023-03-11T21:56:59.747Z"
      },
      {
        "duration": 13,
        "start_time": "2023-03-11T21:59:44.466Z"
      },
      {
        "duration": 22760,
        "start_time": "2023-03-11T21:59:57.416Z"
      },
      {
        "duration": 14,
        "start_time": "2023-03-11T22:13:14.702Z"
      },
      {
        "duration": 3,
        "start_time": "2023-03-11T22:15:53.729Z"
      },
      {
        "duration": 22988,
        "start_time": "2023-03-11T22:16:10.422Z"
      },
      {
        "duration": 51,
        "start_time": "2023-03-11T22:39:13.772Z"
      },
      {
        "duration": 1640,
        "start_time": "2023-03-11T22:39:37.551Z"
      },
      {
        "duration": 24,
        "start_time": "2023-03-11T23:22:16.319Z"
      },
      {
        "duration": 296950,
        "start_time": "2023-03-11T23:25:25.802Z"
      },
      {
        "duration": 717020,
        "start_time": "2023-03-12T00:02:37.827Z"
      },
      {
        "duration": 38072,
        "start_time": "2023-03-12T00:18:43.690Z"
      },
      {
        "duration": 37712,
        "start_time": "2023-03-12T00:20:22.754Z"
      },
      {
        "duration": 9,
        "start_time": "2023-03-12T00:58:23.150Z"
      },
      {
        "duration": 3406,
        "start_time": "2023-03-12T00:58:52.557Z"
      },
      {
        "duration": 9,
        "start_time": "2023-03-12T00:58:55.965Z"
      },
      {
        "duration": 4,
        "start_time": "2023-03-12T01:04:50.426Z"
      },
      {
        "duration": 331,
        "start_time": "2023-03-12T01:23:53.852Z"
      },
      {
        "duration": 1971,
        "start_time": "2023-03-12T01:42:33.265Z"
      },
      {
        "duration": 1359,
        "start_time": "2023-03-12T01:42:35.239Z"
      },
      {
        "duration": 826,
        "start_time": "2023-03-12T01:42:36.600Z"
      },
      {
        "duration": 106,
        "start_time": "2023-03-12T01:42:37.428Z"
      },
      {
        "duration": 17,
        "start_time": "2023-03-12T01:42:37.536Z"
      },
      {
        "duration": 109,
        "start_time": "2023-03-12T01:42:37.555Z"
      },
      {
        "duration": 434,
        "start_time": "2023-03-12T01:42:37.666Z"
      },
      {
        "duration": 819,
        "start_time": "2023-03-12T01:42:38.101Z"
      },
      {
        "duration": 5,
        "start_time": "2023-03-12T01:42:38.922Z"
      },
      {
        "duration": 24,
        "start_time": "2023-03-12T01:42:38.929Z"
      },
      {
        "duration": 145,
        "start_time": "2023-03-12T01:42:38.955Z"
      },
      {
        "duration": 8,
        "start_time": "2023-03-12T01:42:39.101Z"
      },
      {
        "duration": 29,
        "start_time": "2023-03-12T01:42:39.111Z"
      },
      {
        "duration": 279,
        "start_time": "2023-03-12T01:42:39.141Z"
      },
      {
        "duration": 164,
        "start_time": "2023-03-12T01:42:39.422Z"
      },
      {
        "duration": 11,
        "start_time": "2023-03-12T01:42:39.588Z"
      },
      {
        "duration": 68,
        "start_time": "2023-03-12T01:42:39.600Z"
      },
      {
        "duration": 93,
        "start_time": "2023-03-12T01:42:39.670Z"
      },
      {
        "duration": 7,
        "start_time": "2023-03-12T01:42:39.764Z"
      },
      {
        "duration": 136,
        "start_time": "2023-03-12T01:42:39.772Z"
      },
      {
        "duration": 10,
        "start_time": "2023-03-12T01:42:39.910Z"
      },
      {
        "duration": 61,
        "start_time": "2023-03-12T01:42:39.921Z"
      },
      {
        "duration": 81,
        "start_time": "2023-03-12T01:42:39.984Z"
      },
      {
        "duration": 7,
        "start_time": "2023-03-12T01:42:40.066Z"
      },
      {
        "duration": 13,
        "start_time": "2023-03-12T01:42:40.075Z"
      },
      {
        "duration": 353,
        "start_time": "2023-03-12T01:42:40.089Z"
      },
      {
        "duration": 40,
        "start_time": "2023-03-12T01:42:40.444Z"
      },
      {
        "duration": 86,
        "start_time": "2023-03-12T01:42:40.487Z"
      },
      {
        "duration": 22,
        "start_time": "2023-03-12T01:42:40.575Z"
      },
      {
        "duration": 12,
        "start_time": "2023-03-12T01:42:40.599Z"
      },
      {
        "duration": 133,
        "start_time": "2023-03-12T01:42:40.612Z"
      },
      {
        "duration": 14,
        "start_time": "2023-03-12T01:42:40.747Z"
      },
      {
        "duration": 121,
        "start_time": "2023-03-12T01:42:40.762Z"
      },
      {
        "duration": 11,
        "start_time": "2023-03-12T01:42:40.884Z"
      },
      {
        "duration": 98,
        "start_time": "2023-03-12T01:42:40.897Z"
      },
      {
        "duration": 20,
        "start_time": "2023-03-12T01:42:40.997Z"
      },
      {
        "duration": 93,
        "start_time": "2023-03-12T01:42:41.019Z"
      },
      {
        "duration": 13,
        "start_time": "2023-03-12T01:42:41.113Z"
      },
      {
        "duration": 19,
        "start_time": "2023-03-12T01:42:41.127Z"
      },
      {
        "duration": 83,
        "start_time": "2023-03-12T01:42:41.148Z"
      },
      {
        "duration": 12,
        "start_time": "2023-03-12T01:42:41.240Z"
      },
      {
        "duration": 57,
        "start_time": "2023-03-12T01:42:41.253Z"
      },
      {
        "duration": 159111,
        "start_time": "2023-03-12T01:42:41.311Z"
      },
      {
        "duration": 969,
        "start_time": "2023-03-12T01:45:20.424Z"
      },
      {
        "duration": 15,
        "start_time": "2023-03-12T01:45:21.395Z"
      },
      {
        "duration": 7,
        "start_time": "2023-03-12T01:45:21.412Z"
      },
      {
        "duration": 367,
        "start_time": "2023-03-12T01:45:21.420Z"
      },
      {
        "duration": 36,
        "start_time": "2023-03-12T01:45:21.788Z"
      },
      {
        "duration": 26,
        "start_time": "2023-03-12T01:45:21.826Z"
      },
      {
        "duration": 107,
        "start_time": "2023-03-12T01:45:21.854Z"
      },
      {
        "duration": 0,
        "start_time": "2023-03-12T01:45:21.963Z"
      },
      {
        "duration": 0,
        "start_time": "2023-03-12T01:45:21.964Z"
      },
      {
        "duration": 0,
        "start_time": "2023-03-12T01:45:21.965Z"
      },
      {
        "duration": 0,
        "start_time": "2023-03-12T01:45:21.966Z"
      },
      {
        "duration": 0,
        "start_time": "2023-03-12T01:45:21.967Z"
      },
      {
        "duration": 3,
        "start_time": "2023-03-12T01:48:52.827Z"
      },
      {
        "duration": 1669,
        "start_time": "2023-03-12T01:49:00.500Z"
      },
      {
        "duration": 1793,
        "start_time": "2023-03-12T01:49:22.507Z"
      },
      {
        "duration": 1191,
        "start_time": "2023-03-12T01:49:24.302Z"
      },
      {
        "duration": 706,
        "start_time": "2023-03-12T01:49:25.494Z"
      },
      {
        "duration": 108,
        "start_time": "2023-03-12T01:49:26.202Z"
      },
      {
        "duration": 15,
        "start_time": "2023-03-12T01:49:26.311Z"
      },
      {
        "duration": 103,
        "start_time": "2023-03-12T01:49:26.328Z"
      },
      {
        "duration": 426,
        "start_time": "2023-03-12T01:49:26.432Z"
      },
      {
        "duration": 834,
        "start_time": "2023-03-12T01:49:26.860Z"
      },
      {
        "duration": 4,
        "start_time": "2023-03-12T01:49:27.696Z"
      },
      {
        "duration": 10,
        "start_time": "2023-03-12T01:49:27.702Z"
      },
      {
        "duration": 155,
        "start_time": "2023-03-12T01:49:27.713Z"
      },
      {
        "duration": 8,
        "start_time": "2023-03-12T01:49:27.870Z"
      },
      {
        "duration": 17,
        "start_time": "2023-03-12T01:49:27.879Z"
      },
      {
        "duration": 296,
        "start_time": "2023-03-12T01:49:27.897Z"
      },
      {
        "duration": 166,
        "start_time": "2023-03-12T01:49:28.194Z"
      },
      {
        "duration": 11,
        "start_time": "2023-03-12T01:49:28.362Z"
      },
      {
        "duration": 65,
        "start_time": "2023-03-12T01:49:28.375Z"
      },
      {
        "duration": 99,
        "start_time": "2023-03-12T01:49:28.442Z"
      },
      {
        "duration": 6,
        "start_time": "2023-03-12T01:49:28.543Z"
      },
      {
        "duration": 133,
        "start_time": "2023-03-12T01:49:28.550Z"
      },
      {
        "duration": 10,
        "start_time": "2023-03-12T01:49:28.685Z"
      },
      {
        "duration": 60,
        "start_time": "2023-03-12T01:49:28.697Z"
      },
      {
        "duration": 91,
        "start_time": "2023-03-12T01:49:28.759Z"
      },
      {
        "duration": 7,
        "start_time": "2023-03-12T01:49:28.851Z"
      },
      {
        "duration": 14,
        "start_time": "2023-03-12T01:49:28.859Z"
      },
      {
        "duration": 369,
        "start_time": "2023-03-12T01:49:28.875Z"
      },
      {
        "duration": 37,
        "start_time": "2023-03-12T01:49:29.246Z"
      },
      {
        "duration": 84,
        "start_time": "2023-03-12T01:49:29.287Z"
      },
      {
        "duration": 20,
        "start_time": "2023-03-12T01:49:29.372Z"
      },
      {
        "duration": 13,
        "start_time": "2023-03-12T01:49:29.394Z"
      },
      {
        "duration": 132,
        "start_time": "2023-03-12T01:49:29.408Z"
      },
      {
        "duration": 15,
        "start_time": "2023-03-12T01:49:29.542Z"
      },
      {
        "duration": 120,
        "start_time": "2023-03-12T01:49:29.559Z"
      },
      {
        "duration": 10,
        "start_time": "2023-03-12T01:49:29.680Z"
      },
      {
        "duration": 93,
        "start_time": "2023-03-12T01:49:29.691Z"
      },
      {
        "duration": 20,
        "start_time": "2023-03-12T01:49:29.785Z"
      },
      {
        "duration": 94,
        "start_time": "2023-03-12T01:49:29.806Z"
      },
      {
        "duration": 13,
        "start_time": "2023-03-12T01:49:29.902Z"
      },
      {
        "duration": 25,
        "start_time": "2023-03-12T01:49:29.916Z"
      },
      {
        "duration": 84,
        "start_time": "2023-03-12T01:49:29.942Z"
      },
      {
        "duration": 19,
        "start_time": "2023-03-12T01:49:30.027Z"
      },
      {
        "duration": 61,
        "start_time": "2023-03-12T01:49:30.048Z"
      },
      {
        "duration": 158796,
        "start_time": "2023-03-12T01:49:30.111Z"
      },
      {
        "duration": 989,
        "start_time": "2023-03-12T01:52:08.908Z"
      },
      {
        "duration": 15,
        "start_time": "2023-03-12T01:52:09.899Z"
      },
      {
        "duration": 6,
        "start_time": "2023-03-12T01:52:09.916Z"
      },
      {
        "duration": 379,
        "start_time": "2023-03-12T01:52:09.923Z"
      },
      {
        "duration": 42,
        "start_time": "2023-03-12T01:52:10.303Z"
      },
      {
        "duration": 17,
        "start_time": "2023-03-12T01:52:10.347Z"
      },
      {
        "duration": 1624,
        "start_time": "2023-03-12T01:52:10.365Z"
      },
      {
        "duration": 22552,
        "start_time": "2023-03-12T01:52:11.991Z"
      },
      {
        "duration": 704110,
        "start_time": "2023-03-12T01:52:34.545Z"
      },
      {
        "duration": 38016,
        "start_time": "2023-03-12T02:04:18.741Z"
      },
      {
        "duration": 4,
        "start_time": "2023-03-12T02:04:56.759Z"
      },
      {
        "duration": 371,
        "start_time": "2023-03-12T02:04:56.765Z"
      },
      {
        "duration": 2992,
        "start_time": "2023-03-15T07:26:23.626Z"
      },
      {
        "duration": 1877,
        "start_time": "2023-03-15T07:26:26.620Z"
      },
      {
        "duration": 1033,
        "start_time": "2023-03-15T07:26:28.499Z"
      },
      {
        "duration": 136,
        "start_time": "2023-03-15T07:26:29.534Z"
      },
      {
        "duration": 19,
        "start_time": "2023-03-15T07:26:30.766Z"
      },
      {
        "duration": 126,
        "start_time": "2023-03-15T07:26:32.317Z"
      },
      {
        "duration": 430,
        "start_time": "2023-03-15T07:26:33.136Z"
      },
      {
        "duration": 919,
        "start_time": "2023-03-15T07:26:34.503Z"
      },
      {
        "duration": 5,
        "start_time": "2023-03-15T07:26:37.166Z"
      },
      {
        "duration": 8,
        "start_time": "2023-03-15T07:26:38.402Z"
      },
      {
        "duration": 173,
        "start_time": "2023-03-15T07:26:39.175Z"
      },
      {
        "duration": 9,
        "start_time": "2023-03-15T07:26:43.506Z"
      },
      {
        "duration": 18,
        "start_time": "2023-03-15T07:26:44.550Z"
      },
      {
        "duration": 300,
        "start_time": "2023-03-15T07:26:45.832Z"
      },
      {
        "duration": 189,
        "start_time": "2023-03-15T07:26:48.018Z"
      },
      {
        "duration": 13,
        "start_time": "2023-03-15T07:26:57.213Z"
      },
      {
        "duration": 54,
        "start_time": "2023-03-15T07:28:31.728Z"
      },
      {
        "duration": 114,
        "start_time": "2023-03-15T07:28:33.617Z"
      },
      {
        "duration": 58,
        "start_time": "2023-03-15T19:37:32.844Z"
      },
      {
        "duration": 2735,
        "start_time": "2023-03-15T19:40:20.798Z"
      },
      {
        "duration": 1871,
        "start_time": "2023-03-15T19:40:23.535Z"
      },
      {
        "duration": 3129,
        "start_time": "2023-03-15T19:40:25.409Z"
      },
      {
        "duration": 151,
        "start_time": "2023-03-15T19:40:28.541Z"
      },
      {
        "duration": 18,
        "start_time": "2023-03-15T19:40:28.694Z"
      },
      {
        "duration": 138,
        "start_time": "2023-03-15T19:40:28.715Z"
      },
      {
        "duration": 540,
        "start_time": "2023-03-15T19:40:30.620Z"
      },
      {
        "duration": 1142,
        "start_time": "2023-03-15T19:40:33.319Z"
      },
      {
        "duration": 7,
        "start_time": "2023-03-15T19:40:37.176Z"
      },
      {
        "duration": 11,
        "start_time": "2023-03-15T19:40:38.071Z"
      },
      {
        "duration": 168,
        "start_time": "2023-03-15T19:40:38.973Z"
      },
      {
        "duration": 9,
        "start_time": "2023-03-15T19:40:43.321Z"
      },
      {
        "duration": 19,
        "start_time": "2023-03-15T19:40:44.694Z"
      },
      {
        "duration": 311,
        "start_time": "2023-03-15T19:40:45.797Z"
      },
      {
        "duration": 184,
        "start_time": "2023-03-15T19:40:46.757Z"
      },
      {
        "duration": 14,
        "start_time": "2023-03-15T19:40:51.123Z"
      },
      {
        "duration": 59,
        "start_time": "2023-03-15T19:40:55.777Z"
      },
      {
        "duration": 119,
        "start_time": "2023-03-15T19:40:58.236Z"
      },
      {
        "duration": 9,
        "start_time": "2023-03-15T19:41:03.166Z"
      },
      {
        "duration": 198,
        "start_time": "2023-03-15T19:41:07.632Z"
      },
      {
        "duration": 13,
        "start_time": "2023-03-15T19:41:09.198Z"
      },
      {
        "duration": 51,
        "start_time": "2023-03-15T19:41:13.494Z"
      },
      {
        "duration": 47,
        "start_time": "2023-03-15T19:41:44.545Z"
      },
      {
        "duration": 16,
        "start_time": "2023-03-15T19:42:32.126Z"
      },
      {
        "duration": 99,
        "start_time": "2023-03-15T19:45:55.489Z"
      },
      {
        "duration": 86,
        "start_time": "2023-03-15T20:06:48.597Z"
      },
      {
        "duration": 197,
        "start_time": "2023-03-15T20:07:04.214Z"
      },
      {
        "duration": 10,
        "start_time": "2023-03-15T20:09:22.217Z"
      },
      {
        "duration": 73,
        "start_time": "2023-03-15T20:09:51.157Z"
      },
      {
        "duration": 20,
        "start_time": "2023-03-15T20:09:58.922Z"
      },
      {
        "duration": 42,
        "start_time": "2023-03-15T20:10:05.279Z"
      },
      {
        "duration": 78,
        "start_time": "2023-03-15T20:10:06.237Z"
      },
      {
        "duration": 55,
        "start_time": "2023-03-15T20:11:39.456Z"
      },
      {
        "duration": 56,
        "start_time": "2023-03-15T20:12:53.358Z"
      },
      {
        "duration": 2153,
        "start_time": "2023-03-15T20:28:50.886Z"
      },
      {
        "duration": 6,
        "start_time": "2023-03-15T20:28:53.043Z"
      },
      {
        "duration": 848,
        "start_time": "2023-03-15T20:28:53.051Z"
      },
      {
        "duration": 132,
        "start_time": "2023-03-15T20:28:55.376Z"
      },
      {
        "duration": 14,
        "start_time": "2023-03-15T20:28:56.855Z"
      },
      {
        "duration": 111,
        "start_time": "2023-03-15T20:28:57.900Z"
      },
      {
        "duration": 456,
        "start_time": "2023-03-15T20:28:59.126Z"
      },
      {
        "duration": 890,
        "start_time": "2023-03-15T20:29:02.160Z"
      },
      {
        "duration": 6,
        "start_time": "2023-03-15T20:29:06.633Z"
      },
      {
        "duration": 7,
        "start_time": "2023-03-15T20:29:07.778Z"
      },
      {
        "duration": 136,
        "start_time": "2023-03-15T20:29:09.276Z"
      },
      {
        "duration": 15,
        "start_time": "2023-03-15T20:29:16.635Z"
      },
      {
        "duration": 18,
        "start_time": "2023-03-15T20:29:19.794Z"
      },
      {
        "duration": 313,
        "start_time": "2023-03-15T20:29:21.037Z"
      },
      {
        "duration": 186,
        "start_time": "2023-03-15T20:29:22.469Z"
      },
      {
        "duration": 14,
        "start_time": "2023-03-15T20:29:29.976Z"
      },
      {
        "duration": 56,
        "start_time": "2023-03-15T20:29:34.732Z"
      },
      {
        "duration": 104,
        "start_time": "2023-03-15T20:29:36.474Z"
      },
      {
        "duration": 12,
        "start_time": "2023-03-15T20:29:42.297Z"
      },
      {
        "duration": 5196,
        "start_time": "2023-03-15T21:12:49.106Z"
      },
      {
        "duration": 2237,
        "start_time": "2023-03-15T21:13:52.490Z"
      },
      {
        "duration": 5,
        "start_time": "2023-03-15T21:13:54.731Z"
      },
      {
        "duration": 881,
        "start_time": "2023-03-15T21:13:54.738Z"
      },
      {
        "duration": 112,
        "start_time": "2023-03-15T21:13:55.621Z"
      },
      {
        "duration": 29,
        "start_time": "2023-03-15T21:13:55.736Z"
      },
      {
        "duration": 111,
        "start_time": "2023-03-15T21:13:55.767Z"
      },
      {
        "duration": 444,
        "start_time": "2023-03-15T21:13:55.880Z"
      },
      {
        "duration": 1000,
        "start_time": "2023-03-15T21:13:57.913Z"
      },
      {
        "duration": 7,
        "start_time": "2023-03-15T21:14:04.787Z"
      },
      {
        "duration": 8,
        "start_time": "2023-03-15T21:14:07.486Z"
      },
      {
        "duration": 146,
        "start_time": "2023-03-15T21:14:34.303Z"
      },
      {
        "duration": 10,
        "start_time": "2023-03-15T21:14:38.277Z"
      },
      {
        "duration": 20,
        "start_time": "2023-03-15T21:14:39.498Z"
      },
      {
        "duration": 461,
        "start_time": "2023-03-15T21:14:40.339Z"
      },
      {
        "duration": 262,
        "start_time": "2023-03-15T21:14:41.353Z"
      },
      {
        "duration": 18,
        "start_time": "2023-03-15T21:14:43.803Z"
      },
      {
        "duration": 57,
        "start_time": "2023-03-15T21:14:47.131Z"
      },
      {
        "duration": 100,
        "start_time": "2023-03-15T21:14:48.789Z"
      },
      {
        "duration": 14,
        "start_time": "2023-03-15T21:14:59.655Z"
      },
      {
        "duration": 213,
        "start_time": "2023-03-15T21:15:07.916Z"
      },
      {
        "duration": 16,
        "start_time": "2023-03-15T21:15:09.163Z"
      },
      {
        "duration": 105,
        "start_time": "2023-03-15T21:15:15.159Z"
      },
      {
        "duration": 25,
        "start_time": "2023-03-15T21:15:19.251Z"
      },
      {
        "duration": 42,
        "start_time": "2023-03-15T21:15:23.464Z"
      },
      {
        "duration": 140,
        "start_time": "2023-03-15T21:15:25.008Z"
      },
      {
        "duration": 6867,
        "start_time": "2023-03-15T21:15:28.524Z"
      },
      {
        "duration": 51,
        "start_time": "2023-03-15T21:15:56.765Z"
      },
      {
        "duration": 5,
        "start_time": "2023-03-15T21:17:50.403Z"
      },
      {
        "duration": 6,
        "start_time": "2023-03-15T21:18:24.981Z"
      },
      {
        "duration": 46,
        "start_time": "2023-03-15T21:18:28.008Z"
      },
      {
        "duration": 39,
        "start_time": "2023-03-15T21:24:57.796Z"
      },
      {
        "duration": 43,
        "start_time": "2023-03-15T21:25:17.291Z"
      },
      {
        "duration": 70,
        "start_time": "2023-03-15T21:26:45.991Z"
      },
      {
        "duration": 17,
        "start_time": "2023-03-15T21:26:48.437Z"
      },
      {
        "duration": 38,
        "start_time": "2023-03-15T21:26:52.027Z"
      },
      {
        "duration": 99,
        "start_time": "2023-03-15T21:26:53.214Z"
      },
      {
        "duration": 51,
        "start_time": "2023-03-15T21:26:54.308Z"
      },
      {
        "duration": 91,
        "start_time": "2023-03-15T21:26:55.422Z"
      },
      {
        "duration": 33,
        "start_time": "2023-03-15T21:27:08.692Z"
      },
      {
        "duration": 35,
        "start_time": "2023-03-15T21:27:19.189Z"
      },
      {
        "duration": 37,
        "start_time": "2023-03-15T21:27:38.212Z"
      },
      {
        "duration": 16,
        "start_time": "2023-03-15T21:28:22.712Z"
      },
      {
        "duration": 9,
        "start_time": "2023-03-15T21:28:31.100Z"
      },
      {
        "duration": 2984,
        "start_time": "2023-03-16T06:49:00.422Z"
      },
      {
        "duration": 1670,
        "start_time": "2023-03-16T06:49:03.409Z"
      },
      {
        "duration": 1141,
        "start_time": "2023-03-16T06:49:05.080Z"
      },
      {
        "duration": 182,
        "start_time": "2023-03-16T06:49:06.224Z"
      },
      {
        "duration": 20,
        "start_time": "2023-03-16T06:49:06.408Z"
      },
      {
        "duration": 152,
        "start_time": "2023-03-16T06:49:06.430Z"
      },
      {
        "duration": 518,
        "start_time": "2023-03-16T06:49:06.584Z"
      },
      {
        "duration": 906,
        "start_time": "2023-03-16T06:49:23.624Z"
      },
      {
        "duration": 5,
        "start_time": "2023-03-16T06:49:28.350Z"
      },
      {
        "duration": 7,
        "start_time": "2023-03-16T06:49:30.798Z"
      },
      {
        "duration": 179,
        "start_time": "2023-03-16T06:49:36.646Z"
      },
      {
        "duration": 10,
        "start_time": "2023-03-16T06:49:41.689Z"
      },
      {
        "duration": 22,
        "start_time": "2023-03-16T06:49:42.931Z"
      },
      {
        "duration": 361,
        "start_time": "2023-03-16T06:49:44.407Z"
      },
      {
        "duration": 184,
        "start_time": "2023-03-16T06:49:45.798Z"
      },
      {
        "duration": 18,
        "start_time": "2023-03-16T06:49:56.299Z"
      },
      {
        "duration": 67,
        "start_time": "2023-03-16T06:50:05.615Z"
      },
      {
        "duration": 159,
        "start_time": "2023-03-16T06:50:08.909Z"
      },
      {
        "duration": 8,
        "start_time": "2023-03-16T06:50:29.610Z"
      },
      {
        "duration": 151,
        "start_time": "2023-03-16T06:52:41.092Z"
      },
      {
        "duration": 12,
        "start_time": "2023-03-16T06:52:48.697Z"
      },
      {
        "duration": 124,
        "start_time": "2023-03-16T06:53:11.697Z"
      },
      {
        "duration": 105,
        "start_time": "2023-03-16T06:53:40.629Z"
      },
      {
        "duration": 2252,
        "start_time": "2023-03-16T06:53:52.838Z"
      },
      {
        "duration": 146,
        "start_time": "2023-03-16T06:54:21.804Z"
      },
      {
        "duration": 7,
        "start_time": "2023-03-16T06:56:16.395Z"
      },
      {
        "duration": 54,
        "start_time": "2023-03-16T07:02:24.811Z"
      },
      {
        "duration": 2201,
        "start_time": "2023-03-16T07:02:39.201Z"
      },
      {
        "duration": 1602,
        "start_time": "2023-03-16T07:02:41.404Z"
      },
      {
        "duration": 1070,
        "start_time": "2023-03-16T07:02:43.007Z"
      },
      {
        "duration": 148,
        "start_time": "2023-03-16T07:02:44.079Z"
      },
      {
        "duration": 16,
        "start_time": "2023-03-16T07:02:44.229Z"
      },
      {
        "duration": 143,
        "start_time": "2023-03-16T07:02:44.247Z"
      },
      {
        "duration": 504,
        "start_time": "2023-03-16T07:02:44.654Z"
      },
      {
        "duration": 1055,
        "start_time": "2023-03-16T07:02:46.034Z"
      },
      {
        "duration": 4,
        "start_time": "2023-03-16T07:02:49.853Z"
      },
      {
        "duration": 7,
        "start_time": "2023-03-16T07:02:50.689Z"
      },
      {
        "duration": 182,
        "start_time": "2023-03-16T07:02:51.111Z"
      },
      {
        "duration": 9,
        "start_time": "2023-03-16T07:02:54.295Z"
      },
      {
        "duration": 19,
        "start_time": "2023-03-16T07:02:55.097Z"
      },
      {
        "duration": 330,
        "start_time": "2023-03-16T07:02:55.808Z"
      },
      {
        "duration": 202,
        "start_time": "2023-03-16T07:02:56.399Z"
      },
      {
        "duration": 13,
        "start_time": "2023-03-16T07:03:00.351Z"
      },
      {
        "duration": 56,
        "start_time": "2023-03-16T07:03:07.426Z"
      },
      {
        "duration": 122,
        "start_time": "2023-03-16T07:03:08.499Z"
      },
      {
        "duration": 9,
        "start_time": "2023-03-16T07:03:12.552Z"
      },
      {
        "duration": 146,
        "start_time": "2023-03-16T07:03:41.704Z"
      },
      {
        "duration": 11,
        "start_time": "2023-03-16T07:03:48.605Z"
      },
      {
        "duration": 103,
        "start_time": "2023-03-16T07:03:56.569Z"
      },
      {
        "duration": 2202,
        "start_time": "2023-03-16T07:04:17.103Z"
      },
      {
        "duration": 137,
        "start_time": "2023-03-16T07:04:25.698Z"
      },
      {
        "duration": 17,
        "start_time": "2023-03-16T07:05:17.002Z"
      },
      {
        "duration": 160,
        "start_time": "2023-03-16T07:05:21.875Z"
      },
      {
        "duration": 113,
        "start_time": "2023-03-16T07:05:24.219Z"
      },
      {
        "duration": 1284,
        "start_time": "2023-03-16T07:05:33.314Z"
      },
      {
        "duration": 2,
        "start_time": "2023-03-16T07:05:35.398Z"
      },
      {
        "duration": 113,
        "start_time": "2023-03-16T07:05:37.298Z"
      },
      {
        "duration": 6,
        "start_time": "2023-03-16T07:05:41.507Z"
      },
      {
        "duration": 1120,
        "start_time": "2023-03-16T07:06:46.696Z"
      },
      {
        "duration": 2,
        "start_time": "2023-03-16T07:06:47.818Z"
      },
      {
        "duration": 108,
        "start_time": "2023-03-16T07:06:50.299Z"
      },
      {
        "duration": 1185,
        "start_time": "2023-03-16T07:07:11.517Z"
      },
      {
        "duration": 3,
        "start_time": "2023-03-16T07:07:12.956Z"
      },
      {
        "duration": 117,
        "start_time": "2023-03-16T07:07:14.171Z"
      },
      {
        "duration": 2297,
        "start_time": "2023-03-16T07:08:32.423Z"
      },
      {
        "duration": 5,
        "start_time": "2023-03-16T07:08:34.722Z"
      },
      {
        "duration": 794,
        "start_time": "2023-03-16T07:08:34.728Z"
      },
      {
        "duration": 143,
        "start_time": "2023-03-16T07:08:35.524Z"
      },
      {
        "duration": 22,
        "start_time": "2023-03-16T07:08:35.669Z"
      },
      {
        "duration": 138,
        "start_time": "2023-03-16T07:08:35.692Z"
      },
      {
        "duration": 445,
        "start_time": "2023-03-16T07:08:35.831Z"
      },
      {
        "duration": 954,
        "start_time": "2023-03-16T07:08:36.278Z"
      },
      {
        "duration": 6,
        "start_time": "2023-03-16T07:08:37.234Z"
      },
      {
        "duration": 7,
        "start_time": "2023-03-16T07:08:37.652Z"
      },
      {
        "duration": 168,
        "start_time": "2023-03-16T07:08:38.153Z"
      },
      {
        "duration": 10,
        "start_time": "2023-03-16T07:08:40.256Z"
      },
      {
        "duration": 18,
        "start_time": "2023-03-16T07:08:40.893Z"
      },
      {
        "duration": 305,
        "start_time": "2023-03-16T07:08:42.026Z"
      },
      {
        "duration": 177,
        "start_time": "2023-03-16T07:08:42.777Z"
      },
      {
        "duration": 13,
        "start_time": "2023-03-16T07:08:45.292Z"
      },
      {
        "duration": 44,
        "start_time": "2023-03-16T07:08:50.499Z"
      },
      {
        "duration": 123,
        "start_time": "2023-03-16T07:08:51.455Z"
      },
      {
        "duration": 10,
        "start_time": "2023-03-16T07:08:54.530Z"
      },
      {
        "duration": 146,
        "start_time": "2023-03-16T07:08:58.539Z"
      },
      {
        "duration": 11,
        "start_time": "2023-03-16T07:08:59.419Z"
      },
      {
        "duration": 89,
        "start_time": "2023-03-16T07:09:03.251Z"
      },
      {
        "duration": 3,
        "start_time": "2023-03-16T07:09:06.519Z"
      },
      {
        "duration": 2,
        "start_time": "2023-03-16T07:09:09.167Z"
      },
      {
        "duration": 2,
        "start_time": "2023-03-16T07:09:11.524Z"
      },
      {
        "duration": 2377,
        "start_time": "2023-03-16T07:09:14.233Z"
      },
      {
        "duration": 4,
        "start_time": "2023-03-16T07:09:17.609Z"
      },
      {
        "duration": 167,
        "start_time": "2023-03-16T07:09:20.133Z"
      },
      {
        "duration": 6,
        "start_time": "2023-03-16T07:09:27.691Z"
      },
      {
        "duration": 111,
        "start_time": "2023-03-16T07:10:17.850Z"
      },
      {
        "duration": 109,
        "start_time": "2023-03-16T07:10:23.892Z"
      },
      {
        "duration": 1646,
        "start_time": "2023-03-16T07:11:44.699Z"
      },
      {
        "duration": 2267,
        "start_time": "2023-03-16T07:31:57.175Z"
      },
      {
        "duration": 5,
        "start_time": "2023-03-16T07:31:59.445Z"
      },
      {
        "duration": 819,
        "start_time": "2023-03-16T07:31:59.451Z"
      },
      {
        "duration": 140,
        "start_time": "2023-03-16T07:32:00.273Z"
      },
      {
        "duration": 39,
        "start_time": "2023-03-16T07:32:00.415Z"
      },
      {
        "duration": 191,
        "start_time": "2023-03-16T07:32:00.456Z"
      },
      {
        "duration": 385,
        "start_time": "2023-03-16T07:32:01.171Z"
      },
      {
        "duration": 846,
        "start_time": "2023-03-16T07:32:02.303Z"
      },
      {
        "duration": 5,
        "start_time": "2023-03-16T07:32:04.971Z"
      },
      {
        "duration": 8,
        "start_time": "2023-03-16T07:32:05.399Z"
      },
      {
        "duration": 161,
        "start_time": "2023-03-16T07:32:05.931Z"
      },
      {
        "duration": 10,
        "start_time": "2023-03-16T07:32:08.383Z"
      },
      {
        "duration": 17,
        "start_time": "2023-03-16T07:32:08.917Z"
      },
      {
        "duration": 312,
        "start_time": "2023-03-16T07:32:09.703Z"
      },
      {
        "duration": 185,
        "start_time": "2023-03-16T07:32:10.210Z"
      },
      {
        "duration": 13,
        "start_time": "2023-03-16T07:32:12.424Z"
      },
      {
        "duration": 45,
        "start_time": "2023-03-16T07:32:15.013Z"
      },
      {
        "duration": 132,
        "start_time": "2023-03-16T07:32:16.020Z"
      },
      {
        "duration": 8,
        "start_time": "2023-03-16T07:32:19.101Z"
      },
      {
        "duration": 148,
        "start_time": "2023-03-16T07:32:20.803Z"
      },
      {
        "duration": 12,
        "start_time": "2023-03-16T07:32:21.599Z"
      },
      {
        "duration": 321,
        "start_time": "2023-03-16T07:32:23.555Z"
      },
      {
        "duration": 9,
        "start_time": "2023-03-16T07:33:42.296Z"
      },
      {
        "duration": 296,
        "start_time": "2023-03-16T07:34:25.635Z"
      },
      {
        "duration": 5,
        "start_time": "2023-03-16T07:36:41.900Z"
      },
      {
        "duration": 145,
        "start_time": "2023-03-16T07:36:48.093Z"
      },
      {
        "duration": 2288,
        "start_time": "2023-03-16T07:37:24.127Z"
      },
      {
        "duration": 5,
        "start_time": "2023-03-16T07:37:26.418Z"
      },
      {
        "duration": 796,
        "start_time": "2023-03-16T07:37:26.425Z"
      },
      {
        "duration": 135,
        "start_time": "2023-03-16T07:37:27.223Z"
      },
      {
        "duration": 14,
        "start_time": "2023-03-16T07:37:27.359Z"
      },
      {
        "duration": 127,
        "start_time": "2023-03-16T07:37:33.218Z"
      },
      {
        "duration": 397,
        "start_time": "2023-03-16T07:37:33.935Z"
      },
      {
        "duration": 995,
        "start_time": "2023-03-16T07:37:35.875Z"
      },
      {
        "duration": 5,
        "start_time": "2023-03-16T07:37:38.844Z"
      },
      {
        "duration": 7,
        "start_time": "2023-03-16T07:37:39.508Z"
      },
      {
        "duration": 159,
        "start_time": "2023-03-16T07:37:40.104Z"
      },
      {
        "duration": 9,
        "start_time": "2023-03-16T07:37:42.163Z"
      },
      {
        "duration": 17,
        "start_time": "2023-03-16T07:37:42.713Z"
      },
      {
        "duration": 299,
        "start_time": "2023-03-16T07:37:43.317Z"
      },
      {
        "duration": 186,
        "start_time": "2023-03-16T07:37:44.519Z"
      },
      {
        "duration": 13,
        "start_time": "2023-03-16T07:37:48.160Z"
      },
      {
        "duration": 43,
        "start_time": "2023-03-16T07:37:50.719Z"
      },
      {
        "duration": 125,
        "start_time": "2023-03-16T07:37:51.375Z"
      },
      {
        "duration": 8,
        "start_time": "2023-03-16T07:37:54.194Z"
      },
      {
        "duration": 176,
        "start_time": "2023-03-16T07:37:56.429Z"
      },
      {
        "duration": 12,
        "start_time": "2023-03-16T07:37:57.363Z"
      },
      {
        "duration": 87,
        "start_time": "2023-03-16T07:38:00.244Z"
      },
      {
        "duration": 16,
        "start_time": "2023-03-16T07:38:08.686Z"
      },
      {
        "duration": 34,
        "start_time": "2023-03-16T07:38:10.974Z"
      },
      {
        "duration": 103,
        "start_time": "2023-03-16T07:38:12.126Z"
      },
      {
        "duration": 2120,
        "start_time": "2023-03-16T07:38:15.798Z"
      },
      {
        "duration": 2,
        "start_time": "2023-03-16T07:38:17.920Z"
      },
      {
        "duration": 126,
        "start_time": "2023-03-16T07:38:24.901Z"
      },
      {
        "duration": 408,
        "start_time": "2023-03-16T07:38:32.902Z"
      },
      {
        "duration": 1489,
        "start_time": "2023-03-16T07:38:34.026Z"
      },
      {
        "duration": 461,
        "start_time": "2023-03-16T07:41:39.927Z"
      },
      {
        "duration": 1304,
        "start_time": "2023-03-16T07:41:58.506Z"
      },
      {
        "duration": 4,
        "start_time": "2023-03-16T07:42:04.843Z"
      },
      {
        "duration": 124,
        "start_time": "2023-03-16T07:42:37.049Z"
      },
      {
        "duration": 337,
        "start_time": "2023-03-16T07:42:38.391Z"
      },
      {
        "duration": 17,
        "start_time": "2023-03-16T08:59:11.039Z"
      },
      {
        "duration": 2372,
        "start_time": "2023-03-16T09:00:35.511Z"
      },
      {
        "duration": 4,
        "start_time": "2023-03-16T09:00:37.886Z"
      },
      {
        "duration": 842,
        "start_time": "2023-03-16T09:00:37.892Z"
      },
      {
        "duration": 167,
        "start_time": "2023-03-16T09:00:38.736Z"
      },
      {
        "duration": 14,
        "start_time": "2023-03-16T09:00:38.905Z"
      },
      {
        "duration": 130,
        "start_time": "2023-03-16T09:00:40.020Z"
      },
      {
        "duration": 434,
        "start_time": "2023-03-16T09:00:41.732Z"
      },
      {
        "duration": 888,
        "start_time": "2023-03-16T09:00:45.411Z"
      },
      {
        "duration": 5,
        "start_time": "2023-03-16T09:00:49.450Z"
      },
      {
        "duration": 7,
        "start_time": "2023-03-16T09:00:50.780Z"
      },
      {
        "duration": 167,
        "start_time": "2023-03-16T09:00:51.881Z"
      },
      {
        "duration": 9,
        "start_time": "2023-03-16T09:00:55.347Z"
      },
      {
        "duration": 21,
        "start_time": "2023-03-16T09:00:56.377Z"
      },
      {
        "duration": 328,
        "start_time": "2023-03-16T09:00:57.353Z"
      },
      {
        "duration": 184,
        "start_time": "2023-03-16T09:00:58.132Z"
      },
      {
        "duration": 14,
        "start_time": "2023-03-16T09:01:00.387Z"
      },
      {
        "duration": 46,
        "start_time": "2023-03-16T09:01:03.543Z"
      },
      {
        "duration": 130,
        "start_time": "2023-03-16T09:01:04.963Z"
      },
      {
        "duration": 12,
        "start_time": "2023-03-16T09:01:08.893Z"
      },
      {
        "duration": 145,
        "start_time": "2023-03-16T09:01:11.024Z"
      },
      {
        "duration": 13,
        "start_time": "2023-03-16T09:01:11.788Z"
      },
      {
        "duration": 110,
        "start_time": "2023-03-16T09:01:13.687Z"
      },
      {
        "duration": 22,
        "start_time": "2023-03-16T09:01:15.738Z"
      },
      {
        "duration": 22,
        "start_time": "2023-03-16T09:01:18.427Z"
      },
      {
        "duration": 11,
        "start_time": "2023-03-16T09:06:09.416Z"
      },
      {
        "duration": 2941,
        "start_time": "2023-03-16T09:25:12.112Z"
      },
      {
        "duration": 4,
        "start_time": "2023-03-16T09:25:15.056Z"
      },
      {
        "duration": 992,
        "start_time": "2023-03-16T09:25:15.784Z"
      },
      {
        "duration": 156,
        "start_time": "2023-03-16T09:25:17.812Z"
      },
      {
        "duration": 15,
        "start_time": "2023-03-16T09:25:18.840Z"
      },
      {
        "duration": 153,
        "start_time": "2023-03-16T09:25:20.348Z"
      },
      {
        "duration": 427,
        "start_time": "2023-03-16T09:25:21.604Z"
      },
      {
        "duration": 1046,
        "start_time": "2023-03-16T09:25:24.028Z"
      },
      {
        "duration": 8,
        "start_time": "2023-03-16T09:25:27.731Z"
      },
      {
        "duration": 9,
        "start_time": "2023-03-16T09:25:28.920Z"
      },
      {
        "duration": 198,
        "start_time": "2023-03-16T09:25:30.084Z"
      },
      {
        "duration": 12,
        "start_time": "2023-03-16T09:25:33.324Z"
      },
      {
        "duration": 20,
        "start_time": "2023-03-16T09:25:34.145Z"
      },
      {
        "duration": 430,
        "start_time": "2023-03-16T09:25:35.016Z"
      },
      {
        "duration": 220,
        "start_time": "2023-03-16T09:25:35.758Z"
      },
      {
        "duration": 16,
        "start_time": "2023-03-16T09:25:38.015Z"
      },
      {
        "duration": 43,
        "start_time": "2023-03-16T09:25:41.212Z"
      },
      {
        "duration": 144,
        "start_time": "2023-03-16T09:25:42.047Z"
      },
      {
        "duration": 8,
        "start_time": "2023-03-16T09:25:45.012Z"
      },
      {
        "duration": 180,
        "start_time": "2023-03-16T09:25:46.860Z"
      },
      {
        "duration": 15,
        "start_time": "2023-03-16T09:25:48.408Z"
      },
      {
        "duration": 99,
        "start_time": "2023-03-16T09:25:55.617Z"
      },
      {
        "duration": 22,
        "start_time": "2023-03-16T09:25:57.905Z"
      },
      {
        "duration": 24,
        "start_time": "2023-03-16T09:26:01.527Z"
      },
      {
        "duration": 18,
        "start_time": "2023-03-16T09:29:39.296Z"
      },
      {
        "duration": 2621,
        "start_time": "2023-03-16T10:10:23.146Z"
      },
      {
        "duration": 4,
        "start_time": "2023-03-16T10:10:25.770Z"
      },
      {
        "duration": 948,
        "start_time": "2023-03-16T10:10:25.776Z"
      },
      {
        "duration": 155,
        "start_time": "2023-03-16T10:10:30.108Z"
      },
      {
        "duration": 16,
        "start_time": "2023-03-16T10:10:31.356Z"
      },
      {
        "duration": 158,
        "start_time": "2023-03-16T10:10:32.720Z"
      },
      {
        "duration": 538,
        "start_time": "2023-03-16T10:10:34.215Z"
      },
      {
        "duration": 1006,
        "start_time": "2023-03-16T10:10:36.806Z"
      },
      {
        "duration": 6,
        "start_time": "2023-03-16T10:10:41.414Z"
      },
      {
        "duration": 8,
        "start_time": "2023-03-16T10:10:42.327Z"
      },
      {
        "duration": 194,
        "start_time": "2023-03-16T10:10:43.316Z"
      },
      {
        "duration": 15,
        "start_time": "2023-03-16T10:10:47.018Z"
      },
      {
        "duration": 21,
        "start_time": "2023-03-16T10:10:47.892Z"
      },
      {
        "duration": 368,
        "start_time": "2023-03-16T10:10:48.943Z"
      },
      {
        "duration": 224,
        "start_time": "2023-03-16T10:10:50.012Z"
      },
      {
        "duration": 14,
        "start_time": "2023-03-16T10:10:52.367Z"
      },
      {
        "duration": 46,
        "start_time": "2023-03-16T10:10:54.731Z"
      },
      {
        "duration": 178,
        "start_time": "2023-03-16T10:10:55.572Z"
      },
      {
        "duration": 14,
        "start_time": "2023-03-16T10:10:58.805Z"
      },
      {
        "duration": 199,
        "start_time": "2023-03-16T10:11:00.540Z"
      },
      {
        "duration": 19,
        "start_time": "2023-03-16T10:11:01.693Z"
      },
      {
        "duration": 142,
        "start_time": "2023-03-16T10:11:04.536Z"
      },
      {
        "duration": 22,
        "start_time": "2023-03-16T10:11:07.620Z"
      },
      {
        "duration": 6,
        "start_time": "2023-03-16T10:11:11.246Z"
      },
      {
        "duration": 6,
        "start_time": "2023-03-16T10:11:53.019Z"
      },
      {
        "duration": 3,
        "start_time": "2023-03-16T10:12:19.301Z"
      },
      {
        "duration": 135,
        "start_time": "2023-03-16T10:12:20.708Z"
      },
      {
        "duration": 2552,
        "start_time": "2023-03-16T10:12:25.984Z"
      },
      {
        "duration": 3,
        "start_time": "2023-03-16T10:12:40.142Z"
      },
      {
        "duration": 166,
        "start_time": "2023-03-16T10:12:41.605Z"
      },
      {
        "duration": 112,
        "start_time": "2023-03-16T10:22:32.609Z"
      },
      {
        "duration": 50,
        "start_time": "2023-03-16T10:23:02.080Z"
      },
      {
        "duration": 43,
        "start_time": "2023-03-16T10:23:17.112Z"
      },
      {
        "duration": 11,
        "start_time": "2023-03-16T10:23:38.217Z"
      },
      {
        "duration": 383,
        "start_time": "2023-03-16T10:24:03.045Z"
      },
      {
        "duration": 7,
        "start_time": "2023-03-16T10:41:38.164Z"
      },
      {
        "duration": 4,
        "start_time": "2023-03-16T10:42:28.628Z"
      },
      {
        "duration": 4,
        "start_time": "2023-03-16T10:42:49.428Z"
      },
      {
        "duration": 43,
        "start_time": "2023-03-16T10:42:56.440Z"
      },
      {
        "duration": 1249,
        "start_time": "2023-03-16T10:44:38.172Z"
      },
      {
        "duration": 3,
        "start_time": "2023-03-16T10:44:53.772Z"
      },
      {
        "duration": 171,
        "start_time": "2023-03-16T10:44:55.324Z"
      },
      {
        "duration": 2334,
        "start_time": "2023-03-16T11:12:51.504Z"
      },
      {
        "duration": 4,
        "start_time": "2023-03-16T11:12:53.841Z"
      },
      {
        "duration": 773,
        "start_time": "2023-03-16T11:12:53.847Z"
      },
      {
        "duration": 142,
        "start_time": "2023-03-16T11:12:54.623Z"
      },
      {
        "duration": 25,
        "start_time": "2023-03-16T11:12:54.767Z"
      },
      {
        "duration": 126,
        "start_time": "2023-03-16T11:12:55.784Z"
      },
      {
        "duration": 447,
        "start_time": "2023-03-16T11:12:56.475Z"
      },
      {
        "duration": 898,
        "start_time": "2023-03-16T11:12:58.196Z"
      },
      {
        "duration": 5,
        "start_time": "2023-03-16T11:13:01.391Z"
      },
      {
        "duration": 8,
        "start_time": "2023-03-16T11:13:02.629Z"
      },
      {
        "duration": 166,
        "start_time": "2023-03-16T11:13:03.145Z"
      },
      {
        "duration": 11,
        "start_time": "2023-03-16T11:13:06.171Z"
      },
      {
        "duration": 19,
        "start_time": "2023-03-16T11:13:06.926Z"
      },
      {
        "duration": 320,
        "start_time": "2023-03-16T11:13:08.729Z"
      },
      {
        "duration": 187,
        "start_time": "2023-03-16T11:13:09.051Z"
      },
      {
        "duration": 13,
        "start_time": "2023-03-16T11:13:10.788Z"
      },
      {
        "duration": 44,
        "start_time": "2023-03-16T11:13:12.877Z"
      },
      {
        "duration": 137,
        "start_time": "2023-03-16T11:13:14.466Z"
      },
      {
        "duration": 10,
        "start_time": "2023-03-16T11:13:17.900Z"
      },
      {
        "duration": 161,
        "start_time": "2023-03-16T11:13:20.340Z"
      },
      {
        "duration": 12,
        "start_time": "2023-03-16T11:13:22.553Z"
      },
      {
        "duration": 5,
        "start_time": "2023-03-16T11:13:27.538Z"
      },
      {
        "duration": 90,
        "start_time": "2023-03-16T11:13:41.087Z"
      },
      {
        "duration": 3,
        "start_time": "2023-03-16T11:19:03.105Z"
      },
      {
        "duration": 24,
        "start_time": "2023-03-16T11:19:04.584Z"
      },
      {
        "duration": 17,
        "start_time": "2023-03-16T11:19:08.289Z"
      },
      {
        "duration": 10,
        "start_time": "2023-03-16T11:19:10.815Z"
      },
      {
        "duration": 2,
        "start_time": "2023-03-16T11:19:11.944Z"
      },
      {
        "duration": 116,
        "start_time": "2023-03-16T11:19:13.188Z"
      },
      {
        "duration": 3,
        "start_time": "2023-03-16T11:19:14.619Z"
      },
      {
        "duration": 2232,
        "start_time": "2023-03-16T11:19:15.983Z"
      },
      {
        "duration": 404,
        "start_time": "2023-03-16T11:19:18.996Z"
      },
      {
        "duration": 2309,
        "start_time": "2023-03-16T11:20:03.483Z"
      },
      {
        "duration": 5,
        "start_time": "2023-03-16T11:20:05.794Z"
      },
      {
        "duration": 813,
        "start_time": "2023-03-16T11:20:05.800Z"
      },
      {
        "duration": 166,
        "start_time": "2023-03-16T11:20:06.615Z"
      },
      {
        "duration": 18,
        "start_time": "2023-03-16T11:20:06.791Z"
      },
      {
        "duration": 133,
        "start_time": "2023-03-16T11:20:07.411Z"
      },
      {
        "duration": 436,
        "start_time": "2023-03-16T11:20:08.121Z"
      },
      {
        "duration": 875,
        "start_time": "2023-03-16T11:20:09.399Z"
      },
      {
        "duration": 5,
        "start_time": "2023-03-16T11:20:11.053Z"
      },
      {
        "duration": 8,
        "start_time": "2023-03-16T11:20:11.596Z"
      },
      {
        "duration": 165,
        "start_time": "2023-03-16T11:20:12.631Z"
      },
      {
        "duration": 9,
        "start_time": "2023-03-16T11:20:15.268Z"
      },
      {
        "duration": 19,
        "start_time": "2023-03-16T11:20:16.109Z"
      },
      {
        "duration": 328,
        "start_time": "2023-03-16T11:20:16.749Z"
      },
      {
        "duration": 177,
        "start_time": "2023-03-16T11:20:17.804Z"
      },
      {
        "duration": 14,
        "start_time": "2023-03-16T11:20:19.538Z"
      },
      {
        "duration": 45,
        "start_time": "2023-03-16T11:20:20.936Z"
      },
      {
        "duration": 126,
        "start_time": "2023-03-16T11:20:21.515Z"
      },
      {
        "duration": 9,
        "start_time": "2023-03-16T11:20:23.375Z"
      },
      {
        "duration": 143,
        "start_time": "2023-03-16T11:20:24.839Z"
      },
      {
        "duration": 11,
        "start_time": "2023-03-16T11:20:25.456Z"
      },
      {
        "duration": 3,
        "start_time": "2023-03-16T11:20:27.588Z"
      },
      {
        "duration": 101,
        "start_time": "2023-03-16T11:20:28.342Z"
      },
      {
        "duration": 17,
        "start_time": "2023-03-16T11:20:30.423Z"
      },
      {
        "duration": 9,
        "start_time": "2023-03-16T11:20:34.793Z"
      },
      {
        "duration": 5,
        "start_time": "2023-03-16T11:20:36.137Z"
      },
      {
        "duration": 130,
        "start_time": "2023-03-16T11:20:37.346Z"
      },
      {
        "duration": 2,
        "start_time": "2023-03-16T11:20:38.427Z"
      },
      {
        "duration": 2030,
        "start_time": "2023-03-16T11:20:39.589Z"
      },
      {
        "duration": 308,
        "start_time": "2023-03-16T11:20:41.930Z"
      },
      {
        "duration": 348,
        "start_time": "2023-03-16T11:22:09.628Z"
      },
      {
        "duration": 2373,
        "start_time": "2023-03-16T11:31:07.920Z"
      },
      {
        "duration": 4,
        "start_time": "2023-03-16T11:31:10.296Z"
      },
      {
        "duration": 774,
        "start_time": "2023-03-16T11:31:10.301Z"
      },
      {
        "duration": 138,
        "start_time": "2023-03-16T11:31:11.191Z"
      },
      {
        "duration": 16,
        "start_time": "2023-03-16T11:31:12.944Z"
      },
      {
        "duration": 134,
        "start_time": "2023-03-16T11:31:13.895Z"
      },
      {
        "duration": 408,
        "start_time": "2023-03-16T11:31:15.383Z"
      },
      {
        "duration": 816,
        "start_time": "2023-03-16T11:31:22.296Z"
      },
      {
        "duration": 6,
        "start_time": "2023-03-16T11:31:26.351Z"
      },
      {
        "duration": 11,
        "start_time": "2023-03-16T11:31:27.108Z"
      },
      {
        "duration": 164,
        "start_time": "2023-03-16T11:31:28.011Z"
      },
      {
        "duration": 9,
        "start_time": "2023-03-16T11:31:31.237Z"
      },
      {
        "duration": 19,
        "start_time": "2023-03-16T11:31:31.915Z"
      },
      {
        "duration": 323,
        "start_time": "2023-03-16T11:31:32.487Z"
      },
      {
        "duration": 196,
        "start_time": "2023-03-16T11:31:33.083Z"
      },
      {
        "duration": 13,
        "start_time": "2023-03-16T11:31:35.435Z"
      },
      {
        "duration": 47,
        "start_time": "2023-03-16T11:31:38.331Z"
      },
      {
        "duration": 123,
        "start_time": "2023-03-16T11:31:39.218Z"
      },
      {
        "duration": 7,
        "start_time": "2023-03-16T11:31:41.979Z"
      },
      {
        "duration": 140,
        "start_time": "2023-03-16T11:31:59.019Z"
      },
      {
        "duration": 11,
        "start_time": "2023-03-16T11:31:59.932Z"
      },
      {
        "duration": 46,
        "start_time": "2023-03-16T11:32:04.851Z"
      },
      {
        "duration": 108,
        "start_time": "2023-03-16T11:32:06.555Z"
      },
      {
        "duration": 2380,
        "start_time": "2023-03-16T11:32:08.154Z"
      },
      {
        "duration": 16,
        "start_time": "2023-03-16T11:32:54.384Z"
      },
      {
        "duration": 10,
        "start_time": "2023-03-16T11:32:57.428Z"
      },
      {
        "duration": 164,
        "start_time": "2023-03-16T11:32:58.902Z"
      },
      {
        "duration": 2286,
        "start_time": "2023-03-16T11:58:54.795Z"
      },
      {
        "duration": 1491,
        "start_time": "2023-03-16T11:58:57.083Z"
      },
      {
        "duration": 844,
        "start_time": "2023-03-16T11:58:58.575Z"
      },
      {
        "duration": 158,
        "start_time": "2023-03-16T11:58:59.421Z"
      },
      {
        "duration": 21,
        "start_time": "2023-03-16T11:58:59.581Z"
      },
      {
        "duration": 140,
        "start_time": "2023-03-16T11:58:59.604Z"
      },
      {
        "duration": 485,
        "start_time": "2023-03-16T11:58:59.746Z"
      },
      {
        "duration": 987,
        "start_time": "2023-03-16T11:59:00.232Z"
      },
      {
        "duration": 5,
        "start_time": "2023-03-16T11:59:01.221Z"
      },
      {
        "duration": 51,
        "start_time": "2023-03-16T11:59:01.228Z"
      },
      {
        "duration": 198,
        "start_time": "2023-03-16T11:59:01.280Z"
      },
      {
        "duration": 63,
        "start_time": "2023-03-16T11:59:01.480Z"
      },
      {
        "duration": 49,
        "start_time": "2023-03-16T11:59:01.546Z"
      },
      {
        "duration": 345,
        "start_time": "2023-03-16T11:59:01.597Z"
      },
      {
        "duration": 193,
        "start_time": "2023-03-16T11:59:01.944Z"
      },
      {
        "duration": 12,
        "start_time": "2023-03-16T11:59:02.139Z"
      },
      {
        "duration": 114,
        "start_time": "2023-03-16T11:59:02.153Z"
      },
      {
        "duration": 132,
        "start_time": "2023-03-16T11:59:02.270Z"
      },
      {
        "duration": 22,
        "start_time": "2023-03-16T11:59:02.404Z"
      },
      {
        "duration": 171,
        "start_time": "2023-03-16T11:59:02.434Z"
      },
      {
        "duration": 11,
        "start_time": "2023-03-16T11:59:02.607Z"
      },
      {
        "duration": 60,
        "start_time": "2023-03-16T11:59:02.620Z"
      },
      {
        "duration": 87,
        "start_time": "2023-03-16T11:59:02.690Z"
      },
      {
        "duration": 2494,
        "start_time": "2023-03-16T11:59:02.779Z"
      },
      {
        "duration": 20,
        "start_time": "2023-03-16T11:59:05.274Z"
      },
      {
        "duration": 12,
        "start_time": "2023-03-16T11:59:05.296Z"
      },
      {
        "duration": 12,
        "start_time": "2023-03-16T11:59:05.309Z"
      },
      {
        "duration": 9,
        "start_time": "2023-03-16T11:59:05.325Z"
      },
      {
        "duration": 17,
        "start_time": "2023-03-16T11:59:05.335Z"
      },
      {
        "duration": 411,
        "start_time": "2023-03-16T11:59:05.354Z"
      },
      {
        "duration": 180,
        "start_time": "2023-03-16T11:59:05.766Z"
      },
      {
        "duration": 128,
        "start_time": "2023-03-16T11:59:05.947Z"
      },
      {
        "duration": 41,
        "start_time": "2023-03-16T11:59:06.078Z"
      },
      {
        "duration": 17,
        "start_time": "2023-03-16T11:59:06.121Z"
      },
      {
        "duration": 186,
        "start_time": "2023-03-16T11:59:06.140Z"
      },
      {
        "duration": 29,
        "start_time": "2023-03-16T11:59:06.328Z"
      },
      {
        "duration": 33,
        "start_time": "2023-03-16T11:59:06.359Z"
      },
      {
        "duration": 165,
        "start_time": "2023-03-16T11:59:06.394Z"
      },
      {
        "duration": 31,
        "start_time": "2023-03-16T11:59:06.561Z"
      },
      {
        "duration": 144,
        "start_time": "2023-03-16T11:59:06.594Z"
      },
      {
        "duration": 30,
        "start_time": "2023-03-16T11:59:06.739Z"
      },
      {
        "duration": 133,
        "start_time": "2023-03-16T11:59:06.770Z"
      },
      {
        "duration": 18,
        "start_time": "2023-03-16T11:59:06.905Z"
      },
      {
        "duration": 22,
        "start_time": "2023-03-16T11:59:06.924Z"
      },
      {
        "duration": 138,
        "start_time": "2023-03-16T11:59:06.948Z"
      },
      {
        "duration": 15,
        "start_time": "2023-03-16T11:59:07.090Z"
      },
      {
        "duration": 109,
        "start_time": "2023-03-16T11:59:07.107Z"
      },
      {
        "duration": 119096,
        "start_time": "2023-03-16T11:59:07.218Z"
      },
      {
        "duration": 3,
        "start_time": "2023-03-16T12:01:06.316Z"
      },
      {
        "duration": 31,
        "start_time": "2023-03-16T12:01:06.321Z"
      },
      {
        "duration": 11,
        "start_time": "2023-03-16T12:01:06.354Z"
      },
      {
        "duration": 663,
        "start_time": "2023-03-16T12:01:06.367Z"
      },
      {
        "duration": 90,
        "start_time": "2023-03-16T12:01:07.032Z"
      },
      {
        "duration": 29,
        "start_time": "2023-03-16T12:01:07.124Z"
      },
      {
        "duration": 255,
        "start_time": "2023-03-16T12:01:07.155Z"
      },
      {
        "duration": 0,
        "start_time": "2023-03-16T12:01:07.412Z"
      },
      {
        "duration": 0,
        "start_time": "2023-03-16T12:01:07.414Z"
      },
      {
        "duration": 0,
        "start_time": "2023-03-16T12:01:07.415Z"
      },
      {
        "duration": 0,
        "start_time": "2023-03-16T12:01:07.416Z"
      },
      {
        "duration": 0,
        "start_time": "2023-03-16T12:01:07.417Z"
      },
      {
        "duration": 337,
        "start_time": "2023-03-16T12:12:00.724Z"
      },
      {
        "duration": 2,
        "start_time": "2023-03-16T12:20:37.418Z"
      },
      {
        "duration": 4,
        "start_time": "2023-03-16T12:22:35.112Z"
      },
      {
        "duration": 72,
        "start_time": "2023-03-16T12:24:53.619Z"
      },
      {
        "duration": 1480,
        "start_time": "2023-03-16T12:49:52.529Z"
      },
      {
        "duration": 0,
        "start_time": "2023-03-16T12:49:54.010Z"
      },
      {
        "duration": 2617,
        "start_time": "2023-03-16T12:50:59.335Z"
      },
      {
        "duration": 7,
        "start_time": "2023-03-16T12:51:01.955Z"
      },
      {
        "duration": 871,
        "start_time": "2023-03-16T12:51:01.964Z"
      },
      {
        "duration": 149,
        "start_time": "2023-03-16T12:51:05.036Z"
      },
      {
        "duration": 15,
        "start_time": "2023-03-16T12:51:06.511Z"
      },
      {
        "duration": 145,
        "start_time": "2023-03-16T12:51:07.931Z"
      },
      {
        "duration": 431,
        "start_time": "2023-03-16T12:51:08.835Z"
      },
      {
        "duration": 893,
        "start_time": "2023-03-16T12:51:10.138Z"
      },
      {
        "duration": 6,
        "start_time": "2023-03-16T12:51:13.626Z"
      },
      {
        "duration": 8,
        "start_time": "2023-03-16T12:51:14.521Z"
      },
      {
        "duration": 190,
        "start_time": "2023-03-16T12:51:15.491Z"
      },
      {
        "duration": 9,
        "start_time": "2023-03-16T12:51:19.238Z"
      },
      {
        "duration": 20,
        "start_time": "2023-03-16T12:51:20.056Z"
      },
      {
        "duration": 333,
        "start_time": "2023-03-16T12:51:20.715Z"
      },
      {
        "duration": 188,
        "start_time": "2023-03-16T12:51:21.556Z"
      },
      {
        "duration": 13,
        "start_time": "2023-03-16T12:51:26.756Z"
      },
      {
        "duration": 47,
        "start_time": "2023-03-16T12:51:33.155Z"
      },
      {
        "duration": 168,
        "start_time": "2023-03-16T12:51:34.383Z"
      },
      {
        "duration": 9,
        "start_time": "2023-03-16T12:51:38.430Z"
      },
      {
        "duration": 146,
        "start_time": "2023-03-16T12:51:40.834Z"
      },
      {
        "duration": 11,
        "start_time": "2023-03-16T12:52:32.127Z"
      },
      {
        "duration": 29,
        "start_time": "2023-03-16T12:52:36.843Z"
      },
      {
        "duration": 55,
        "start_time": "2023-03-16T12:52:45.252Z"
      },
      {
        "duration": 2,
        "start_time": "2023-03-16T12:52:47.807Z"
      },
      {
        "duration": 2,
        "start_time": "2023-03-16T12:52:48.849Z"
      },
      {
        "duration": 119,
        "start_time": "2023-03-16T12:53:06.799Z"
      },
      {
        "duration": 3,
        "start_time": "2023-03-16T12:53:41.796Z"
      },
      {
        "duration": 16,
        "start_time": "2023-03-16T12:53:43.370Z"
      },
      {
        "duration": 10,
        "start_time": "2023-03-16T12:53:45.373Z"
      },
      {
        "duration": 2,
        "start_time": "2023-03-16T12:53:46.217Z"
      },
      {
        "duration": 8,
        "start_time": "2023-03-16T12:53:48.118Z"
      },
      {
        "duration": 16,
        "start_time": "2023-03-16T12:53:48.671Z"
      },
      {
        "duration": 357,
        "start_time": "2023-03-16T12:53:49.578Z"
      },
      {
        "duration": 43,
        "start_time": "2023-03-16T12:53:51.099Z"
      },
      {
        "duration": 111,
        "start_time": "2023-03-16T12:53:52.684Z"
      },
      {
        "duration": 29,
        "start_time": "2023-03-16T12:53:55.675Z"
      },
      {
        "duration": 16,
        "start_time": "2023-03-16T12:53:56.078Z"
      },
      {
        "duration": 213,
        "start_time": "2023-03-16T12:53:56.429Z"
      },
      {
        "duration": 20,
        "start_time": "2023-03-16T12:53:57.382Z"
      },
      {
        "duration": 17,
        "start_time": "2023-03-16T12:53:57.745Z"
      },
      {
        "duration": 109,
        "start_time": "2023-03-16T12:53:58.231Z"
      },
      {
        "duration": 15,
        "start_time": "2023-03-16T12:54:01.322Z"
      },
      {
        "duration": 120,
        "start_time": "2023-03-16T12:54:02.794Z"
      },
      {
        "duration": 29,
        "start_time": "2023-03-16T12:54:06.038Z"
      },
      {
        "duration": 124,
        "start_time": "2023-03-16T12:54:07.380Z"
      },
      {
        "duration": 18,
        "start_time": "2023-03-16T12:54:10.146Z"
      },
      {
        "duration": 15,
        "start_time": "2023-03-16T12:54:11.026Z"
      },
      {
        "duration": 120,
        "start_time": "2023-03-16T12:54:11.870Z"
      },
      {
        "duration": 16,
        "start_time": "2023-03-16T12:54:13.870Z"
      },
      {
        "duration": 85,
        "start_time": "2023-03-16T12:54:17.085Z"
      },
      {
        "duration": 2362,
        "start_time": "2023-03-16T12:55:22.646Z"
      },
      {
        "duration": 1547,
        "start_time": "2023-03-16T12:55:25.011Z"
      },
      {
        "duration": 847,
        "start_time": "2023-03-16T12:55:26.560Z"
      },
      {
        "duration": 132,
        "start_time": "2023-03-16T12:55:27.409Z"
      },
      {
        "duration": 18,
        "start_time": "2023-03-16T12:55:27.543Z"
      },
      {
        "duration": 148,
        "start_time": "2023-03-16T12:55:27.563Z"
      },
      {
        "duration": 505,
        "start_time": "2023-03-16T12:55:27.713Z"
      },
      {
        "duration": 1003,
        "start_time": "2023-03-16T12:55:28.221Z"
      },
      {
        "duration": 6,
        "start_time": "2023-03-16T12:55:29.226Z"
      },
      {
        "duration": 9,
        "start_time": "2023-03-16T12:55:29.235Z"
      },
      {
        "duration": 217,
        "start_time": "2023-03-16T12:55:29.246Z"
      },
      {
        "duration": 11,
        "start_time": "2023-03-16T12:55:29.464Z"
      },
      {
        "duration": 20,
        "start_time": "2023-03-16T12:55:29.490Z"
      },
      {
        "duration": 340,
        "start_time": "2023-03-16T12:55:29.512Z"
      },
      {
        "duration": 196,
        "start_time": "2023-03-16T12:55:29.853Z"
      },
      {
        "duration": 14,
        "start_time": "2023-03-16T12:55:30.051Z"
      },
      {
        "duration": 75,
        "start_time": "2023-03-16T12:55:30.067Z"
      },
      {
        "duration": 126,
        "start_time": "2023-03-16T12:55:30.144Z"
      },
      {
        "duration": 19,
        "start_time": "2023-03-16T12:55:30.272Z"
      },
      {
        "duration": 165,
        "start_time": "2023-03-16T12:55:30.292Z"
      },
      {
        "duration": 15,
        "start_time": "2023-03-16T12:55:30.460Z"
      },
      {
        "duration": 61,
        "start_time": "2023-03-16T12:55:30.478Z"
      },
      {
        "duration": 78,
        "start_time": "2023-03-16T12:55:30.541Z"
      },
      {
        "duration": 2,
        "start_time": "2023-03-16T12:55:30.621Z"
      },
      {
        "duration": 20,
        "start_time": "2023-03-16T12:55:30.624Z"
      },
      {
        "duration": 160,
        "start_time": "2023-03-16T12:55:30.646Z"
      },
      {
        "duration": 18,
        "start_time": "2023-03-16T12:55:30.808Z"
      },
      {
        "duration": 79,
        "start_time": "2023-03-16T12:55:30.831Z"
      },
      {
        "duration": 34,
        "start_time": "2023-03-16T12:55:30.912Z"
      },
      {
        "duration": 29,
        "start_time": "2023-03-16T12:55:30.948Z"
      },
      {
        "duration": 32,
        "start_time": "2023-03-16T12:55:30.979Z"
      },
      {
        "duration": 37,
        "start_time": "2023-03-16T12:55:31.013Z"
      },
      {
        "duration": 449,
        "start_time": "2023-03-16T12:55:31.052Z"
      },
      {
        "duration": 42,
        "start_time": "2023-03-16T12:55:31.503Z"
      },
      {
        "duration": 118,
        "start_time": "2023-03-16T12:55:31.546Z"
      },
      {
        "duration": 42,
        "start_time": "2023-03-16T12:55:31.666Z"
      },
      {
        "duration": 25,
        "start_time": "2023-03-16T12:55:31.710Z"
      },
      {
        "duration": 173,
        "start_time": "2023-03-16T12:55:31.737Z"
      },
      {
        "duration": 18,
        "start_time": "2023-03-16T12:55:31.911Z"
      },
      {
        "duration": 32,
        "start_time": "2023-03-16T12:55:31.931Z"
      },
      {
        "duration": 123,
        "start_time": "2023-03-16T12:55:31.964Z"
      },
      {
        "duration": 17,
        "start_time": "2023-03-16T12:55:32.089Z"
      },
      {
        "duration": 129,
        "start_time": "2023-03-16T12:55:32.107Z"
      },
      {
        "duration": 29,
        "start_time": "2023-03-16T12:55:32.238Z"
      },
      {
        "duration": 136,
        "start_time": "2023-03-16T12:55:32.270Z"
      },
      {
        "duration": 22,
        "start_time": "2023-03-16T12:55:32.408Z"
      },
      {
        "duration": 45,
        "start_time": "2023-03-16T12:55:32.433Z"
      },
      {
        "duration": 126,
        "start_time": "2023-03-16T12:55:32.479Z"
      },
      {
        "duration": 14,
        "start_time": "2023-03-16T12:55:32.606Z"
      },
      {
        "duration": 94,
        "start_time": "2023-03-16T12:55:32.622Z"
      },
      {
        "duration": 198684,
        "start_time": "2023-03-16T12:55:32.718Z"
      },
      {
        "duration": 3,
        "start_time": "2023-03-16T12:58:51.403Z"
      },
      {
        "duration": 29,
        "start_time": "2023-03-16T12:58:51.407Z"
      },
      {
        "duration": 5,
        "start_time": "2023-03-16T12:58:51.438Z"
      },
      {
        "duration": 487,
        "start_time": "2023-03-16T12:58:51.445Z"
      },
      {
        "duration": 58,
        "start_time": "2023-03-16T12:58:51.933Z"
      },
      {
        "duration": 18,
        "start_time": "2023-03-16T12:58:51.994Z"
      },
      {
        "duration": 2208,
        "start_time": "2023-03-16T12:58:52.014Z"
      },
      {
        "duration": 33332,
        "start_time": "2023-03-16T12:58:54.223Z"
      },
      {
        "duration": 2,
        "start_time": "2023-03-16T12:59:27.557Z"
      },
      {
        "duration": 63545,
        "start_time": "2023-03-16T12:59:27.560Z"
      },
      {
        "duration": 5,
        "start_time": "2023-03-16T13:00:31.107Z"
      },
      {
        "duration": 456,
        "start_time": "2023-03-16T13:00:31.114Z"
      },
      {
        "duration": 5,
        "start_time": "2023-03-16T13:01:07.128Z"
      },
      {
        "duration": 78,
        "start_time": "2023-03-16T13:20:58.938Z"
      },
      {
        "duration": 4,
        "start_time": "2023-03-16T13:21:00.517Z"
      },
      {
        "duration": 6,
        "start_time": "2023-03-16T13:21:42.153Z"
      },
      {
        "duration": 124,
        "start_time": "2023-03-16T13:27:06.805Z"
      },
      {
        "duration": 86,
        "start_time": "2023-03-16T13:27:15.453Z"
      },
      {
        "duration": 70,
        "start_time": "2023-03-16T13:29:59.320Z"
      },
      {
        "duration": 5,
        "start_time": "2023-03-16T13:30:00.223Z"
      },
      {
        "duration": 74,
        "start_time": "2023-03-16T13:30:01.325Z"
      },
      {
        "duration": 11,
        "start_time": "2023-03-16T13:30:02.334Z"
      },
      {
        "duration": 5,
        "start_time": "2023-03-16T13:31:16.723Z"
      },
      {
        "duration": 11,
        "start_time": "2023-03-16T13:31:41.605Z"
      },
      {
        "duration": 5,
        "start_time": "2023-03-16T13:34:22.883Z"
      },
      {
        "duration": 106,
        "start_time": "2023-03-16T13:34:35.004Z"
      },
      {
        "duration": 1190,
        "start_time": "2023-03-16T13:47:40.273Z"
      },
      {
        "duration": 87,
        "start_time": "2023-03-16T13:49:09.970Z"
      },
      {
        "duration": 106,
        "start_time": "2023-03-16T13:58:26.397Z"
      },
      {
        "duration": 3,
        "start_time": "2023-03-16T13:58:27.896Z"
      },
      {
        "duration": 85,
        "start_time": "2023-03-16T13:58:29.206Z"
      },
      {
        "duration": 73,
        "start_time": "2023-03-16T14:00:59.922Z"
      },
      {
        "duration": 3,
        "start_time": "2023-03-16T14:01:00.808Z"
      },
      {
        "duration": 11,
        "start_time": "2023-03-16T14:01:02.142Z"
      },
      {
        "duration": 81,
        "start_time": "2023-03-16T17:46:01.779Z"
      },
      {
        "duration": 48,
        "start_time": "2023-03-16T17:46:18.098Z"
      },
      {
        "duration": 1344,
        "start_time": "2023-03-16T17:46:56.489Z"
      },
      {
        "duration": 92,
        "start_time": "2023-03-16T17:49:13.023Z"
      },
      {
        "duration": 1310,
        "start_time": "2023-03-16T17:49:23.273Z"
      },
      {
        "duration": 73,
        "start_time": "2023-03-16T18:23:01.532Z"
      },
      {
        "duration": 1133,
        "start_time": "2023-03-16T18:28:25.680Z"
      },
      {
        "duration": 19,
        "start_time": "2023-03-16T18:30:15.763Z"
      },
      {
        "duration": 6,
        "start_time": "2023-03-16T18:32:31.590Z"
      },
      {
        "duration": 86,
        "start_time": "2023-03-16T18:32:48.703Z"
      },
      {
        "duration": 1165,
        "start_time": "2023-03-16T18:32:50.386Z"
      },
      {
        "duration": 64,
        "start_time": "2023-03-16T18:39:55.198Z"
      },
      {
        "duration": 2514,
        "start_time": "2023-03-16T18:40:14.684Z"
      },
      {
        "duration": 1634,
        "start_time": "2023-03-16T18:40:17.200Z"
      },
      {
        "duration": 1102,
        "start_time": "2023-03-16T18:40:18.836Z"
      },
      {
        "duration": 144,
        "start_time": "2023-03-16T18:40:19.940Z"
      },
      {
        "duration": 16,
        "start_time": "2023-03-16T18:40:20.086Z"
      },
      {
        "duration": 145,
        "start_time": "2023-03-16T18:40:20.103Z"
      },
      {
        "duration": 533,
        "start_time": "2023-03-16T18:40:20.249Z"
      },
      {
        "duration": 997,
        "start_time": "2023-03-16T18:40:20.784Z"
      },
      {
        "duration": 6,
        "start_time": "2023-03-16T18:40:25.070Z"
      },
      {
        "duration": 7,
        "start_time": "2023-03-16T18:40:25.371Z"
      },
      {
        "duration": 184,
        "start_time": "2023-03-16T18:40:25.727Z"
      },
      {
        "duration": 10,
        "start_time": "2023-03-16T18:40:26.828Z"
      },
      {
        "duration": 21,
        "start_time": "2023-03-16T18:40:27.127Z"
      },
      {
        "duration": 311,
        "start_time": "2023-03-16T18:40:27.480Z"
      },
      {
        "duration": 185,
        "start_time": "2023-03-16T18:40:27.906Z"
      },
      {
        "duration": 13,
        "start_time": "2023-03-16T18:40:28.499Z"
      },
      {
        "duration": 62,
        "start_time": "2023-03-16T18:40:29.307Z"
      },
      {
        "duration": 124,
        "start_time": "2023-03-16T18:40:29.585Z"
      },
      {
        "duration": 8,
        "start_time": "2023-03-16T18:40:30.383Z"
      },
      {
        "duration": 177,
        "start_time": "2023-03-16T18:40:30.966Z"
      },
      {
        "duration": 12,
        "start_time": "2023-03-16T18:40:31.313Z"
      },
      {
        "duration": 42,
        "start_time": "2023-03-16T18:40:32.505Z"
      },
      {
        "duration": 55,
        "start_time": "2023-03-16T18:40:32.825Z"
      },
      {
        "duration": 4,
        "start_time": "2023-03-16T18:40:33.263Z"
      },
      {
        "duration": 3,
        "start_time": "2023-03-16T18:40:33.545Z"
      },
      {
        "duration": 118,
        "start_time": "2023-03-16T18:40:33.890Z"
      },
      {
        "duration": 2,
        "start_time": "2023-03-16T18:40:34.212Z"
      },
      {
        "duration": 18,
        "start_time": "2023-03-16T18:40:35.309Z"
      },
      {
        "duration": 10,
        "start_time": "2023-03-16T18:40:36.675Z"
      },
      {
        "duration": 2,
        "start_time": "2023-03-16T18:40:37.501Z"
      },
      {
        "duration": 9,
        "start_time": "2023-03-16T18:40:40.134Z"
      },
      {
        "duration": 17,
        "start_time": "2023-03-16T18:40:40.862Z"
      },
      {
        "duration": 437,
        "start_time": "2023-03-16T18:40:41.718Z"
      },
      {
        "duration": 58,
        "start_time": "2023-03-16T18:40:43.074Z"
      },
      {
        "duration": 168,
        "start_time": "2023-03-16T18:40:44.555Z"
      },
      {
        "duration": 29,
        "start_time": "2023-03-16T18:40:46.968Z"
      },
      {
        "duration": 16,
        "start_time": "2023-03-16T18:40:47.775Z"
      },
      {
        "duration": 185,
        "start_time": "2023-03-16T18:40:48.380Z"
      },
      {
        "duration": 20,
        "start_time": "2023-03-16T18:40:50.137Z"
      },
      {
        "duration": 17,
        "start_time": "2023-03-16T18:40:50.827Z"
      },
      {
        "duration": 138,
        "start_time": "2023-03-16T18:40:51.479Z"
      },
      {
        "duration": 29,
        "start_time": "2023-03-16T18:40:54.501Z"
      },
      {
        "duration": 121,
        "start_time": "2023-03-16T18:40:54.836Z"
      },
      {
        "duration": 29,
        "start_time": "2023-03-16T18:40:55.526Z"
      },
      {
        "duration": 119,
        "start_time": "2023-03-16T18:40:55.843Z"
      },
      {
        "duration": 20,
        "start_time": "2023-03-16T18:40:56.648Z"
      },
      {
        "duration": 22,
        "start_time": "2023-03-16T18:40:56.951Z"
      },
      {
        "duration": 147,
        "start_time": "2023-03-16T18:40:57.278Z"
      },
      {
        "duration": 21,
        "start_time": "2023-03-16T18:40:57.805Z"
      },
      {
        "duration": 88,
        "start_time": "2023-03-16T18:41:00.955Z"
      },
      {
        "duration": 8,
        "start_time": "2023-03-16T18:44:29.454Z"
      },
      {
        "duration": 5,
        "start_time": "2023-03-16T18:44:29.465Z"
      },
      {
        "duration": 88,
        "start_time": "2023-03-16T18:44:29.471Z"
      },
      {
        "duration": 2316,
        "start_time": "2023-03-16T18:45:08.473Z"
      },
      {
        "duration": 1671,
        "start_time": "2023-03-16T18:45:13.306Z"
      },
      {
        "duration": 1211,
        "start_time": "2023-03-16T18:45:14.979Z"
      },
      {
        "duration": 194,
        "start_time": "2023-03-16T18:45:16.193Z"
      },
      {
        "duration": 26,
        "start_time": "2023-03-16T18:45:16.390Z"
      },
      {
        "duration": 141,
        "start_time": "2023-03-16T18:45:16.546Z"
      },
      {
        "duration": 492,
        "start_time": "2023-03-16T18:45:16.868Z"
      },
      {
        "duration": 1045,
        "start_time": "2023-03-16T18:45:17.688Z"
      },
      {
        "duration": 4,
        "start_time": "2023-03-16T18:45:18.843Z"
      },
      {
        "duration": 8,
        "start_time": "2023-03-16T18:45:19.248Z"
      },
      {
        "duration": 200,
        "start_time": "2023-03-16T18:45:19.628Z"
      },
      {
        "duration": 13,
        "start_time": "2023-03-16T18:45:20.492Z"
      },
      {
        "duration": 23,
        "start_time": "2023-03-16T18:45:21.552Z"
      },
      {
        "duration": 323,
        "start_time": "2023-03-16T18:45:21.945Z"
      },
      {
        "duration": 191,
        "start_time": "2023-03-16T18:45:22.279Z"
      },
      {
        "duration": 16,
        "start_time": "2023-03-16T18:45:22.920Z"
      },
      {
        "duration": 67,
        "start_time": "2023-03-16T18:45:23.605Z"
      },
      {
        "duration": 130,
        "start_time": "2023-03-16T18:45:23.893Z"
      },
      {
        "duration": 9,
        "start_time": "2023-03-16T18:45:24.594Z"
      },
      {
        "duration": 145,
        "start_time": "2023-03-16T18:45:25.095Z"
      },
      {
        "duration": 11,
        "start_time": "2023-03-16T18:45:25.438Z"
      },
      {
        "duration": 50,
        "start_time": "2023-03-16T18:45:26.480Z"
      },
      {
        "duration": 64,
        "start_time": "2023-03-16T18:45:26.779Z"
      },
      {
        "duration": 3,
        "start_time": "2023-03-16T18:45:27.067Z"
      },
      {
        "duration": 3,
        "start_time": "2023-03-16T18:45:28.265Z"
      },
      {
        "duration": 140,
        "start_time": "2023-03-16T18:45:28.977Z"
      },
      {
        "duration": 3,
        "start_time": "2023-03-16T18:45:29.755Z"
      },
      {
        "duration": 21,
        "start_time": "2023-03-16T18:45:30.493Z"
      },
      {
        "duration": 13,
        "start_time": "2023-03-16T18:45:31.358Z"
      },
      {
        "duration": 3,
        "start_time": "2023-03-16T18:45:31.685Z"
      },
      {
        "duration": 11,
        "start_time": "2023-03-16T18:45:33.451Z"
      },
      {
        "duration": 20,
        "start_time": "2023-03-16T18:45:33.770Z"
      },
      {
        "duration": 467,
        "start_time": "2023-03-16T18:45:34.129Z"
      },
      {
        "duration": 45,
        "start_time": "2023-03-16T18:45:34.597Z"
      },
      {
        "duration": 132,
        "start_time": "2023-03-16T18:45:35.062Z"
      },
      {
        "duration": 36,
        "start_time": "2023-03-16T18:45:35.755Z"
      },
      {
        "duration": 14,
        "start_time": "2023-03-16T18:45:36.058Z"
      },
      {
        "duration": 218,
        "start_time": "2023-03-16T18:45:36.363Z"
      },
      {
        "duration": 18,
        "start_time": "2023-03-16T18:45:37.057Z"
      },
      {
        "duration": 27,
        "start_time": "2023-03-16T18:45:37.463Z"
      },
      {
        "duration": 103,
        "start_time": "2023-03-16T18:45:37.741Z"
      },
      {
        "duration": 15,
        "start_time": "2023-03-16T18:45:38.804Z"
      },
      {
        "duration": 117,
        "start_time": "2023-03-16T18:45:39.096Z"
      },
      {
        "duration": 29,
        "start_time": "2023-03-16T18:45:39.788Z"
      },
      {
        "duration": 125,
        "start_time": "2023-03-16T18:45:40.089Z"
      },
      {
        "duration": 19,
        "start_time": "2023-03-16T18:45:40.783Z"
      },
      {
        "duration": 16,
        "start_time": "2023-03-16T18:45:41.082Z"
      },
      {
        "duration": 137,
        "start_time": "2023-03-16T18:45:46.968Z"
      },
      {
        "duration": 91,
        "start_time": "2023-03-16T18:46:01.356Z"
      },
      {
        "duration": 7,
        "start_time": "2023-03-16T18:47:10.914Z"
      },
      {
        "duration": 131,
        "start_time": "2023-03-16T18:47:30.335Z"
      },
      {
        "duration": 87,
        "start_time": "2023-03-16T18:48:35.791Z"
      },
      {
        "duration": 2732,
        "start_time": "2023-03-16T18:49:03.518Z"
      },
      {
        "duration": 1768,
        "start_time": "2023-03-16T18:49:06.253Z"
      },
      {
        "duration": 1549,
        "start_time": "2023-03-16T18:49:10.092Z"
      },
      {
        "duration": 221,
        "start_time": "2023-03-16T18:49:15.024Z"
      },
      {
        "duration": 33,
        "start_time": "2023-03-16T18:49:15.366Z"
      },
      {
        "duration": 174,
        "start_time": "2023-03-16T18:49:15.730Z"
      },
      {
        "duration": 700,
        "start_time": "2023-03-16T18:49:16.042Z"
      },
      {
        "duration": 1353,
        "start_time": "2023-03-16T18:49:16.744Z"
      },
      {
        "duration": 7,
        "start_time": "2023-03-16T18:49:18.099Z"
      },
      {
        "duration": 23,
        "start_time": "2023-03-16T18:49:18.108Z"
      },
      {
        "duration": 228,
        "start_time": "2023-03-16T18:49:18.337Z"
      },
      {
        "duration": 14,
        "start_time": "2023-03-16T18:49:19.337Z"
      },
      {
        "duration": 27,
        "start_time": "2023-03-16T18:49:19.691Z"
      },
      {
        "duration": 475,
        "start_time": "2023-03-16T18:49:20.006Z"
      },
      {
        "duration": 214,
        "start_time": "2023-03-16T18:49:20.484Z"
      },
      {
        "duration": 16,
        "start_time": "2023-03-16T18:49:21.074Z"
      },
      {
        "duration": 79,
        "start_time": "2023-03-16T18:49:21.895Z"
      },
      {
        "duration": 179,
        "start_time": "2023-03-16T18:49:22.156Z"
      },
      {
        "duration": 9,
        "start_time": "2023-03-16T18:49:22.951Z"
      },
      {
        "duration": 230,
        "start_time": "2023-03-16T18:49:23.491Z"
      },
      {
        "duration": 18,
        "start_time": "2023-03-16T18:49:23.814Z"
      },
      {
        "duration": 47,
        "start_time": "2023-03-16T18:49:25.053Z"
      },
      {
        "duration": 69,
        "start_time": "2023-03-16T18:49:25.445Z"
      },
      {
        "duration": 3,
        "start_time": "2023-03-16T18:49:25.748Z"
      },
      {
        "duration": 3,
        "start_time": "2023-03-16T18:49:26.051Z"
      },
      {
        "duration": 239,
        "start_time": "2023-03-16T18:49:26.338Z"
      },
      {
        "duration": 3,
        "start_time": "2023-03-16T18:49:26.656Z"
      },
      {
        "duration": 22,
        "start_time": "2023-03-16T18:49:27.315Z"
      },
      {
        "duration": 14,
        "start_time": "2023-03-16T18:49:28.718Z"
      },
      {
        "duration": 3,
        "start_time": "2023-03-16T18:49:29.091Z"
      },
      {
        "duration": 13,
        "start_time": "2023-03-16T18:49:30.063Z"
      },
      {
        "duration": 19,
        "start_time": "2023-03-16T18:49:30.366Z"
      },
      {
        "duration": 537,
        "start_time": "2023-03-16T18:49:30.723Z"
      },
      {
        "duration": 57,
        "start_time": "2023-03-16T18:49:31.294Z"
      },
      {
        "duration": 158,
        "start_time": "2023-03-16T18:49:31.904Z"
      },
      {
        "duration": 52,
        "start_time": "2023-03-16T18:49:33.786Z"
      },
      {
        "duration": 29,
        "start_time": "2023-03-16T18:49:34.203Z"
      },
      {
        "duration": 226,
        "start_time": "2023-03-16T18:49:34.473Z"
      },
      {
        "duration": 28,
        "start_time": "2023-03-16T18:49:35.137Z"
      },
      {
        "duration": 27,
        "start_time": "2023-03-16T18:49:35.491Z"
      },
      {
        "duration": 149,
        "start_time": "2023-03-16T18:49:35.770Z"
      },
      {
        "duration": 24,
        "start_time": "2023-03-16T18:49:40.338Z"
      },
      {
        "duration": 137,
        "start_time": "2023-03-16T18:49:40.659Z"
      },
      {
        "duration": 32,
        "start_time": "2023-03-16T18:49:45.255Z"
      },
      {
        "duration": 173,
        "start_time": "2023-03-16T18:49:46.299Z"
      },
      {
        "duration": 29,
        "start_time": "2023-03-16T18:49:50.286Z"
      },
      {
        "duration": 19,
        "start_time": "2023-03-16T18:49:51.273Z"
      },
      {
        "duration": 176,
        "start_time": "2023-03-16T18:49:52.971Z"
      },
      {
        "duration": 116,
        "start_time": "2023-03-16T18:50:07.280Z"
      },
      {
        "duration": 3,
        "start_time": "2023-03-16T18:50:08.644Z"
      },
      {
        "duration": 94,
        "start_time": "2023-03-16T18:50:23.945Z"
      },
      {
        "duration": 2251,
        "start_time": "2023-03-16T19:40:28.462Z"
      },
      {
        "duration": 1480,
        "start_time": "2023-03-16T19:40:31.654Z"
      },
      {
        "duration": 1105,
        "start_time": "2023-03-16T19:40:33.137Z"
      },
      {
        "duration": 158,
        "start_time": "2023-03-16T19:40:34.361Z"
      },
      {
        "duration": 20,
        "start_time": "2023-03-16T19:40:35.175Z"
      },
      {
        "duration": 142,
        "start_time": "2023-03-16T19:40:35.866Z"
      },
      {
        "duration": 491,
        "start_time": "2023-03-16T19:40:36.468Z"
      },
      {
        "duration": 975,
        "start_time": "2023-03-16T19:40:37.684Z"
      },
      {
        "duration": 5,
        "start_time": "2023-03-16T19:40:39.210Z"
      },
      {
        "duration": 8,
        "start_time": "2023-03-16T19:40:39.587Z"
      },
      {
        "duration": 176,
        "start_time": "2023-03-16T19:40:39.899Z"
      },
      {
        "duration": 9,
        "start_time": "2023-03-16T19:40:42.367Z"
      },
      {
        "duration": 17,
        "start_time": "2023-03-16T19:40:42.847Z"
      },
      {
        "duration": 314,
        "start_time": "2023-03-16T19:40:43.387Z"
      },
      {
        "duration": 181,
        "start_time": "2023-03-16T19:40:44.066Z"
      },
      {
        "duration": 12,
        "start_time": "2023-03-16T19:40:45.969Z"
      },
      {
        "duration": 57,
        "start_time": "2023-03-16T19:40:47.748Z"
      },
      {
        "duration": 130,
        "start_time": "2023-03-16T19:40:48.351Z"
      },
      {
        "duration": 12,
        "start_time": "2023-03-16T19:40:50.068Z"
      },
      {
        "duration": 143,
        "start_time": "2023-03-16T19:40:51.483Z"
      },
      {
        "duration": 11,
        "start_time": "2023-03-16T19:40:51.966Z"
      },
      {
        "duration": 30,
        "start_time": "2023-03-16T19:40:55.452Z"
      },
      {
        "duration": 52,
        "start_time": "2023-03-16T19:40:56.036Z"
      },
      {
        "duration": 3,
        "start_time": "2023-03-16T19:40:56.911Z"
      },
      {
        "duration": 3,
        "start_time": "2023-03-16T19:40:57.738Z"
      },
      {
        "duration": 136,
        "start_time": "2023-03-16T19:40:58.291Z"
      },
      {
        "duration": 3,
        "start_time": "2023-03-16T19:40:58.835Z"
      },
      {
        "duration": 22,
        "start_time": "2023-03-16T19:41:00.368Z"
      },
      {
        "duration": 9,
        "start_time": "2023-03-16T19:41:01.404Z"
      },
      {
        "duration": 2,
        "start_time": "2023-03-16T19:41:02.012Z"
      },
      {
        "duration": 10,
        "start_time": "2023-03-16T19:41:04.118Z"
      },
      {
        "duration": 16,
        "start_time": "2023-03-16T19:41:05.884Z"
      },
      {
        "duration": 484,
        "start_time": "2023-03-16T19:41:06.226Z"
      },
      {
        "duration": 43,
        "start_time": "2023-03-16T19:41:06.712Z"
      },
      {
        "duration": 107,
        "start_time": "2023-03-16T19:41:07.257Z"
      },
      {
        "duration": 30,
        "start_time": "2023-03-16T19:41:07.938Z"
      },
      {
        "duration": 16,
        "start_time": "2023-03-16T19:41:08.258Z"
      },
      {
        "duration": 166,
        "start_time": "2023-03-16T19:41:08.536Z"
      },
      {
        "duration": 20,
        "start_time": "2023-03-16T19:41:09.432Z"
      },
      {
        "duration": 19,
        "start_time": "2023-03-16T19:41:09.725Z"
      },
      {
        "duration": 127,
        "start_time": "2023-03-16T19:41:10.004Z"
      },
      {
        "duration": 14,
        "start_time": "2023-03-16T19:41:11.863Z"
      },
      {
        "duration": 117,
        "start_time": "2023-03-16T19:41:12.140Z"
      },
      {
        "duration": 28,
        "start_time": "2023-03-16T19:41:12.850Z"
      },
      {
        "duration": 121,
        "start_time": "2023-03-16T19:41:13.157Z"
      },
      {
        "duration": 17,
        "start_time": "2023-03-16T19:41:13.989Z"
      },
      {
        "duration": 15,
        "start_time": "2023-03-16T19:41:14.334Z"
      },
      {
        "duration": 123,
        "start_time": "2023-03-16T19:41:14.634Z"
      },
      {
        "duration": 16,
        "start_time": "2023-03-16T19:41:15.114Z"
      },
      {
        "duration": 85,
        "start_time": "2023-03-16T19:41:15.473Z"
      },
      {
        "duration": 3,
        "start_time": "2023-03-16T19:41:15.758Z"
      },
      {
        "duration": 80,
        "start_time": "2023-03-16T19:41:55.884Z"
      },
      {
        "duration": 1457,
        "start_time": "2023-03-16T19:42:06.726Z"
      },
      {
        "duration": 2234,
        "start_time": "2023-03-16T19:55:09.835Z"
      },
      {
        "duration": 5,
        "start_time": "2023-03-16T19:55:12.071Z"
      },
      {
        "duration": 862,
        "start_time": "2023-03-16T19:55:12.078Z"
      },
      {
        "duration": 133,
        "start_time": "2023-03-16T19:55:12.942Z"
      },
      {
        "duration": 21,
        "start_time": "2023-03-16T19:55:13.077Z"
      },
      {
        "duration": 125,
        "start_time": "2023-03-16T19:55:13.225Z"
      },
      {
        "duration": 454,
        "start_time": "2023-03-16T19:55:14.145Z"
      },
      {
        "duration": 958,
        "start_time": "2023-03-16T19:55:14.694Z"
      },
      {
        "duration": 5,
        "start_time": "2023-03-16T19:55:16.376Z"
      },
      {
        "duration": 19,
        "start_time": "2023-03-16T19:55:16.384Z"
      },
      {
        "duration": 173,
        "start_time": "2023-03-16T19:55:16.528Z"
      },
      {
        "duration": 9,
        "start_time": "2023-03-16T19:55:17.518Z"
      },
      {
        "duration": 17,
        "start_time": "2023-03-16T19:55:17.828Z"
      },
      {
        "duration": 327,
        "start_time": "2023-03-16T19:55:19.048Z"
      },
      {
        "duration": 175,
        "start_time": "2023-03-16T19:55:19.631Z"
      },
      {
        "duration": 13,
        "start_time": "2023-03-16T19:55:20.580Z"
      },
      {
        "duration": 46,
        "start_time": "2023-03-16T19:55:21.533Z"
      },
      {
        "duration": 121,
        "start_time": "2023-03-16T19:55:23.846Z"
      },
      {
        "duration": 9,
        "start_time": "2023-03-16T19:55:25.312Z"
      },
      {
        "duration": 166,
        "start_time": "2023-03-16T19:55:26.089Z"
      },
      {
        "duration": 15,
        "start_time": "2023-03-16T19:55:26.397Z"
      },
      {
        "duration": 28,
        "start_time": "2023-03-16T19:55:28.533Z"
      },
      {
        "duration": 42,
        "start_time": "2023-03-16T19:55:28.925Z"
      },
      {
        "duration": 3,
        "start_time": "2023-03-16T19:55:29.228Z"
      },
      {
        "duration": 3,
        "start_time": "2023-03-16T19:55:29.528Z"
      },
      {
        "duration": 117,
        "start_time": "2023-03-16T19:55:29.891Z"
      },
      {
        "duration": 2,
        "start_time": "2023-03-16T19:55:31.143Z"
      },
      {
        "duration": 16,
        "start_time": "2023-03-16T19:55:31.866Z"
      },
      {
        "duration": 13,
        "start_time": "2023-03-16T19:55:32.410Z"
      },
      {
        "duration": 3,
        "start_time": "2023-03-16T19:55:32.750Z"
      },
      {
        "duration": 9,
        "start_time": "2023-03-16T19:55:36.749Z"
      },
      {
        "duration": 18,
        "start_time": "2023-03-16T19:55:37.050Z"
      },
      {
        "duration": 347,
        "start_time": "2023-03-16T19:55:37.425Z"
      },
      {
        "duration": 43,
        "start_time": "2023-03-16T19:55:37.941Z"
      },
      {
        "duration": 106,
        "start_time": "2023-03-16T19:55:38.715Z"
      },
      {
        "duration": 28,
        "start_time": "2023-03-16T19:55:42.274Z"
      },
      {
        "duration": 15,
        "start_time": "2023-03-16T19:55:42.582Z"
      },
      {
        "duration": 150,
        "start_time": "2023-03-16T19:55:42.901Z"
      },
      {
        "duration": 19,
        "start_time": "2023-03-16T19:55:45.771Z"
      },
      {
        "duration": 18,
        "start_time": "2023-03-16T19:55:46.164Z"
      },
      {
        "duration": 108,
        "start_time": "2023-03-16T19:55:47.116Z"
      },
      {
        "duration": 15,
        "start_time": "2023-03-16T19:55:51.004Z"
      },
      {
        "duration": 123,
        "start_time": "2023-03-16T19:55:51.296Z"
      },
      {
        "duration": 28,
        "start_time": "2023-03-16T19:55:54.061Z"
      },
      {
        "duration": 122,
        "start_time": "2023-03-16T19:55:54.886Z"
      },
      {
        "duration": 17,
        "start_time": "2023-03-16T19:55:57.656Z"
      },
      {
        "duration": 18,
        "start_time": "2023-03-16T19:55:58.384Z"
      },
      {
        "duration": 131,
        "start_time": "2023-03-16T19:55:59.040Z"
      },
      {
        "duration": 91,
        "start_time": "2023-03-16T19:56:16.276Z"
      },
      {
        "duration": 76,
        "start_time": "2023-03-16T19:56:44.837Z"
      },
      {
        "duration": 115,
        "start_time": "2023-03-16T19:56:52.385Z"
      },
      {
        "duration": 1586,
        "start_time": "2023-03-16T20:00:53.827Z"
      },
      {
        "duration": 5,
        "start_time": "2023-03-16T20:01:58.339Z"
      },
      {
        "duration": 12,
        "start_time": "2023-03-16T20:05:33.957Z"
      },
      {
        "duration": 3,
        "start_time": "2023-03-16T20:06:49.779Z"
      },
      {
        "duration": 3022,
        "start_time": "2023-03-19T07:43:39.518Z"
      },
      {
        "duration": 1541,
        "start_time": "2023-03-19T07:43:42.542Z"
      },
      {
        "duration": 2779,
        "start_time": "2023-03-19T07:43:44.086Z"
      },
      {
        "duration": 141,
        "start_time": "2023-03-19T07:43:46.867Z"
      },
      {
        "duration": 17,
        "start_time": "2023-03-19T07:43:47.010Z"
      },
      {
        "duration": 123,
        "start_time": "2023-03-19T07:43:48.057Z"
      },
      {
        "duration": 443,
        "start_time": "2023-03-19T07:43:49.247Z"
      },
      {
        "duration": 891,
        "start_time": "2023-03-19T07:43:51.035Z"
      },
      {
        "duration": 5,
        "start_time": "2023-03-19T07:43:55.422Z"
      },
      {
        "duration": 7,
        "start_time": "2023-03-19T07:43:56.580Z"
      },
      {
        "duration": 182,
        "start_time": "2023-03-19T07:43:57.672Z"
      },
      {
        "duration": 10,
        "start_time": "2023-03-19T07:44:01.621Z"
      },
      {
        "duration": 19,
        "start_time": "2023-03-19T07:44:02.242Z"
      },
      {
        "duration": 297,
        "start_time": "2023-03-19T07:44:02.800Z"
      },
      {
        "duration": 183,
        "start_time": "2023-03-19T07:44:03.355Z"
      },
      {
        "duration": 13,
        "start_time": "2023-03-19T07:44:06.088Z"
      },
      {
        "duration": 59,
        "start_time": "2023-03-19T07:44:12.749Z"
      },
      {
        "duration": 115,
        "start_time": "2023-03-19T07:44:14.319Z"
      },
      {
        "duration": 8,
        "start_time": "2023-03-19T07:44:22.242Z"
      },
      {
        "duration": 143,
        "start_time": "2023-03-19T07:45:14.601Z"
      },
      {
        "duration": 12,
        "start_time": "2023-03-19T07:45:16.383Z"
      },
      {
        "duration": 181,
        "start_time": "2023-03-19T07:45:22.776Z"
      },
      {
        "duration": 2,
        "start_time": "2023-03-19T07:45:27.655Z"
      },
      {
        "duration": 3,
        "start_time": "2023-03-19T07:45:28.105Z"
      },
      {
        "duration": 3,
        "start_time": "2023-03-19T07:45:28.866Z"
      },
      {
        "duration": 2,
        "start_time": "2023-03-19T07:45:29.496Z"
      },
      {
        "duration": 49,
        "start_time": "2023-03-19T07:45:39.024Z"
      },
      {
        "duration": 2123,
        "start_time": "2023-03-19T07:51:13.370Z"
      },
      {
        "duration": 5,
        "start_time": "2023-03-19T07:51:15.496Z"
      },
      {
        "duration": 821,
        "start_time": "2023-03-19T07:51:16.231Z"
      },
      {
        "duration": 134,
        "start_time": "2023-03-19T07:51:17.785Z"
      },
      {
        "duration": 14,
        "start_time": "2023-03-19T07:51:18.348Z"
      },
      {
        "duration": 127,
        "start_time": "2023-03-19T07:51:19.021Z"
      },
      {
        "duration": 436,
        "start_time": "2023-03-19T07:51:19.646Z"
      },
      {
        "duration": 895,
        "start_time": "2023-03-19T07:51:20.984Z"
      },
      {
        "duration": 5,
        "start_time": "2023-03-19T07:51:24.952Z"
      },
      {
        "duration": 7,
        "start_time": "2023-03-19T07:51:25.403Z"
      },
      {
        "duration": 182,
        "start_time": "2023-03-19T07:51:26.021Z"
      },
      {
        "duration": 10,
        "start_time": "2023-03-19T07:51:28.624Z"
      },
      {
        "duration": 18,
        "start_time": "2023-03-19T07:51:29.307Z"
      },
      {
        "duration": 476,
        "start_time": "2023-03-19T07:51:29.937Z"
      },
      {
        "duration": 196,
        "start_time": "2023-03-19T07:51:30.573Z"
      },
      {
        "duration": 14,
        "start_time": "2023-03-19T07:51:32.291Z"
      },
      {
        "duration": 44,
        "start_time": "2023-03-19T07:51:35.140Z"
      },
      {
        "duration": 130,
        "start_time": "2023-03-19T07:51:37.459Z"
      },
      {
        "duration": 8,
        "start_time": "2023-03-19T07:51:38.868Z"
      },
      {
        "duration": 138,
        "start_time": "2023-03-19T07:51:39.540Z"
      },
      {
        "duration": 11,
        "start_time": "2023-03-19T07:51:39.904Z"
      },
      {
        "duration": 28,
        "start_time": "2023-03-19T07:51:49.422Z"
      },
      {
        "duration": 40,
        "start_time": "2023-03-19T07:51:50.063Z"
      },
      {
        "duration": 2,
        "start_time": "2023-03-19T07:51:51.018Z"
      },
      {
        "duration": 3,
        "start_time": "2023-03-19T07:52:07.693Z"
      },
      {
        "duration": 115,
        "start_time": "2023-03-19T07:52:08.468Z"
      },
      {
        "duration": 3,
        "start_time": "2023-03-19T07:52:09.037Z"
      },
      {
        "duration": 15,
        "start_time": "2023-03-19T07:52:09.967Z"
      },
      {
        "duration": 12,
        "start_time": "2023-03-19T07:52:11.028Z"
      },
      {
        "duration": 2,
        "start_time": "2023-03-19T07:52:11.454Z"
      },
      {
        "duration": 12,
        "start_time": "2023-03-19T07:52:13.235Z"
      },
      {
        "duration": 21,
        "start_time": "2023-03-19T07:52:13.966Z"
      },
      {
        "duration": 330,
        "start_time": "2023-03-19T07:52:15.002Z"
      },
      {
        "duration": 39,
        "start_time": "2023-03-19T07:52:16.563Z"
      },
      {
        "duration": 100,
        "start_time": "2023-03-19T07:52:18.603Z"
      },
      {
        "duration": 28,
        "start_time": "2023-03-19T07:52:20.300Z"
      },
      {
        "duration": 15,
        "start_time": "2023-03-19T07:52:20.808Z"
      },
      {
        "duration": 144,
        "start_time": "2023-03-19T07:52:21.328Z"
      },
      {
        "duration": 18,
        "start_time": "2023-03-19T07:52:22.841Z"
      },
      {
        "duration": 17,
        "start_time": "2023-03-19T07:52:23.393Z"
      },
      {
        "duration": 141,
        "start_time": "2023-03-19T07:52:23.956Z"
      },
      {
        "duration": 15,
        "start_time": "2023-03-19T07:52:27.739Z"
      },
      {
        "duration": 113,
        "start_time": "2023-03-19T07:52:28.026Z"
      },
      {
        "duration": 26,
        "start_time": "2023-03-19T07:52:29.089Z"
      },
      {
        "duration": 116,
        "start_time": "2023-03-19T07:52:29.383Z"
      },
      {
        "duration": 18,
        "start_time": "2023-03-19T07:52:30.866Z"
      },
      {
        "duration": 15,
        "start_time": "2023-03-19T07:52:31.306Z"
      },
      {
        "duration": 117,
        "start_time": "2023-03-19T07:52:31.701Z"
      },
      {
        "duration": 17,
        "start_time": "2023-03-19T07:52:32.553Z"
      },
      {
        "duration": 79,
        "start_time": "2023-03-19T07:52:33.336Z"
      },
      {
        "duration": 189594,
        "start_time": "2023-03-19T07:52:34.024Z"
      },
      {
        "duration": 1303,
        "start_time": "2023-03-19T07:55:43.620Z"
      },
      {
        "duration": 3,
        "start_time": "2023-03-19T08:04:26.666Z"
      },
      {
        "duration": 2,
        "start_time": "2023-03-19T08:04:27.364Z"
      },
      {
        "duration": 3,
        "start_time": "2023-03-19T08:04:27.939Z"
      },
      {
        "duration": 83,
        "start_time": "2023-03-19T08:04:29.642Z"
      },
      {
        "duration": 1570,
        "start_time": "2023-03-19T08:04:30.339Z"
      },
      {
        "duration": 2,
        "start_time": "2023-03-19T08:04:31.927Z"
      },
      {
        "duration": 2,
        "start_time": "2023-03-19T08:04:32.857Z"
      },
      {
        "duration": 4,
        "start_time": "2023-03-19T08:04:34.264Z"
      },
      {
        "duration": 3,
        "start_time": "2023-03-19T08:04:38.438Z"
      },
      {
        "duration": 537200,
        "start_time": "2023-03-19T08:04:41.232Z"
      },
      {
        "duration": 3,
        "start_time": "2023-03-19T08:30:08.032Z"
      },
      {
        "duration": 2,
        "start_time": "2023-03-19T08:30:09.121Z"
      },
      {
        "duration": 2,
        "start_time": "2023-03-19T08:30:11.722Z"
      },
      {
        "duration": 657434,
        "start_time": "2023-03-19T08:36:05.147Z"
      },
      {
        "duration": 2,
        "start_time": "2023-03-19T08:47:58.791Z"
      },
      {
        "duration": 3,
        "start_time": "2023-03-19T08:47:59.720Z"
      },
      {
        "duration": 3,
        "start_time": "2023-03-19T08:48:01.103Z"
      },
      {
        "duration": 123,
        "start_time": "2023-03-19T09:17:53.402Z"
      },
      {
        "duration": 2489257,
        "start_time": "2023-03-19T09:18:44.548Z"
      },
      {
        "duration": 6,
        "start_time": "2023-03-19T10:05:41.035Z"
      },
      {
        "duration": 0,
        "start_time": "2023-03-19T10:15:34.107Z"
      },
      {
        "duration": 48477,
        "start_time": "2023-03-19T10:19:59.109Z"
      },
      {
        "duration": 48254,
        "start_time": "2023-03-19T10:21:53.346Z"
      },
      {
        "duration": 3,
        "start_time": "2023-03-19T10:24:26.674Z"
      },
      {
        "duration": 3,
        "start_time": "2023-03-19T10:24:32.691Z"
      },
      {
        "duration": 3,
        "start_time": "2023-03-19T10:24:33.544Z"
      },
      {
        "duration": 2,
        "start_time": "2023-03-19T10:24:34.617Z"
      },
      {
        "duration": 3421,
        "start_time": "2023-03-19T18:27:50.309Z"
      },
      {
        "duration": 5,
        "start_time": "2023-03-19T18:27:53.733Z"
      },
      {
        "duration": 2748,
        "start_time": "2023-03-19T18:27:53.853Z"
      },
      {
        "duration": 137,
        "start_time": "2023-03-19T18:27:56.604Z"
      },
      {
        "duration": 15,
        "start_time": "2023-03-19T18:27:58.005Z"
      },
      {
        "duration": 125,
        "start_time": "2023-03-19T18:27:59.238Z"
      },
      {
        "duration": 408,
        "start_time": "2023-03-19T18:28:00.541Z"
      },
      {
        "duration": 834,
        "start_time": "2023-03-19T18:28:02.799Z"
      },
      {
        "duration": 5,
        "start_time": "2023-03-19T18:28:07.324Z"
      },
      {
        "duration": 9,
        "start_time": "2023-03-19T18:28:08.705Z"
      },
      {
        "duration": 163,
        "start_time": "2023-03-19T18:28:11.832Z"
      },
      {
        "duration": 12,
        "start_time": "2023-03-19T18:28:15.478Z"
      },
      {
        "duration": 20,
        "start_time": "2023-03-19T18:28:16.103Z"
      },
      {
        "duration": 405,
        "start_time": "2023-03-19T18:28:17.150Z"
      },
      {
        "duration": 194,
        "start_time": "2023-03-19T18:28:17.919Z"
      },
      {
        "duration": 13,
        "start_time": "2023-03-19T18:28:19.781Z"
      },
      {
        "duration": 46,
        "start_time": "2023-03-19T18:28:22.645Z"
      },
      {
        "duration": 155,
        "start_time": "2023-03-19T18:28:23.820Z"
      },
      {
        "duration": 8,
        "start_time": "2023-03-19T18:28:27.197Z"
      },
      {
        "duration": 160,
        "start_time": "2023-03-19T18:28:29.323Z"
      },
      {
        "duration": 11,
        "start_time": "2023-03-19T18:28:30.503Z"
      },
      {
        "duration": 6,
        "start_time": "2023-03-19T18:28:34.638Z"
      },
      {
        "duration": 160,
        "start_time": "2023-03-19T18:28:35.846Z"
      },
      {
        "duration": 48,
        "start_time": "2023-03-19T18:28:52.961Z"
      },
      {
        "duration": 863,
        "start_time": "2023-03-19T18:30:14.335Z"
      },
      {
        "duration": 5,
        "start_time": "2023-03-19T18:30:28.920Z"
      },
      {
        "duration": 809,
        "start_time": "2023-03-19T18:30:29.314Z"
      },
      {
        "duration": 137,
        "start_time": "2023-03-19T18:30:30.126Z"
      },
      {
        "duration": 14,
        "start_time": "2023-03-19T18:30:30.327Z"
      },
      {
        "duration": 131,
        "start_time": "2023-03-19T18:30:30.660Z"
      },
      {
        "duration": 440,
        "start_time": "2023-03-19T18:30:31.004Z"
      },
      {
        "duration": 855,
        "start_time": "2023-03-19T18:30:32.696Z"
      },
      {
        "duration": 4,
        "start_time": "2023-03-19T18:30:36.124Z"
      },
      {
        "duration": 8,
        "start_time": "2023-03-19T18:30:37.102Z"
      },
      {
        "duration": 162,
        "start_time": "2023-03-19T18:30:37.603Z"
      },
      {
        "duration": 9,
        "start_time": "2023-03-19T18:30:42.253Z"
      },
      {
        "duration": 17,
        "start_time": "2023-03-19T18:30:42.579Z"
      },
      {
        "duration": 310,
        "start_time": "2023-03-19T18:30:42.940Z"
      },
      {
        "duration": 180,
        "start_time": "2023-03-19T18:30:43.270Z"
      },
      {
        "duration": 14,
        "start_time": "2023-03-19T18:30:46.548Z"
      },
      {
        "duration": 45,
        "start_time": "2023-03-19T18:30:47.582Z"
      },
      {
        "duration": 113,
        "start_time": "2023-03-19T18:30:48.338Z"
      },
      {
        "duration": 8,
        "start_time": "2023-03-19T18:30:50.340Z"
      },
      {
        "duration": 145,
        "start_time": "2023-03-19T18:30:52.326Z"
      },
      {
        "duration": 11,
        "start_time": "2023-03-19T18:30:54.649Z"
      },
      {
        "duration": 156,
        "start_time": "2023-03-19T18:30:59.565Z"
      },
      {
        "duration": 57,
        "start_time": "2023-03-19T18:31:25.154Z"
      },
      {
        "duration": 38,
        "start_time": "2023-03-19T19:42:54.380Z"
      },
      {
        "duration": 448406,
        "start_time": "2023-03-19T19:48:04.514Z"
      },
      {
        "duration": 369907,
        "start_time": "2023-03-19T20:06:59.392Z"
      },
      {
        "duration": 269431,
        "start_time": "2023-03-19T20:19:54.383Z"
      },
      {
        "duration": 2159,
        "start_time": "2023-03-19T20:37:38.931Z"
      },
      {
        "duration": 1467,
        "start_time": "2023-03-19T20:37:41.092Z"
      },
      {
        "duration": 841,
        "start_time": "2023-03-19T20:37:42.561Z"
      },
      {
        "duration": 126,
        "start_time": "2023-03-19T20:37:43.404Z"
      },
      {
        "duration": 16,
        "start_time": "2023-03-19T20:37:43.532Z"
      },
      {
        "duration": 149,
        "start_time": "2023-03-19T20:37:43.550Z"
      },
      {
        "duration": 509,
        "start_time": "2023-03-19T20:37:43.700Z"
      },
      {
        "duration": 1034,
        "start_time": "2023-03-19T20:37:44.211Z"
      },
      {
        "duration": 5,
        "start_time": "2023-03-19T20:37:45.247Z"
      },
      {
        "duration": 13,
        "start_time": "2023-03-19T20:37:45.255Z"
      },
      {
        "duration": 188,
        "start_time": "2023-03-19T20:37:45.269Z"
      },
      {
        "duration": 9,
        "start_time": "2023-03-19T20:37:45.459Z"
      },
      {
        "duration": 26,
        "start_time": "2023-03-19T20:37:45.470Z"
      },
      {
        "duration": 330,
        "start_time": "2023-03-19T20:37:45.498Z"
      },
      {
        "duration": 199,
        "start_time": "2023-03-19T20:37:45.830Z"
      },
      {
        "duration": 15,
        "start_time": "2023-03-19T20:37:46.031Z"
      },
      {
        "duration": 81,
        "start_time": "2023-03-19T20:37:46.048Z"
      },
      {
        "duration": 115,
        "start_time": "2023-03-19T20:37:46.131Z"
      },
      {
        "duration": 9,
        "start_time": "2023-03-19T20:37:46.248Z"
      },
      {
        "duration": 159,
        "start_time": "2023-03-19T20:37:46.259Z"
      },
      {
        "duration": 10,
        "start_time": "2023-03-19T20:37:46.420Z"
      },
      {
        "duration": 184,
        "start_time": "2023-03-19T20:37:46.432Z"
      },
      {
        "duration": 5,
        "start_time": "2023-03-19T20:37:46.618Z"
      },
      {
        "duration": 24,
        "start_time": "2023-03-19T20:37:46.624Z"
      },
      {
        "duration": 3,
        "start_time": "2023-03-19T20:37:46.649Z"
      },
      {
        "duration": 6,
        "start_time": "2023-03-19T20:37:46.653Z"
      },
      {
        "duration": 72,
        "start_time": "2023-03-19T20:37:46.661Z"
      },
      {
        "duration": 3,
        "start_time": "2023-03-19T20:37:46.825Z"
      },
      {
        "duration": 16,
        "start_time": "2023-03-19T20:37:46.829Z"
      },
      {
        "duration": 24,
        "start_time": "2023-03-19T20:37:46.846Z"
      },
      {
        "duration": 5,
        "start_time": "2023-03-19T20:37:46.872Z"
      },
      {
        "duration": 11,
        "start_time": "2023-03-19T20:37:46.878Z"
      },
      {
        "duration": 12,
        "start_time": "2023-03-19T20:37:46.890Z"
      },
      {
        "duration": 224,
        "start_time": "2023-03-19T20:37:46.903Z"
      },
      {
        "duration": 24,
        "start_time": "2023-03-19T20:37:47.128Z"
      },
      {
        "duration": 57,
        "start_time": "2023-03-19T20:37:47.153Z"
      },
      {
        "duration": 14,
        "start_time": "2023-03-19T20:37:47.211Z"
      },
      {
        "duration": 13,
        "start_time": "2023-03-19T20:37:47.226Z"
      },
      {
        "duration": 87,
        "start_time": "2023-03-19T20:37:47.240Z"
      },
      {
        "duration": 10,
        "start_time": "2023-03-19T20:37:47.329Z"
      },
      {
        "duration": 10,
        "start_time": "2023-03-19T20:37:47.341Z"
      },
      {
        "duration": 64,
        "start_time": "2023-03-19T20:37:47.352Z"
      },
      {
        "duration": 8,
        "start_time": "2023-03-19T20:37:47.418Z"
      },
      {
        "duration": 52,
        "start_time": "2023-03-19T20:37:47.428Z"
      },
      {
        "duration": 13,
        "start_time": "2023-03-19T20:37:47.495Z"
      },
      {
        "duration": 57,
        "start_time": "2023-03-19T20:37:47.510Z"
      },
      {
        "duration": 27,
        "start_time": "2023-03-19T20:37:47.569Z"
      },
      {
        "duration": 8,
        "start_time": "2023-03-19T20:37:47.598Z"
      },
      {
        "duration": 59,
        "start_time": "2023-03-19T20:37:47.608Z"
      },
      {
        "duration": 28,
        "start_time": "2023-03-19T20:37:47.669Z"
      },
      {
        "duration": 39,
        "start_time": "2023-03-19T20:37:47.699Z"
      },
      {
        "duration": 88231,
        "start_time": "2023-03-19T20:37:47.740Z"
      },
      {
        "duration": 840,
        "start_time": "2023-03-19T20:39:15.973Z"
      },
      {
        "duration": 2,
        "start_time": "2023-03-19T20:39:16.816Z"
      },
      {
        "duration": 6,
        "start_time": "2023-03-19T20:39:16.820Z"
      },
      {
        "duration": 4,
        "start_time": "2023-03-19T20:39:16.828Z"
      },
      {
        "duration": 6,
        "start_time": "2023-03-19T20:39:16.834Z"
      },
      {
        "duration": 35,
        "start_time": "2023-03-19T20:39:16.842Z"
      },
      {
        "duration": 628,
        "start_time": "2023-03-19T20:39:16.879Z"
      },
      {
        "duration": 3,
        "start_time": "2023-03-19T20:39:17.508Z"
      },
      {
        "duration": 6,
        "start_time": "2023-03-19T20:39:17.513Z"
      },
      {
        "duration": 7,
        "start_time": "2023-03-19T20:39:17.521Z"
      },
      {
        "duration": 7,
        "start_time": "2023-03-19T20:39:17.530Z"
      },
      {
        "duration": 161036,
        "start_time": "2023-03-19T20:39:17.539Z"
      },
      {
        "duration": 2,
        "start_time": "2023-03-19T20:41:58.578Z"
      },
      {
        "duration": 5,
        "start_time": "2023-03-19T20:41:58.582Z"
      },
      {
        "duration": 8,
        "start_time": "2023-03-19T20:41:58.588Z"
      },
      {
        "duration": 7,
        "start_time": "2023-03-19T20:41:58.597Z"
      },
      {
        "duration": 204721,
        "start_time": "2023-03-19T20:41:58.606Z"
      },
      {
        "duration": 3,
        "start_time": "2023-03-19T20:45:23.328Z"
      },
      {
        "duration": 11,
        "start_time": "2023-03-19T20:45:23.332Z"
      },
      {
        "duration": 5,
        "start_time": "2023-03-19T20:45:23.344Z"
      },
      {
        "duration": 1439549,
        "start_time": "2023-03-19T20:45:23.351Z"
      },
      {
        "duration": 3,
        "start_time": "2023-03-19T21:09:22.901Z"
      },
      {
        "duration": 6,
        "start_time": "2023-03-19T21:09:22.906Z"
      },
      {
        "duration": 5,
        "start_time": "2023-03-19T21:09:22.913Z"
      },
      {
        "duration": 5,
        "start_time": "2023-03-19T21:09:22.919Z"
      },
      {
        "duration": 9,
        "start_time": "2023-03-19T21:09:22.925Z"
      },
      {
        "duration": 14417,
        "start_time": "2023-03-19T21:09:22.936Z"
      },
      {
        "duration": 136956,
        "start_time": "2023-03-19T21:09:37.355Z"
      },
      {
        "duration": 2124,
        "start_time": "2023-03-19T21:24:11.959Z"
      },
      {
        "duration": 1394,
        "start_time": "2023-03-19T21:24:14.085Z"
      },
      {
        "duration": 864,
        "start_time": "2023-03-19T21:24:15.481Z"
      },
      {
        "duration": 137,
        "start_time": "2023-03-19T21:24:16.347Z"
      },
      {
        "duration": 22,
        "start_time": "2023-03-19T21:24:16.486Z"
      },
      {
        "duration": 139,
        "start_time": "2023-03-19T21:24:16.510Z"
      },
      {
        "duration": 481,
        "start_time": "2023-03-19T21:24:16.650Z"
      },
      {
        "duration": 978,
        "start_time": "2023-03-19T21:24:17.133Z"
      },
      {
        "duration": 5,
        "start_time": "2023-03-19T21:24:18.113Z"
      },
      {
        "duration": 8,
        "start_time": "2023-03-19T21:24:18.121Z"
      },
      {
        "duration": 189,
        "start_time": "2023-03-19T21:24:18.131Z"
      },
      {
        "duration": 10,
        "start_time": "2023-03-19T21:24:18.322Z"
      },
      {
        "duration": 17,
        "start_time": "2023-03-19T21:24:18.334Z"
      },
      {
        "duration": 323,
        "start_time": "2023-03-19T21:24:18.353Z"
      },
      {
        "duration": 185,
        "start_time": "2023-03-19T21:24:18.677Z"
      },
      {
        "duration": 12,
        "start_time": "2023-03-19T21:24:18.864Z"
      },
      {
        "duration": 72,
        "start_time": "2023-03-19T21:24:18.877Z"
      },
      {
        "duration": 117,
        "start_time": "2023-03-19T21:24:18.951Z"
      },
      {
        "duration": 27,
        "start_time": "2023-03-19T21:24:19.069Z"
      },
      {
        "duration": 142,
        "start_time": "2023-03-19T21:24:19.098Z"
      },
      {
        "duration": 10,
        "start_time": "2023-03-19T21:24:19.242Z"
      },
      {
        "duration": 42,
        "start_time": "2023-03-19T21:24:19.254Z"
      },
      {
        "duration": 53,
        "start_time": "2023-03-19T21:24:19.298Z"
      },
      {
        "duration": 3,
        "start_time": "2023-03-19T21:24:19.352Z"
      },
      {
        "duration": 6,
        "start_time": "2023-03-19T21:24:19.356Z"
      },
      {
        "duration": 127,
        "start_time": "2023-03-19T21:24:19.364Z"
      },
      {
        "duration": 3,
        "start_time": "2023-03-19T21:24:19.492Z"
      },
      {
        "duration": 24,
        "start_time": "2023-03-19T21:24:19.577Z"
      },
      {
        "duration": 8,
        "start_time": "2023-03-19T21:24:19.603Z"
      },
      {
        "duration": 2,
        "start_time": "2023-03-19T21:24:19.613Z"
      },
      {
        "duration": 11,
        "start_time": "2023-03-19T21:24:19.616Z"
      },
      {
        "duration": 16,
        "start_time": "2023-03-19T21:24:19.628Z"
      },
      {
        "duration": 357,
        "start_time": "2023-03-19T21:24:19.645Z"
      },
      {
        "duration": 45,
        "start_time": "2023-03-19T21:24:20.004Z"
      },
      {
        "duration": 111,
        "start_time": "2023-03-19T21:24:20.050Z"
      },
      {
        "duration": 37,
        "start_time": "2023-03-19T21:24:20.162Z"
      },
      {
        "duration": 14,
        "start_time": "2023-03-19T21:24:20.200Z"
      },
      {
        "duration": 172,
        "start_time": "2023-03-19T21:24:20.215Z"
      },
      {
        "duration": 18,
        "start_time": "2023-03-19T21:24:20.394Z"
      },
      {
        "duration": 20,
        "start_time": "2023-03-19T21:24:20.414Z"
      },
      {
        "duration": 108,
        "start_time": "2023-03-19T21:24:20.436Z"
      },
      {
        "duration": 15,
        "start_time": "2023-03-19T21:24:20.546Z"
      },
      {
        "duration": 132,
        "start_time": "2023-03-19T21:24:20.563Z"
      },
      {
        "duration": 27,
        "start_time": "2023-03-19T21:24:20.697Z"
      },
      {
        "duration": 130,
        "start_time": "2023-03-19T21:24:20.726Z"
      },
      {
        "duration": 16,
        "start_time": "2023-03-19T21:24:20.858Z"
      },
      {
        "duration": 30,
        "start_time": "2023-03-19T21:24:20.876Z"
      },
      {
        "duration": 124,
        "start_time": "2023-03-19T21:24:20.908Z"
      },
      {
        "duration": 13,
        "start_time": "2023-03-19T21:24:21.034Z"
      },
      {
        "duration": 89,
        "start_time": "2023-03-19T21:24:21.049Z"
      },
      {
        "duration": 186439,
        "start_time": "2023-03-19T21:24:21.140Z"
      },
      {
        "duration": 1379,
        "start_time": "2023-03-19T21:27:27.581Z"
      },
      {
        "duration": 2,
        "start_time": "2023-03-19T21:27:28.962Z"
      },
      {
        "duration": 4,
        "start_time": "2023-03-19T21:27:28.966Z"
      },
      {
        "duration": 4,
        "start_time": "2023-03-19T21:27:28.972Z"
      },
      {
        "duration": 18,
        "start_time": "2023-03-19T21:27:28.977Z"
      },
      {
        "duration": 85,
        "start_time": "2023-03-19T21:27:28.997Z"
      },
      {
        "duration": 1672,
        "start_time": "2023-03-19T21:27:29.084Z"
      },
      {
        "duration": 3,
        "start_time": "2023-03-19T21:27:30.757Z"
      },
      {
        "duration": 20,
        "start_time": "2023-03-19T21:27:30.761Z"
      },
      {
        "duration": 37,
        "start_time": "2023-03-19T21:27:30.783Z"
      },
      {
        "duration": 20,
        "start_time": "2023-03-19T21:27:30.822Z"
      },
      {
        "duration": 515180,
        "start_time": "2023-03-19T21:27:30.844Z"
      },
      {
        "duration": 2,
        "start_time": "2023-03-19T21:36:06.026Z"
      },
      {
        "duration": 9,
        "start_time": "2023-03-19T21:36:06.030Z"
      },
      {
        "duration": 5,
        "start_time": "2023-03-19T21:36:06.040Z"
      },
      {
        "duration": 9,
        "start_time": "2023-03-19T21:36:06.047Z"
      },
      {
        "duration": 647376,
        "start_time": "2023-03-19T21:36:06.057Z"
      },
      {
        "duration": 2,
        "start_time": "2023-03-19T21:46:53.435Z"
      },
      {
        "duration": 6,
        "start_time": "2023-03-19T21:46:53.439Z"
      },
      {
        "duration": 5,
        "start_time": "2023-03-19T21:46:53.446Z"
      },
      {
        "duration": 912745,
        "start_time": "2023-03-19T21:46:53.452Z"
      },
      {
        "duration": 2,
        "start_time": "2023-03-19T22:02:06.199Z"
      },
      {
        "duration": 12,
        "start_time": "2023-03-19T22:02:06.202Z"
      },
      {
        "duration": 24,
        "start_time": "2023-03-19T22:02:06.216Z"
      },
      {
        "duration": 14,
        "start_time": "2023-03-19T22:02:06.242Z"
      },
      {
        "duration": 7,
        "start_time": "2023-03-19T22:02:06.258Z"
      },
      {
        "duration": 48679,
        "start_time": "2023-03-19T22:02:06.266Z"
      },
      {
        "duration": 273676,
        "start_time": "2023-03-19T22:02:54.946Z"
      },
      {
        "duration": 5,
        "start_time": "2023-03-19T22:14:27.307Z"
      },
      {
        "duration": 2477,
        "start_time": "2023-05-16T11:36:57.174Z"
      }
    ],
    "kernelspec": {
      "display_name": "Python 3 (ipykernel)",
      "language": "python",
      "name": "python3"
    },
    "language_info": {
      "codemirror_mode": {
        "name": "ipython",
        "version": 3
      },
      "file_extension": ".py",
      "mimetype": "text/x-python",
      "name": "python",
      "nbconvert_exporter": "python",
      "pygments_lexer": "ipython3",
      "version": "3.9.5"
    },
    "toc": {
      "base_numbering": 1,
      "nav_menu": {},
      "number_sections": true,
      "sideBar": true,
      "skip_h1_title": true,
      "title_cell": "Table of Contents",
      "title_sidebar": "Contents",
      "toc_cell": false,
      "toc_position": {
        "height": "calc(100% - 180px)",
        "left": "10px",
        "top": "150px",
        "width": "165px"
      },
      "toc_section_display": true,
      "toc_window_display": true
    },
    "colab": {
      "provenance": []
    }
  },
  "nbformat": 4,
  "nbformat_minor": 0
}
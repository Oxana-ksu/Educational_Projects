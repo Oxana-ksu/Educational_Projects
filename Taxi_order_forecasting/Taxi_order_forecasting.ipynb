{
  "cells": [
    {
      "cell_type": "markdown",
      "metadata": {
        "id": "TA4jCsRQ1CUr"
      },
      "source": [
        "#  Прогнозирование заказов такси"
      ]
    },
    {
      "cell_type": "markdown",
      "metadata": {
        "id": "RrfUwasi1CUt"
      },
      "source": [
        "Компания «Чётенькое такси» собрала исторические данные о заказах такси в аэропортах. Чтобы привлекать больше водителей в период пиковой нагрузки, нужно спрогнозировать количество заказов такси на следующий час. Постройте модель для такого предсказания.\n",
        "\n",
        "Значение метрики *RMSE* на тестовой выборке должно быть не больше 48.\n",
        "\n",
        "Вам нужно:\n",
        "\n",
        "1. Загрузить данные и выполнить их ресемплирование по одному часу.\n",
        "2. Проанализировать данные.\n",
        "3. Обучить разные модели с различными гиперпараметрами. Сделать тестовую выборку размером 10% от исходных данных.\n",
        "4. Проверить данные на тестовой выборке и сделать выводы.\n",
        "\n",
        "\n",
        "Данные лежат в файле `taxi.csv`. Количество заказов находится в столбце `num_orders` (от англ. *number of orders*, «число заказов»)."
      ]
    },
    {
      "cell_type": "markdown",
      "metadata": {
        "id": "I_kMdCo61CUz"
      },
      "source": [
        "## Подготовка"
      ]
    },
    {
      "cell_type": "code",
      "execution_count": null,
      "metadata": {
        "id": "RfRVZe911CU9"
      },
      "outputs": [],
      "source": [
        "import pandas as pd\n",
        "import numpy as np\n",
        "\n",
        "import matplotlib.pyplot as plt\n",
        "import seaborn as sns\n",
        "from statsmodels.tsa.seasonal import seasonal_decompose\n",
        "\n",
        "from lightgbm import LGBMRegressor\n",
        "from sklearn.experimental import enable_halving_search_cv\n",
        "from sklearn.model_selection import (train_test_split, TimeSeriesSplit, GridSearchCV, HalvingGridSearchCV, cross_val_score)\n",
        "from sklearn.linear_model import LinearRegression\n",
        "from sklearn.metrics import (mean_absolute_error, mean_squared_error)\n",
        "from sklearn.tree import DecisionTreeRegressor\n",
        "from sklearn.ensemble import RandomForestRegressor\n",
        "\n",
        "import warnings\n",
        "warnings.filterwarnings('ignore')"
      ]
    },
    {
      "cell_type": "code",
      "execution_count": null,
      "metadata": {
        "id": "UR_oceOS1CVF"
      },
      "outputs": [],
      "source": [
        "data = pd.read_csv('/datasets/taxi.csv')"
      ]
    },
    {
      "cell_type": "code",
      "execution_count": null,
      "metadata": {
        "id": "tEzQPKrd1CVH",
        "outputId": "043974f3-9e52-4f6a-ee88-c0e190bb1cff"
      },
      "outputs": [
        {
          "data": {
            "text/html": [
              "<div>\n",
              "<style scoped>\n",
              "    .dataframe tbody tr th:only-of-type {\n",
              "        vertical-align: middle;\n",
              "    }\n",
              "\n",
              "    .dataframe tbody tr th {\n",
              "        vertical-align: top;\n",
              "    }\n",
              "\n",
              "    .dataframe thead th {\n",
              "        text-align: right;\n",
              "    }\n",
              "</style>\n",
              "<table border=\"1\" class=\"dataframe\">\n",
              "  <thead>\n",
              "    <tr style=\"text-align: right;\">\n",
              "      <th></th>\n",
              "      <th>datetime</th>\n",
              "      <th>num_orders</th>\n",
              "    </tr>\n",
              "  </thead>\n",
              "  <tbody>\n",
              "    <tr>\n",
              "      <th>0</th>\n",
              "      <td>2018-03-01 00:00:00</td>\n",
              "      <td>9</td>\n",
              "    </tr>\n",
              "    <tr>\n",
              "      <th>1</th>\n",
              "      <td>2018-03-01 00:10:00</td>\n",
              "      <td>14</td>\n",
              "    </tr>\n",
              "    <tr>\n",
              "      <th>2</th>\n",
              "      <td>2018-03-01 00:20:00</td>\n",
              "      <td>28</td>\n",
              "    </tr>\n",
              "    <tr>\n",
              "      <th>3</th>\n",
              "      <td>2018-03-01 00:30:00</td>\n",
              "      <td>20</td>\n",
              "    </tr>\n",
              "    <tr>\n",
              "      <th>4</th>\n",
              "      <td>2018-03-01 00:40:00</td>\n",
              "      <td>32</td>\n",
              "    </tr>\n",
              "  </tbody>\n",
              "</table>\n",
              "</div>"
            ],
            "text/plain": [
              "              datetime  num_orders\n",
              "0  2018-03-01 00:00:00           9\n",
              "1  2018-03-01 00:10:00          14\n",
              "2  2018-03-01 00:20:00          28\n",
              "3  2018-03-01 00:30:00          20\n",
              "4  2018-03-01 00:40:00          32"
            ]
          },
          "execution_count": 3,
          "metadata": {},
          "output_type": "execute_result"
        }
      ],
      "source": [
        "data.head()"
      ]
    },
    {
      "cell_type": "code",
      "execution_count": null,
      "metadata": {
        "id": "_jW2GCFQ1CVM",
        "outputId": "5d3502e0-061c-4ff7-d8d3-f88c55431ac2"
      },
      "outputs": [
        {
          "name": "stdout",
          "output_type": "stream",
          "text": [
            "<class 'pandas.core.frame.DataFrame'>\n",
            "RangeIndex: 26496 entries, 0 to 26495\n",
            "Data columns (total 2 columns):\n",
            " #   Column      Non-Null Count  Dtype \n",
            "---  ------      --------------  ----- \n",
            " 0   datetime    26496 non-null  object\n",
            " 1   num_orders  26496 non-null  int64 \n",
            "dtypes: int64(1), object(1)\n",
            "memory usage: 414.1+ KB\n"
          ]
        }
      ],
      "source": [
        "data.info()"
      ]
    },
    {
      "cell_type": "code",
      "execution_count": null,
      "metadata": {
        "id": "kPZFHvhR1CVO",
        "outputId": "fa7aa6f0-86d1-4794-cc4f-48f943e3164d"
      },
      "outputs": [
        {
          "data": {
            "text/plain": [
              "0"
            ]
          },
          "execution_count": 5,
          "metadata": {},
          "output_type": "execute_result"
        }
      ],
      "source": [
        "#явные дубликаты\n",
        "data.duplicated().sum()"
      ]
    },
    {
      "cell_type": "code",
      "execution_count": null,
      "metadata": {
        "id": "pVuBnCG21CVQ"
      },
      "outputs": [],
      "source": [
        "#устанавливаю индекс таблицы равным столбцу datetime\n",
        "data = pd.read_csv('/datasets/taxi.csv', index_col=[0], parse_dates=[0])"
      ]
    },
    {
      "cell_type": "code",
      "execution_count": null,
      "metadata": {
        "id": "m6oPIqSa1CVR",
        "outputId": "6f9605b4-3a18-45f2-d9e1-19650eaff3b1"
      },
      "outputs": [
        {
          "data": {
            "text/plain": [
              "True"
            ]
          },
          "execution_count": 7,
          "metadata": {},
          "output_type": "execute_result"
        }
      ],
      "source": [
        "#хронология\n",
        "data.sort_index(inplace=True)\n",
        "data.index.is_monotonic"
      ]
    },
    {
      "cell_type": "markdown",
      "metadata": {
        "id": "yN4o84d_1CVT"
      },
      "source": [
        "### Выводы"
      ]
    },
    {
      "cell_type": "markdown",
      "metadata": {
        "id": "uB0NmPGX1CVU"
      },
      "source": [
        "Датафрейм состоит из двух столбцов, дата и количество заказов. Пропусков и дубликатов не обнаружено. Данные находятся в хронологическом порядке. Был установлен индекс таблицы равным столбцу datetime"
      ]
    },
    {
      "cell_type": "markdown",
      "metadata": {
        "id": "IKWSi2a21CVV"
      },
      "source": [
        "## Анализ"
      ]
    },
    {
      "cell_type": "code",
      "execution_count": null,
      "metadata": {
        "id": "GCaEKY491CVW",
        "outputId": "304bf992-1801-445e-d428-9a9e56aaafb3"
      },
      "outputs": [
        {
          "name": "stdout",
          "output_type": "stream",
          "text": [
            "<class 'pandas.core.frame.DataFrame'>\n",
            "DatetimeIndex: 4416 entries, 2018-03-01 00:00:00 to 2018-08-31 23:00:00\n",
            "Freq: H\n",
            "Data columns (total 1 columns):\n",
            " #   Column      Non-Null Count  Dtype\n",
            "---  ------      --------------  -----\n",
            " 0   num_orders  4416 non-null   int64\n",
            "dtypes: int64(1)\n",
            "memory usage: 69.0 KB\n"
          ]
        }
      ],
      "source": [
        "#ресемплирование по часу\n",
        "data = data.resample('1H').sum()\n",
        "data.info()"
      ]
    },
    {
      "cell_type": "code",
      "execution_count": null,
      "metadata": {
        "id": "4R2ryrZq1CVY",
        "outputId": "e6af33fa-360c-401a-81d1-4f2a4d06ccc4"
      },
      "outputs": [
        {
          "data": {
            "text/plain": [
              "<AxesSubplot:xlabel='datetime'>"
            ]
          },
          "execution_count": 9,
          "metadata": {},
          "output_type": "execute_result"
        },
        {
          "data": {
            "image/png": "[encoded data removed]",
            "text/plain": [
              "<Figure size 432x288 with 1 Axes>"
            ]
          },
          "metadata": {
            "needs_background": "light"
          },
          "output_type": "display_data"
        }
      ],
      "source": [
        "data.plot()"
      ]
    },
    {
      "cell_type": "code",
      "execution_count": null,
      "metadata": {
        "id": "KfedOVZa1CVa",
        "outputId": "e0714aa8-cbbd-40f7-ae3b-2815feab1553"
      },
      "outputs": [
        {
          "data": {
            "text/plain": [
              "<AxesSubplot:xlabel='datetime'>"
            ]
          },
          "execution_count": 10,
          "metadata": {},
          "output_type": "execute_result"
        },
        {
          "data": {
            "image/png": "[encoded data removed]",
            "text/plain": [
              "<Figure size 432x288 with 1 Axes>"
            ]
          },
          "metadata": {
            "needs_background": "light"
          },
          "output_type": "display_data"
        }
      ],
      "source": [
        "#скользящее среднее\n",
        "data_rollin = data.copy()\n",
        "data_rollin['rolling_mean'] =data_rollin.rolling(10).mean()\n",
        "data_rollin.plot()"
      ]
    },
    {
      "cell_type": "code",
      "execution_count": null,
      "metadata": {
        "id": "Y8BgwARV1CVd",
        "outputId": "fd086b07-1394-42ad-9c62-df36aefad4fb"
      },
      "outputs": [
        {
          "data": {
            "image/png": "[encoded data removed]",
            "text/plain": [
              "<Figure size 432x576 with 3 Axes>"
            ]
          },
          "metadata": {
            "needs_background": "light"
          },
          "output_type": "display_data"
        }
      ],
      "source": [
        "#тренды и сезонность\n",
        "decomposed = seasonal_decompose(data)\n",
        "\n",
        "plt.figure(figsize=(6, 8))\n",
        "plt.subplot(311)\n",
        "decomposed.trend.plot(ax=plt.gca())\n",
        "plt.title('Trend')\n",
        "plt.subplot(312)\n",
        "decomposed.seasonal.plot(ax=plt.gca())\n",
        "plt.title('Seasonality')\n",
        "plt.subplot(313)\n",
        "decomposed.resid.plot(ax=plt.gca())\n",
        "plt.title('Residuals')\n",
        "plt.tight_layout()"
      ]
    },
    {
      "cell_type": "code",
      "execution_count": null,
      "metadata": {
        "id": "6hsAeW5s1CVf",
        "outputId": "7b1c1a16-343f-4b19-80b0-e5d23d18f291"
      },
      "outputs": [
        {
          "data": {
            "image/png": "[encoded data removed]",
            "text/plain": [
              "<Figure size 432x576 with 3 Axes>"
            ]
          },
          "metadata": {
            "needs_background": "light"
          },
          "output_type": "display_data"
        }
      ],
      "source": [
        "#тренды и сезонность за неделю\n",
        "data_week = data['2018-08-25':]\n",
        "decomposed = seasonal_decompose(data_week)\n",
        "\n",
        "plt.figure(figsize=(6, 8))\n",
        "plt.subplot(311)\n",
        "decomposed.trend.plot(ax=plt.gca())\n",
        "plt.title('Trend')\n",
        "plt.subplot(312)\n",
        "decomposed.seasonal.plot(ax=plt.gca())\n",
        "plt.title('Seasonality')\n",
        "plt.subplot(313)\n",
        "decomposed.resid.plot(ax=plt.gca())\n",
        "plt.title('Residuals')\n",
        "plt.tight_layout()"
      ]
    },
    {
      "cell_type": "code",
      "execution_count": null,
      "metadata": {
        "id": "xRIJYmdd1CVl",
        "outputId": "0e0b5877-c28e-4756-944c-c4cc2aa8952a"
      },
      "outputs": [
        {
          "data": {
            "text/plain": [
              "<AxesSubplot:xlabel='datetime'>"
            ]
          },
          "execution_count": 13,
          "metadata": {},
          "output_type": "execute_result"
        },
        {
          "data": {
            "image/png": "[encoded data removed]",
            "text/plain": [
              "<Figure size 432x288 with 1 Axes>"
            ]
          },
          "metadata": {
            "needs_background": "light"
          },
          "output_type": "display_data"
        }
      ],
      "source": [
        "# разность временного ряда\n",
        "data = data - data.shift()\n",
        "data['men'] = data['num_orders'].rolling(15).mean()\n",
        "data['std'] = data['num_orders'].rolling(15).std()\n",
        "data.plot()"
      ]
    },
    {
      "cell_type": "code",
      "execution_count": null,
      "metadata": {
        "id": "_bDrFL5j1CVr",
        "outputId": "5dbc0c87-8e83-4673-d38e-299cf0aa2497"
      },
      "outputs": [
        {
          "data": {
            "text/plain": [
              "<AxesSubplot:xlabel='datetime'>"
            ]
          },
          "execution_count": 14,
          "metadata": {},
          "output_type": "execute_result"
        },
        {
          "data": {
            "image/png": "[encoded data removed]",
            "text/plain": [
              "<Figure size 432x288 with 1 Axes>"
            ]
          },
          "metadata": {
            "needs_background": "light"
          },
          "output_type": "display_data"
        }
      ],
      "source": [
        "# разность временного ряда за неделю\n",
        "data_week = data_week - data_week.shift()\n",
        "data_week['men'] = data_week['num_orders'].rolling(15).mean()\n",
        "data_week['std'] = data_week['num_orders'].rolling(15).std()\n",
        "data_week.plot()"
      ]
    },
    {
      "cell_type": "markdown",
      "metadata": {
        "id": "Toj8tlxh1CVu"
      },
      "source": [
        "### Выводы"
      ]
    },
    {
      "cell_type": "markdown",
      "metadata": {
        "id": "g_rE0pUP1CVu"
      },
      "source": [
        "- Количество заказов со временем увеличивается\n",
        "- Временной ряд не стационарный, так как идет тенд на возрастание, среднее значение и стандартное отклонение со временем увеличиваются\n",
        "- Так же по графикам хорошо видна сезонность\n"
      ]
    },
    {
      "cell_type": "markdown",
      "metadata": {
        "id": "Sz3lg0721CVw"
      },
      "source": [
        "## Обучение"
      ]
    },
    {
      "cell_type": "code",
      "execution_count": null,
      "metadata": {
        "id": "VhZSOj4E1CVx",
        "outputId": "2e1ce3a7-46b9-4344-b261-4e3e1578cd7a"
      },
      "outputs": [
        {
          "data": {
            "text/html": [
              "<div>\n",
              "<style scoped>\n",
              "    .dataframe tbody tr th:only-of-type {\n",
              "        vertical-align: middle;\n",
              "    }\n",
              "\n",
              "    .dataframe tbody tr th {\n",
              "        vertical-align: top;\n",
              "    }\n",
              "\n",
              "    .dataframe thead th {\n",
              "        text-align: right;\n",
              "    }\n",
              "</style>\n",
              "<table border=\"1\" class=\"dataframe\">\n",
              "  <thead>\n",
              "    <tr style=\"text-align: right;\">\n",
              "      <th></th>\n",
              "      <th>num_orders</th>\n",
              "      <th>men</th>\n",
              "      <th>std</th>\n",
              "      <th>day</th>\n",
              "      <th>dayofweek</th>\n",
              "      <th>lag_1</th>\n",
              "      <th>lag_2</th>\n",
              "      <th>lag_3</th>\n",
              "      <th>lag_4</th>\n",
              "      <th>lag_5</th>\n",
              "      <th>lag_6</th>\n",
              "      <th>lag_7</th>\n",
              "      <th>lag_8</th>\n",
              "      <th>lag_9</th>\n",
              "      <th>lag_10</th>\n",
              "      <th>rolling_mean</th>\n",
              "    </tr>\n",
              "    <tr>\n",
              "      <th>datetime</th>\n",
              "      <th></th>\n",
              "      <th></th>\n",
              "      <th></th>\n",
              "      <th></th>\n",
              "      <th></th>\n",
              "      <th></th>\n",
              "      <th></th>\n",
              "      <th></th>\n",
              "      <th></th>\n",
              "      <th></th>\n",
              "      <th></th>\n",
              "      <th></th>\n",
              "      <th></th>\n",
              "      <th></th>\n",
              "      <th></th>\n",
              "      <th></th>\n",
              "    </tr>\n",
              "  </thead>\n",
              "  <tbody>\n",
              "    <tr>\n",
              "      <th>2018-03-01 00:00:00</th>\n",
              "      <td>NaN</td>\n",
              "      <td>NaN</td>\n",
              "      <td>NaN</td>\n",
              "      <td>1</td>\n",
              "      <td>3</td>\n",
              "      <td>NaN</td>\n",
              "      <td>NaN</td>\n",
              "      <td>NaN</td>\n",
              "      <td>NaN</td>\n",
              "      <td>NaN</td>\n",
              "      <td>NaN</td>\n",
              "      <td>NaN</td>\n",
              "      <td>NaN</td>\n",
              "      <td>NaN</td>\n",
              "      <td>NaN</td>\n",
              "      <td>NaN</td>\n",
              "    </tr>\n",
              "    <tr>\n",
              "      <th>2018-03-01 01:00:00</th>\n",
              "      <td>-39.0</td>\n",
              "      <td>NaN</td>\n",
              "      <td>NaN</td>\n",
              "      <td>1</td>\n",
              "      <td>3</td>\n",
              "      <td>NaN</td>\n",
              "      <td>NaN</td>\n",
              "      <td>NaN</td>\n",
              "      <td>NaN</td>\n",
              "      <td>NaN</td>\n",
              "      <td>NaN</td>\n",
              "      <td>NaN</td>\n",
              "      <td>NaN</td>\n",
              "      <td>NaN</td>\n",
              "      <td>NaN</td>\n",
              "      <td>NaN</td>\n",
              "    </tr>\n",
              "    <tr>\n",
              "      <th>2018-03-01 02:00:00</th>\n",
              "      <td>-14.0</td>\n",
              "      <td>NaN</td>\n",
              "      <td>NaN</td>\n",
              "      <td>1</td>\n",
              "      <td>3</td>\n",
              "      <td>-39.0</td>\n",
              "      <td>NaN</td>\n",
              "      <td>NaN</td>\n",
              "      <td>NaN</td>\n",
              "      <td>NaN</td>\n",
              "      <td>NaN</td>\n",
              "      <td>NaN</td>\n",
              "      <td>NaN</td>\n",
              "      <td>NaN</td>\n",
              "      <td>NaN</td>\n",
              "      <td>NaN</td>\n",
              "    </tr>\n",
              "    <tr>\n",
              "      <th>2018-03-01 03:00:00</th>\n",
              "      <td>-5.0</td>\n",
              "      <td>NaN</td>\n",
              "      <td>NaN</td>\n",
              "      <td>1</td>\n",
              "      <td>3</td>\n",
              "      <td>-14.0</td>\n",
              "      <td>-39.0</td>\n",
              "      <td>NaN</td>\n",
              "      <td>NaN</td>\n",
              "      <td>NaN</td>\n",
              "      <td>NaN</td>\n",
              "      <td>NaN</td>\n",
              "      <td>NaN</td>\n",
              "      <td>NaN</td>\n",
              "      <td>NaN</td>\n",
              "      <td>NaN</td>\n",
              "    </tr>\n",
              "    <tr>\n",
              "      <th>2018-03-01 04:00:00</th>\n",
              "      <td>-23.0</td>\n",
              "      <td>NaN</td>\n",
              "      <td>NaN</td>\n",
              "      <td>1</td>\n",
              "      <td>3</td>\n",
              "      <td>-5.0</td>\n",
              "      <td>-14.0</td>\n",
              "      <td>-39.0</td>\n",
              "      <td>NaN</td>\n",
              "      <td>NaN</td>\n",
              "      <td>NaN</td>\n",
              "      <td>NaN</td>\n",
              "      <td>NaN</td>\n",
              "      <td>NaN</td>\n",
              "      <td>NaN</td>\n",
              "      <td>NaN</td>\n",
              "    </tr>\n",
              "    <tr>\n",
              "      <th>...</th>\n",
              "      <td>...</td>\n",
              "      <td>...</td>\n",
              "      <td>...</td>\n",
              "      <td>...</td>\n",
              "      <td>...</td>\n",
              "      <td>...</td>\n",
              "      <td>...</td>\n",
              "      <td>...</td>\n",
              "      <td>...</td>\n",
              "      <td>...</td>\n",
              "      <td>...</td>\n",
              "      <td>...</td>\n",
              "      <td>...</td>\n",
              "      <td>...</td>\n",
              "      <td>...</td>\n",
              "      <td>...</td>\n",
              "    </tr>\n",
              "    <tr>\n",
              "      <th>2018-08-31 19:00:00</th>\n",
              "      <td>-71.0</td>\n",
              "      <td>-8.800000</td>\n",
              "      <td>71.667087</td>\n",
              "      <td>31</td>\n",
              "      <td>4</td>\n",
              "      <td>-10.0</td>\n",
              "      <td>20.0</td>\n",
              "      <td>81.0</td>\n",
              "      <td>-17.0</td>\n",
              "      <td>-33.0</td>\n",
              "      <td>30.0</td>\n",
              "      <td>-31.0</td>\n",
              "      <td>-24.0</td>\n",
              "      <td>-12.0</td>\n",
              "      <td>21.0</td>\n",
              "      <td>2.5</td>\n",
              "    </tr>\n",
              "    <tr>\n",
              "      <th>2018-08-31 20:00:00</th>\n",
              "      <td>18.0</td>\n",
              "      <td>5.066667</td>\n",
              "      <td>51.344031</td>\n",
              "      <td>31</td>\n",
              "      <td>4</td>\n",
              "      <td>-71.0</td>\n",
              "      <td>-10.0</td>\n",
              "      <td>20.0</td>\n",
              "      <td>81.0</td>\n",
              "      <td>-17.0</td>\n",
              "      <td>-33.0</td>\n",
              "      <td>30.0</td>\n",
              "      <td>-31.0</td>\n",
              "      <td>-24.0</td>\n",
              "      <td>-12.0</td>\n",
              "      <td>-6.7</td>\n",
              "    </tr>\n",
              "    <tr>\n",
              "      <th>2018-08-31 21:00:00</th>\n",
              "      <td>5.0</td>\n",
              "      <td>8.266667</td>\n",
              "      <td>49.600499</td>\n",
              "      <td>31</td>\n",
              "      <td>4</td>\n",
              "      <td>18.0</td>\n",
              "      <td>-71.0</td>\n",
              "      <td>-10.0</td>\n",
              "      <td>20.0</td>\n",
              "      <td>81.0</td>\n",
              "      <td>-17.0</td>\n",
              "      <td>-33.0</td>\n",
              "      <td>30.0</td>\n",
              "      <td>-31.0</td>\n",
              "      <td>-24.0</td>\n",
              "      <td>-3.7</td>\n",
              "    </tr>\n",
              "    <tr>\n",
              "      <th>2018-08-31 22:00:00</th>\n",
              "      <td>64.0</td>\n",
              "      <td>11.800000</td>\n",
              "      <td>51.654346</td>\n",
              "      <td>31</td>\n",
              "      <td>4</td>\n",
              "      <td>5.0</td>\n",
              "      <td>18.0</td>\n",
              "      <td>-71.0</td>\n",
              "      <td>-10.0</td>\n",
              "      <td>20.0</td>\n",
              "      <td>81.0</td>\n",
              "      <td>-17.0</td>\n",
              "      <td>-33.0</td>\n",
              "      <td>30.0</td>\n",
              "      <td>-31.0</td>\n",
              "      <td>-0.8</td>\n",
              "    </tr>\n",
              "    <tr>\n",
              "      <th>2018-08-31 23:00:00</th>\n",
              "      <td>-18.0</td>\n",
              "      <td>1.533333</td>\n",
              "      <td>38.946606</td>\n",
              "      <td>31</td>\n",
              "      <td>4</td>\n",
              "      <td>64.0</td>\n",
              "      <td>5.0</td>\n",
              "      <td>18.0</td>\n",
              "      <td>-71.0</td>\n",
              "      <td>-10.0</td>\n",
              "      <td>20.0</td>\n",
              "      <td>81.0</td>\n",
              "      <td>-17.0</td>\n",
              "      <td>-33.0</td>\n",
              "      <td>30.0</td>\n",
              "      <td>8.7</td>\n",
              "    </tr>\n",
              "  </tbody>\n",
              "</table>\n",
              "<p>4416 rows × 16 columns</p>\n",
              "</div>"
            ],
            "text/plain": [
              "                     num_orders        men        std  day  dayofweek  lag_1  \\\n",
              "datetime                                                                       \n",
              "2018-03-01 00:00:00         NaN        NaN        NaN    1          3    NaN   \n",
              "2018-03-01 01:00:00       -39.0        NaN        NaN    1          3    NaN   \n",
              "2018-03-01 02:00:00       -14.0        NaN        NaN    1          3  -39.0   \n",
              "2018-03-01 03:00:00        -5.0        NaN        NaN    1          3  -14.0   \n",
              "2018-03-01 04:00:00       -23.0        NaN        NaN    1          3   -5.0   \n",
              "...                         ...        ...        ...  ...        ...    ...   \n",
              "2018-08-31 19:00:00       -71.0  -8.800000  71.667087   31          4  -10.0   \n",
              "2018-08-31 20:00:00        18.0   5.066667  51.344031   31          4  -71.0   \n",
              "2018-08-31 21:00:00         5.0   8.266667  49.600499   31          4   18.0   \n",
              "2018-08-31 22:00:00        64.0  11.800000  51.654346   31          4    5.0   \n",
              "2018-08-31 23:00:00       -18.0   1.533333  38.946606   31          4   64.0   \n",
              "\n",
              "                     lag_2  lag_3  lag_4  lag_5  lag_6  lag_7  lag_8  lag_9  \\\n",
              "datetime                                                                      \n",
              "2018-03-01 00:00:00    NaN    NaN    NaN    NaN    NaN    NaN    NaN    NaN   \n",
              "2018-03-01 01:00:00    NaN    NaN    NaN    NaN    NaN    NaN    NaN    NaN   \n",
              "2018-03-01 02:00:00    NaN    NaN    NaN    NaN    NaN    NaN    NaN    NaN   \n",
              "2018-03-01 03:00:00  -39.0    NaN    NaN    NaN    NaN    NaN    NaN    NaN   \n",
              "2018-03-01 04:00:00  -14.0  -39.0    NaN    NaN    NaN    NaN    NaN    NaN   \n",
              "...                    ...    ...    ...    ...    ...    ...    ...    ...   \n",
              "2018-08-31 19:00:00   20.0   81.0  -17.0  -33.0   30.0  -31.0  -24.0  -12.0   \n",
              "2018-08-31 20:00:00  -10.0   20.0   81.0  -17.0  -33.0   30.0  -31.0  -24.0   \n",
              "2018-08-31 21:00:00  -71.0  -10.0   20.0   81.0  -17.0  -33.0   30.0  -31.0   \n",
              "2018-08-31 22:00:00   18.0  -71.0  -10.0   20.0   81.0  -17.0  -33.0   30.0   \n",
              "2018-08-31 23:00:00    5.0   18.0  -71.0  -10.0   20.0   81.0  -17.0  -33.0   \n",
              "\n",
              "                     lag_10  rolling_mean  \n",
              "datetime                                   \n",
              "2018-03-01 00:00:00     NaN           NaN  \n",
              "2018-03-01 01:00:00     NaN           NaN  \n",
              "2018-03-01 02:00:00     NaN           NaN  \n",
              "2018-03-01 03:00:00     NaN           NaN  \n",
              "2018-03-01 04:00:00     NaN           NaN  \n",
              "...                     ...           ...  \n",
              "2018-08-31 19:00:00    21.0           2.5  \n",
              "2018-08-31 20:00:00   -12.0          -6.7  \n",
              "2018-08-31 21:00:00   -24.0          -3.7  \n",
              "2018-08-31 22:00:00   -31.0          -0.8  \n",
              "2018-08-31 23:00:00    30.0           8.7  \n",
              "\n",
              "[4416 rows x 16 columns]"
            ]
          },
          "execution_count": 15,
          "metadata": {},
          "output_type": "execute_result"
        }
      ],
      "source": [
        "#создаю новые признаки\n",
        "def make_features(data, max_lag, rolling_mean_size):\n",
        "    data['day'] = data.index.day\n",
        "    data['dayofweek'] = data.index.dayofweek\n",
        "\n",
        "    for lag in range(1, max_lag + 1):\n",
        "        data['lag_{}'.format(lag)] = data['num_orders'].shift(lag)\n",
        "\n",
        "    data['rolling_mean'] = data['num_orders'].shift().rolling(rolling_mean_size).mean()\n",
        "\n",
        "    return data\n",
        "\n",
        "make_features(data, 10, 10)"
      ]
    },
    {
      "cell_type": "code",
      "execution_count": null,
      "metadata": {
        "id": "ihxhfWgY1CV1",
        "outputId": "26308bc0-4e20-47d8-eb62-75e77647339d"
      },
      "outputs": [
        {
          "name": "stdout",
          "output_type": "stream",
          "text": [
            "(3959, 15)\n",
            "(442, 15)\n",
            "(3959, 1)\n",
            "(442, 1)\n"
          ]
        }
      ],
      "source": [
        "#разделю на выборки\n",
        "train, test = train_test_split(data, shuffle=False, test_size=0.1)\n",
        "train = train.dropna()\n",
        "\n",
        "features_train  = train.drop('num_orders', axis=1)\n",
        "target_train = train[['num_orders']]\n",
        "features_test = test.drop('num_orders', axis=1)\n",
        "target_test = test[['num_orders']]\n",
        "\n",
        "print(features_train.shape)\n",
        "print(features_test.shape)\n",
        "print(target_train.shape)\n",
        "print(target_test.shape)"
      ]
    },
    {
      "cell_type": "code",
      "execution_count": null,
      "metadata": {
        "scrolled": true,
        "id": "qC6eHkFH1CV2"
      },
      "outputs": [],
      "source": [
        "tscv = TimeSeriesSplit(n_splits=8)"
      ]
    },
    {
      "cell_type": "code",
      "execution_count": null,
      "metadata": {
        "id": "Nqa3AOmr1CV4"
      },
      "outputs": [],
      "source": [
        "def metrics(model):\n",
        "\n",
        "    RMSE = abs(model.best_score_) ** .5\n",
        "\n",
        "    print(f\"Best RMSE: {RMSE:.5f}\")"
      ]
    },
    {
      "cell_type": "code",
      "execution_count": null,
      "metadata": {
        "id": "a3eIPehg1CV8",
        "outputId": "160ee9e1-16b7-4be4-87d0-e8162836a3b9"
      },
      "outputs": [
        {
          "name": "stdout",
          "output_type": "stream",
          "text": [
            "Лучшие параметры: {'max_depth': 12, 'min_samples_leaf': 2, 'min_samples_split': 2}\n",
            "Best RMSE: 33.60097\n"
          ]
        }
      ],
      "source": [
        "#Решающее дерево - подбор лучших параметров\n",
        "model_tree = DecisionTreeRegressor(random_state=42)\n",
        "parameters = {'max_depth':range(12, 20),\n",
        "              'min_samples_split': range(2, 4),\n",
        "              'min_samples_leaf': range(1, 3)}\n",
        "\n",
        "gs_tree = GridSearchCV(model_tree, parameters, cv=tscv, scoring='neg_mean_squared_error', n_jobs = -1)\n",
        "gs_tree.fit(features_train, target_train)\n",
        "\n",
        "best_tree_params = gs_tree.best_params_\n",
        "\n",
        "print('Лучшие параметры:',best_tree_params)\n",
        "metrics(gs_tree)"
      ]
    },
    {
      "cell_type": "code",
      "execution_count": null,
      "metadata": {
        "id": "YpZPV-Q51CV-",
        "outputId": "d8c1dbbb-36b6-4d09-def4-8268a055ec69"
      },
      "outputs": [
        {
          "name": "stdout",
          "output_type": "stream",
          "text": [
            "Лучшие параметры: {'max_depth': 10, 'n_estimators': 8}\n",
            "Best RMSE: 26.06706\n"
          ]
        }
      ],
      "source": [
        "#Случайный лес - подбор лучших параметров\n",
        "model_forest = RandomForestRegressor(random_state=42)\n",
        "parameter = {'max_depth':range(10, 100, 30),\n",
        "              'n_estimators': range(2,10,2)}\n",
        "\n",
        "gs_forest = GridSearchCV(model_forest, parameter, cv=tscv, scoring='neg_mean_squared_error', n_jobs = -1)\n",
        "gs_forest.fit(features_train, target_train)\n",
        "\n",
        "best_forest_params = gs_forest.best_params_\n",
        "\n",
        "print('Лучшие параметры:',best_forest_params)\n",
        "metrics(gs_forest)"
      ]
    },
    {
      "cell_type": "code",
      "execution_count": null,
      "metadata": {
        "id": "ncrYMQ1H1CWB",
        "outputId": "e07c3d93-5bb6-4466-9ffa-f2cfd1eef2bf"
      },
      "outputs": [
        {
          "name": "stdout",
          "output_type": "stream",
          "text": [
            "Best RMSE:  25.02073641381025\n"
          ]
        }
      ],
      "source": [
        "model_l = LinearRegression()\n",
        "\n",
        "cros_val = (cross_val_score(model_l,\n",
        "                             features_train,\n",
        "                             target_train,\n",
        "                             cv=tscv,\n",
        "                             scoring='neg_mean_squared_error').mean() * -1) ** 0.5\n",
        "print('Best RMSE: ', cros_val)"
      ]
    },
    {
      "cell_type": "code",
      "execution_count": null,
      "metadata": {
        "id": "7pn9y9qh1CWI",
        "outputId": "ab41f4b4-5cd8-4d6d-e4e5-8662103abb44"
      },
      "outputs": [
        {
          "name": "stdout",
          "output_type": "stream",
          "text": [
            "Лучшие параметры: {'learning_rate': 0.1, 'num_leaves': 30}\n",
            "Best RMSE: 23.36726\n"
          ]
        }
      ],
      "source": [
        "#LGBMRegressor - подбор лучших параметров\n",
        "model_lgbm = LGBMRegressor(random_state=42)\n",
        "param = {'num_leaves':[30, 50, 100, 1000], 'learning_rate':[.1, .3, .5]}\n",
        "\n",
        "gs = GridSearchCV(model_lgbm, param, cv=tscv, scoring='neg_mean_squared_error', n_jobs = -1)\n",
        "gs.fit(features_train, target_train)\n",
        "\n",
        "best_lgbm_params = gs.best_params_\n",
        "\n",
        "print('Лучшие параметры:',best_lgbm_params)\n",
        "metrics(gs)"
      ]
    },
    {
      "cell_type": "markdown",
      "metadata": {
        "id": "XXgLFajU1CWR"
      },
      "source": [
        "### Выводы"
      ]
    },
    {
      "cell_type": "markdown",
      "metadata": {
        "id": "_dw7cttr1CWT"
      },
      "source": [
        "- в таблицу были добавлены новые признаки\n",
        "- признаки были разделены на тренировочную и тестовую выборки\n",
        "- размер n_splits  должен быть указан такой, что бы при проведении кросс-валидации размер валидационной выборки примерно совпадал с размером тестовой. Размер тестовой - 10%, а валидационной - 1/(n_splits+1) части от обучающей\n",
        "- для тестирования были выбраны модели : DecisionTreeRegressor, RandomForestRegressor, LinearRegression, LGBMRegressor. Лучшее значение на тренировочной выборке показала модель LGBMRegressor (Best RMSE: 23.36726)"
      ]
    },
    {
      "cell_type": "markdown",
      "metadata": {
        "id": "yFNJWyv31CWW"
      },
      "source": [
        "## Тестирование"
      ]
    },
    {
      "cell_type": "code",
      "execution_count": null,
      "metadata": {
        "id": "VLVSpx9-1CWY",
        "outputId": "de29162e-a93b-4614-a4d9-11a97c8062c0"
      },
      "outputs": [
        {
          "name": "stdout",
          "output_type": "stream",
          "text": [
            "RMSE LGBMRegressor:39.77748\n"
          ]
        }
      ],
      "source": [
        "#LGBMRegressor на тесте\n",
        "model_h = LGBMRegressor(random_state=42, learning_rate= .1, num_leaves=30)\n",
        "\n",
        "model_h.fit(features_train, target_train)\n",
        "\n",
        "model_pr = model_h.predict(features_test)\n",
        "\n",
        "rsme_f = mean_squared_error(target_test, model_pr) ** .5\n",
        "\n",
        "print(f\"RMSE LGBMRegressor:{rsme_f:.5f}\")"
      ]
    },
    {
      "cell_type": "markdown",
      "metadata": {
        "id": "Q5qsb6Y11CWc"
      },
      "source": [
        "## Выводы"
      ]
    },
    {
      "cell_type": "markdown",
      "metadata": {
        "id": "vlFmFs1p1CWd"
      },
      "source": [
        "- Компания «Чётенькое такси» собрала исторические данные о заказах такси в аэропортах. Чтобы привлекать больше водителей в период пиковой нагрузки, нужно спрогнозировать количество заказов такси на следующий час. Для этого были изучены и проанализированы данные.\n",
        "- Было выяснено что количество заказов со временем увеличивается, временной ряд не стационарный, так как идет тенд на возрастание, среднее значение и стандартное отклонение со временем увеличиваются.Так же по графикам хорошо видна сезонность\n",
        "- для тестирования были выбраны модели : DecisionTreeRegressor, RandomForestRegressor, LinearRegression, LGBMRegressor. Лучшее значение на тренировочной выборке показала модель LGBMRegressor (Best RMSE: 24.13679)\n",
        "- На тестовой выборке модель LGBMRegressor показала тоже неплохой результат 40.66068"
      ]
    }
  ],
  "metadata": {
    "ExecuteTimeLog": [
      {
        "duration": 842,
        "start_time": "2023-03-20T20:58:02.868Z"
      },
      {
        "duration": 93,
        "start_time": "2023-03-20T20:58:04.027Z"
      },
      {
        "duration": 13,
        "start_time": "2023-03-20T20:58:04.683Z"
      },
      {
        "duration": 14,
        "start_time": "2023-03-20T20:58:06.035Z"
      },
      {
        "duration": 13,
        "start_time": "2023-03-20T20:58:08.244Z"
      },
      {
        "duration": 47,
        "start_time": "2023-03-20T20:58:09.491Z"
      },
      {
        "duration": 4,
        "start_time": "2023-03-20T20:58:10.659Z"
      },
      {
        "duration": 88,
        "start_time": "2023-03-20T20:58:12.807Z"
      },
      {
        "duration": 15,
        "start_time": "2023-03-20T20:58:29.047Z"
      },
      {
        "duration": 666,
        "start_time": "2023-03-20T20:58:36.010Z"
      },
      {
        "duration": 226,
        "start_time": "2023-03-20T20:58:44.131Z"
      },
      {
        "duration": 225,
        "start_time": "2023-03-20T20:59:05.062Z"
      },
      {
        "duration": 191,
        "start_time": "2023-03-20T20:59:21.224Z"
      },
      {
        "duration": 205,
        "start_time": "2023-03-20T21:02:42.020Z"
      },
      {
        "duration": 237,
        "start_time": "2023-03-20T21:03:53.002Z"
      },
      {
        "duration": 1192,
        "start_time": "2023-03-20T21:04:48.905Z"
      },
      {
        "duration": 304,
        "start_time": "2023-03-20T21:06:49.064Z"
      },
      {
        "duration": 187,
        "start_time": "2023-03-20T21:06:53.171Z"
      },
      {
        "duration": 19,
        "start_time": "2023-03-21T06:09:08.212Z"
      },
      {
        "duration": 3,
        "start_time": "2023-03-21T06:10:50.410Z"
      },
      {
        "duration": 45,
        "start_time": "2023-03-21T06:10:50.979Z"
      },
      {
        "duration": 8,
        "start_time": "2023-03-21T06:10:51.453Z"
      },
      {
        "duration": 15,
        "start_time": "2023-03-21T06:10:51.831Z"
      },
      {
        "duration": 17,
        "start_time": "2023-03-21T06:10:52.103Z"
      },
      {
        "duration": 57,
        "start_time": "2023-03-21T06:10:52.579Z"
      },
      {
        "duration": 7,
        "start_time": "2023-03-21T06:10:52.823Z"
      },
      {
        "duration": 17,
        "start_time": "2023-03-21T06:10:53.229Z"
      },
      {
        "duration": 240,
        "start_time": "2023-03-21T06:10:53.458Z"
      },
      {
        "duration": 246,
        "start_time": "2023-03-21T06:10:53.701Z"
      },
      {
        "duration": 191,
        "start_time": "2023-03-21T06:10:54.127Z"
      },
      {
        "duration": 276,
        "start_time": "2023-03-21T06:10:54.355Z"
      },
      {
        "duration": 279,
        "start_time": "2023-03-21T06:10:54.641Z"
      },
      {
        "duration": 218,
        "start_time": "2023-03-21T06:10:54.923Z"
      },
      {
        "duration": 13,
        "start_time": "2023-03-21T06:10:55.298Z"
      },
      {
        "duration": 15,
        "start_time": "2023-03-21T06:12:35.276Z"
      },
      {
        "duration": 13,
        "start_time": "2023-03-21T06:13:00.332Z"
      },
      {
        "duration": 16,
        "start_time": "2023-03-21T06:15:55.283Z"
      },
      {
        "duration": 14,
        "start_time": "2023-03-21T06:16:52.700Z"
      },
      {
        "duration": 19,
        "start_time": "2023-03-21T06:17:06.623Z"
      },
      {
        "duration": 18,
        "start_time": "2023-03-21T06:17:48.794Z"
      },
      {
        "duration": 401,
        "start_time": "2023-03-21T06:20:45.334Z"
      },
      {
        "duration": 282,
        "start_time": "2023-03-21T06:21:47.459Z"
      },
      {
        "duration": 12,
        "start_time": "2023-03-21T06:22:38.734Z"
      },
      {
        "duration": 4,
        "start_time": "2023-03-21T06:22:51.862Z"
      },
      {
        "duration": 47,
        "start_time": "2023-03-21T06:22:52.379Z"
      },
      {
        "duration": 9,
        "start_time": "2023-03-21T06:22:52.844Z"
      },
      {
        "duration": 14,
        "start_time": "2023-03-21T06:22:53.335Z"
      },
      {
        "duration": 18,
        "start_time": "2023-03-21T06:22:53.959Z"
      },
      {
        "duration": 60,
        "start_time": "2023-03-21T06:22:54.498Z"
      },
      {
        "duration": 5,
        "start_time": "2023-03-21T06:22:55.030Z"
      },
      {
        "duration": 21,
        "start_time": "2023-03-21T06:22:55.964Z"
      },
      {
        "duration": 285,
        "start_time": "2023-03-21T06:22:56.457Z"
      },
      {
        "duration": 347,
        "start_time": "2023-03-21T06:22:56.964Z"
      },
      {
        "duration": 20,
        "start_time": "2023-03-21T06:22:58.421Z"
      },
      {
        "duration": 16,
        "start_time": "2023-03-21T06:23:07.960Z"
      },
      {
        "duration": 80,
        "start_time": "2023-03-21T06:24:53.220Z"
      },
      {
        "duration": 259,
        "start_time": "2023-03-21T06:25:01.486Z"
      },
      {
        "duration": 873,
        "start_time": "2023-03-21T06:27:02.718Z"
      },
      {
        "duration": 596,
        "start_time": "2023-03-21T06:28:35.295Z"
      },
      {
        "duration": 185,
        "start_time": "2023-03-21T06:32:07.580Z"
      },
      {
        "duration": 1483,
        "start_time": "2023-03-21T06:34:47.745Z"
      },
      {
        "duration": 631,
        "start_time": "2023-03-21T06:35:42.901Z"
      },
      {
        "duration": 665,
        "start_time": "2023-03-21T06:39:12.623Z"
      },
      {
        "duration": 261,
        "start_time": "2023-03-21T06:39:30.016Z"
      },
      {
        "duration": 358,
        "start_time": "2023-03-21T06:41:16.887Z"
      },
      {
        "duration": 247,
        "start_time": "2023-03-21T06:43:12.042Z"
      },
      {
        "duration": 39,
        "start_time": "2023-03-21T07:04:53.857Z"
      },
      {
        "duration": 4,
        "start_time": "2023-03-21T07:05:13.315Z"
      },
      {
        "duration": 44,
        "start_time": "2023-03-21T07:05:13.989Z"
      },
      {
        "duration": 7,
        "start_time": "2023-03-21T07:05:14.864Z"
      },
      {
        "duration": 17,
        "start_time": "2023-03-21T07:05:16.096Z"
      },
      {
        "duration": 20,
        "start_time": "2023-03-21T07:05:16.743Z"
      },
      {
        "duration": 51,
        "start_time": "2023-03-21T07:05:19.013Z"
      },
      {
        "duration": 6,
        "start_time": "2023-03-21T07:05:19.988Z"
      },
      {
        "duration": 20,
        "start_time": "2023-03-21T07:05:22.256Z"
      },
      {
        "duration": 240,
        "start_time": "2023-03-21T07:05:22.737Z"
      },
      {
        "duration": 396,
        "start_time": "2023-03-21T07:05:24.115Z"
      },
      {
        "duration": 771,
        "start_time": "2023-03-21T07:05:25.153Z"
      },
      {
        "duration": 518,
        "start_time": "2023-03-21T07:05:26.460Z"
      },
      {
        "duration": 330,
        "start_time": "2023-03-21T07:05:28.387Z"
      },
      {
        "duration": 217,
        "start_time": "2023-03-21T07:05:30.007Z"
      },
      {
        "duration": 5,
        "start_time": "2023-03-21T07:16:04.025Z"
      },
      {
        "duration": 108,
        "start_time": "2023-03-21T07:16:04.799Z"
      },
      {
        "duration": 12,
        "start_time": "2023-03-21T07:16:05.588Z"
      },
      {
        "duration": 18,
        "start_time": "2023-03-21T07:16:06.598Z"
      },
      {
        "duration": 17,
        "start_time": "2023-03-21T07:16:07.288Z"
      },
      {
        "duration": 53,
        "start_time": "2023-03-21T07:16:08.310Z"
      },
      {
        "duration": 7,
        "start_time": "2023-03-21T07:16:08.901Z"
      },
      {
        "duration": 21,
        "start_time": "2023-03-21T07:16:11.524Z"
      },
      {
        "duration": 262,
        "start_time": "2023-03-21T07:16:12.594Z"
      },
      {
        "duration": 324,
        "start_time": "2023-03-21T07:16:15.793Z"
      },
      {
        "duration": 1085,
        "start_time": "2023-03-21T07:16:17.055Z"
      },
      {
        "duration": 541,
        "start_time": "2023-03-21T07:16:19.822Z"
      },
      {
        "duration": 18,
        "start_time": "2023-03-21T07:21:44.856Z"
      },
      {
        "duration": 355,
        "start_time": "2023-03-21T07:21:56.528Z"
      },
      {
        "duration": 340,
        "start_time": "2023-03-21T07:24:07.512Z"
      },
      {
        "duration": 15,
        "start_time": "2023-03-21T07:57:43.492Z"
      },
      {
        "duration": 3692,
        "start_time": "2023-03-21T08:00:36.191Z"
      },
      {
        "duration": 17,
        "start_time": "2023-03-21T08:01:09.907Z"
      },
      {
        "duration": 23,
        "start_time": "2023-03-21T08:01:42.862Z"
      },
      {
        "duration": 20,
        "start_time": "2023-03-21T08:01:59.602Z"
      },
      {
        "duration": 780,
        "start_time": "2023-03-21T08:03:35.411Z"
      },
      {
        "duration": 47,
        "start_time": "2023-03-21T09:03:24.424Z"
      },
      {
        "duration": 19,
        "start_time": "2023-03-21T09:10:15.431Z"
      },
      {
        "duration": 19,
        "start_time": "2023-03-21T09:11:02.385Z"
      },
      {
        "duration": 20,
        "start_time": "2023-03-21T19:43:20.719Z"
      },
      {
        "duration": 3,
        "start_time": "2023-03-21T19:43:21.715Z"
      },
      {
        "duration": 44,
        "start_time": "2023-03-21T19:46:01.379Z"
      },
      {
        "duration": 4,
        "start_time": "2023-03-21T19:46:08.420Z"
      },
      {
        "duration": 4,
        "start_time": "2023-03-21T19:46:10.979Z"
      },
      {
        "duration": 6509,
        "start_time": "2023-03-21T19:51:22.415Z"
      },
      {
        "duration": 4,
        "start_time": "2023-03-21T20:02:22.100Z"
      },
      {
        "duration": 7276,
        "start_time": "2023-03-21T20:02:23.724Z"
      },
      {
        "duration": 8508,
        "start_time": "2023-03-21T20:04:22.799Z"
      },
      {
        "duration": 5,
        "start_time": "2023-03-21T20:05:15.523Z"
      },
      {
        "duration": 8551,
        "start_time": "2023-03-21T20:05:32.046Z"
      },
      {
        "duration": 22,
        "start_time": "2023-03-21T20:10:43.134Z"
      },
      {
        "duration": 36,
        "start_time": "2023-03-21T20:11:29.196Z"
      },
      {
        "duration": 1469630,
        "start_time": "2023-03-21T20:11:37.922Z"
      },
      {
        "duration": 23219905,
        "start_time": "2023-03-21T20:36:07.555Z"
      },
      {
        "duration": 116605,
        "start_time": "2023-03-22T03:04:28.946Z"
      },
      {
        "duration": 797,
        "start_time": "2023-03-22T04:22:02.654Z"
      },
      {
        "duration": 154,
        "start_time": "2023-03-22T04:24:36.725Z"
      },
      {
        "duration": 160,
        "start_time": "2023-03-22T04:24:47.886Z"
      },
      {
        "duration": 14,
        "start_time": "2023-03-22T05:58:38.349Z"
      },
      {
        "duration": 12,
        "start_time": "2023-03-22T06:00:10.373Z"
      },
      {
        "duration": 1326,
        "start_time": "2023-03-22T06:19:28.524Z"
      },
      {
        "duration": 56,
        "start_time": "2023-03-22T06:41:44.022Z"
      },
      {
        "duration": 1591,
        "start_time": "2023-03-22T06:56:44.482Z"
      },
      {
        "duration": 46,
        "start_time": "2023-03-22T06:56:46.076Z"
      },
      {
        "duration": 12,
        "start_time": "2023-03-22T06:56:46.124Z"
      },
      {
        "duration": 28,
        "start_time": "2023-03-22T06:56:46.138Z"
      },
      {
        "duration": 15,
        "start_time": "2023-03-22T06:56:46.169Z"
      },
      {
        "duration": 28,
        "start_time": "2023-03-22T06:56:46.185Z"
      },
      {
        "duration": 5,
        "start_time": "2023-03-22T06:56:46.215Z"
      },
      {
        "duration": 35,
        "start_time": "2023-03-22T06:56:46.222Z"
      },
      {
        "duration": 259,
        "start_time": "2023-03-22T06:56:46.261Z"
      },
      {
        "duration": 421,
        "start_time": "2023-03-22T06:56:46.522Z"
      },
      {
        "duration": 738,
        "start_time": "2023-03-22T06:56:46.945Z"
      },
      {
        "duration": 498,
        "start_time": "2023-03-22T06:56:47.685Z"
      },
      {
        "duration": 337,
        "start_time": "2023-03-22T06:56:48.185Z"
      },
      {
        "duration": 229,
        "start_time": "2023-03-22T06:56:48.525Z"
      },
      {
        "duration": 173,
        "start_time": "2023-03-22T06:56:48.757Z"
      },
      {
        "duration": 24,
        "start_time": "2023-03-22T06:56:48.931Z"
      },
      {
        "duration": 9,
        "start_time": "2023-03-22T06:56:48.957Z"
      },
      {
        "duration": 7,
        "start_time": "2023-03-22T06:56:48.968Z"
      },
      {
        "duration": 7314,
        "start_time": "2023-03-22T06:56:48.976Z"
      },
      {
        "duration": 7885,
        "start_time": "2023-03-22T06:56:56.292Z"
      },
      {
        "duration": 15,
        "start_time": "2023-03-22T06:57:04.179Z"
      },
      {
        "duration": 141350,
        "start_time": "2023-03-22T06:57:04.196Z"
      },
      {
        "duration": 8,
        "start_time": "2023-03-22T06:59:25.548Z"
      },
      {
        "duration": 5,
        "start_time": "2023-03-22T06:59:25.559Z"
      },
      {
        "duration": 4,
        "start_time": "2023-03-22T06:59:25.566Z"
      },
      {
        "duration": 77,
        "start_time": "2023-03-22T06:59:25.572Z"
      },
      {
        "duration": 81286,
        "start_time": "2023-03-22T07:46:28.869Z"
      },
      {
        "duration": 15,
        "start_time": "2023-03-22T07:49:35.086Z"
      },
      {
        "duration": 169,
        "start_time": "2023-03-22T07:49:49.354Z"
      },
      {
        "duration": 209,
        "start_time": "2023-03-22T07:50:10.692Z"
      },
      {
        "duration": 50,
        "start_time": "2023-03-22T07:50:21.147Z"
      },
      {
        "duration": 67,
        "start_time": "2023-03-22T07:50:34.879Z"
      },
      {
        "duration": 1649,
        "start_time": "2023-03-22T07:59:12.182Z"
      },
      {
        "duration": 0,
        "start_time": "2023-03-22T07:59:13.834Z"
      },
      {
        "duration": 0,
        "start_time": "2023-03-22T07:59:13.836Z"
      },
      {
        "duration": 0,
        "start_time": "2023-03-22T07:59:13.837Z"
      },
      {
        "duration": 0,
        "start_time": "2023-03-22T07:59:13.841Z"
      },
      {
        "duration": 0,
        "start_time": "2023-03-22T07:59:13.842Z"
      },
      {
        "duration": 0,
        "start_time": "2023-03-22T07:59:13.844Z"
      },
      {
        "duration": 0,
        "start_time": "2023-03-22T07:59:13.845Z"
      },
      {
        "duration": 0,
        "start_time": "2023-03-22T07:59:13.846Z"
      },
      {
        "duration": 0,
        "start_time": "2023-03-22T07:59:13.848Z"
      },
      {
        "duration": 0,
        "start_time": "2023-03-22T07:59:13.849Z"
      },
      {
        "duration": 0,
        "start_time": "2023-03-22T07:59:13.851Z"
      },
      {
        "duration": 0,
        "start_time": "2023-03-22T07:59:13.853Z"
      },
      {
        "duration": 0,
        "start_time": "2023-03-22T07:59:13.855Z"
      },
      {
        "duration": 0,
        "start_time": "2023-03-22T07:59:13.856Z"
      },
      {
        "duration": 0,
        "start_time": "2023-03-22T07:59:13.857Z"
      },
      {
        "duration": 0,
        "start_time": "2023-03-22T07:59:13.859Z"
      },
      {
        "duration": 0,
        "start_time": "2023-03-22T07:59:13.860Z"
      },
      {
        "duration": 0,
        "start_time": "2023-03-22T07:59:13.862Z"
      },
      {
        "duration": 0,
        "start_time": "2023-03-22T07:59:13.863Z"
      },
      {
        "duration": 0,
        "start_time": "2023-03-22T07:59:13.864Z"
      },
      {
        "duration": 0,
        "start_time": "2023-03-22T07:59:13.865Z"
      },
      {
        "duration": 0,
        "start_time": "2023-03-22T07:59:13.867Z"
      },
      {
        "duration": 0,
        "start_time": "2023-03-22T07:59:13.868Z"
      },
      {
        "duration": 0,
        "start_time": "2023-03-22T07:59:13.869Z"
      },
      {
        "duration": 0,
        "start_time": "2023-03-22T07:59:13.871Z"
      },
      {
        "duration": 67,
        "start_time": "2023-03-22T07:59:56.081Z"
      },
      {
        "duration": 1552,
        "start_time": "2023-03-22T08:00:08.130Z"
      },
      {
        "duration": 45,
        "start_time": "2023-03-22T08:00:09.684Z"
      },
      {
        "duration": 11,
        "start_time": "2023-03-22T08:00:09.730Z"
      },
      {
        "duration": 22,
        "start_time": "2023-03-22T08:00:09.742Z"
      },
      {
        "duration": 20,
        "start_time": "2023-03-22T08:00:09.767Z"
      },
      {
        "duration": 30,
        "start_time": "2023-03-22T08:00:09.789Z"
      },
      {
        "duration": 4,
        "start_time": "2023-03-22T08:00:09.820Z"
      },
      {
        "duration": 32,
        "start_time": "2023-03-22T08:00:09.826Z"
      },
      {
        "duration": 252,
        "start_time": "2023-03-22T08:00:09.860Z"
      },
      {
        "duration": 333,
        "start_time": "2023-03-22T08:00:10.114Z"
      },
      {
        "duration": 692,
        "start_time": "2023-03-22T08:00:10.449Z"
      },
      {
        "duration": 512,
        "start_time": "2023-03-22T08:00:11.143Z"
      },
      {
        "duration": 311,
        "start_time": "2023-03-22T08:00:11.657Z"
      },
      {
        "duration": 185,
        "start_time": "2023-03-22T08:00:11.971Z"
      },
      {
        "duration": 163,
        "start_time": "2023-03-22T08:00:12.159Z"
      },
      {
        "duration": 21,
        "start_time": "2023-03-22T08:00:12.324Z"
      },
      {
        "duration": 3,
        "start_time": "2023-03-22T08:00:12.347Z"
      },
      {
        "duration": 9,
        "start_time": "2023-03-22T08:00:12.351Z"
      },
      {
        "duration": 6823,
        "start_time": "2023-03-22T08:00:12.362Z"
      },
      {
        "duration": 7514,
        "start_time": "2023-03-22T08:00:19.187Z"
      },
      {
        "duration": 38,
        "start_time": "2023-03-22T08:00:26.703Z"
      },
      {
        "duration": 21707,
        "start_time": "2023-03-22T08:00:26.743Z"
      },
      {
        "duration": 998,
        "start_time": "2023-03-22T08:00:48.452Z"
      },
      {
        "duration": 237,
        "start_time": "2023-03-22T08:00:49.451Z"
      },
      {
        "duration": 55,
        "start_time": "2023-03-22T08:00:49.689Z"
      },
      {
        "duration": 13,
        "start_time": "2023-03-22T08:00:49.746Z"
      },
      {
        "duration": 43,
        "start_time": "2023-03-22T09:59:17.026Z"
      },
      {
        "duration": 1458,
        "start_time": "2023-03-22T09:59:27.965Z"
      },
      {
        "duration": 158,
        "start_time": "2023-03-22T09:59:29.426Z"
      },
      {
        "duration": 9,
        "start_time": "2023-03-22T09:59:29.586Z"
      },
      {
        "duration": 11,
        "start_time": "2023-03-22T09:59:29.597Z"
      },
      {
        "duration": 12,
        "start_time": "2023-03-22T09:59:29.956Z"
      },
      {
        "duration": 52,
        "start_time": "2023-03-22T09:59:30.538Z"
      },
      {
        "duration": 5,
        "start_time": "2023-03-22T09:59:31.083Z"
      },
      {
        "duration": 19,
        "start_time": "2023-03-22T09:59:33.787Z"
      },
      {
        "duration": 199,
        "start_time": "2023-03-22T09:59:34.229Z"
      },
      {
        "duration": 271,
        "start_time": "2023-03-22T09:59:34.636Z"
      },
      {
        "duration": 657,
        "start_time": "2023-03-22T09:59:35.599Z"
      },
      {
        "duration": 457,
        "start_time": "2023-03-22T09:59:36.258Z"
      },
      {
        "duration": 251,
        "start_time": "2023-03-22T09:59:36.717Z"
      },
      {
        "duration": 157,
        "start_time": "2023-03-22T09:59:36.993Z"
      },
      {
        "duration": 117,
        "start_time": "2023-03-22T09:59:54.096Z"
      },
      {
        "duration": 14,
        "start_time": "2023-03-22T10:00:06.235Z"
      },
      {
        "duration": 2,
        "start_time": "2023-03-22T10:00:12.264Z"
      },
      {
        "duration": 2,
        "start_time": "2023-03-22T10:00:14.351Z"
      },
      {
        "duration": 5984,
        "start_time": "2023-03-22T10:00:18.423Z"
      },
      {
        "duration": 6154,
        "start_time": "2023-03-22T10:00:24.409Z"
      },
      {
        "duration": 3,
        "start_time": "2023-03-22T10:19:07.081Z"
      },
      {
        "duration": 82,
        "start_time": "2023-03-22T10:19:24.737Z"
      },
      {
        "duration": 19,
        "start_time": "2023-03-22T10:26:29.875Z"
      },
      {
        "duration": 19,
        "start_time": "2023-03-22T10:33:17.211Z"
      },
      {
        "duration": 10,
        "start_time": "2023-03-22T10:37:51.495Z"
      },
      {
        "duration": 9,
        "start_time": "2023-03-22T10:39:56.689Z"
      },
      {
        "duration": 9,
        "start_time": "2023-03-22T10:44:32.356Z"
      },
      {
        "duration": 3,
        "start_time": "2023-03-22T10:45:46.322Z"
      },
      {
        "duration": 102,
        "start_time": "2023-03-22T10:45:55.984Z"
      },
      {
        "duration": 437011,
        "start_time": "2023-03-22T10:57:43.260Z"
      },
      {
        "duration": 10569,
        "start_time": "2023-03-22T11:07:06.903Z"
      },
      {
        "duration": 1559,
        "start_time": "2023-03-22T11:09:29.384Z"
      },
      {
        "duration": 43,
        "start_time": "2023-03-22T11:09:30.945Z"
      },
      {
        "duration": 11,
        "start_time": "2023-03-22T11:09:30.990Z"
      },
      {
        "duration": 32,
        "start_time": "2023-03-22T11:09:31.003Z"
      },
      {
        "duration": 12,
        "start_time": "2023-03-22T11:09:31.037Z"
      },
      {
        "duration": 30,
        "start_time": "2023-03-22T11:09:31.051Z"
      },
      {
        "duration": 4,
        "start_time": "2023-03-22T11:09:31.083Z"
      },
      {
        "duration": 33,
        "start_time": "2023-03-22T11:09:31.089Z"
      },
      {
        "duration": 244,
        "start_time": "2023-03-22T11:09:31.124Z"
      },
      {
        "duration": 309,
        "start_time": "2023-03-22T11:09:31.371Z"
      },
      {
        "duration": 704,
        "start_time": "2023-03-22T11:09:31.683Z"
      },
      {
        "duration": 509,
        "start_time": "2023-03-22T11:09:32.389Z"
      },
      {
        "duration": 302,
        "start_time": "2023-03-22T11:09:32.900Z"
      },
      {
        "duration": 201,
        "start_time": "2023-03-22T11:09:33.204Z"
      },
      {
        "duration": 147,
        "start_time": "2023-03-22T11:09:33.407Z"
      },
      {
        "duration": 16,
        "start_time": "2023-03-22T11:09:33.556Z"
      },
      {
        "duration": 2,
        "start_time": "2023-03-22T11:09:33.574Z"
      },
      {
        "duration": 7,
        "start_time": "2023-03-22T11:09:33.578Z"
      },
      {
        "duration": 6542,
        "start_time": "2023-03-22T11:09:33.586Z"
      },
      {
        "duration": 6075,
        "start_time": "2023-03-22T11:09:40.129Z"
      },
      {
        "duration": 2,
        "start_time": "2023-03-22T11:09:46.206Z"
      },
      {
        "duration": 177,
        "start_time": "2023-03-22T11:09:46.209Z"
      },
      {
        "duration": 81,
        "start_time": "2023-03-22T11:09:46.388Z"
      },
      {
        "duration": 156701,
        "start_time": "2023-03-22T11:09:46.471Z"
      },
      {
        "duration": 894,
        "start_time": "2023-03-22T11:12:23.174Z"
      },
      {
        "duration": 85,
        "start_time": "2023-03-22T11:12:24.070Z"
      }
    ],
    "kernelspec": {
      "display_name": "Python 3 (ipykernel)",
      "language": "python",
      "name": "python3"
    },
    "language_info": {
      "codemirror_mode": {
        "name": "ipython",
        "version": 3
      },
      "file_extension": ".py",
      "mimetype": "text/x-python",
      "name": "python",
      "nbconvert_exporter": "python",
      "pygments_lexer": "ipython3",
      "version": "3.9.5"
    },
    "toc": {
      "base_numbering": 1,
      "nav_menu": {},
      "number_sections": true,
      "sideBar": true,
      "skip_h1_title": true,
      "title_cell": "Содержание",
      "title_sidebar": "Contents",
      "toc_cell": true,
      "toc_position": {
        "height": "calc(100% - 180px)",
        "left": "10px",
        "top": "150px",
        "width": "165px"
      },
      "toc_section_display": true,
      "toc_window_display": true
    },
    "colab": {
      "provenance": []
    }
  },
  "nbformat": 4,
  "nbformat_minor": 0
}